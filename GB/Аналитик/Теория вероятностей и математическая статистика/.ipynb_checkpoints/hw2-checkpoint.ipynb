{
 "cells": [
  {
   "cell_type": "markdown",
   "id": "03a5bd8e-8f82-4d75-bad2-6a98418611ee",
   "metadata": {},
   "source": [
    "# Урок 2. Дискретные распределения вероятностей"
   ]
  },
  {
   "cell_type": "markdown",
   "id": "fa9e34a9-e49a-4921-9ba5-a70901820567",
   "metadata": {},
   "source": [
    "## 1. Вероятность того, что стрелок попадет в мишень, выстрелив один раз, равна 0.8. Стрелок выстрелил 100 раз. Найдите вероятность того, что стрелок попадет в цель ровно 85 раз."
   ]
  },
  {
   "cell_type": "code",
   "execution_count": 1,
   "id": "b06fc95e-c05e-4872-9ca4-2749c9616ae1",
   "metadata": {},
   "outputs": [],
   "source": [
    "from math import factorial, exp\n",
    "\n",
    "def bernulli(n, k, p):\n",
    "    comb=factorial(n)/(factorial(k)*factorial(n-k))\n",
    "    return comb*(p**k)*(1-p)**(n-k)\n",
    "\n",
    "def poisson_distr(m,p,n):\n",
    "    lamb=p*n\n",
    "    return exp(-lamb)*(lamb**m)/factorial(m)\n",
    "\n",
    "def combinations(n, k):\n",
    "    return int(factorial(n) / (factorial(k) * factorial(n - k)))"
   ]
  },
  {
   "cell_type": "code",
   "execution_count": 2,
   "id": "81d32e50-30b1-44d7-9806-883a36ba6e91",
   "metadata": {},
   "outputs": [
    {
     "name": "stdout",
     "output_type": "stream",
     "text": [
      "Вероятность того, что стрелок попадет в цель ровно 85 раз = 4.81%\n"
     ]
    }
   ],
   "source": [
    "P = bernulli(100,85,0.8)\n",
    "print(f'Вероятность того, что стрелок попадет в цель ровно 85 раз = {P*100 :.2f}%')"
   ]
  },
  {
   "cell_type": "markdown",
   "id": "22ffd6fd-6412-45cb-ab87-e9cf6de0a5e2",
   "metadata": {},
   "source": [
    "## 2. Вероятность того, что лампочка перегорит в течение первого дня эксплуатации, равна 0.0004. В жилом комплексе после ремонта в один день включили 5000 новых лампочек. Какова вероятность, что ни одна из них не перегорит в первый день? Какова вероятность, что перегорят ровно две?"
   ]
  },
  {
   "cell_type": "code",
   "execution_count": 3,
   "id": "5ea25969-a3f5-4c8d-af4e-b4280670e50d",
   "metadata": {},
   "outputs": [
    {
     "name": "stdout",
     "output_type": "stream",
     "text": [
      "Вероятность того, что ни одна из них не перегорит в первый день = 13.53%\n"
     ]
    }
   ],
   "source": [
    "P = poisson_distr(0,0.0004,5000)\n",
    "print(f'Вероятность того, что ни одна из них не перегорит в первый день = {P*100 :.2f}%')"
   ]
  },
  {
   "cell_type": "code",
   "execution_count": 4,
   "id": "b8f3aa37-4fe3-4659-b246-b2ce88528013",
   "metadata": {},
   "outputs": [
    {
     "name": "stdout",
     "output_type": "stream",
     "text": [
      "Вероятность того, что перегорят ровно две в первый день = 27.07%\n"
     ]
    }
   ],
   "source": [
    "P = poisson_distr(2,0.0004,5000)\n",
    "print(f'Вероятность того, что перегорят ровно две в первый день = {P*100 :.2f}%')"
   ]
  },
  {
   "cell_type": "markdown",
   "id": "dfb63d20-dc8a-438a-9e3a-38a380815da1",
   "metadata": {},
   "source": [
    "## 3. Монету подбросили 144 раза. Какова вероятность, что орел выпадет ровно 70 раз?"
   ]
  },
  {
   "cell_type": "code",
   "execution_count": 5,
   "id": "829c067d-4139-4600-b568-3763cc363a4d",
   "metadata": {},
   "outputs": [
    {
     "name": "stdout",
     "output_type": "stream",
     "text": [
      "Вероятность того, что орел выпадет ровно 70 раз = 6.28%\n"
     ]
    }
   ],
   "source": [
    "P = bernulli(144,70,0.5)\n",
    "print(f'Вероятность того, что орел выпадет ровно 70 раз = {P*100 :.2f}%')"
   ]
  },
  {
   "cell_type": "markdown",
   "id": "9c2564a5-162e-4c6a-9564-51c3b61536e2",
   "metadata": {},
   "source": [
    "## 4. В первом ящике находится 10 мячей, из которых 7 - белые. Во втором ящике - 11 мячей, из которых 9 белых. Из каждого ящика вытаскивают случайным образом по два мяча. Какова вероятность того, что все мячи белые? Какова вероятность того, что ровно два мяча белые? Какова вероятность того, что хотя бы один мяч белый?"
   ]
  },
  {
   "cell_type": "code",
   "execution_count": 6,
   "id": "719fceb2-346f-40a4-b98e-665a35f3ad5a",
   "metadata": {},
   "outputs": [
    {
     "name": "stdout",
     "output_type": "stream",
     "text": [
      "Вероятность того, что все мячи белые = 30.55%\n"
     ]
    }
   ],
   "source": [
    "P=(7/10)*(6/9)*(9/11)*(8/10)\n",
    "print(f'Вероятность того, что все мячи белые = {P*100 :.2f}%')"
   ]
  },
  {
   "cell_type": "code",
   "execution_count": 7,
   "id": "4f0d1626-d954-4340-8ec6-c8fddf4bef17",
   "metadata": {},
   "outputs": [
    {
     "name": "stdout",
     "output_type": "stream",
     "text": [
      "Вероятность того, что ровно два мяча белые = 20.48%\n"
     ]
    }
   ],
   "source": [
    "P=((7/10)*(6/9)*(2/11)*(1/10))+4*((7/10)*(3/9)*(9/11)*(2/10))+((3/10)*(2/9)*(9/11)*(8/10))\n",
    "print(f'Вероятность того, что ровно два мяча белые = {P*100 :.2f}%')"
   ]
  },
  {
   "cell_type": "code",
   "execution_count": 8,
   "id": "b0700d30-3123-41d6-a950-a685bdc58f43",
   "metadata": {},
   "outputs": [
    {
     "name": "stdout",
     "output_type": "stream",
     "text": [
      "Вероятность того, что хотя бы один мяч белый = 99.88%\n"
     ]
    }
   ],
   "source": [
    "P=1-(3/10)*(2/9)*(2/11)*(1/10)\n",
    "print(f'Вероятность того, что хотя бы один мяч белый = {P*100 :.2f}%')"
   ]
  },
  {
   "cell_type": "code",
   "execution_count": null,
   "id": "e8e440a1-e50d-406d-9f98-77afaf3ec5fc",
   "metadata": {},
   "outputs": [],
   "source": []
  }
 ],
 "metadata": {
  "kernelspec": {
   "display_name": "Python 3 (ipykernel)",
   "language": "python",
   "name": "python3"
  },
  "language_info": {
   "codemirror_mode": {
    "name": "ipython",
    "version": 3
   },
   "file_extension": ".py",
   "mimetype": "text/x-python",
   "name": "python",
   "nbconvert_exporter": "python",
   "pygments_lexer": "ipython3",
   "version": "3.9.6"
  }
 },
 "nbformat": 4,
 "nbformat_minor": 5
}

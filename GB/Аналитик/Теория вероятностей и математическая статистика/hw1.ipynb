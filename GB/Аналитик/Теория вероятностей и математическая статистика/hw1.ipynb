{
 "cells": [
  {
   "cell_type": "markdown",
   "id": "d809bd94-0e8c-42d5-ab0f-a8afa116cc4c",
   "metadata": {},
   "source": [
    "# Урок 1. Расчет вероятности случайных событий"
   ]
  },
  {
   "cell_type": "markdown",
   "id": "8fe706fc-ac9d-4613-b75d-ae544071bdc9",
   "metadata": {},
   "source": [
    "## 1. Из колоды в 52 карты извлекаются случайным образом 4 карты."
   ]
  },
  {
   "cell_type": "markdown",
   "id": "32ff5ea0-9be8-48b8-8dcf-51fadb225578",
   "metadata": {},
   "source": [
    "### a) Найти вероятность того, что все карты – крести."
   ]
  },
  {
   "cell_type": "code",
   "execution_count": 1,
   "id": "e6997caa-0d11-4c3a-8e82-d4bf33a5d5c0",
   "metadata": {},
   "outputs": [],
   "source": [
    "from math import factorial\n",
    "\n",
    "def combinations(n, k):\n",
    "    return int(factorial(n) / (factorial(k) * factorial(n - k))) "
   ]
  },
  {
   "cell_type": "code",
   "execution_count": 2,
   "id": "71d64866-94c5-4993-bd0e-7283494031d3",
   "metadata": {},
   "outputs": [
    {
     "name": "stdout",
     "output_type": "stream",
     "text": [
      "Вероятность того, что все карты - крести = 0.26%\n"
     ]
    }
   ],
   "source": [
    "n = combinations(52, 4)\n",
    "m = combinations(13, 4)\n",
    "print(f'Вероятность того, что все карты - крести = {m/n*100 :.2f}%')"
   ]
  },
  {
   "cell_type": "markdown",
   "id": "0816356c-cb3b-424e-a9df-64dd2bcf8545",
   "metadata": {},
   "source": [
    "### б) Найти вероятность, что среди 4-х карт окажется хотя бы один туз."
   ]
  },
  {
   "cell_type": "code",
   "execution_count": 3,
   "id": "8e98df40-7e50-4adf-89f6-cb3c500040f9",
   "metadata": {},
   "outputs": [
    {
     "name": "stdout",
     "output_type": "stream",
     "text": [
      "Вероятность того, что из 4 вытащенных из колоды хотя бы один туз = 28.13%\n"
     ]
    }
   ],
   "source": [
    "n=combinations(52, 4)\n",
    "m=sum([combinations(4,1)*combinations(48,3),combinations(4,2)*combinations(48,2),combinations(4,3)*combinations(48,1),1])\n",
    "print(f'Вероятность того, что из 4 вытащенных из колоды хотя бы один туз = {m/n*100 :.2f}%')"
   ]
  },
  {
   "cell_type": "markdown",
   "id": "216543e3-4f46-4c1c-a6ef-f84e46eb58e7",
   "metadata": {},
   "source": [
    "## 2. На входной двери подъезда установлен кодовый замок, содержащий десять кнопок с цифрами от 0 до 9. Код содержит три цифры, которые нужно нажать одновременно. Какова вероятность того, что человек, не знающий код, откроет дверь с первой попытки?"
   ]
  },
  {
   "cell_type": "code",
   "execution_count": 4,
   "id": "d584bba3-4ed3-41f6-8264-a62abe187408",
   "metadata": {},
   "outputs": [
    {
     "name": "stdout",
     "output_type": "stream",
     "text": [
      "Вероятность того, что дверь открыта с первой попытки = 0.83%\n"
     ]
    }
   ],
   "source": [
    "P=1/combinations(10,3)\n",
    "print(f'Вероятность того, что дверь открыта с первой попытки = {P*100 :.2f}%')"
   ]
  },
  {
   "cell_type": "markdown",
   "id": "662ad307-c809-4518-8ecc-f52e8159377e",
   "metadata": {},
   "source": [
    "## 3. В ящике имеется 15 деталей, из которых 9 окрашены. Рабочий случайным образом извлекает 3 детали. Какова вероятность того, что все извлеченные детали окрашены?"
   ]
  },
  {
   "cell_type": "code",
   "execution_count": 5,
   "id": "2c636c9f-e3a3-45cd-976d-7b1cfdb9cfb8",
   "metadata": {},
   "outputs": [
    {
     "name": "stdout",
     "output_type": "stream",
     "text": [
      "Вероятность того, что все извлеченные детали окрашены = 18.46%\n"
     ]
    }
   ],
   "source": [
    "P=combinations(9,3)/combinations(15,3)\n",
    "print(f'Вероятность того, что все извлеченные детали окрашены = {P*100 :.2f}%')"
   ]
  },
  {
   "cell_type": "markdown",
   "id": "ac8b9a2c-bcbb-40fb-9c85-1432696f9f84",
   "metadata": {},
   "source": [
    "## 4. В лотерее 100 билетов. Из них 2 выигрышных. Какова вероятность того, что 2 приобретенных билета окажутся выигрышными?"
   ]
  },
  {
   "cell_type": "code",
   "execution_count": 6,
   "id": "70a6259f-520e-46dd-9c84-340cc67cd85a",
   "metadata": {},
   "outputs": [
    {
     "name": "stdout",
     "output_type": "stream",
     "text": [
      "Вероятность того, что 2 приобретенных билета окажутся выигрышными = 0.02%\n"
     ]
    }
   ],
   "source": [
    "P=1/combinations(100,2)\n",
    "print(f'Вероятность того, что 2 приобретенных билета окажутся выигрышными = {P*100 :.2f}%')"
   ]
  },
  {
   "cell_type": "code",
   "execution_count": null,
   "id": "46b47f33-a4b1-441e-8f4c-47528145b987",
   "metadata": {},
   "outputs": [],
   "source": []
  }
 ],
 "metadata": {
  "kernelspec": {
   "display_name": "Python 3 (ipykernel)",
   "language": "python",
   "name": "python3"
  },
  "language_info": {
   "codemirror_mode": {
    "name": "ipython",
    "version": 3
   },
   "file_extension": ".py",
   "mimetype": "text/x-python",
   "name": "python",
   "nbconvert_exporter": "python",
   "pygments_lexer": "ipython3",
   "version": "3.9.6"
  }
 },
 "nbformat": 4,
 "nbformat_minor": 5
}

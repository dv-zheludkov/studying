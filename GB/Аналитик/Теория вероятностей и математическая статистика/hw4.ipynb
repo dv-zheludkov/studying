{
 "cells": [
  {
   "cell_type": "markdown",
   "id": "03a5bd8e-8f82-4d75-bad2-6a98418611ee",
   "metadata": {},
   "source": [
    "# Урок 4. Непрерывная случайная величина"
   ]
  },
  {
   "cell_type": "markdown",
   "id": "fa9e34a9-e49a-4921-9ba5-a70901820567",
   "metadata": {},
   "source": [
    "## 1. Случайная непрерывная величина A имеет равномерное распределение на промежутке (200, 800]. Найдите ее среднее значение и дисперсию.\n"
   ]
  },
  {
   "cell_type": "code",
   "execution_count": 1,
   "id": "a589001b-454d-437c-9fb8-4daae9ca41c8",
   "metadata": {},
   "outputs": [
    {
     "name": "stdout",
     "output_type": "stream",
     "text": [
      "Среднее значение =  500.0000\n",
      "Дисперсия =  30000.0000\n"
     ]
    }
   ],
   "source": [
    "a = 200\n",
    "b = 800\n",
    "print(f'Среднее значение = {(a+b)/2: .4f}\\n'\n",
    "      f'Дисперсия = {((b-a)**2)/12: .4f}')"
   ]
  },
  {
   "cell_type": "markdown",
   "id": "22ffd6fd-6412-45cb-ab87-e9cf6de0a5e2",
   "metadata": {},
   "source": [
    "## 2. О случайной непрерывной равномерно распределенной величине B известно, что ее дисперсия равна 0.2. Можно ли найти правую границу величины B и ее среднее значение зная, что левая граница равна 0.5? Если да, найдите ее."
   ]
  },
  {
   "cell_type": "code",
   "execution_count": 2,
   "id": "cd606769-e320-430a-8cc4-6b9606812d67",
   "metadata": {},
   "outputs": [
    {
     "name": "stdout",
     "output_type": "stream",
     "text": [
      "Правая граница =  2.0492\n",
      "Среднее значение =  1.2746\n"
     ]
    }
   ],
   "source": [
    "b=0.5+2.4**(1/2)\n",
    "print(f'Правая граница = {b: .4f}\\n'\n",
    "      f'Среднее значение = {(b+0.5)/2: .4f}'     \n",
    "     )"
   ]
  },
  {
   "cell_type": "markdown",
   "id": "a37a898e-9f89-4924-9252-d28b938ca49b",
   "metadata": {},
   "source": [
    "## 3. Непрерывная случайная величина X распределена нормально и задана плотностью распределения f(x) = (1 / (4 * sqrt(2pi))) * exp((-(x+2)**2) / 32). Найдите:"
   ]
  },
  {
   "cell_type": "markdown",
   "id": "6356ac15-c4ae-4956-b030-580e8bf033f4",
   "metadata": {},
   "source": [
    "$\\displaystyle f(x)=\\frac{1}{\\sigma\\sqrt{2\\pi}}\\cdot e^{-\\frac{(x-a)^2}{2\\sigma^2}}$  \n",
    "\n",
    "$M(X)=a=-2$\n",
    "\n",
    "$\\sigma = 4$\n",
    "\n",
    "$D(X)=\\sigma^2=16$"
   ]
  },
  {
   "cell_type": "markdown",
   "id": "9cc506d4-9a16-4733-a134-a30667ee22d1",
   "metadata": {},
   "source": [
    "### a). M(X)"
   ]
  },
  {
   "cell_type": "code",
   "execution_count": 3,
   "id": "408ea5c6-2e25-4f10-99ce-f108ddcc2443",
   "metadata": {},
   "outputs": [
    {
     "name": "stdout",
     "output_type": "stream",
     "text": [
      "M(X) = -2\n"
     ]
    }
   ],
   "source": [
    "print(f'M(X) = -2')"
   ]
  },
  {
   "cell_type": "markdown",
   "id": "cf4ab675-8509-4e70-ba5c-57d390c4c44b",
   "metadata": {},
   "source": [
    "### б). D(X)"
   ]
  },
  {
   "cell_type": "code",
   "execution_count": 4,
   "id": "f0e54141-88d6-4320-9cf3-ccf32337abaf",
   "metadata": {},
   "outputs": [
    {
     "name": "stdout",
     "output_type": "stream",
     "text": [
      "D(X) = 16\n"
     ]
    }
   ],
   "source": [
    "print(f'D(X) = 16')"
   ]
  },
  {
   "cell_type": "markdown",
   "id": "152ab59f-0bf0-4dd7-b1f3-b1e90ee8395e",
   "metadata": {},
   "source": [
    "### в). std(X) (среднее квадратичное отклонение)"
   ]
  },
  {
   "cell_type": "code",
   "execution_count": 5,
   "id": "75bce59e-5d49-4d1c-ba8f-35087120e612",
   "metadata": {},
   "outputs": [
    {
     "name": "stdout",
     "output_type": "stream",
     "text": [
      "std(X) = 4\n"
     ]
    }
   ],
   "source": [
    "print(f'std(X) = 4')"
   ]
  },
  {
   "cell_type": "markdown",
   "id": "0f1e784b-1750-491f-a88b-db34a8072670",
   "metadata": {},
   "source": [
    "## 4. Рост взрослого населения города X имеет нормальное распределение. Причем, средний рост равен 174 см, а среднее квадратичное отклонение равно 8 см. Какова вероятность того, что случайным образом выбранный взрослый человек имеет рост:"
   ]
  },
  {
   "cell_type": "code",
   "execution_count": 6,
   "id": "3813fca1-4412-4d9c-b7c6-6ce905bcb006",
   "metadata": {},
   "outputs": [],
   "source": [
    "from statistics import NormalDist\n",
    "\n",
    "def z_value(height):\n",
    "    return (height-174)/8"
   ]
  },
  {
   "cell_type": "markdown",
   "id": "7a831ebe-9d09-4e63-b128-1dce5c217c22",
   "metadata": {},
   "source": [
    "### а). больше 182 см"
   ]
  },
  {
   "cell_type": "code",
   "execution_count": 7,
   "id": "247ced14-80ce-4219-b478-12c3712de402",
   "metadata": {},
   "outputs": [
    {
     "name": "stdout",
     "output_type": "stream",
     "text": [
      "Вероятность того, что случайным образом выбранный взрослый человек имеет рост больше 182 см =  0.1587\n"
     ]
    }
   ],
   "source": [
    "P182=1-NormalDist().cdf(z_value(182))\n",
    "print(f'Вероятность того, что случайным образом выбранный взрослый человек имеет рост больше 182 см = {P182: .4f}')"
   ]
  },
  {
   "cell_type": "markdown",
   "id": "a13d04e8-f469-493e-8336-4bc6bd18ba1d",
   "metadata": {},
   "source": [
    "### б). больше 190 см"
   ]
  },
  {
   "cell_type": "code",
   "execution_count": 8,
   "id": "40fc21a8-a191-4a92-9fb8-76110b7ac5f8",
   "metadata": {},
   "outputs": [
    {
     "name": "stdout",
     "output_type": "stream",
     "text": [
      "Вероятность того, что случайным образом выбранный взрослый человек имеет рост больше 190 см =  0.0228\n"
     ]
    }
   ],
   "source": [
    "P190=1-NormalDist().cdf(z_value(190))\n",
    "print(f'Вероятность того, что случайным образом выбранный взрослый человек имеет рост больше 190 см = {P190: .4f}')"
   ]
  },
  {
   "cell_type": "markdown",
   "id": "2664716a-a60f-4fee-b074-761bfaa6b407",
   "metadata": {},
   "source": [
    "### в). от 166 см до 190 см"
   ]
  },
  {
   "cell_type": "code",
   "execution_count": 9,
   "id": "9187ab39-7977-4b16-a262-45a669b5ba2c",
   "metadata": {},
   "outputs": [
    {
     "name": "stdout",
     "output_type": "stream",
     "text": [
      "Вероятность того, что случайным образом выбранный взрослый человек имеет рост от 166 см до 190 см =  0.8186\n"
     ]
    }
   ],
   "source": [
    "P166_190 = NormalDist().cdf(z_value(190)) -  NormalDist().cdf(z_value(166))\n",
    "print(f'Вероятность того, что случайным образом выбранный взрослый человек имеет рост от 166 см до 190 см = {P166_190: .4f}')"
   ]
  },
  {
   "cell_type": "markdown",
   "id": "ef75f909-cd32-48bc-a4ee-f38b69224011",
   "metadata": {},
   "source": [
    "### г). от 166 см до 182 см"
   ]
  },
  {
   "cell_type": "code",
   "execution_count": 10,
   "id": "ad95bbd2-5bdc-4ec7-9df3-69a92b5c0a8f",
   "metadata": {},
   "outputs": [
    {
     "name": "stdout",
     "output_type": "stream",
     "text": [
      "Вероятность того, что случайным образом выбранный взрослый человек имеет рост от 166 см до 182 см =  0.6827\n"
     ]
    }
   ],
   "source": [
    "P166_182 = NormalDist().cdf(z_value(182)) -  NormalDist().cdf(z_value(166))\n",
    "print(f'Вероятность того, что случайным образом выбранный взрослый человек имеет рост от 166 см до 182 см = {P166_182: .4f}')"
   ]
  },
  {
   "cell_type": "markdown",
   "id": "cb546597-9f0b-487e-99cc-9a6549085648",
   "metadata": {},
   "source": [
    "### д). от 158 см до 190 см"
   ]
  },
  {
   "cell_type": "code",
   "execution_count": 11,
   "id": "fcd6044e-eb1c-4a08-868c-51d2d6c078de",
   "metadata": {},
   "outputs": [
    {
     "name": "stdout",
     "output_type": "stream",
     "text": [
      "Вероятность того, что случайным образом выбранный взрослый человек имеет рост от 158 см до 190 см =  0.9545\n"
     ]
    }
   ],
   "source": [
    "P158_190 = NormalDist().cdf(z_value(190)) -  NormalDist().cdf(z_value(158))\n",
    "print(f'Вероятность того, что случайным образом выбранный взрослый человек имеет рост от 158 см до 190 см = {P158_190: .4f}')"
   ]
  },
  {
   "cell_type": "markdown",
   "id": "89f39c95-3f57-4528-bf7f-1dff5fa1a48d",
   "metadata": {},
   "source": [
    "### е). не выше 150 см или не ниже 190 см"
   ]
  },
  {
   "cell_type": "code",
   "execution_count": 12,
   "id": "39c48f4e-f235-4d23-b19c-ded0f5d1bc92",
   "metadata": {},
   "outputs": [
    {
     "name": "stdout",
     "output_type": "stream",
     "text": [
      "Вероятность того, что случайным образом выбранный взрослый человек имеет рост не выше 150 см или не ниже 190 см =  0.0241\n"
     ]
    }
   ],
   "source": [
    "Pm150_b190 = NormalDist().cdf((z_value(150))) +(1-NormalDist().cdf((z_value(190))))\n",
    "print(f'Вероятность того, что случайным образом выбранный взрослый человек имеет рост не выше 150 см или не ниже 190 см = {Pm150_b190: .4f}')"
   ]
  },
  {
   "cell_type": "markdown",
   "id": "cfaae6bc-31b3-436b-b9f1-7f2e0022d676",
   "metadata": {},
   "source": [
    "### ё). не выше 150 см или не ниже 198 см"
   ]
  },
  {
   "cell_type": "code",
   "execution_count": 13,
   "id": "448b6245-68c1-4f51-8834-f5eb4ae41aaa",
   "metadata": {},
   "outputs": [
    {
     "name": "stdout",
     "output_type": "stream",
     "text": [
      "Вероятность того, что случайным образом выбранный взрослый человек имеет рост не выше 150 см или не ниже 198 см =  0.0027\n"
     ]
    }
   ],
   "source": [
    "Pm150_b198 = NormalDist().cdf((z_value(150))) +(1-NormalDist().cdf((z_value(198))))\n",
    "print(f'Вероятность того, что случайным образом выбранный взрослый человек имеет рост не выше 150 см или не ниже 198 см = {Pm150_b198: .4f}')"
   ]
  },
  {
   "cell_type": "markdown",
   "id": "1a1b4725-739d-43ee-99d4-689d4b64dc29",
   "metadata": {},
   "source": [
    "### ж). ниже 166 см."
   ]
  },
  {
   "cell_type": "code",
   "execution_count": 14,
   "id": "7dc2daee-3800-4292-a852-9f794ef35b66",
   "metadata": {},
   "outputs": [
    {
     "name": "stdout",
     "output_type": "stream",
     "text": [
      "Вероятность того, что случайным образом выбранный взрослый человек имеет рост ниже 166 см =  0.1587\n"
     ]
    }
   ],
   "source": [
    "Pm166=NormalDist().cdf(z_value(166))\n",
    "print(f'Вероятность того, что случайным образом выбранный взрослый человек имеет рост ниже 166 см = {Pm166: .4f}')"
   ]
  },
  {
   "cell_type": "markdown",
   "id": "aea958af-1130-422d-aa61-071cd7b8dec0",
   "metadata": {},
   "source": [
    "## 5.  На сколько сигм (средних квадратичных отклонений) отклоняется рост человека, равный 190 см, от математического ожидания роста в популяции, в которой M(X) = 178 см и D(X) = 25 кв.см?"
   ]
  },
  {
   "cell_type": "code",
   "execution_count": 15,
   "id": "e8e440a1-e50d-406d-9f98-77afaf3ec5fc",
   "metadata": {},
   "outputs": [
    {
     "name": "stdout",
     "output_type": "stream",
     "text": [
      "Рост человека отклоняется  на 2.4 сигм.\n"
     ]
    }
   ],
   "source": [
    "Z=(190-178)/25**(1/2)\n",
    "print(f'Рост человека отклоняется  на {Z} сигм.')"
   ]
  },
  {
   "cell_type": "code",
   "execution_count": null,
   "id": "aab31805-3bd0-4ed8-97e3-7da083e833cf",
   "metadata": {},
   "outputs": [],
   "source": []
  }
 ],
 "metadata": {
  "kernelspec": {
   "display_name": "Python 3 (ipykernel)",
   "language": "python",
   "name": "python3"
  },
  "language_info": {
   "codemirror_mode": {
    "name": "ipython",
    "version": 3
   },
   "file_extension": ".py",
   "mimetype": "text/x-python",
   "name": "python",
   "nbconvert_exporter": "python",
   "pygments_lexer": "ipython3",
   "version": "3.12.1"
  }
 },
 "nbformat": 4,
 "nbformat_minor": 5
}

{
 "cells": [
  {
   "cell_type": "markdown",
   "id": "03a5bd8e-8f82-4d75-bad2-6a98418611ee",
   "metadata": {},
   "source": [
    "# Урок 2. Дискретные распределения вероятностей"
   ]
  },
  {
   "cell_type": "markdown",
   "id": "fa9e34a9-e49a-4921-9ba5-a70901820567",
   "metadata": {},
   "source": [
    "## 1. Даны значения зарплат из выборки выпускников: 100, 80, 75, 77, 89, 33, 45, 25, 65, 17, 30, 24, 57, 55, 70, 75, 65, 84, 90, 150. Посчитать (желательно без использования статистических методов наподобие std, var, mean) среднее арифметическое, среднее квадратичное отклонение, смещенную и несмещенную оценки дисперсий для данной выборки.\n"
   ]
  },
  {
   "cell_type": "code",
   "execution_count": 1,
   "id": "17b9338d-b51d-4633-85b6-f4c795dd8e09",
   "metadata": {},
   "outputs": [],
   "source": [
    "import numpy as np\n",
    "from math import factorial"
   ]
  },
  {
   "cell_type": "code",
   "execution_count": 2,
   "id": "8864e4b6-ad48-4c04-bc1c-a20bb76d07cf",
   "metadata": {},
   "outputs": [],
   "source": [
    "arr=np.array([100, 80, 75, 77, 89, 33, 45, 25, 65, 17, 30, 24, 57, 55, 70, 75, 65, 84, 90, 150])"
   ]
  },
  {
   "cell_type": "code",
   "execution_count": 3,
   "id": "da386943-8ec7-4d65-8d96-8f19beb976a2",
   "metadata": {},
   "outputs": [
    {
     "name": "stdout",
     "output_type": "stream",
     "text": [
      "Среднее арифметическое =  65.30\n"
     ]
    }
   ],
   "source": [
    "print(f'Среднее арифметическое = {sum(arr)/len(arr): .2f}')"
   ]
  },
  {
   "cell_type": "code",
   "execution_count": 4,
   "id": "1b725167-45bc-40a1-bf5b-03adcda8490f",
   "metadata": {},
   "outputs": [
    {
     "name": "stdout",
     "output_type": "stream",
     "text": [
      "Среднее квадратичное отклонение =  30.8239\n"
     ]
    }
   ],
   "source": [
    "def mean_square_deviation(arr):\n",
    "    square_dev=(arr-sum(arr)/len(arr))**2\n",
    "    return (sum(square_dev)/len(square_dev))**(1/2)\n",
    "\n",
    "print(f'Среднее квадратичное отклонение = {mean_square_deviation(arr): .4f}')"
   ]
  },
  {
   "cell_type": "code",
   "execution_count": 5,
   "id": "7e05e15d-1d73-44ae-b077-157b0a1bf334",
   "metadata": {},
   "outputs": [
    {
     "name": "stdout",
     "output_type": "stream",
     "text": [
      "Смещенная оценка дисперсии =  950.1100\n",
      "Немещенная оценка дисперсии =  1000.1158\n"
     ]
    }
   ],
   "source": [
    "def dispers(arr, no_off=False):\n",
    "    square_dev=(arr-sum(arr)/len(arr))**2\n",
    "    return sum(square_dev)/(len(square_dev)-1) if no_off else sum(square_dev)/len(square_dev)\n",
    "\n",
    "print(f'Смещенная оценка дисперсии = {dispers(arr): .4f}\\n'\n",
    "      f'Немещенная оценка дисперсии = {dispers(arr, True): .4f}'\n",
    "     )\n"
   ]
  },
  {
   "cell_type": "markdown",
   "id": "22ffd6fd-6412-45cb-ab87-e9cf6de0a5e2",
   "metadata": {},
   "source": [
    "## 2. В первом ящике находится 8 мячей, из которых 5 - белые. Во втором ящике - 12 мячей, из которых 5 белых. Из первого ящика вытаскивают случайным образом два мяча, из второго - 4. Какова вероятность того, что 3 мяча белые?"
   ]
  },
  {
   "cell_type": "code",
   "execution_count": 6,
   "id": "72687b66-2b9b-4a32-9180-93dd68053303",
   "metadata": {},
   "outputs": [],
   "source": [
    "def combinations(n,k):\n",
    "    return factorial(n)/(factorial(k)*factorial(n-k))"
   ]
  },
  {
   "cell_type": "code",
   "execution_count": 7,
   "id": "33280eae-24e6-44f7-9d90-c662f138af05",
   "metadata": {},
   "outputs": [
    {
     "name": "stdout",
     "output_type": "stream",
     "text": [
      "Вероятность события \"из первой корзины не вытащили ни одного белого мяча, из второй вытащили 3 белых мяча\"\n",
      " =  0.0152\n",
      "Вероятность события \"из первой корзины вытащили 1 белый мяч, из второй вытащили 2 белых мяча\"\n",
      " =  0.2273\n",
      "Вероятность события \"из первой корзины вытащили 2 белых мяча, из второй вытащили 1 белый мяч\"\n",
      " =  0.1263\n"
     ]
    }
   ],
   "source": [
    "P1=(combinations(3,2)/combinations(8,2))*(combinations(5,3)*combinations(7,1)/combinations(12,4))\n",
    "print(f'Вероятность события \"из первой корзины не вытащили ни одного белого мяча'\n",
    "      f', из второй вытащили 3 белых мяча\"\\n = {P1: .4f}'\n",
    "     )\n",
    "P2=(combinations(5,1)*combinations(3,1)*combinations(5,2)*combinations(7,2))/(combinations(8,2)*combinations(12,4))\n",
    "print(f'Вероятность события \"из первой корзины вытащили 1 белый мяч'\n",
    "      f', из второй вытащили 2 белых мяча\"\\n = {P2: .4f}'\n",
    "     )\n",
    "P3=(combinations(5,2)*combinations(5,1)*combinations(7,3))/(combinations(8,2)*combinations(12,4))\n",
    "print(f'Вероятность события \"из первой корзины вытащили 2 белых мяча'\n",
    "      f', из второй вытащили 1 белый мяч\"\\n = {P3: .4f}'\n",
    "     )"
   ]
  },
  {
   "cell_type": "code",
   "execution_count": 8,
   "id": "bccdff20-6002-438e-a7ae-299d99a426b9",
   "metadata": {},
   "outputs": [
    {
     "name": "stdout",
     "output_type": "stream",
     "text": [
      "Вероятность того, что из вытащенных мячей 3 белые =  0.3687\n"
     ]
    }
   ],
   "source": [
    "print(f'Вероятность того, что из вытащенных мячей 3 белые = {P1+P2+P3: .4f}')"
   ]
  },
  {
   "cell_type": "markdown",
   "id": "a37a898e-9f89-4924-9252-d28b938ca49b",
   "metadata": {},
   "source": [
    "## 3. На соревновании по биатлону один из трех спортсменов стреляет и попадает в мишень. Вероятность попадания для первого спортсмена равна 0.9, для второго — 0.8, для третьего — 0.6. Найти вероятность того, что выстрел произведен: "
   ]
  },
  {
   "cell_type": "code",
   "execution_count": 9,
   "id": "ed1a2d1b-a114-4f2c-b8c9-0cf5abc728e7",
   "metadata": {
    "scrolled": true
   },
   "outputs": [
    {
     "name": "stdout",
     "output_type": "stream",
     "text": [
      "Полная вероятность наступления события =  0.7667\n"
     ]
    }
   ],
   "source": [
    "PB=1/3\n",
    "PA=PB*0.9+PB*0.8+PB*0.6\n",
    "print(f'Полная вероятность наступления события = {PA: .4f}')"
   ]
  },
  {
   "cell_type": "markdown",
   "id": "9cc506d4-9a16-4733-a134-a30667ee22d1",
   "metadata": {},
   "source": [
    "### a). первым спортсменом "
   ]
  },
  {
   "cell_type": "code",
   "execution_count": 10,
   "id": "418195a8-d65d-4f35-a55c-3d728ec48021",
   "metadata": {},
   "outputs": [
    {
     "name": "stdout",
     "output_type": "stream",
     "text": [
      "Вероятность того, что выстрел произвёл первый спортсмен:  0.3913\n"
     ]
    }
   ],
   "source": [
    "PAB1=PB*0.9/PA\n",
    "print(f'Вероятность того, что выстрел произвёл первый спортсмен: {PAB1: .4f}'    )"
   ]
  },
  {
   "cell_type": "markdown",
   "id": "cf4ab675-8509-4e70-ba5c-57d390c4c44b",
   "metadata": {},
   "source": [
    "### б). вторым спортсменом "
   ]
  },
  {
   "cell_type": "code",
   "execution_count": 11,
   "id": "fe421654-dadd-4542-ad18-ba33a2c49839",
   "metadata": {},
   "outputs": [
    {
     "name": "stdout",
     "output_type": "stream",
     "text": [
      "Вероятность того, что выстрел произвёл второй спортсмен:  0.3478\n"
     ]
    }
   ],
   "source": [
    "PAB2=PB*0.8/PA\n",
    "print(f'Вероятность того, что выстрел произвёл второй спортсмен: {PAB2: .4f}')"
   ]
  },
  {
   "cell_type": "markdown",
   "id": "152ab59f-0bf0-4dd7-b1f3-b1e90ee8395e",
   "metadata": {},
   "source": [
    "### в). третьим спортсменом."
   ]
  },
  {
   "cell_type": "code",
   "execution_count": 12,
   "id": "5faefdc2-0eb3-446f-950b-135cdcb762e9",
   "metadata": {},
   "outputs": [
    {
     "name": "stdout",
     "output_type": "stream",
     "text": [
      "Вероятность того, что выстрел произвёл третий спортсмен:  0.2609\n"
     ]
    }
   ],
   "source": [
    "PAB3=PB*0.6/PA\n",
    "print(f'Вероятность того, что выстрел произвёл третий спортсмен: {PAB3: .4f}')"
   ]
  },
  {
   "cell_type": "markdown",
   "id": "691b5898-c261-4bcb-8e36-2defc3dbee28",
   "metadata": {},
   "source": [
    "## 4. В университет на факультеты A и B поступило равное количество студентов, а на факультет C студентов поступило столько же, сколько на A и B вместе. Вероятность того, что студент факультета A сдаст первую сессию, равна 0.8. Для студента факультета B эта вероятность равна 0.7, а для студента факультета C - 0.9. Студент сдал первую сессию. Какова вероятность, что он учится: "
   ]
  },
  {
   "cell_type": "code",
   "execution_count": 13,
   "id": "d7d960d2-df5a-47f7-9e12-bf26a5db566c",
   "metadata": {},
   "outputs": [
    {
     "name": "stdout",
     "output_type": "stream",
     "text": [
      "Полная вероятность наступления события = 0.825.\n"
     ]
    }
   ],
   "source": [
    "PD=0.25*0.8+0.25*0.7+0.5*0.9\n",
    "print(f'Полная вероятность наступления события = {PD}.')"
   ]
  },
  {
   "cell_type": "markdown",
   "id": "7a831ebe-9d09-4e63-b128-1dce5c217c22",
   "metadata": {},
   "source": [
    "### a). на факультете A "
   ]
  },
  {
   "cell_type": "code",
   "execution_count": 14,
   "id": "cf40cb5e-b2b5-4826-bbca-42bc91019b66",
   "metadata": {},
   "outputs": [
    {
     "name": "stdout",
     "output_type": "stream",
     "text": [
      "Вероятность того, что студент учится на факультете А:  0.2424\n"
     ]
    }
   ],
   "source": [
    "PDSA=0.25*0.8/PD\n",
    "print(f'Вероятность того, что студент учится на факультете А: {PDSA: .4f}')"
   ]
  },
  {
   "cell_type": "markdown",
   "id": "a13d04e8-f469-493e-8336-4bc6bd18ba1d",
   "metadata": {},
   "source": [
    "### б). на факультете B "
   ]
  },
  {
   "cell_type": "code",
   "execution_count": 15,
   "id": "195559e0-25ad-45da-b317-542ec46a24d1",
   "metadata": {},
   "outputs": [
    {
     "name": "stdout",
     "output_type": "stream",
     "text": [
      "Вероятность того, что студент учится на факультете B:  0.2121\n"
     ]
    }
   ],
   "source": [
    "PDSB=0.25*0.7/PD\n",
    "print(f'Вероятность того, что студент учится на факультете B: {PDSB: .4f}')"
   ]
  },
  {
   "cell_type": "markdown",
   "id": "2664716a-a60f-4fee-b074-761bfaa6b407",
   "metadata": {},
   "source": [
    "### в). на факультете C?"
   ]
  },
  {
   "cell_type": "code",
   "execution_count": 16,
   "id": "c05366f7-0238-4fc5-bcaf-903060397625",
   "metadata": {},
   "outputs": [
    {
     "name": "stdout",
     "output_type": "stream",
     "text": [
      "Вероятность того, что студент учится на факультете C:  0.5455\n"
     ]
    }
   ],
   "source": [
    "PDSC=0.5*0.9/PD\n",
    "print(f'Вероятность того, что студент учится на факультете C: {PDSC: .4f}')"
   ]
  },
  {
   "cell_type": "markdown",
   "id": "aea958af-1130-422d-aa61-071cd7b8dec0",
   "metadata": {},
   "source": [
    "## 5. Устройство состоит из трех деталей. Для первой детали вероятность выйти из строя в первый месяц равна 0.1, для второй - 0.2, для третьей - 0.25. Какова вероятность того, что в первый месяц выйдут из строя: "
   ]
  },
  {
   "cell_type": "markdown",
   "id": "b20d902a-6bb1-4192-adb1-4d4c702737b5",
   "metadata": {},
   "source": [
    "### а). все детали "
   ]
  },
  {
   "cell_type": "code",
   "execution_count": 17,
   "id": "a076300f-7e3f-4d86-b5f8-979c772dc89d",
   "metadata": {},
   "outputs": [
    {
     "name": "stdout",
     "output_type": "stream",
     "text": [
      "Вероятность того, что из строя выйдут все детали =  0.0050\n"
     ]
    }
   ],
   "source": [
    "P3=0.1*0.2*0.25\n",
    "print(f'Вероятность того, что из строя выйдут все детали = {P3: .4f}')"
   ]
  },
  {
   "cell_type": "markdown",
   "id": "30031a0e-5ffc-4bc8-9238-b8436d359a00",
   "metadata": {},
   "source": [
    "### б). только две детали "
   ]
  },
  {
   "cell_type": "code",
   "execution_count": 18,
   "id": "c5a01074-46f2-4729-89b2-41339f012104",
   "metadata": {},
   "outputs": [
    {
     "name": "stdout",
     "output_type": "stream",
     "text": [
      "Вероятность того, что из строя выйдут только 2 детали =  0.0800\n"
     ]
    }
   ],
   "source": [
    "P2=0.1*0.2*0.75+0.1*0.25*0.8+0.2*0.25*0.9\n",
    "print(f'Вероятность того, что из строя выйдут только 2 детали = {P2: .4f}')"
   ]
  },
  {
   "cell_type": "markdown",
   "id": "ff85c374-ed48-474b-8a4b-31ffc4d5a367",
   "metadata": {},
   "source": [
    "### в). хотя бы одна деталь "
   ]
  },
  {
   "cell_type": "code",
   "execution_count": 19,
   "id": "37a580fe-fe21-4831-8a16-56f79d71e5bc",
   "metadata": {},
   "outputs": [
    {
     "name": "stdout",
     "output_type": "stream",
     "text": [
      "Вероятность того, что выйдет из строя хотя бы одна деталь =  0.4600\n"
     ]
    }
   ],
   "source": [
    "P0=0.9*0.8*0.75\n",
    "P_0=1-P0\n",
    "print(f'Вероятность того, что выйдет из строя хотя бы одна деталь = {P_0: .4f}')"
   ]
  },
  {
   "cell_type": "markdown",
   "id": "975d7a6f-3811-4758-9f83-d532d5b1bdb8",
   "metadata": {},
   "source": [
    "### г). от одной до двух деталей?"
   ]
  },
  {
   "cell_type": "code",
   "execution_count": 20,
   "id": "9967a95a-632a-4bf1-a69b-08d4a9bf8eda",
   "metadata": {},
   "outputs": [
    {
     "name": "stdout",
     "output_type": "stream",
     "text": [
      "ероятность того что в первый месяц выйдут из строя от одной до двух деталей =  0.4600\n"
     ]
    }
   ],
   "source": [
    "P1=0.1*0.8*0.75+0.2*0.9*0.75+0.25*0.9*0.8\n",
    "P12=P1 + P2\n",
    "print(f'ероятность того что в первый месяц выйдут из строя от одной до двух деталей = {P_0: .4f}')"
   ]
  },
  {
   "cell_type": "code",
   "execution_count": null,
   "id": "e8e440a1-e50d-406d-9f98-77afaf3ec5fc",
   "metadata": {},
   "outputs": [],
   "source": []
  }
 ],
 "metadata": {
  "kernelspec": {
   "display_name": "Python 3 (ipykernel)",
   "language": "python",
   "name": "python3"
  },
  "language_info": {
   "codemirror_mode": {
    "name": "ipython",
    "version": 3
   },
   "file_extension": ".py",
   "mimetype": "text/x-python",
   "name": "python",
   "nbconvert_exporter": "python",
   "pygments_lexer": "ipython3",
   "version": "3.9.6"
  }
 },
 "nbformat": 4,
 "nbformat_minor": 5
}

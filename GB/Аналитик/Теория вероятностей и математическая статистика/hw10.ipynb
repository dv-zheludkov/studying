{
 "cells": [
  {
   "cell_type": "markdown",
   "id": "03a5bd8e-8f82-4d75-bad2-6a98418611ee",
   "metadata": {},
   "source": [
    "# Урок 10. Дисперсионный анализ"
   ]
  },
  {
   "cell_type": "markdown",
   "id": "fa9e34a9-e49a-4921-9ba5-a70901820567",
   "metadata": {},
   "source": [
    "## 1. Провести дисперсионный анализ для определения того, есть ли различия среднего роста среди взрослых футболистов, хоккеистов и штангистов. Даны значения роста в трех группах случайно выбранных спортсменов: Футболисты: 173, 175, 180, 178, 177, 185, 183, 182. Хоккеисты: 177, 179, 180, 188, 177, 172, 171, 184, 180. Штангисты: 172, 173, 169, 177, 166, 180, 178, 177, 172, 166, 170. Данная промежуточная аттестация оценивается по системе \"зачет\" / \"не зачет\". \"Зачет\" ставится, если Слушатель успешно выполнил задание. \"Незачет\" ставится, если Слушатель не выполнил задание. Критерии оценивания: 1 - Слушатель провел дисперсионный анализ для определения того, есть ли различия среднего роста среди взрослых футболистов, хоккеистов и штангистов."
   ]
  },
  {
   "cell_type": "code",
   "execution_count": 1,
   "id": "e7758a64-e6fa-41c7-960b-992397067b8c",
   "metadata": {},
   "outputs": [],
   "source": [
    "import scipy.stats as stats\n",
    "import numpy as np"
   ]
  },
  {
   "cell_type": "code",
   "execution_count": 2,
   "id": "cc2d4c30-6797-4815-a09f-e55182fc99b1",
   "metadata": {},
   "outputs": [],
   "source": [
    "football_players=np.array([173, 175, 180, 178, 177, 185, 183, 182])\n",
    "hockey_players=np.array([177, 179, 180, 188, 177, 172, 171, 184, 180])\n",
    "weightlifters=np.array([172, 173, 169, 177, 166, 180, 178, 177, 172, 166, 170])"
   ]
  },
  {
   "cell_type": "code",
   "execution_count": 3,
   "id": "756915fe-1eda-4d7d-b006-8f0ef53834fe",
   "metadata": {},
   "outputs": [],
   "source": [
    "alpha=0.05"
   ]
  },
  {
   "cell_type": "code",
   "execution_count": 4,
   "id": "3c4faf73-95fb-4545-9103-6f2692913255",
   "metadata": {},
   "outputs": [
    {
     "data": {
      "text/plain": [
       "ShapiroResult(statistic=0.9775081982196379, pvalue=0.9495400664151513)"
      ]
     },
     "execution_count": 4,
     "metadata": {},
     "output_type": "execute_result"
    }
   ],
   "source": [
    "stats.shapiro(football_players)"
   ]
  },
  {
   "cell_type": "code",
   "execution_count": 5,
   "id": "d3273c12-1a0f-40ca-80e2-5f887954483e",
   "metadata": {},
   "outputs": [
    {
     "data": {
      "text/plain": [
       "ShapiroResult(statistic=0.957919718551844, pvalue=0.7763139669394437)"
      ]
     },
     "execution_count": 5,
     "metadata": {},
     "output_type": "execute_result"
    }
   ],
   "source": [
    "stats.shapiro(hockey_players)"
   ]
  },
  {
   "cell_type": "code",
   "execution_count": 6,
   "id": "d2dca7df-23b0-4396-a43b-a77bcbbe491a",
   "metadata": {},
   "outputs": [
    {
     "data": {
      "text/plain": [
       "ShapiroResult(statistic=0.9386807421264948, pvalue=0.5051151338730138)"
      ]
     },
     "execution_count": 6,
     "metadata": {},
     "output_type": "execute_result"
    }
   ],
   "source": [
    "stats.shapiro(weightlifters)"
   ]
  },
  {
   "cell_type": "markdown",
   "id": "c9378861-dc13-4448-b3af-e4e73eba9f15",
   "metadata": {},
   "source": [
    "Для каждой выборки больше pvalue больше alpha, следовательно принимаем, что данные распределены нормально"
   ]
  },
  {
   "cell_type": "code",
   "execution_count": 7,
   "id": "3f76ed98-4e50-48c7-97a6-e3cee659842b",
   "metadata": {},
   "outputs": [
    {
     "data": {
      "text/plain": [
       "BartlettResult(statistic=0.4640521043406442, pvalue=0.7929254656083131)"
      ]
     },
     "execution_count": 7,
     "metadata": {},
     "output_type": "execute_result"
    }
   ],
   "source": [
    "stats.bartlett(football_players, hockey_players, weightlifters)"
   ]
  },
  {
   "cell_type": "markdown",
   "id": "5850bc9a-4db9-4d57-812d-13ea3e6b5c94",
   "metadata": {},
   "source": [
    "Для каждой выборки больше pvalue больше alpha, следовательно принимаем, что дисперсии равны"
   ]
  },
  {
   "cell_type": "code",
   "execution_count": 8,
   "id": "17e44f41-4b7b-4a8f-a88c-3b92a7cb81ae",
   "metadata": {},
   "outputs": [
    {
     "data": {
      "text/plain": [
       "F_onewayResult(statistic=5.500053450812596, pvalue=0.010482206918698693)"
      ]
     },
     "execution_count": 8,
     "metadata": {},
     "output_type": "execute_result"
    }
   ],
   "source": [
    "stats.f_oneway(football_players, hockey_players, weightlifters)"
   ]
  },
  {
   "cell_type": "markdown",
   "id": "20860099-8900-49da-876c-bb30ea060675",
   "metadata": {},
   "source": [
    "Получили значение pvalue меньше alpha, следовательно отвергаем нулевую гипотезу и средний рост футболистов, хоккеистов и штангистоа различен."
   ]
  },
  {
   "cell_type": "code",
   "execution_count": null,
   "id": "73b61397-6540-49da-b9a0-b11bbe2958bc",
   "metadata": {},
   "outputs": [],
   "source": []
  }
 ],
 "metadata": {
  "kernelspec": {
   "display_name": "Python 3 (ipykernel)",
   "language": "python",
   "name": "python3"
  },
  "language_info": {
   "codemirror_mode": {
    "name": "ipython",
    "version": 3
   },
   "file_extension": ".py",
   "mimetype": "text/x-python",
   "name": "python",
   "nbconvert_exporter": "python",
   "pygments_lexer": "ipython3",
   "version": "3.12.1"
  }
 },
 "nbformat": 4,
 "nbformat_minor": 5
}

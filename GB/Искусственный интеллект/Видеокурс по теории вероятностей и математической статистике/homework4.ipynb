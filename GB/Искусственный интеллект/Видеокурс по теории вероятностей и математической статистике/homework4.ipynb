{
 "cells": [
  {
   "cell_type": "code",
   "execution_count": 1,
   "id": "d8eb3bdb-cd7f-4b95-8b9a-f1f404a82e85",
   "metadata": {},
   "outputs": [],
   "source": [
    "import numpy as np\n",
    "import matplotlib.pyplot as plt\n",
    "import math\n",
    "import scipy.stats as st\n",
    "%matplotlib inline\n"
   ]
  },
  {
   "cell_type": "markdown",
   "id": "829b02cb-b9a6-48f3-b15e-569c9ca54588",
   "metadata": {
    "pycharm": {
     "name": "#%% md\n"
    }
   },
   "source": [
    "## Задание 1\n",
    "Случайная непрерывная величина A имеет равномерное распределение на промежутке (200, 800].\n",
    "Найдите ее среднее значение и дисперсию."
   ]
  },
  {
   "cell_type": "code",
   "execution_count": 2,
   "id": "ad9d73b2-f449-4ba5-9673-2d5f2d5d4161",
   "metadata": {
    "collapsed": false,
    "jupyter": {
     "outputs_hidden": false
    },
    "pycharm": {
     "name": "#%%\n"
    }
   },
   "outputs": [
    {
     "name": "stdout",
     "output_type": "stream",
     "text": [
      "Среднее значение равно 500.0\n",
      "Дисперсия равна 30000.0\n"
     ]
    }
   ],
   "source": [
    "a = 200\n",
    "b = 800\n",
    "M = (a + b) / 2\n",
    "D = (b - a) ** 2 / 12\n",
    "print(f\"Среднее значение равно {M}\")\n",
    "print(f\"Дисперсия равна {D}\")"
   ]
  },
  {
   "cell_type": "markdown",
   "id": "31c900d2-4636-4612-bb69-dc9afd077287",
   "metadata": {
    "pycharm": {
     "name": "#%% md\n"
    }
   },
   "source": [
    "## Задание 2\n",
    "О случайной непрерывной равномерно распределенной величине B известно, что ее дисперсия равна 0.2.\n",
    "Можно ли найти правую границу величины B и ее среднее значение зная, что левая граница равна 0.5?\n",
    "Если да, найдите ее."
   ]
  },
  {
   "cell_type": "code",
   "execution_count": 3,
   "id": "6cd175c6-734e-4d35-828c-feeee30363a5",
   "metadata": {
    "collapsed": false,
    "jupyter": {
     "outputs_hidden": false
    },
    "pycharm": {
     "name": "#%%\n"
    }
   },
   "outputs": [
    {
     "name": "stdout",
     "output_type": "stream",
     "text": [
      "Правая граница равна 2.049193338482967\n",
      "Среднее значение равно 1.2745966692414834\n"
     ]
    }
   ],
   "source": [
    "D = 0.2\n",
    "a = 0.5\n",
    "b = (D * 12) ** 0.5 + a\n",
    "M = (a + b) / 2\n",
    "print(f\"Правая граница равна {b}\")\n",
    "print(f\"Среднее значение равно {M}\")"
   ]
  },
  {
   "cell_type": "markdown",
   "id": "ed097356-ac5f-4fe6-96bf-2f5b88748b7f",
   "metadata": {},
   "source": [
    "## Задание 3\n",
    "Непрерывная случайная величина X распределена нормально и задана плотностью распределения\n",
    "f(x) = (1 / (4 * sqrt(2*pi))) * (exp(-((x+2)**2) / 32))\n",
    "Найдите:\n",
    "- M(X)\n",
    "- D(X)\n",
    "- std(X) (среднее квадратичное отклонение)"
   ]
  },
  {
   "cell_type": "markdown",
   "id": "87bb015a-cd9d-4658-a09a-4488481a7a0d",
   "metadata": {},
   "source": [
    "M(X) = -2\n",
    "\n",
    "D(X) = 16\n",
    "\n",
    "std(X) = 4"
   ]
  },
  {
   "cell_type": "markdown",
   "id": "5c145d9f-0568-49de-8ee5-6ea56db1e5a6",
   "metadata": {
    "pycharm": {
     "name": "#%% md\n"
    }
   },
   "source": [
    "## Задание 4\n",
    "Рост взрослого населения города X имеет нормальное распределение.\n",
    "Причем, средний рост равен 174 см, а среднее квадратичное отклонение равно 8 см.\n",
    "Какова вероятность того, что случайным образом выбранный взрослый человек имеет рост:\n",
    "- больше 182 см\n",
    "- больше 190 см\n",
    "- от 166 см до 190 см\n",
    "- от 166 см до 182 см\n",
    "- от 158 см до 190 см\n",
    "- не выше 150 см или не ниже 190 см\n",
    "- не выше 150 см или не ниже 198 см\n",
    "- ниже 166 см."
   ]
  },
  {
   "cell_type": "markdown",
   "id": "5f1354b4-91b2-4514-8d63-0e71448fc5ff",
   "metadata": {},
   "source": [
    "Решаем через приведение к стандартному распределению"
   ]
  },
  {
   "cell_type": "code",
   "execution_count": 4,
   "id": "be10f7b7-2a90-48f0-842c-e0002bea40cd",
   "metadata": {},
   "outputs": [
    {
     "name": "stdout",
     "output_type": "stream",
     "text": [
      "больше 182 см - 0.15865525393145707\n",
      "больше 190 см - 0.02275013194817921\n",
      "от 166 см до 190 см - 0.8185946141203637\n",
      "от 166 см до 182 см - 0.6826894921370859\n",
      "от 158 см до 190 см - 0.9544997361036416\n",
      "не выше 150 см или не ниже 190 см - 0.0241000299798093\n",
      "не выше 150 см или не ниже 198 см - 0.0026997960632601965\n",
      "ниже 166 см - 0.15865525393145707\n"
     ]
    }
   ],
   "source": [
    "h = st.norm(loc=174, scale=8)\n",
    "\n",
    "print(f\"больше 182 см - {1 - h.cdf(182)}\")\n",
    "print(f\"больше 190 см - {1 - h.cdf(190)}\")\n",
    "print(f\"от 166 см до 190 см - {h.cdf(190) - h.cdf(166)}\")\n",
    "print(f\"от 166 см до 182 см - {h.cdf(182) - h.cdf(166)}\")\n",
    "print(f\"от 158 см до 190 см - {h.cdf(190) - h.cdf(158)}\")\n",
    "print(f\"не выше 150 см или не ниже 190 см - {h.cdf(150) + (1 - h.cdf(190))}\")\n",
    "print(f\"не выше 150 см или не ниже 198 см - {h.cdf(150) + (1 - h.cdf(198))}\")\n",
    "print(f\"ниже 166 см - {h.cdf(166)}\")"
   ]
  },
  {
   "cell_type": "markdown",
   "id": "0cef77d7-b66f-4673-bc3f-62f214cb6c12",
   "metadata": {
    "pycharm": {
     "name": "#%% md\n"
    }
   },
   "source": [
    "## Задание 5\n",
    "На сколько сигм (средних квадратичных отклонений) отклоняется рост человека, равный 190 см, от\n",
    "математического ожидания роста в популяции, в которой M(X) = 178 см и D(X) = 25 кв.см?"
   ]
  },
  {
   "cell_type": "code",
   "execution_count": 6,
   "id": "3cbb2d8e-86e3-442f-9f45-466b777e6087",
   "metadata": {
    "collapsed": false,
    "jupyter": {
     "outputs_hidden": false
    },
    "pycharm": {
     "name": "#%%\n"
    }
   },
   "outputs": [
    {
     "name": "stdout",
     "output_type": "stream",
     "text": [
      "2.4\n"
     ]
    }
   ],
   "source": [
    "M = 178\n",
    "D = 25\n",
    "std = D ** 0.5\n",
    "sigma = (190 - M)/std\n",
    "print(sigma)"
   ]
  },
  {
   "cell_type": "code",
   "execution_count": null,
   "id": "f340f1bc-369c-4953-aef9-245e24f8cd18",
   "metadata": {},
   "outputs": [],
   "source": []
  }
 ],
 "metadata": {
  "kernelspec": {
   "display_name": "Python 3",
   "language": "python",
   "name": "python3"
  },
  "language_info": {
   "codemirror_mode": {
    "name": "ipython",
    "version": 3
   },
   "file_extension": ".py",
   "mimetype": "text/x-python",
   "name": "python",
   "nbconvert_exporter": "python",
   "pygments_lexer": "ipython3",
   "version": "3.9.4"
  }
 },
 "nbformat": 4,
 "nbformat_minor": 5
}

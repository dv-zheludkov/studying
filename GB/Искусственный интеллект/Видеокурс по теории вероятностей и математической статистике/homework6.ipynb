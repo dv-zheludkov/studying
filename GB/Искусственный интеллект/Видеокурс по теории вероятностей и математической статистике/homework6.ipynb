{
 "cells": [
  {
   "cell_type": "code",
   "execution_count": 2,
   "id": "d8eb3bdb-cd7f-4b95-8b9a-f1f404a82e85",
   "metadata": {},
   "outputs": [],
   "source": [
    "import numpy as np\n",
    "import math\n",
    "import scipy.stats as st\n"
   ]
  },
  {
   "cell_type": "markdown",
   "id": "6269e54d-14ad-4342-b3af-e0e15d34a0d8",
   "metadata": {},
   "source": [
    "### Задача 1"
   ]
  },
  {
   "cell_type": "markdown",
   "id": "6bfd7103-12ea-4626-ad7e-95d61da73160",
   "metadata": {},
   "source": [
    "Даны значения величины заработной платы заемщиков банка (`salary`) и значения их поведенческого кредитного скоринга (`scoring`):\n",
    "```\n",
    "salary = [35, 45, 190, 200, 40, 70, 54, 150, 120, 110]\n",
    "scoring = [401, 574, 874, 919, 459, 739, 653, 902, 746, 832]\n",
    "```\n",
    "Используя только встроенные питоновские функции и структуры данных (т.е. без библиотек `numpy`, `pandas` и др.) найдите коэффициент корреляции Пирсона двух выборок."
   ]
  },
  {
   "cell_type": "code",
   "execution_count": 7,
   "id": "9f26384c-236c-472a-a7d2-f1ba7d337fc8",
   "metadata": {},
   "outputs": [
    {
     "name": "stdout",
     "output_type": "stream",
     "text": [
      "Коэффициент корреляции Пирсона 0.88749009\n"
     ]
    }
   ],
   "source": [
    "salary = np.array([35, 45, 190, 200, 40, 70, 54, 150, 120, 110])\n",
    "scoring = np.array([401, 574, 874, 919, 459, 739, 653, 902, 746, 832])\n",
    "M_sal = salary.mean()\n",
    "M_score = scoring.mean()\n",
    "\n",
    "cov_unbiased = ((salary - M_sal) * (scoring - M_score)).sum() / (salary.shape[0] - 1) # несмещенная ковариация\n",
    "corr = cov_unbiased / (salary.std(ddof=1) * scoring.std(ddof=1)) # коэффициент корреляции Пирсона\n",
    "\n",
    "print(f'Коэффициент корреляции Пирсона {round(corr,8)}')"
   ]
  },
  {
   "cell_type": "code",
   "execution_count": null,
   "id": "6718a603-72e9-47ba-b450-580c23375cbd",
   "metadata": {},
   "outputs": [],
   "source": []
  },
  {
   "cell_type": "markdown",
   "id": "39b14db8-e23a-4e41-8983-1f3a0163df57",
   "metadata": {},
   "source": [
    "### Задача 2"
   ]
  },
  {
   "cell_type": "markdown",
   "id": "b2f93d09-d89f-44ab-871e-4d3fa9ade663",
   "metadata": {},
   "source": [
    "Проведите тест на значимость коэффициента корреляции Пирсона, найденного в предыдущей задаче. Что для этого нужно знать:\n",
    "* Нулевая гипотеза: реальный коэффициент корреляции равен 0. Альтернативная гипотеза двухсторонняя.\n",
    "* Статистика: `t = r * sqrt(n - 2) / sqrt(1 - r ** 2)`, где `r` - коэффициент корреляции Пирсона, посчитанный по выборке.\n",
    "* В предположении верности нулевой гипотезы эта статистика имеет распределение Стьюдента с параметром `df = n - 2`.\n",
    "\n",
    "В качестве ответа запишите 1, если нулевая гипотеза верна, и 0 иначе."
   ]
  },
  {
   "cell_type": "code",
   "execution_count": 11,
   "id": "5481d5da-7a02-4f46-bdc8-5f336798e178",
   "metadata": {},
   "outputs": [
    {
     "name": "stdout",
     "output_type": "stream",
     "text": [
      "Значение статистики попадает в критическую область.\n",
      " Ответ 0\n",
      "р-значение: 0.0006107546587257318\n"
     ]
    }
   ],
   "source": [
    "n = salary.shape[0]\n",
    "t = corr * np.sqrt(n - 2) / np.sqrt(1 - corr ** 2)\n",
    "a = 0.05\n",
    "t1 = st.t.ppf(a / 2, df = n - 1)\n",
    "t2 = st.t.ppf(1 - a / 2, df = n - 1)\n",
    "if t < t1 or t > t2:\n",
    "    print('Значение статистики попадает в критическую область.\\n Ответ 0')\n",
    "else:\n",
    "    print('Значение статистики не попадает в критическую область.\\n Ответ 1')\n",
    "\n",
    "p_left = st.t.cdf(t, df = n - 2)\n",
    "p_right = 1 - st.t.cdf(t, df=n - 2)\n",
    "\n",
    "p_val = 2 * min(p_left, p_right)\n",
    "print(f'р-значение: {p_val}')"
   ]
  },
  {
   "cell_type": "code",
   "execution_count": null,
   "id": "32162101-4894-46d5-b582-faa1451a411e",
   "metadata": {},
   "outputs": [],
   "source": []
  },
  {
   "cell_type": "markdown",
   "id": "c8175dce-6609-483a-bb75-7079616cff83",
   "metadata": {},
   "source": [
    " ### Задача 3"
   ]
  },
  {
   "cell_type": "markdown",
   "id": "9c37d817-399d-48f8-8131-c1fd667fd65e",
   "metadata": {},
   "source": [
    "Измерены значения IQ выборки студентов, обучающихся в местных технических вузах:\n",
    "```\n",
    "131, 125, 115, 122, 131, 115, 107, 99, 125, 111\n",
    "```\n",
    "Известно, что в генеральной совокупности IQ распределен нормально. Найдите ширину доверительного интервала для математического ожидания с надежностью 0.95."
   ]
  },
  {
   "cell_type": "code",
   "execution_count": 25,
   "id": "1678f0cb-de80-4957-a0ea-cef407d14cad",
   "metadata": {},
   "outputs": [
    {
     "name": "stdout",
     "output_type": "stream",
     "text": [
      "Ширина доверительного интервала 0.95: 15.0878327\n"
     ]
    }
   ],
   "source": [
    "stud_iq = np.array([131, 125, 115, 122, 131, 115, 107, 99, 125, 111])\n",
    "n = stud_iq.shape[0]\n",
    "p = 0.95\n",
    "a = 1-p\n",
    "\n",
    "mean = stud_iq.mean()\n",
    "std = stud_iq.std(ddof=1)\n",
    "\n",
    "t1 = st.t.ppf(a / 2, df=n - 1)\n",
    "t2 = st.t.ppf(1 - a / 2, df=n - 1)\n",
    "\n",
    "s1 = mean + t1 * std / np.sqrt(n)\n",
    "s2 = mean + t2 * std / np.sqrt(n)\n",
    "\n",
    "print(f'Ширина доверительного интервала {p}: {round(s2 - s1,8)}')"
   ]
  },
  {
   "cell_type": "code",
   "execution_count": null,
   "id": "79944768-5b85-40e7-be0e-6254ff1dc21e",
   "metadata": {},
   "outputs": [],
   "source": []
  }
 ],
 "metadata": {
  "kernelspec": {
   "display_name": "Python 3",
   "language": "python",
   "name": "python3"
  },
  "language_info": {
   "codemirror_mode": {
    "name": "ipython",
    "version": 3
   },
   "file_extension": ".py",
   "mimetype": "text/x-python",
   "name": "python",
   "nbconvert_exporter": "python",
   "pygments_lexer": "ipython3",
   "version": "3.9.4"
  }
 },
 "nbformat": 4,
 "nbformat_minor": 5
}

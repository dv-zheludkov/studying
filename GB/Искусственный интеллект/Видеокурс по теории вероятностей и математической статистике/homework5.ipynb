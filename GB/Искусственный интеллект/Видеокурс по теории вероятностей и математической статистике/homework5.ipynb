{
 "cells": [
  {
   "cell_type": "code",
   "execution_count": 1,
   "id": "d8eb3bdb-cd7f-4b95-8b9a-f1f404a82e85",
   "metadata": {},
   "outputs": [],
   "source": [
    "import numpy as np\n",
    "import math\n",
    "import scipy.stats as st\n"
   ]
  },
  {
   "cell_type": "markdown",
   "id": "6269e54d-14ad-4342-b3af-e0e15d34a0d8",
   "metadata": {},
   "source": [
    "### Задача 1"
   ]
  },
  {
   "cell_type": "markdown",
   "id": "f86b9afd-fde8-4e60-9b29-909f99e839ea",
   "metadata": {},
   "source": [
    "Известно, что генеральная совокупность распределена нормально с известным средним квадратическим отклонением 16. Найти доверительный интервал для оценки математического ожидания mu с надёжностью 0.95, если выборочное среднее равно 80, а объём равен 256."
   ]
  },
  {
   "cell_type": "code",
   "execution_count": 2,
   "id": "9aa02a79-d70e-4e10-b58f-e4aae1bbee03",
   "metadata": {},
   "outputs": [
    {
     "name": "stdout",
     "output_type": "stream",
     "text": [
      "Доверительный интервал равен: (78.04, 81.96)\n"
     ]
    }
   ],
   "source": [
    "x = 80\n",
    "k = 1.96 # alpha / 2 = 0.025, Z criteria\n",
    "sigma = 16\n",
    "n = 256\n",
    "v_min = x - k * sigma / (n**0.5)\n",
    "v_max = x + k * sigma / (n**0.5)\n",
    "print ('Доверительный интервал равен:', (v_min, v_max))"
   ]
  },
  {
   "cell_type": "markdown",
   "id": "27ee48d1-142e-4335-9dfe-a3f9459a0e04",
   "metadata": {},
   "source": [
    "### Задача 2"
   ]
  },
  {
   "cell_type": "markdown",
   "id": "f781294a-374c-4aad-9be8-5fefef498d2b",
   "metadata": {},
   "source": [
    "Продавец утверждает, что средний вес пачки печенья составляет 200 г. Из партии извлечена выборка из 10 пачек. Вес каждой пачки составляет:\n",
    "\n",
    "202, 203, 199, 197, 195, 201, 200, 204, 194, 190\n",
    "\n",
    "Известно, что их веса распределены нормально.\n",
    "1. Верно ли утверждение продавца, если учитывать, что уровень значимости равен 1%?\n",
    "2. Найдите P-значение для данного теста."
   ]
  },
  {
   "cell_type": "code",
   "execution_count": 7,
   "id": "bdfb5f32-c5e1-424b-b5db-135dfeefb0d6",
   "metadata": {},
   "outputs": [
    {
     "name": "stdout",
     "output_type": "stream",
     "text": [
      "198.5\n",
      "-3.6896623923042338 , 3.6896623923042484\n",
      "-1.0651074037450896\n",
      "t1 <= S <= t2     ->      True\n",
      "0.31456660352472854\n"
     ]
    },
    {
     "data": {
      "text/plain": [
       "0.3145666"
      ]
     },
     "execution_count": 7,
     "metadata": {},
     "output_type": "execute_result"
    }
   ],
   "source": [
    "def statistic(samples: np.ndarray, H0, n):   \n",
    "    return (samples.mean() - H0) / (samples.std(ddof=1) / n**(1/2))\n",
    "\n",
    "samples = np.array([202, 203, 199, 197, 195, 201, 200, 204, 194, 190])\n",
    "H1 = np.mean(samples)\n",
    "print(H1)\n",
    "H0 = 200 \n",
    "alpha = (1 - 0.99) / 2 # нормальное распределение\n",
    "sigma = np.std(samples, ddof=1)\n",
    "n = len(samples)\n",
    "t1 = st.t.ppf(alpha / 2, df=n - 1)\n",
    "t2 = st.t.ppf(1 - alpha / 2, df=n - 1)\n",
    "print(t1,\",\",t2)\n",
    "S = statistic(samples, H0, n)\n",
    "print(S)\n",
    "print(\"t1 <= S <= t2     ->     \", t1 <= S <= t2)\n",
    "n= 10 \n",
    "p_left = st.t.cdf(S, df=n - 1)\n",
    "p_right = 1 - st.t.cdf(S, df=n - 1)\n",
    "pvalue = 2 * min(p_left,p_right)\n",
    "print(pvalue)\n",
    "np.around(pvalue, 8)"
   ]
  },
  {
   "cell_type": "markdown",
   "id": "ad6bc25a-c263-4ba2-9329-f7f2837cbea8",
   "metadata": {},
   "source": [
    "Т.к. t1 <= S <= t2, то утверждение продавца можно считать верным. \n",
    "\n",
    "P-значение равно 0.3145666"
   ]
  },
  {
   "cell_type": "markdown",
   "id": "f083f3ae-c2a0-42f7-9623-c62885159512",
   "metadata": {},
   "source": [
    "### Задача 3"
   ]
  },
  {
   "cell_type": "markdown",
   "id": "018759d7-c049-40be-85c0-f43df3e982d9",
   "metadata": {},
   "source": [
    "Дана выборка диаметров подшипников из примера 1 с занятия 5:\n",
    "\n",
    "samples = [0.6603, 0.9466, 0.5968, 1.3792, 1.5481, 0.7515, 1.0681, 1.1134,\n",
    "1.2088, 1.701 , 1.0282, 1.3579, 1.0191, 1.1784, 1.1168, 1.1372,\n",
    "0.7273, 1.3958, 0.8665, 1.5112, 1.161 , 1.0232, 1.0865, 1.02 ]\n",
    "\n",
    "Предполагая, что диаметры подшипников распределены нормально, проверьте гипотезу о том, что дисперсия случайной величины равна 0.0625 при уровне значимости alpha = 0.05. Что для этого нужно знать:\n",
    "1. Альтернативная гипотеза двухсторонняя.\n",
    "2. Статистика для теста: H = (n - 1) * sample_variance / variance, где n - число элементов в выборке, sample_variance - несмещённая оценка дисперсии, variance - утверждаемая нулевой гипотезой дисперсия.\n",
    "3. Эта статистика в предположении верности нулевой гипотезы имеет распределение хи-квадрат с параметром df = n - 1. Её квантили можно найти с помощью функции scipy.stats.chi2.ppf."
   ]
  },
  {
   "cell_type": "code",
   "execution_count": 4,
   "id": "1f92ed08-7272-440c-b9db-86e0d8462610",
   "metadata": {},
   "outputs": [
    {
     "name": "stdout",
     "output_type": "stream",
     "text": [
      "t1 <= H <= t2     ->      True\n"
     ]
    }
   ],
   "source": [
    "samples = np.array([0.6603, 0.9466, 0.5968, 1.3792, 1.5481, 0.7515, 1.0681, 1.1134, \n",
    "           1.2088, 1.701, 1.0282, 1.3579, 1.0191, 1.1784, 1.1168, 1.1372, \n",
    "           0.7273, 1.3958, 0.8665, 1.5112, 1.161 , 1.0232, 1.0865, 1.02])\n",
    "var = 0.0625\n",
    "alpha = 0.05\n",
    "n = samples.shape[0]\n",
    "sample_var = samples.var()\n",
    "H = (n - 1) * sample_var / var\n",
    "t1 = st.chi2.ppf(alpha / 2, df=n-1)\n",
    "t2 = st.chi2.ppf(1 - alpha / 2, df=n-1)\n",
    "print(\"t1 <= H <= t2     ->     \", t1 <= H <= t2)"
   ]
  },
  {
   "cell_type": "markdown",
   "id": "6ef4fc16-d950-412b-8176-a92a6c1452dc",
   "metadata": {},
   "source": [
    "Т.к. t1 <= H <= t2 , то гипотеза верна!"
   ]
  },
  {
   "cell_type": "code",
   "execution_count": null,
   "id": "be1ca3d1-dd59-4d7c-9fe8-ff990f736151",
   "metadata": {},
   "outputs": [],
   "source": []
  },
  {
   "cell_type": "code",
   "execution_count": null,
   "id": "9f26384c-236c-472a-a7d2-f1ba7d337fc8",
   "metadata": {},
   "outputs": [],
   "source": []
  },
  {
   "cell_type": "code",
   "execution_count": null,
   "id": "6718a603-72e9-47ba-b450-580c23375cbd",
   "metadata": {},
   "outputs": [],
   "source": []
  },
  {
   "cell_type": "code",
   "execution_count": null,
   "id": "392f906c-39cc-4f19-aa57-143d160df0e6",
   "metadata": {},
   "outputs": [],
   "source": []
  }
 ],
 "metadata": {
  "kernelspec": {
   "display_name": "Python 3",
   "language": "python",
   "name": "python3"
  },
  "language_info": {
   "codemirror_mode": {
    "name": "ipython",
    "version": 3
   },
   "file_extension": ".py",
   "mimetype": "text/x-python",
   "name": "python",
   "nbconvert_exporter": "python",
   "pygments_lexer": "ipython3",
   "version": "3.9.4"
  }
 },
 "nbformat": 4,
 "nbformat_minor": 5
}

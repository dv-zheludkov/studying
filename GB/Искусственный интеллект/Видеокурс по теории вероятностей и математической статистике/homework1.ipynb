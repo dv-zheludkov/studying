{
 "cells": [
  {
   "cell_type": "code",
   "execution_count": 10,
   "id": "d8eb3bdb-cd7f-4b95-8b9a-f1f404a82e85",
   "metadata": {},
   "outputs": [],
   "source": [
    "import numpy as np\n",
    "\n",
    "def combinations(n: int, k: int) -> int:\n",
    "    \"\"\"Число сочетаний.\n",
    "    \"\"\"\n",
    "    \n",
    "    return np.math.factorial(n) // (np.math.factorial(k) * np.math.factorial(n - k))\n",
    "\n"
   ]
  },
  {
   "cell_type": "markdown",
   "id": "5909c3b2-8c30-4b4c-b69a-75dfff2c6024",
   "metadata": {},
   "source": [
    "### Задача 1"
   ]
  },
  {
   "cell_type": "markdown",
   "id": "dddf8a30-9f54-40c9-b2b2-807bbdef4a99",
   "metadata": {},
   "source": [
    "Имеется колода в 52 карты. Найти число возможностей вытянуть из неё 4 карты так, чтобы среди них был хотя бы один туз."
   ]
  },
  {
   "cell_type": "markdown",
   "id": "153fef3c-92cb-49a5-a42f-1b2a7cad8465",
   "metadata": {},
   "source": [
    "#### Решение:\n",
    "\n",
    "Самый простой вариант - посчитать общее число исходов ($C_{52}^4$) и вычесть из него число исходов, при которых в руке вообще не оказалось туза ($C_{48}^4$)\n"
   ]
  },
  {
   "cell_type": "code",
   "execution_count": 11,
   "id": "a1261ab5-d39b-41a7-8bef-cfd6423a86b9",
   "metadata": {},
   "outputs": [
    {
     "data": {
      "text/plain": [
       "76145"
      ]
     },
     "execution_count": 11,
     "metadata": {},
     "output_type": "execute_result"
    }
   ],
   "source": [
    "combinations(52, 4) - combinations(48, 4)"
   ]
  },
  {
   "cell_type": "markdown",
   "id": "6c6549d8-c534-4bde-9c5e-7e1365a7918b",
   "metadata": {},
   "source": [
    "### Задачи 2 и 3"
   ]
  },
  {
   "cell_type": "markdown",
   "id": "ff269cbc-6b42-40ed-b6c3-06467f68f5f4",
   "metadata": {},
   "source": [
    "Из 60 вопросов, входящих в экзаменационные билеты, студент знает 50. Случайным образом студент вытягивает 3 вопроса. Какова вероятность, что все выбранные вопросы знакомы студенту? Какова вероятность что два из трёх вопросов знакомы студенту?"
   ]
  },
  {
   "cell_type": "markdown",
   "id": "efc5fa70-b3be-4571-8bb2-4232cd3cd79b",
   "metadata": {},
   "source": [
    "#### Решение:\n",
    "\n",
    "Общее число исходов равно \n",
    "$C_{60}^3$\n",
    "\n",
    "Число исходов, благоприятных для события «все билеты знакомые», равно \n",
    "$C_{50}^3$\n",
    "\n",
    "Тогда вероятность того, что все билеты знакомы:"
   ]
  },
  {
   "cell_type": "code",
   "execution_count": 12,
   "id": "b8623777-4cea-40e0-b0e5-cb712d68a0e2",
   "metadata": {},
   "outputs": [
    {
     "data": {
      "text/plain": [
       "0.5727644652250146"
      ]
     },
     "execution_count": 12,
     "metadata": {},
     "output_type": "execute_result"
    }
   ],
   "source": [
    "combinations(50, 3) / combinations(60, 3)"
   ]
  },
  {
   "cell_type": "markdown",
   "id": "523c4c21-0995-4e3e-8c79-235c8ab95eac",
   "metadata": {},
   "source": [
    "Число исходов при двух знакомых билетах и одном незнакомом: \n",
    "$C_{50}^2 \\cdot C_{10}^1 $. \n",
    "\n",
    "Тогда вероятность того, что знакомы два билета:"
   ]
  },
  {
   "cell_type": "code",
   "execution_count": 13,
   "id": "80c791ac-1cd5-44a5-b2df-87f70159a129",
   "metadata": {},
   "outputs": [
    {
     "data": {
      "text/plain": [
       "0.35797779076563413"
      ]
     },
     "execution_count": 13,
     "metadata": {},
     "output_type": "execute_result"
    }
   ],
   "source": [
    "combinations(50, 2) * combinations(10, 1) / combinations(60, 3)"
   ]
  },
  {
   "cell_type": "code",
   "execution_count": null,
   "id": "47bff060-8f37-4daf-8363-4016065cd064",
   "metadata": {},
   "outputs": [],
   "source": []
  },
  {
   "cell_type": "markdown",
   "id": "ed9d3867-04fe-4eba-8d05-d6816b0b52e0",
   "metadata": {},
   "source": [
    "### Задача 4"
   ]
  },
  {
   "cell_type": "markdown",
   "id": "50c41564-6a44-4fc5-8357-b748d766e756",
   "metadata": {},
   "source": [
    "Допустим, имеется некоторая очень редкая болезнь (поражает 0.1% населения). Вы приходите к врачу, вам делают тест на эту болезнь, и тест оказывается положительным. Врач говорит вам, что этот тест верно выявляет 99% больных этой болезнью и всего лишь в 1% случаев даёт ложный положительный ответ.\n",
    "\n",
    "Вопрос: какова вероятность, что вы действительно больны ей?\n",
    "\n",
    "Подсказка: используйте формулу Байеса с раскрытием знаменателя с помощью формулы полной вероятности."
   ]
  },
  {
   "cell_type": "markdown",
   "id": "62a6e942-0979-4384-baa9-a12345b9826c",
   "metadata": {},
   "source": [
    "#### Решение:\n",
    "\n",
    "Определим события. \n",
    "\n",
    "$A$ — вы больны\n",
    "\n",
    "$B$ — тест положительный.\n",
    "\n",
    "В этом случае нужно найти вероятность $P(A | B)$ \n",
    "\n",
    "$$P(A|B) = \\frac{P(B|A) \\cdot P(A)}{P(B)}$$\n",
    "\n",
    "Раскроем знаменатель по формуле полной вероятности:\n",
    "$$P(B) = P(B | A) \\cdot P(A) + P \\left( B | \\overline{A} \\right) \\cdot P \\left( \\overline{A} \\right)$$\n",
    "\n",
    "Подставляя сюда известные нам величины, получаем:"
   ]
  },
  {
   "cell_type": "code",
   "execution_count": 14,
   "id": "b1f06a00-02c7-4e65-bd6e-a3b1d0de1a9d",
   "metadata": {},
   "outputs": [],
   "source": [
    "P_b = 0.001 * 0.99 + 0.999 * 0.01"
   ]
  },
  {
   "cell_type": "markdown",
   "id": "05456387-1fb8-46df-9cca-4919e88c4887",
   "metadata": {},
   "source": [
    "Подставляя это значение в формулу Байеса, получаем:"
   ]
  },
  {
   "cell_type": "code",
   "execution_count": 15,
   "id": "fc16f2d8-e388-443b-b3db-cdbafce46318",
   "metadata": {},
   "outputs": [
    {
     "data": {
      "text/plain": [
       "0.09016393442622951"
      ]
     },
     "execution_count": 15,
     "metadata": {},
     "output_type": "execute_result"
    }
   ],
   "source": [
    "0.001 * 0.99 / P_b\n"
   ]
  },
  {
   "cell_type": "code",
   "execution_count": null,
   "id": "9b306b13-01a9-493d-8e2f-e25b7573d989",
   "metadata": {},
   "outputs": [],
   "source": []
  }
 ],
 "metadata": {
  "kernelspec": {
   "display_name": "Python 3",
   "language": "python",
   "name": "python3"
  },
  "language_info": {
   "codemirror_mode": {
    "name": "ipython",
    "version": 3
   },
   "file_extension": ".py",
   "mimetype": "text/x-python",
   "name": "python",
   "nbconvert_exporter": "python",
   "pygments_lexer": "ipython3",
   "version": "3.9.4"
  }
 },
 "nbformat": 4,
 "nbformat_minor": 5
}

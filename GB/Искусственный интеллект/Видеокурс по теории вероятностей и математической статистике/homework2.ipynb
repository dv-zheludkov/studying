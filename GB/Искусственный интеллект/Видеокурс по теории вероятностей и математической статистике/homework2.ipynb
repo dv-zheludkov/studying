{
 "cells": [
  {
   "cell_type": "code",
   "execution_count": 1,
   "id": "d8eb3bdb-cd7f-4b95-8b9a-f1f404a82e85",
   "metadata": {},
   "outputs": [],
   "source": [
    "import numpy as np\n",
    "import matplotlib.pyplot as plt\n",
    "%matplotlib inline\n"
   ]
  },
  {
   "cell_type": "markdown",
   "id": "5909c3b2-8c30-4b4c-b69a-75dfff2c6024",
   "metadata": {},
   "source": [
    "### Задачи 1 и 2"
   ]
  },
  {
   "cell_type": "markdown",
   "id": "dddf8a30-9f54-40c9-b2b2-807bbdef4a99",
   "metadata": {},
   "source": [
    "Контрольная работа состоит из пяти вопросов. На каждый вопрос приведено четыре варианта ответа, один из которых правильный. Случайная величина X задаёт число правильных ответов при простом угадывании. Найдите математическое ожидание данной случайной величины. Найдите дисперсию случайной величины X.\n",
    "\n",
    "Подсказка: постройте закон распределения случайной величины X."
   ]
  },
  {
   "cell_type": "markdown",
   "id": "71493b64-2125-48ad-ab5e-e43afc2f3a0c",
   "metadata": {},
   "source": [
    "#### Решение:"
   ]
  },
  {
   "cell_type": "markdown",
   "id": "255b0967-4db6-4c63-9464-c2ea5aa04cd0",
   "metadata": {},
   "source": [
    "Вариантов выбора ответа 4, следовательно вероятность выбора правильного ответа p_i = 0.25. Вопросов 5, n = 5. k - количество верно отгаданных вопросов может быть от 0 до 5.\n",
    "\n",
    "Сама задача на использование биномиального закона распределения.\n",
    "\n",
    "$P(X = k) = C_n^k p^k (1 - p)^{n - k}$\n",
    "\n",
    "Математическое ожидание\n",
    "\n",
    "$M(X) = n * p_i$\n",
    "\n",
    "Дисперсия\n",
    "\n",
    "$D(X) = n * p_i * (1 - p_i)$\n"
   ]
  },
  {
   "cell_type": "code",
   "execution_count": 2,
   "id": "a1261ab5-d39b-41a7-8bef-cfd6423a86b9",
   "metadata": {},
   "outputs": [
    {
     "name": "stdout",
     "output_type": "stream",
     "text": [
      "Вероятность ответить на 0 вопросов: 0.2373046875\n",
      "Вероятность ответить на 1 вопросов: 0.3955078125\n",
      "Вероятность ответить на 2 вопросов: 0.263671875\n",
      "Вероятность ответить на 3 вопросов: 0.087890625\n",
      "Вероятность ответить на 4 вопросов: 0.0146484375\n",
      "Вероятность ответить на 5 вопросов: 0.0009765625\n",
      "\n",
      "Полная вероятность равна 1.0\n",
      "\n",
      "Математическое ожидание равно 1.25\n",
      "\n",
      "Дисперсия равна 0.9375\n"
     ]
    },
    {
     "data": {
      "text/plain": [
       "[<matplotlib.lines.Line2D at 0x7fe6b5f8e8b0>]"
      ]
     },
     "execution_count": 2,
     "metadata": {},
     "output_type": "execute_result"
    },
    {
     "data": {
      "image/png": "[encoded data removed]",
      "text/plain": [
       "<Figure size 432x288 with 1 Axes>"
      ]
     },
     "metadata": {
      "needs_background": "light"
     },
     "output_type": "display_data"
    }
   ],
   "source": [
    "def combinations(n: int, k: int) -> int:\n",
    "    return np.math.factorial(n) // (np.math.factorial(k) * np.math.factorial(n - k))\n",
    "\n",
    "p_full = []\n",
    "\n",
    "for k in range(0, 6):\n",
    "    n = 5\n",
    "    p_i = 0.25\n",
    "    q = 1 - p_i\n",
    "    p = combinations(n, k)*(p_i**k)*(q**(n-k))\n",
    "    p_full.append(p)\n",
    "    print(f\"Вероятность ответить на {k} вопросов: {p}\")\n",
    "print(\"\\nПолная вероятность равна\", sum(p_full))\n",
    "print(\"\\nМатематическое ожидание равно\", n * p_i)\n",
    "print(\"\\nДисперсия равна\", n * p_i * (1 - p_i))\n",
    "\n",
    "plt.plot(p_full)\n"
   ]
  },
  {
   "cell_type": "markdown",
   "id": "6c6549d8-c534-4bde-9c5e-7e1365a7918b",
   "metadata": {},
   "source": [
    "### Задача 3"
   ]
  },
  {
   "cell_type": "markdown",
   "id": "ff269cbc-6b42-40ed-b6c3-06467f68f5f4",
   "metadata": {},
   "source": [
    "Пользователь получает в среднем 10 писем со спамом на свой почтовый ящик за сутки. Найти число N, такое, что с вероятностью 0.95 пользователь получит не более N писем со спамом за текущий день"
   ]
  },
  {
   "cell_type": "markdown",
   "id": "667a48a5-b214-4ced-a039-e1e7aa07a5c8",
   "metadata": {},
   "source": [
    "#### Решение:"
   ]
  },
  {
   "cell_type": "markdown",
   "id": "fde68c96-a2f3-4c68-9d14-49b15c88755f",
   "metadata": {},
   "source": [
    "Допустим, что рассматриваемая величина имеет распределение Пуассона.\n",
    "\n",
    "Кроме того, полагаем под фразой \"текущий день\" - текущие сутки. Так как определиться с понятием день без уточнения дополнительных данных иным образом невозможно."
   ]
  },
  {
   "cell_type": "code",
   "execution_count": 9,
   "id": "b8623777-4cea-40e0-b0e5-cb712d68a0e2",
   "metadata": {},
   "outputs": [
    {
     "name": "stdout",
     "output_type": "stream",
     "text": [
      "Вероятность получения 0 писем - 0\n",
      "Вероятность получения 1 писем - 4.5399929762484854e-05\n",
      "Вероятность получения 2 писем - 0.0004993992273873334\n",
      "Вероятность получения 3 писем - 0.0027693957155115762\n",
      "Вероятность получения 4 писем - 0.010336050675925718\n",
      "Вероятность получения 5 писем - 0.029252688076961072\n",
      "Вероятность получения 6 писем - 0.06708596287903178\n",
      "Вероятность получения 7 писем - 0.13014142088248296\n",
      "Вероятность получения 8 писем - 0.22022064660169893\n",
      "Вероятность получения 9 писем - 0.33281967875071894\n",
      "Вероятность получения 10 писем - 0.45792971447185227\n",
      "Вероятность получения 11 писем - 0.5830397501929856\n",
      "Вероятность получения 12 писем - 0.6967761463031068\n",
      "Вероятность получения 13 писем - 0.7915564763948745\n",
      "Вероятность получения 14 писем - 0.8644644226193111\n",
      "Вероятность получения 15 писем - 0.9165415270653373\n",
      "Вероятность получения 16 писем - 0.9512595966960214\n",
      "\n",
      "С вероятностью более 0.95% пользователь получит не более 15 писем со спамом за текущий день\n"
     ]
    }
   ],
   "source": [
    "def poisson_proba(k: int, lambda_: float) -> float:\n",
    "    \n",
    "    return (lambda_ ** k) * (np.exp(-lambda_)) / np.math.factorial(k)\n",
    "\n",
    "p = 0.95\n",
    "lambda_ = 10\n",
    "\n",
    "n = 0\n",
    "\n",
    "while True:\n",
    "    p_sum = sum(poisson_proba(i, lambda_) for i in range(n))\n",
    "    print(f\"Вероятность получения {n} писем - {p_sum}\")\n",
    "    if p_sum > p:\n",
    "        n = n - 1\n",
    "        break\n",
    "    else:\n",
    "        n += 1\n",
    "    \n",
    "\n",
    "print(f\"\\nС вероятностью более 0.95% пользователь получит не более {n} писем со спамом за текущий день\")"
   ]
  },
  {
   "cell_type": "markdown",
   "id": "ed9d3867-04fe-4eba-8d05-d6816b0b52e0",
   "metadata": {},
   "source": [
    "### Задача 4"
   ]
  },
  {
   "cell_type": "markdown",
   "id": "50c41564-6a44-4fc5-8357-b748d766e756",
   "metadata": {},
   "source": [
    "Производятся выстрелы по мишени. Вероятность попадания в мишень при одном выстреле равна 0.01. Сколько выстрелов нужно сделать чтобы быть уверенным с вероятностью 0.9, что хотя бы 6 раз будет совершено попадание?\n",
    "\n",
    "Подсказка: \n",
    "1) \"Вероятность попасть k раз при n выстрелах\" - на какое распределение это похоже? \n",
    "2) А если нам нужна вероятность P(X >= k), а не P(X = k)? \n",
    "3) Здесь предстоит немножко покодить."
   ]
  },
  {
   "cell_type": "markdown",
   "id": "dff0d6ed-c3ff-4301-b969-2709b51698fa",
   "metadata": {},
   "source": [
    "#### Решение:"
   ]
  },
  {
   "cell_type": "markdown",
   "id": "253465e0-9be1-48f4-a007-aca7ccf78e05",
   "metadata": {},
   "source": [
    "Нужное нам событие - в мишень попали хотя бы 6 раз. Эта вероятность складывается из вероятности попасть 6, 7, 8 .... n раз в мишень из n испытаний. Соответствующие вероянтности вычислим по формуле биномиального распределения."
   ]
  },
  {
   "cell_type": "code",
   "execution_count": 4,
   "id": "b1f06a00-02c7-4e65-bd6e-a3b1d0de1a9d",
   "metadata": {},
   "outputs": [
    {
     "name": "stdout",
     "output_type": "stream",
     "text": [
      "\n",
      " 926 выстрелов нужно сделать чтобы быть уверенным с вероятностью 0.9, что хотя бы 6 раз будет совершено попадание\n"
     ]
    }
   ],
   "source": [
    "def probability_3(m, n):\n",
    "    return combinations(n, m)*pow(0.01, m)*pow(0.99, n-m)\n",
    "\n",
    "\n",
    "n = 6\n",
    "while True:\n",
    "    probability = 0\n",
    "    n += 1\n",
    "    for m in range (6, n):\n",
    "        probability += probability_3(m, n-1)\n",
    "    if probability > 0.9:\n",
    "        break\n",
    "print(f\"\\n {n - 1} выстрелов нужно сделать чтобы быть уверенным с вероятностью 0.9, что хотя бы 6 раз будет совершено попадание\")"
   ]
  }
 ],
 "metadata": {
  "kernelspec": {
   "display_name": "Python 3",
   "language": "python",
   "name": "python3"
  },
  "language_info": {
   "codemirror_mode": {
    "name": "ipython",
    "version": 3
   },
   "file_extension": ".py",
   "mimetype": "text/x-python",
   "name": "python",
   "nbconvert_exporter": "python",
   "pygments_lexer": "ipython3",
   "version": "3.9.4"
  }
 },
 "nbformat": 4,
 "nbformat_minor": 5
}

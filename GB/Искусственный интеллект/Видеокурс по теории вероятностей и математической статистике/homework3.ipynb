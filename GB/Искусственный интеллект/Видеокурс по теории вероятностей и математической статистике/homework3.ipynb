{
 "cells": [
  {
   "cell_type": "code",
   "execution_count": 1,
   "id": "d8eb3bdb-cd7f-4b95-8b9a-f1f404a82e85",
   "metadata": {},
   "outputs": [],
   "source": [
    "import numpy as np\n",
    "import matplotlib.pyplot as plt\n",
    "%matplotlib inline\n"
   ]
  },
  {
   "cell_type": "markdown",
   "id": "0c1611ee-5fd5-4d25-8832-15a85f040c12",
   "metadata": {},
   "source": [
    "## Задание 1\n",
    "Даны значения зарплат из выборки выпускников: 100, 80, 75, 77, 89, 33, 45, 25, 65, 17, 30, 24, 57, 55, 70, 75, 65, 84, 90, 150.\n",
    "Посчитать (желательно без использования статистических методов наподобие std, var, mean):\n",
    "- среднее арифметическое,\n",
    "- среднее квадратичное отклонение,\n",
    "- смещенную и несмещенную оценки дисперсий для данной выборки."
   ]
  },
  {
   "cell_type": "markdown",
   "id": "e58d02ba-da99-4cf5-81a7-7b53d0740864",
   "metadata": {
    "pycharm": {
     "name": "#%% md\n"
    }
   },
   "source": [
    "#### Среднее арифметическое"
   ]
  },
  {
   "cell_type": "code",
   "execution_count": 1,
   "id": "77a293b4-8b4e-44c3-a89d-ee93bb61afc3",
   "metadata": {
    "collapsed": false,
    "jupyter": {
     "outputs_hidden": false
    },
    "pycharm": {
     "name": "#%%\n"
    }
   },
   "outputs": [
    {
     "data": {
      "text/plain": [
       "65.3"
      ]
     },
     "execution_count": 1,
     "metadata": {},
     "output_type": "execute_result"
    }
   ],
   "source": [
    "array = [100, 80, 75, 77, 89, 33, 45, 25, 65, 17, 30, 24, 57, 55, 70, 75, 65, 84, 90, 150]\n",
    "n = len(array)\n",
    "array_sum = 0\n",
    "for number in array:\n",
    "    array_sum = array_sum + number\n",
    "x_sr = array_sum/n\n",
    "x_sr"
   ]
  },
  {
   "cell_type": "markdown",
   "id": "86782df4-ff26-44d9-8fe1-668f01384c4e",
   "metadata": {
    "pycharm": {
     "name": "#%% md\n"
    }
   },
   "source": [
    "#### Среднее квадратичное отклонение"
   ]
  },
  {
   "cell_type": "code",
   "execution_count": 2,
   "id": "7b26e8ca-4182-4d5e-a48d-a91ebe09d4db",
   "metadata": {
    "collapsed": false,
    "jupyter": {
     "outputs_hidden": false
    },
    "pycharm": {
     "name": "#%%\n"
    }
   },
   "outputs": [
    {
     "data": {
      "text/plain": [
       "30.823854398825596"
      ]
     },
     "execution_count": 2,
     "metadata": {},
     "output_type": "execute_result"
    }
   ],
   "source": [
    "s2_sum = 0\n",
    "for number in array:\n",
    "    s2_sum = s2_sum + ((number - x_sr) ** 2)\n",
    "s2 = (s2_sum/n) ** 0.5\n",
    "s2"
   ]
  },
  {
   "cell_type": "markdown",
   "id": "cbacf484-23ad-4651-bdba-a5816c84ecff",
   "metadata": {
    "pycharm": {
     "name": "#%% md\n"
    }
   },
   "source": [
    "#### Смещенную и несмещенную оценки дисперсий для данной выборки"
   ]
  },
  {
   "cell_type": "code",
   "execution_count": 3,
   "id": "9c97cf5f-8a68-4e88-b722-e325f7d61b08",
   "metadata": {
    "collapsed": false,
    "jupyter": {
     "outputs_hidden": false
    },
    "pycharm": {
     "name": "#%%\n"
    }
   },
   "outputs": [
    {
     "data": {
      "text/plain": [
       "30.823854398825596"
      ]
     },
     "execution_count": 3,
     "metadata": {},
     "output_type": "execute_result"
    }
   ],
   "source": [
    "std_s = (s2_sum/n) ** 0.5\n",
    "std_s"
   ]
  },
  {
   "cell_type": "code",
   "execution_count": 4,
   "id": "4028ff89-dd63-4994-9e06-f728c1ce998b",
   "metadata": {
    "collapsed": false,
    "jupyter": {
     "outputs_hidden": false
    },
    "pycharm": {
     "name": "#%%\n"
    }
   },
   "outputs": [
    {
     "data": {
      "text/plain": [
       "31.624607341019814"
      ]
     },
     "execution_count": 4,
     "metadata": {},
     "output_type": "execute_result"
    }
   ],
   "source": [
    "std_ns = (s2_sum/(n-1)) ** 0.5\n",
    "std_ns"
   ]
  },
  {
   "cell_type": "markdown",
   "id": "75e0c619-03ff-4f81-a04d-f08f2ebc8ada",
   "metadata": {},
   "source": [
    "## Задание 2\n",
    "В первом ящике находится 8 мячей, из которых 5 - белые. Во втором ящике - 12 мячей, из которых 5 белых.\n",
    "Из первого ящика вытаскивают случайным образом два мяча, из второго - 4.\n",
    "Какова вероятность того, что 3 мяча белые?\n",
    "\n",
    "Варианты вытащить 2 белых шара:\n",
    "- 2 белых из первого и 1 белый и 3 обычных из второго\n",
    "- 1 белый и 1 обычный из первого и 2 белых и 2 обычных из второго\n",
    "- 0 белых и 2 обычных из первого и 3 белых и 1 обычный из второго\n",
    "- 0 белых и 2 обычных из первого и 4 белых из второго"
   ]
  },
  {
   "cell_type": "code",
   "execution_count": 5,
   "id": "0c332f2d-b623-4123-9249-c04129388b56",
   "metadata": {
    "collapsed": false,
    "jupyter": {
     "outputs_hidden": false
    },
    "pycharm": {
     "name": "#%%\n"
    }
   },
   "outputs": [
    {
     "data": {
      "text/plain": [
       "0.055239898989898985"
      ]
     },
     "execution_count": 5,
     "metadata": {},
     "output_type": "execute_result"
    }
   ],
   "source": [
    "p2_1 = 5/8 * 4/7 * 5/12 * 7/11 * 6/10 * 5/9\n",
    "p2_2 = 5/8 * 3/7 * 5/12 * 4/11 * 7/10 * 6/9\n",
    "p2_3 = 3/8 * 2/7 * 5/12 * 4/11 * 3/10 * 7/9\n",
    "p2_4 = 3/8 * 2/8 * 5/12 * 4/11 * 3/10 * 2/9\n",
    "P2 = p2_1 + p2_2 + p2_3 + p2_4\n",
    "P2"
   ]
  },
  {
   "cell_type": "markdown",
   "id": "25a5048e-5659-4424-899c-b5023eb89cf1",
   "metadata": {
    "pycharm": {
     "name": "#%% md\n"
    }
   },
   "source": [
    "## Задание 3\n",
    "На соревновании по биатлону один из трех спортсменов стреляет и попадает в мишень.\n",
    "Вероятность попадания для первого спортсмена равна 0.9, для второго — 0.8, для третьего — 0.6.\n",
    "Найти вероятность того, что выстрел произведен:\n",
    "- первым спортсменом\n",
    "- вторым спортсменом\n",
    "- третьим спортсменом.\n",
    "\n",
    "Событие А - попадание в мишень.\n",
    "\n",
    "B1, B2, B3 - выстрелы спортсменом 1, 2 и 3 соответсвенно = 1/3"
   ]
  },
  {
   "cell_type": "code",
   "execution_count": 6,
   "id": "87d8e4d6-9cff-4209-b328-c1b46a3f188e",
   "metadata": {
    "collapsed": false,
    "jupyter": {
     "outputs_hidden": false
    },
    "pycharm": {
     "name": "#%%\n"
    }
   },
   "outputs": [],
   "source": [
    "z3_p1 = 0.9\n",
    "z3_p2 = 0.8\n",
    "z3_p3 = 0.6\n",
    "z3_B1 = 1/3\n",
    "z3_B2 = 1/3\n",
    "z3_B3 = 1/3"
   ]
  },
  {
   "cell_type": "markdown",
   "id": "3ced5661-2448-4a8c-8b45-aae0ac4d51a5",
   "metadata": {
    "pycharm": {
     "name": "#%% md\n"
    }
   },
   "source": [
    "Найдем вероятность попадания в мишень:"
   ]
  },
  {
   "cell_type": "code",
   "execution_count": 7,
   "id": "e4aa5b23-a7c8-4ed2-bcfa-257e570566c5",
   "metadata": {
    "collapsed": false,
    "jupyter": {
     "outputs_hidden": false
    },
    "pycharm": {
     "name": "#%%\n"
    }
   },
   "outputs": [
    {
     "data": {
      "text/plain": [
       "0.7666666666666666"
      ]
     },
     "execution_count": 7,
     "metadata": {},
     "output_type": "execute_result"
    }
   ],
   "source": [
    "z3_PA = z3_B1 * z3_p1 + z3_B2 * z3_p2 + z3_B3 * z3_p3\n",
    "z3_PA"
   ]
  },
  {
   "cell_type": "markdown",
   "id": "fe41a046-9c3d-4f42-8010-bec611c016ed",
   "metadata": {
    "pycharm": {
     "name": "#%% md\n"
    }
   },
   "source": [
    "Найдем вероятность того, что выстрел произведен первым спортсменом:"
   ]
  },
  {
   "cell_type": "code",
   "execution_count": 8,
   "id": "c6d9d4e1-f92e-4a27-8d2d-593c58665b0b",
   "metadata": {
    "collapsed": false,
    "jupyter": {
     "outputs_hidden": false
    },
    "pycharm": {
     "name": "#%%\n"
    }
   },
   "outputs": [
    {
     "data": {
      "text/plain": [
       "0.391304347826087"
      ]
     },
     "execution_count": 8,
     "metadata": {},
     "output_type": "execute_result"
    }
   ],
   "source": [
    "z3_PB1A = (z3_B1 * z3_p1)/z3_PA\n",
    "z3_PB1A"
   ]
  },
  {
   "cell_type": "markdown",
   "id": "146cbecd-f27f-4ca4-b13a-02f217cd40d5",
   "metadata": {},
   "source": [
    "Найдем вероятность того, что выстрел произведен вторым спортсменом:"
   ]
  },
  {
   "cell_type": "code",
   "execution_count": 9,
   "id": "1f851c08-483c-4139-99c6-54f0291cafc5",
   "metadata": {
    "collapsed": false,
    "jupyter": {
     "outputs_hidden": false
    },
    "pycharm": {
     "name": "#%%\n"
    }
   },
   "outputs": [
    {
     "data": {
      "text/plain": [
       "0.3478260869565218"
      ]
     },
     "execution_count": 9,
     "metadata": {},
     "output_type": "execute_result"
    }
   ],
   "source": [
    "z3_PB2A = (z3_B2 * z3_p2)/z3_PA\n",
    "z3_PB2A"
   ]
  },
  {
   "cell_type": "markdown",
   "id": "2bff296a-6eff-46df-a908-9eb115fccdf6",
   "metadata": {},
   "source": [
    "Найдем вероятность того, что выстрел произведен третьим спортсменом:"
   ]
  },
  {
   "cell_type": "code",
   "execution_count": 10,
   "id": "989855b8-60c4-41ae-b78e-ac5f9ec52c3c",
   "metadata": {
    "collapsed": false,
    "jupyter": {
     "outputs_hidden": false
    },
    "pycharm": {
     "name": "#%%\n"
    }
   },
   "outputs": [
    {
     "data": {
      "text/plain": [
       "0.2608695652173913"
      ]
     },
     "execution_count": 10,
     "metadata": {},
     "output_type": "execute_result"
    }
   ],
   "source": [
    "z3_PB3A = (z3_B3 * z3_p3)/z3_PA\n",
    "z3_PB3A"
   ]
  },
  {
   "cell_type": "markdown",
   "id": "41b7f9b1-7483-42d3-ab35-e530ef27833e",
   "metadata": {
    "pycharm": {
     "name": "#%% md\n"
    }
   },
   "source": [
    "## Задание 4\n",
    "В университет на факультеты A и B поступило равное количество студентов, а на факультет C студентов поступило столько же, сколько на A и B вместе.\n",
    "Вероятность того, что студент факультета A сдаст первую сессию, равна 0.8.\n",
    "Для студента факультета B эта вероятность равна 0.7, а для студента факультета C - 0.9.\n",
    "Студент сдал первую сессию.\n",
    "Какова вероятность, что он учится:\n",
    "- на факультете A\n",
    "- на факультете B\n",
    "- на факультете C?\n",
    "\n",
    "Событие А - сдача сессии.\n",
    "\n",
    "B1, B2, B3 - сдача сессии студентами факультета А, В и С соответсвенно."
   ]
  },
  {
   "cell_type": "code",
   "execution_count": 11,
   "id": "bfe70be9-e721-4a97-90c3-21a5c1b4300e",
   "metadata": {
    "collapsed": false,
    "jupyter": {
     "outputs_hidden": false
    },
    "pycharm": {
     "name": "#%%\n"
    }
   },
   "outputs": [],
   "source": [
    "z4_p1 = 0.8\n",
    "z4_p2 = 0.7\n",
    "z4_p3 = 0.9\n",
    "z4_B1 = 1/4\n",
    "z4_B2 = 1/4\n",
    "z4_B3 = 2/4"
   ]
  },
  {
   "cell_type": "markdown",
   "id": "57d40bfc-1e3b-4582-8b0e-96186a22d9f9",
   "metadata": {
    "pycharm": {
     "name": "#%% md\n"
    }
   },
   "source": [
    "Найдем вероятность сдачи экзамена:"
   ]
  },
  {
   "cell_type": "code",
   "execution_count": 12,
   "id": "934e0512-8b30-48be-9607-cb12cac25bee",
   "metadata": {
    "collapsed": false,
    "jupyter": {
     "outputs_hidden": false
    },
    "pycharm": {
     "name": "#%%\n"
    }
   },
   "outputs": [],
   "source": [
    "z4_PA = z4_B1 * z4_p1 + z4_B2 * z4_p2 + z4_B3 * z4_p3"
   ]
  },
  {
   "cell_type": "markdown",
   "id": "2634c0b0-4072-4ed7-8fa7-8e8b9e4aa90e",
   "metadata": {},
   "source": [
    "Найдем вероятность того, что студент сдавший сессию учится на факультете А:"
   ]
  },
  {
   "cell_type": "code",
   "execution_count": 13,
   "id": "b9bd9f27-34c1-4a45-a5fe-14e4ef96483a",
   "metadata": {
    "collapsed": false,
    "jupyter": {
     "outputs_hidden": false
    },
    "pycharm": {
     "name": "#%%\n"
    }
   },
   "outputs": [
    {
     "data": {
      "text/plain": [
       "0.24242424242424246"
      ]
     },
     "execution_count": 13,
     "metadata": {},
     "output_type": "execute_result"
    }
   ],
   "source": [
    "z4_PB1A = (z4_B1 * z4_p1)/z4_PA\n",
    "z4_PB1A"
   ]
  },
  {
   "cell_type": "markdown",
   "id": "5fdb8a1f-9d28-410b-ba5a-8b11952acdc3",
   "metadata": {},
   "source": [
    "Найдем вероятность того, что студент сдавший сессию учится на факультете В:"
   ]
  },
  {
   "cell_type": "code",
   "execution_count": 14,
   "id": "1c2344d0-0af1-4b6a-940d-e60446d642be",
   "metadata": {
    "collapsed": false,
    "jupyter": {
     "outputs_hidden": false
    },
    "pycharm": {
     "name": "#%%\n"
    }
   },
   "outputs": [
    {
     "data": {
      "text/plain": [
       "0.21212121212121213"
      ]
     },
     "execution_count": 14,
     "metadata": {},
     "output_type": "execute_result"
    }
   ],
   "source": [
    "z4_PB2A = (z4_B2 * z4_p2)/z4_PA\n",
    "z4_PB2A"
   ]
  },
  {
   "cell_type": "markdown",
   "id": "fbc55afd-895f-4bdc-a75d-405c3f619082",
   "metadata": {},
   "source": [
    "Найдем вероятность того, что студент сдавший сессию учится на факультете С:"
   ]
  },
  {
   "cell_type": "code",
   "execution_count": 15,
   "id": "9e6cc7fb-0cd5-4b1e-a67c-f4c59657741c",
   "metadata": {
    "collapsed": false,
    "jupyter": {
     "outputs_hidden": false
    },
    "pycharm": {
     "name": "#%%\n"
    }
   },
   "outputs": [
    {
     "data": {
      "text/plain": [
       "0.5454545454545455"
      ]
     },
     "execution_count": 15,
     "metadata": {},
     "output_type": "execute_result"
    }
   ],
   "source": [
    "z4_PB3A = (z4_B3 * z4_p3)/z4_PA\n",
    "z4_PB3A"
   ]
  },
  {
   "cell_type": "markdown",
   "id": "cffd4e28-3b6a-4689-a1c4-2f4338c7bcc5",
   "metadata": {
    "pycharm": {
     "name": "#%% md\n"
    }
   },
   "source": [
    "## Задание 5\n",
    "Устройство состоит из трех деталей.\n",
    "Для первой детали вероятность выйти из строя в первый месяц равна 0.1, для второй - 0.2, для третьей - 0.25.\n",
    "Какова вероятность того, что в первый месяц выйдут из строя:\n",
    "- все детали\n",
    "- только две детали\n",
    "- хотя бы одна деталь\n",
    "- от одной до двух деталей?"
   ]
  },
  {
   "cell_type": "code",
   "execution_count": 16,
   "id": "53b0b57f-ce93-4b87-aad9-e1e32e2d00cd",
   "metadata": {
    "collapsed": false,
    "jupyter": {
     "outputs_hidden": false
    },
    "pycharm": {
     "name": "#%%\n"
    }
   },
   "outputs": [],
   "source": [
    "z5_p1 = 0.1\n",
    "z5_p2 = 0.2\n",
    "z5_p3 = 0.25\n",
    "z5_q1 = 1 - z5_p1\n",
    "z5_q2 = 1 - z5_p2\n",
    "z5_q3 = 1 - z5_p3"
   ]
  },
  {
   "cell_type": "markdown",
   "id": "cbda5f66-9ee9-4c7b-89ae-5dd523ffa5db",
   "metadata": {
    "pycharm": {
     "name": "#%% md\n"
    }
   },
   "source": [
    "#### Какова вероятность того, что в первый месяц выйдут из строя все детали\n",
    "решение: первая и вторая и третья"
   ]
  },
  {
   "cell_type": "code",
   "execution_count": 17,
   "id": "4ce667e9-58a9-46fe-a544-3316b6436f64",
   "metadata": {
    "collapsed": false,
    "jupyter": {
     "outputs_hidden": false
    },
    "pycharm": {
     "name": "#%%\n"
    }
   },
   "outputs": [
    {
     "data": {
      "text/plain": [
       "0.005000000000000001"
      ]
     },
     "execution_count": 17,
     "metadata": {},
     "output_type": "execute_result"
    }
   ],
   "source": [
    "z5P1 = z5_p1 * z5_p2 * z5_p3\n",
    "z5P1\n"
   ]
  },
  {
   "cell_type": "markdown",
   "id": "503ae80a-ba0c-403e-b78b-bc41762563ee",
   "metadata": {},
   "source": [
    "#### Какова вероятность того, что в первый месяц выйдут из строя только две детали\n",
    "решение: или первая и вторая, или первая и третья, или вторая и третья"
   ]
  },
  {
   "cell_type": "code",
   "execution_count": 18,
   "id": "7f944d56-dbe9-459a-ad80-8a9884019bd7",
   "metadata": {
    "collapsed": false,
    "jupyter": {
     "outputs_hidden": false
    },
    "pycharm": {
     "name": "#%%\n"
    }
   },
   "outputs": [
    {
     "data": {
      "text/plain": [
       "0.08000000000000002"
      ]
     },
     "execution_count": 18,
     "metadata": {},
     "output_type": "execute_result"
    }
   ],
   "source": [
    "z5P2 = (z5_p1 * z5_p2 * z5_q3) + (z5_p1 * z5_q2 * z5_p3) + (z5_q1 * z5_p2 * z5_p3)\n",
    "z5P2"
   ]
  },
  {
   "cell_type": "markdown",
   "id": "d6fdbe53-e9b3-4c48-bd68-31153bdbbed8",
   "metadata": {},
   "source": [
    "#### Какова вероятность того, что в первый месяц выйдет из строя хотя бы одна деталь\n",
    "решение: от 100% отнимем вероятность, когда все 3 не вышли из строя (вероятность наступления противоположного события)"
   ]
  },
  {
   "cell_type": "code",
   "execution_count": 19,
   "id": "7fb93e92-ac04-4cf5-a23b-25f5a697ecd6",
   "metadata": {
    "collapsed": false,
    "jupyter": {
     "outputs_hidden": false
    },
    "pycharm": {
     "name": "#%%\n"
    }
   },
   "outputs": [
    {
     "data": {
      "text/plain": [
       "0.45999999999999996"
      ]
     },
     "execution_count": 19,
     "metadata": {},
     "output_type": "execute_result"
    }
   ],
   "source": [
    "z5P3 = 1 - (z5_q1 * z5_q2 * z5_q3)\n",
    "z5P3"
   ]
  },
  {
   "cell_type": "markdown",
   "id": "a9f31d24-0c66-4b8f-b05b-d45658e7a015",
   "metadata": {},
   "source": [
    "#### Какова вероятность того, что в первый месяц выйдут из строя от одной до двух деталей\n",
    "решение: от 100% отнимем вероятность, когда все три вышли из строя и когда все три не вышли из строя"
   ]
  },
  {
   "cell_type": "code",
   "execution_count": 20,
   "id": "96f9a09c-ba9e-4e79-aac7-77fc0ba3aa9c",
   "metadata": {
    "collapsed": false,
    "jupyter": {
     "outputs_hidden": false
    },
    "pycharm": {
     "name": "#%%\n"
    }
   },
   "outputs": [
    {
     "data": {
      "text/plain": [
       "0.45499999999999996"
      ]
     },
     "execution_count": 20,
     "metadata": {},
     "output_type": "execute_result"
    }
   ],
   "source": [
    "z5P4 = 1 - (z5_p1 * z5_p2 * z5_p3) - (z5_q1 * z5_q2 * z5_q3)\n",
    "z5P4"
   ]
  },
  {
   "cell_type": "code",
   "execution_count": null,
   "id": "45019917-0325-4443-9469-8dcc159fd356",
   "metadata": {},
   "outputs": [],
   "source": []
  },
  {
   "cell_type": "code",
   "execution_count": null,
   "id": "9f776a0f-25f6-4f31-9c51-bfa6016a9116",
   "metadata": {},
   "outputs": [],
   "source": []
  },
  {
   "cell_type": "code",
   "execution_count": null,
   "id": "4220ed56-8d39-442b-9944-fed40ebf5061",
   "metadata": {},
   "outputs": [],
   "source": []
  },
  {
   "cell_type": "code",
   "execution_count": null,
   "id": "2697f344-ff8d-4d22-bfb1-b0f9ada99f19",
   "metadata": {},
   "outputs": [],
   "source": []
  },
  {
   "cell_type": "code",
   "execution_count": null,
   "id": "06c1220c-f315-4de6-a60f-fa33da7e71f9",
   "metadata": {},
   "outputs": [],
   "source": []
  },
  {
   "cell_type": "code",
   "execution_count": null,
   "id": "0d7837ac-ef5d-4e83-b3b7-3d67b3bcd0f6",
   "metadata": {},
   "outputs": [],
   "source": []
  },
  {
   "cell_type": "code",
   "execution_count": null,
   "id": "84ddfefe-dd65-47d0-8f6f-feb4bdfec5ab",
   "metadata": {},
   "outputs": [],
   "source": []
  },
  {
   "cell_type": "code",
   "execution_count": null,
   "id": "be10f7b7-2a90-48f0-842c-e0002bea40cd",
   "metadata": {},
   "outputs": [],
   "source": []
  },
  {
   "cell_type": "code",
   "execution_count": null,
   "id": "f340f1bc-369c-4953-aef9-245e24f8cd18",
   "metadata": {},
   "outputs": [],
   "source": []
  }
 ],
 "metadata": {
  "kernelspec": {
   "display_name": "Python 3",
   "language": "python",
   "name": "python3"
  },
  "language_info": {
   "codemirror_mode": {
    "name": "ipython",
    "version": 3
   },
   "file_extension": ".py",
   "mimetype": "text/x-python",
   "name": "python",
   "nbconvert_exporter": "python",
   "pygments_lexer": "ipython3",
   "version": "3.9.4"
  }
 },
 "nbformat": 4,
 "nbformat_minor": 5
}

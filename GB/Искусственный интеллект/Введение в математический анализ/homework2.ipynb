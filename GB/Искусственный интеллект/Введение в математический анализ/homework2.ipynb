{
 "cells": [
  {
   "cell_type": "markdown",
   "metadata": {},
   "source": [
    "### 1. Как относятся друг к другу множество и последовательность? (в ответе использовать слова типа: часть, целое, общее, частное, родитель, дочерний субъект и т.д.)\n"
   ]
  },
  {
   "cell_type": "markdown",
   "metadata": {},
   "source": [
    "Множество -  это совокупность каких-то элементов, собранных по какому-то объединяющему признаку, которые могут быть как упорядочены, так и нет. Последовательность - это частный случай множества, иными словами -  упорядоченное множество, в котором каждому натуральному числу соответсвует элемент и для любого элемента можно записать следующий элемент.\n",
    "\n"
   ]
  },
  {
   "cell_type": "markdown",
   "metadata": {},
   "source": [
    "### 2. Даны 4 последовательности. Необходимо:\n",
    "###        а) исследовать их на монотонность; \n",
    "###        б) исследовать на ограниченность;\n",
    "###        в) найти пятый по счету член."
   ]
  },
  {
   "cell_type": "markdown",
   "metadata": {},
   "source": [
    "####       $1.\\,\\,\\,\\{a_n\\}_{n=1}^\\infty=2^n-n$\n",
    "####       $2.\\,\\,\\,\\{b_n\\}_{n=2}^\\infty=\\frac{1}{1 - n}$\n",
    "####       $3.\\,\\,\\,\\{c_n\\}_{n=1}^\\infty=(-1)^n + \\sqrt{2n}$\n",
    "####       $4.\\,\\,\\,\\{d_n\\}_{n=1}^\\infty=(-1)^{2n} + \\frac{1}{n^2}$"
   ]
  },
  {
   "cell_type": "markdown",
   "metadata": {},
   "source": [
    "------------------------------------------\n",
    "####  $$2.1 \\,\\,\\,\\{a_n\\}_{n=1}^\\infty=2^n-n$$  \n",
    "\n",
    "a. Последовательность возрастает  \n",
    "\n",
    "b. Последовательность неограничена\n",
    "\n",
    "c. $a_5 = 2^5 - 5 = 27$"
   ]
  },
  {
   "cell_type": "markdown",
   "metadata": {},
   "source": [
    "#### $$2.2\\,\\,\\,\\{b_n\\}_{n=2}^\\infty=\\frac{1}{1 - n}$$ \n",
    "\n",
    "a. Последовательность возрастает  \n",
    "\n",
    "b. Последовательность ограничена $0$:  \n",
    "\n",
    "c. $b_5 = \\frac{1}{1 - 5} = -\\frac{1}{4}$\n"
   ]
  },
  {
   "cell_type": "markdown",
   "metadata": {},
   "source": [
    "#### $$2.3\\,\\,\\,\\{c_n\\}_{n=1}^\\infty=(-1)^n + \\sqrt{2n}$$\n",
    "\n",
    "a. Последовательность возрастает  \n",
    "\n",
    "b. Последовательность неограничена  \n",
    "\n",
    "c. $c_5 = (-1)^5 + \\sqrt{2\\cdot 5} = -1+ \\sqrt{10} \\approx 2,16$"
   ]
  },
  {
   "cell_type": "markdown",
   "metadata": {},
   "source": [
    "#### $$2.4\\,\\,\\,\\{d_n\\}_{n=1}^\\infty=(-1)^{2n} + \\frac{1}{n^2}$$  \n",
    "\n",
    "a. Последовательность убывает \n",
    "\n",
    "b. Последовательность ограничена $1$:  \n",
    "\n",
    "\n",
    "c. $d_5 = (-1)^{10} + \\frac{1}{5^2} = 1 + \\frac{1}{25} = 1,04$"
   ]
  },
  {
   "cell_type": "markdown",
   "metadata": {},
   "source": [
    "### 3. Найти 12-й член заданной неявно последовательности\n"
   ]
  },
  {
   "cell_type": "markdown",
   "metadata": {},
   "source": [
    "#### $$a_1 = 128, a_{n+1} - a_n = 6$$"
   ]
  },
  {
   "cell_type": "markdown",
   "metadata": {},
   "source": [
    "$a_{n+1} = a_n + 6$\n",
    "\n",
    "$a_{1 + 11} = 128 + 6*11 = 128 + 66 = 194$\n",
    "\n",
    "$a_{12} = 194$"
   ]
  },
  {
   "cell_type": "markdown",
   "metadata": {},
   "source": [
    "### 4. *На языке Python предложить алгоритм вычисляющий численно предел с точностью $\\varepsilon = 10^{-7}$"
   ]
  },
  {
   "cell_type": "markdown",
   "metadata": {},
   "source": [
    "#### $$\\lim_{n\\to \\infty} \\frac{n}{\\sqrt[n]{n!}}$$"
   ]
  },
  {
   "cell_type": "code",
   "execution_count": 65,
   "metadata": {},
   "outputs": [],
   "source": [
    "import math\n",
    "import random\n",
    "from sympy import factorial\n",
    "def f_lim(n):\n",
    "    return n / pow(factorial(n), 1 / n)"
   ]
  },
  {
   "cell_type": "code",
   "execution_count": 68,
   "metadata": {},
   "outputs": [
    {
     "name": "stdout",
     "output_type": "stream",
     "text": [
      "Количество итераций: 11779\n",
      "Вычисленный предел = 2.71698832372746\n",
      "CPU times: user 27 s, sys: 28.7 ms, total: 27 s\n",
      "Wall time: 27.1 s\n"
     ]
    }
   ],
   "source": [
    "%%time\n",
    "eps = 10 ** -7\n",
    "i = 1\n",
    "n = 1\n",
    "x0 = f_lim(n)\n",
    "while True:\n",
    "    i += 1\n",
    "    n += 1\n",
    "    x1 = f_lim(n)\n",
    "    if abs(x0 - x1) <= eps:\n",
    "        break\n",
    "    x0 = x1\n",
    "print(f'Количество итераций: {i}')\n",
    "print(f'Вычисленный предел = {x0}')\n"
   ]
  },
  {
   "cell_type": "markdown",
   "metadata": {},
   "source": [
    "### 5. *Предложить оптимизацию алгоритма, полученного в задании 4, ускоряющую его сходимость.\n"
   ]
  },
  {
   "cell_type": "code",
   "execution_count": 69,
   "metadata": {},
   "outputs": [
    {
     "name": "stdout",
     "output_type": "stream",
     "text": [
      "Количество итераций: 354\n",
      "Вычисленный предел = 2.71738638842485\n",
      "CPU times: user 1.33 s, sys: 3.64 ms, total: 1.33 s\n",
      "Wall time: 1.33 s\n"
     ]
    }
   ],
   "source": [
    "%%time\n",
    "eps = 10 ** -7\n",
    "i = 1\n",
    "n = 1\n",
    "x0 = f_lim(n)\n",
    "while True:\n",
    "    i += 1\n",
    "    n += random.randint(1, 100)\n",
    "    x1 = f_lim(n)\n",
    "    if abs(x0 - x1) <= eps:\n",
    "        break\n",
    "    x0 = x1\n",
    "print(f'Количество итераций: {i}')\n",
    "print(f'Вычисленный предел = {x0}')\n",
    "\n"
   ]
  },
  {
   "cell_type": "markdown",
   "metadata": {},
   "source": [
    "Изменение шага итерации позволило значительно ускорить время вычисления предела путем сокращения количества итераций. Точность вычисления предела сохранена до тысячной. При необходимости увеличения точности нуобходимо будет уменьшать диапазон изменения шага итерации и искать баланс между точностью и скоростью вычисления."
   ]
  },
  {
   "cell_type": "code",
   "execution_count": null,
   "metadata": {},
   "outputs": [],
   "source": []
  }
 ],
 "metadata": {
  "kernelspec": {
   "display_name": "Python 3",
   "language": "python",
   "name": "python3"
  },
  "language_info": {
   "codemirror_mode": {
    "name": "ipython",
    "version": 3
   },
   "file_extension": ".py",
   "mimetype": "text/x-python",
   "name": "python",
   "nbconvert_exporter": "python",
   "pygments_lexer": "ipython3",
   "version": "3.9.4"
  }
 },
 "nbformat": 4,
 "nbformat_minor": 4
}

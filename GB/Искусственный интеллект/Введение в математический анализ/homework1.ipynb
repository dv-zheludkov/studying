{
 "cells": [
  {
   "cell_type": "code",
   "execution_count": 1,
   "metadata": {},
   "outputs": [],
   "source": [
    "import numpy as np"
   ]
  },
  {
   "cell_type": "markdown",
   "metadata": {},
   "source": [
    "#### 1. Прочитать высказывания математической логики, построить их отрицания и установить истинность."
   ]
  },
  {
   "cell_type": "markdown",
   "metadata": {},
   "source": [
    "<img src=\"hm1.png\">"
   ]
  },
  {
   "cell_type": "raw",
   "metadata": {},
   "source": []
  },
  {
   "cell_type": "markdown",
   "metadata": {},
   "source": [
    "1) Для любого $y$ принадлежащего отрезку от 0 до 1, функция сигнум $y$ равна 1.\n",
    "    \n",
    "    Отрицание: существует $у$ принадлежащий отрезку от 0 до 1, при котором  функция сигнум $y$ не равна 1\n",
    "$$\\exists y \\in [0;1] : sgn(y) \\neq 1$$\n",
    "\n",
    "    Истинность: Ложь"
   ]
  },
  {
   "cell_type": "markdown",
   "metadata": {},
   "source": [
    "2) Для любого $n$ принадлежащему натуральным числам, которые больше 2, найдутся $x, y$ и $z$ принадлежащие натуральным числам, при которых $x$ в степени $n$ равно $y$ в степени $n$ плюс $z$ в степени $n$\n",
    "\n",
    "    Отрицание: Cуществует натуральное $n$, которые больше 2, при котором для любых натуральных $x, y$ или $z$, справедливо неравенство $x$ в степени $n$ не равно $y$ в степени $n$ плюс $z$ в степени $n$\n",
    "$$\\exists n \\in N > 2 : \\forall x,y,z \\in N : x^n \\neq y^n + z^n$$\n",
    "\n",
    "    Истинность: Ложь"
   ]
  },
  {
   "cell_type": "markdown",
   "metadata": {},
   "source": [
    "3) Для любого $x$ принадлежащего действительным числам существует $X$ большое принадлежащее дествительным числам, которое больше $x$\n",
    "\n",
    "    Отрицание: Существует действительное $x$ при котором найдётся действительное $X$ большое, которое меньше или равено $x$\n",
    "$$\\exists x \\in R \\forall X \\in R : X \\leq x$$\n",
    "\n",
    "    Истинность: истина"
   ]
  },
  {
   "cell_type": "markdown",
   "metadata": {},
   "source": [
    "4) Для любого $x$ принадлежащего комплексным числам не существует $y$ принадлежащий комплексным числам, при котором $x$ больше $y$ или $x$ меньше $y$\n",
    "\n",
    "    Отрицание: Cуществуют комплексные числа $x$ и $y$, при которых $x$ меньше или равно $y$ и $x$ больше или равно $y$\n",
    "$$\\exists x, y \\in C : x \\leq y\\| x \\geq y$$\n",
    "\n",
    "    Истинность: истина"
   ]
  },
  {
   "cell_type": "markdown",
   "metadata": {},
   "source": [
    "5) Для любого $y$ из отрезка от 0 до $\\pi$ деленного на 2 существует положительный $\\varepsilon$, при котором $\\sin y$  меньше функции $sin$ в которой $y$ плюс $\\varepsilon$\n",
    "\n",
    "    Отрицание: Существует $y$ из отрезка от 0 до $\\pi$ деленное на 2 для которого любой положительный $\\varepsilon$, при котором $\\sin y$ больше или равен функции $sin$ в которой $y$ плюс $\\varepsilon$ \n",
    "$$\\exists y \\in \\left[ 0; \\frac{\\pi}{2} \\right] \\forall \\varepsilon > 0 : \\sin y \\geq \\sin(y + \\varepsilon)$$\n",
    "\n",
    "    Истинность: ложь"
   ]
  },
  {
   "cell_type": "markdown",
   "metadata": {},
   "source": [
    "6) Для любого $y$ в полуинтервале от 0 до $\\pi$ существует положительный $\\varepsilon$, при котором $\\cos y$ больше функции $\\cos y$ плюс $\\varepsilon$\n",
    "\n",
    "    Отрицание: Существует $y$ в полуинтервале от 0 до $\\pi$ для которого любой положительный $\\varepsilon$, при котором $\\cos y$ меньше или равно функции $\\cos$ в которй $y$ плюс $\\varepsilon$\n",
    "$$\\exists y \\in [0;\\pi) \\forall \\varepsilon > 0 : \\cos y \\leq \\cos(y+\\varepsilon)$$\n",
    "\n",
    "    Истинность: истина"
   ]
  },
  {
   "cell_type": "markdown",
   "metadata": {},
   "source": [
    "7) Существует $x$ при котором $x$ не принадлежит к множеству из натуральных, целых, рациональных, вещественных и комплексных чисел\n",
    "\n",
    "    Отрицание: Любое $x$ является таким, что $x$ принадлежит к множеству из натуральных, целых, рациональных, вещественных и комплексных чисел\n",
    "$$\\forall x : x \\in \\{N, Z, Q, R, C\\}$$\n",
    "\n",
    "    Истинность: истина"
   ]
  },
  {
   "cell_type": "markdown",
   "metadata": {},
   "source": [
    "#### 2. Даны три множества A,B и C. Необходимо выполнить все изученные виды бинарных операций над всеми комбинациями множеств."
   ]
  },
  {
   "cell_type": "markdown",
   "metadata": {},
   "source": [
    "$$A \\cap B = \\{ x|x \\in A \\ \\& \\ x \\in B \\}$$\n",
    "$$A \\cup B = \\{ x|x \\in A \\ \\| \\ x \\in B \\} $$\n",
    "$$A \\setminus B = A \\cap \\bar{B} = \\{ x|x \\in A \\ \\& \\ x \\notin B \\}$$\n",
    "$$A \\Delta B = \\{ x|x \\in A \\ \\oplus \\ x \\in B \\} $$\n",
    "$$A * B = \\{(a;b)|a \\in A, b \\in B \\}$$\n",
    "\\\n",
    "$$A \\cap C = \\{ x|x \\in A \\ \\& \\ x \\in C \\}$$\n",
    "$$A \\cup C = \\{ x|x \\in A \\ \\| \\ x \\in C \\}$$\n",
    "$$A \\setminus C = A \\cap \\bar{C} = \\{ x|x \\in A \\ \\& \\ x \\notin C \\}$$\n",
    "$$A \\Delta C = \\{ x|x \\in A \\ \\oplus \\ x \\in C \\}$$\n",
    "$$A * C = \\{(a;b)|a \\in A, b \\in C \\}$$\n",
    "\\\n",
    "\\\n",
    "$$B \\cap A = \\{ x|x \\in B \\ \\& \\ x \\in A \\}$$\n",
    "$$B \\cup A = \\{ x|x \\in B \\ \\| \\ x \\in A \\}$$\n",
    "$$B \\setminus A = B \\cap \\bar{A} = \\{ x|x \\in B \\ \\& \\ x \\notin A \\}$$\n",
    "$$B \\Delta A = \\{ x|x \\in B \\ \\oplus \\ x \\in A \\}$$\n",
    "$$B * A = \\{(a;b)|a \\in B, b \\in A \\}$$\n",
    "\\\n",
    "$$B \\cap C = \\{ x|x \\in B \\ \\& \\ x \\in C \\}$$\n",
    "$$B \\cup C = \\{ x|x \\in B \\ \\| \\ x \\in C \\}$$\n",
    "$$B \\setminus C = B \\cap \\bar{C} = \\{ x|x \\in B \\ \\& \\ x \\notin C \\}$$\n",
    "$$B \\Delta C = \\{ x|x \\in B \\ \\oplus \\ x \\in C \\}$$\n",
    "$$B * C = \\{(a;b)|a \\in B, b \\in C \\}$$\n",
    "\\\n",
    "\\\n",
    "$$C \\cap A = \\{ x|x \\in C \\ \\& \\ x \\in A \\}$$\n",
    "$$C \\cup A = \\{ x|x \\in C \\ \\| \\ x \\in A \\}$$\n",
    "$$C \\setminus A = C \\cap \\bar{A} = \\{ x|x \\in B \\ \\& \\ x \\notin A \\}$$\n",
    "$$C \\Delta A = \\{ x|x \\in C \\ \\oplus \\ x \\in A \\}$$\n",
    "$$C * A = \\{(a;b)|a \\in C, b \\in A \\}$$\n",
    "\\\n",
    "$$C \\cap B = \\{ x|x \\in C \\ \\& \\ x \\in B \\}$$\n",
    "$$C \\cup B = \\{ x|x \\in C \\ \\| \\ x \\in B \\} $$\n",
    "$$C \\setminus B = C \\cap \\bar{B} = \\{ x|x \\in C \\ \\& \\ x \\notin B \\}$$\n",
    "$$C \\Delta B = \\{ x|x \\in C \\ \\oplus \\ x \\in B \\} $$\n",
    "$$C * B = \\{(a;b)|a \\in C, b \\in B \\}$$"
   ]
  },
  {
   "cell_type": "markdown",
   "metadata": {},
   "source": [
    "#### 3. *Выполнить задание 2 на языке Python"
   ]
  },
  {
   "cell_type": "code",
   "execution_count": 2,
   "metadata": {},
   "outputs": [],
   "source": [
    "nums = np.arange(1, 10)\n",
    "\n",
    "a = set(n for n in nums if n % 2 != 0), 'a'\n",
    "b = set(np.random.choice(nums, 7)), 'b'\n",
    "c = {()}, 'c'"
   ]
  },
  {
   "cell_type": "code",
   "execution_count": 3,
   "metadata": {},
   "outputs": [
    {
     "name": "stdout",
     "output_type": "stream",
     "text": [
      "\"a\" union \"b\" : {1, 2, 3, 5, 6, 7, 8, 9}\n",
      "\"a\" intersection \"b\" : {9, 7}\n",
      "\"a\" difference \"b\" : {1, 3, 5}\n",
      "\"a\" symmetric_difference \"b\" : {1, 2, 3, 5, 6, 8}\n",
      "\n",
      "\"a\" union \"c\" : {1, 3, 5, 7, 9, ()}\n",
      "\"a\" intersection \"c\" : set()\n",
      "\"a\" difference \"c\" : {1, 3, 5, 7, 9}\n",
      "\"a\" symmetric_difference \"c\" : {1, 3, 5, 7, 9, ()}\n",
      "\n",
      "\"b\" union \"a\" : {1, 2, 3, 5, 6, 7, 8, 9}\n",
      "\"b\" intersection \"a\" : {9, 7}\n",
      "\"b\" difference \"a\" : {8, 2, 6}\n",
      "\"b\" symmetric_difference \"a\" : {1, 2, 3, 5, 6, 8}\n",
      "\n",
      "\"b\" union \"c\" : {2, 6, 7, 8, 9, ()}\n",
      "\"b\" intersection \"c\" : set()\n",
      "\"b\" difference \"c\" : {2, 6, 7, 8, 9}\n",
      "\"b\" symmetric_difference \"c\" : {2, 6, 7, 8, 9, ()}\n",
      "\n",
      "\"c\" union \"a\" : {1, 3, 5, 7, 9, ()}\n",
      "\"c\" intersection \"a\" : set()\n",
      "\"c\" difference \"a\" : {()}\n",
      "\"c\" symmetric_difference \"a\" : {1, 3, 5, 7, 9, ()}\n",
      "\n",
      "\"c\" union \"b\" : {2, 6, 7, 8, 9, ()}\n",
      "\"c\" intersection \"b\" : set()\n",
      "\"c\" difference \"b\" : {()}\n",
      "\"c\" symmetric_difference \"b\" : {2, 6, 7, 8, 9, ()}\n",
      "\n"
     ]
    }
   ],
   "source": [
    "for n1 in a,b,c:\n",
    "    for n2 in a,b,c:\n",
    "        if n1 != n2:\n",
    "            print(f'\"{n1[1]}\" union \"{n2[1]}\" : {n1[0].union(n2[0])}')\n",
    "            print(f'\"{n1[1]}\" intersection \"{n2[1]}\" : {n1[0].intersection(n2[0])}')\n",
    "            print(f'\"{n1[1]}\" difference \"{n2[1]}\" : {n1[0].difference(n2[0])}')\n",
    "            print(f'\"{n1[1]}\" symmetric_difference \"{n2[1]}\" : {n1[0].symmetric_difference(n2[0])}\\n')"
   ]
  },
  {
   "cell_type": "code",
   "execution_count": null,
   "metadata": {},
   "outputs": [],
   "source": []
  },
  {
   "cell_type": "code",
   "execution_count": null,
   "metadata": {},
   "outputs": [],
   "source": []
  }
 ],
 "metadata": {
  "kernelspec": {
   "display_name": "Python 3",
   "language": "python",
   "name": "python3"
  },
  "language_info": {
   "codemirror_mode": {
    "name": "ipython",
    "version": 3
   },
   "file_extension": ".py",
   "mimetype": "text/x-python",
   "name": "python",
   "nbconvert_exporter": "python",
   "pygments_lexer": "ipython3",
   "version": "3.9.4"
  }
 },
 "nbformat": 4,
 "nbformat_minor": 4
}

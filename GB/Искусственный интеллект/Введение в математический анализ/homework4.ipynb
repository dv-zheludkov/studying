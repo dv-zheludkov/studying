{
 "cells": [
  {
   "cell_type": "markdown",
   "id": "248150da-0dd5-4ce4-9598-12d9fc92db70",
   "metadata": {},
   "source": [
    "### Тема “Предел функции”"
   ]
  },
  {
   "cell_type": "markdown",
   "id": "b11c4cdd-c43f-45e1-887b-2b4fa35e6305",
   "metadata": {},
   "source": [
    "#### 4. Найти предел:\n",
    "\n",
    "c.      $\\displaystyle \\lim_{x \\to \\infty} (\\frac{x + 3}{x})^{4x+1}$"
   ]
  },
  {
   "cell_type": "markdown",
   "id": "0c762d7f-938d-4fd8-848b-d983fb96168a",
   "metadata": {},
   "source": [
    "$\\displaystyle \\lim_{x\\to \\infty} \\Bigr(\\frac{x+3}{x}\\Bigl)^{4x+1} = e^{\\Bigr(\\frac{x + 3}{x}\\Bigl) {4x+1}} = e^{(1 + \\frac{3}{x}) {4x+1}} = e^{12}$"
   ]
  },
  {
   "cell_type": "markdown",
   "id": "fbb8133d-70af-407d-b519-b2d46fe81ebe",
   "metadata": {},
   "source": [
    "#### 1. Найти предел"
   ]
  },
  {
   "cell_type": "markdown",
   "id": "73c4385a-66ac-4f95-8f66-f194eddb4eee",
   "metadata": {},
   "source": [
    "a.    $\\displaystyle \\lim_{x \\to 0} \\frac{sin(2x)}{4x}$"
   ]
  },
  {
   "cell_type": "markdown",
   "id": "96019fef-6ed0-4022-8d56-5cb56bf09045",
   "metadata": {},
   "source": [
    "$\\displaystyle \\lim_{x \\to 0} \\frac{sin(2x)}{4x} = \\frac{sin(2x)}{4x} = \\frac{sin(2x)}{2*2x} = \\frac{1}{2}$"
   ]
  },
  {
   "cell_type": "markdown",
   "id": "900c75ac-46c1-44aa-b0d5-0bf578b52faf",
   "metadata": {},
   "source": [
    "b.    $\\displaystyle \\lim_{x \\to 0} \\frac{x}{sin(x)}$"
   ]
  },
  {
   "cell_type": "markdown",
   "id": "0fb3bc3b-8b19-45ae-b2f1-d7d0819a3441",
   "metadata": {},
   "source": [
    "$\\displaystyle \\lim_{x \\to 0} \\frac{x}{sin(x)} = \\frac{x}{sin(x)} = 1$"
   ]
  },
  {
   "cell_type": "markdown",
   "id": "3b30ceb5-8e53-4163-968b-56b91a270def",
   "metadata": {},
   "source": [
    "c.    $\\displaystyle \\lim_{x \\to 0} \\frac{x}{arcsin(x)}$"
   ]
  },
  {
   "cell_type": "markdown",
   "id": "8976be96-a50f-48c2-8a32-4a58983e5607",
   "metadata": {},
   "source": [
    "$\\displaystyle \\lim_{x \\to 0} \\frac{x}{arcsin(x)} = \\frac{x}{arcsin(x)}$ = 1"
   ]
  },
  {
   "cell_type": "markdown",
   "id": "c7a3f229-5321-4940-a1af-fd691b89be77",
   "metadata": {},
   "source": [
    "d.     \n",
    "$\\displaystyle \\lim_{x \\to \\infty} (\\frac{4x+3}{4x-3})^{6x}$"
   ]
  },
  {
   "cell_type": "markdown",
   "id": "98584f44-dcde-497a-9eb4-89150bf638b2",
   "metadata": {},
   "source": [
    "$\\displaystyle \\lim_{x \\to \\infty} (\\frac{4x+3}{4x-3})^{6x} = (\\frac{4x+3}{4x-3})^{6x} = (1 +\\frac{6}{4x-3})^{\\frac{4}{4}(6x)} = (1 +\\frac{6}{4x-3})^{\\frac{6}{4}(4x-3)} = e^{6\\frac{6}{4}} = e^9$"
   ]
  },
  {
   "cell_type": "markdown",
   "id": "e9488a96-8bd6-485e-a4ff-fb2962d0a592",
   "metadata": {},
   "source": [
    "e.     $\\displaystyle \\lim_{x \\to \\infty} \\frac{sin(x) + ln(x)}{x}$"
   ]
  },
  {
   "cell_type": "markdown",
   "id": "581a9bb8-c9bc-46e2-96a8-8d8a8231e357",
   "metadata": {},
   "source": [
    "$\\displaystyle \\lim_{x \\to \\infty} \\frac{sin(x) + ln(x)}{x} = \\frac{sin(x) + ln(x)}{x} = 0 + 0 = 0$ "
   ]
  },
  {
   "cell_type": "markdown",
   "id": "568c41cf-280e-4d31-9493-bed8ef178560",
   "metadata": {},
   "source": [
    "f.     $\\displaystyle \\lim_{x \\to 0} \\frac{sin(x) + ln(x)}{x}$"
   ]
  },
  {
   "cell_type": "markdown",
   "id": "fdd030d6-6e7a-417f-9395-8519a941df27",
   "metadata": {},
   "source": [
    "$\\displaystyle \\lim_{x \\to 0} \\frac{sin(x) + ln(x)}{x} = \\frac{sin(x) + ln(x)}{x} = 1 + ln(x) = -\\infty$"
   ]
  },
  {
   "cell_type": "code",
   "execution_count": null,
   "id": "0e2ab1b1-1a22-4be1-b8c0-59fec4b0cc70",
   "metadata": {},
   "outputs": [],
   "source": []
  },
  {
   "cell_type": "code",
   "execution_count": null,
   "id": "07000893-b55c-4fe0-8a33-c6b00cfb6f99",
   "metadata": {},
   "outputs": [],
   "source": []
  },
  {
   "cell_type": "markdown",
   "id": "8cfa401a-dbdd-417d-9536-0c688f275518",
   "metadata": {},
   "source": [
    "### Тема “Понятие о производной”"
   ]
  },
  {
   "cell_type": "markdown",
   "id": "0e2670d5-b8b3-486f-98cc-5df898754ee0",
   "metadata": {},
   "source": [
    "#### 1. Найти производную выражения:"
   ]
  },
  {
   "cell_type": "markdown",
   "id": "474a6f46-7677-4fd6-b17c-d6a46458b784",
   "metadata": {},
   "source": [
    "a.    $sin(x) * cos(x)$"
   ]
  },
  {
   "cell_type": "markdown",
   "id": "01eae467-0807-4cee-a942-9d8e63a6b8cf",
   "metadata": {},
   "source": [
    "$(sin(x) * cos(x))' = (sin(x))'*cos(x) + (cos(x)')*sin(x) = cos^2(x) - sin^2(x) = cos(2x)$"
   ]
  },
  {
   "cell_type": "markdown",
   "id": "ce30cc04-baff-46d4-9894-0c2b682ea2d6",
   "metadata": {},
   "source": [
    "b.     $ln(2x + 1)^3$"
   ]
  },
  {
   "cell_type": "markdown",
   "id": "486b5b7a-6176-4d29-a8e2-1b48b7280dbc",
   "metadata": {},
   "source": [
    "$(ln(2x + 1)^3)' = \\frac{1}{(2x + 1)^3}((2x + 1)^3)' = \\frac{1}{(2x + 1)^3}6(2x + 1)^2 = \\frac{6}{2x + 1}$"
   ]
  },
  {
   "cell_type": "markdown",
   "id": "ca886801-dc3b-4157-aa68-4400ab3150a7",
   "metadata": {},
   "source": [
    "d.    $\\frac{x^4}{ln(x)}$"
   ]
  },
  {
   "cell_type": "markdown",
   "id": "b2554e68-3747-42a8-a786-1d69f21735c7",
   "metadata": {},
   "source": [
    "$(\\frac{x^4}{ln(x)})'  = \\frac{(x^4)'ln(x) - x^4(ln(x))'}{ln^2(x)} = \\frac{4x^3ln(x) - \\frac{x^4}{x}}{ln^2(x)} = \\frac{4x^3ln(x) - x^3}{ln^2(x)}$"
   ]
  },
  {
   "cell_type": "code",
   "execution_count": null,
   "id": "dc756cc3-1832-4553-999f-16c41cc89abb",
   "metadata": {},
   "outputs": [],
   "source": []
  },
  {
   "cell_type": "code",
   "execution_count": null,
   "id": "f339135c-39eb-4bfa-ae08-9124413ccacd",
   "metadata": {},
   "outputs": [],
   "source": []
  }
 ],
 "metadata": {
  "kernelspec": {
   "display_name": "Python 3",
   "language": "python",
   "name": "python3"
  },
  "language_info": {
   "codemirror_mode": {
    "name": "ipython",
    "version": 3
   },
   "file_extension": ".py",
   "mimetype": "text/x-python",
   "name": "python",
   "nbconvert_exporter": "python",
   "pygments_lexer": "ipython3",
   "version": "3.9.4"
  }
 },
 "nbformat": 4,
 "nbformat_minor": 5
}

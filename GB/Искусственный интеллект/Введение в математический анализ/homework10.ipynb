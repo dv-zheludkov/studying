{
 "cells": [
  {
   "cell_type": "code",
   "execution_count": 1,
   "id": "fcf8c53c-64d6-4320-869f-e431e09fd75c",
   "metadata": {},
   "outputs": [],
   "source": [
    "from matplotlib import pyplot as plt\n",
    "import numpy as np\n",
    "%matplotlib inline"
   ]
  },
  {
   "cell_type": "markdown",
   "id": "8d2d5917-dad8-4f7d-b296-953899ff67c7",
   "metadata": {},
   "source": [
    "### 1. Исследовать ряд на сходимость, используя признак д’Аламбера:\n",
    "\n",
    "$\\sum \\limits_{n=1}^{\\infty}{\\frac{n^n}{(n!)^2}}$"
   ]
  },
  {
   "cell_type": "markdown",
   "id": "b0f234df-77cc-4455-8779-850d53c5614a",
   "metadata": {},
   "source": [
    "$a_n = \\frac{n^n}{n!^2}$\n",
    "\n",
    "$a_{n + 1} = \\frac{(n + 1)^{n + 1}}{(n + 1)!^2}$\n",
    "\n",
    "$\\lim\\limits_{n \\to \\infty} \\frac{(n + 1)^{n + 1} \\cdot n!^2}{(n + 1)!^2 \\cdot n^n} = \\lim\\limits_{n \\to \\infty} \\frac{(n + 1)^{n - 1}}{n^n} = \\lim\\limits_{n \\to \\infty} \\frac{1}{n + 1} = 0$\n",
    "\n",
    "Ряд сходится"
   ]
  },
  {
   "cell_type": "markdown",
   "id": "3ee1d81d-50ca-405b-867a-8b8098171774",
   "metadata": {},
   "source": [
    "### 2. Исследовать ряд на сходимость, используя радикальный признак Коши:\n",
    "\n",
    "$\\sum \\limits_{n = 1}^{\\infty} \\frac{n}{2^n}$"
   ]
  },
  {
   "cell_type": "markdown",
   "id": "b3e7ea44-1c54-467b-b538-1846970a1686",
   "metadata": {},
   "source": [
    "$\\lim\\limits_{n \\to \\infty} \\sqrt[n]{\\frac{n}{2^n}} = \\frac{\\sqrt[n]n}{2} = \\frac{1}{2}$\n",
    "\n",
    "Ряд сходится"
   ]
  },
  {
   "cell_type": "markdown",
   "id": "1c2b4324-c9f3-4138-bf0e-06c998ee5c82",
   "metadata": {},
   "source": [
    "### 3. Исследовать ряд на сходимость, используя признак Лейбница:\n",
    "\n",
    "$\\sum \\limits_{n = 1}^{\\infty} \\frac{(-1)^n}{n + ln(n)}$"
   ]
  },
  {
   "cell_type": "markdown",
   "id": "cbeb7d07-80dc-4f0b-a609-30dd5c14e2f1",
   "metadata": {},
   "source": [
    "$\\lim\\limits_{n \\to \\infty} \\frac{(-1)^n}{n + ln(n)} = 0$\n",
    "\n",
    "$|a_n| \\geq |a_{n + 1}|$\n",
    "\n",
    "$\\sum \\limits_{n = 1}^{\\infty} \\left| \\frac{(-1)^n}{n + ln(n)} \\right| = 0$\n",
    "\n",
    "Ряд сходится абсолютно"
   ]
  },
  {
   "cell_type": "markdown",
   "id": "e09740df-23d5-4622-b5a6-dffd15639dd7",
   "metadata": {},
   "source": [
    "### 4. Исследовать ряд на сходимость, используя признак Раабе:\n",
    "\n",
    "$\\sum \\limits_{n = 1}^{\\infty} \\frac{3^n}{2^n}$"
   ]
  },
  {
   "cell_type": "markdown",
   "id": "2fc0b88b-785b-4ae8-851d-97f725e9f058",
   "metadata": {},
   "source": [
    "$a_n = \\frac{3^n}{2^n}$\n",
    "\n",
    "$a_{n + 1} = \\frac{3^{n + 1}}{2^{n + 1}}$\n",
    "\n",
    "$\\lim\\limits_{n \\to \\infty} (n \\cdot (\\frac{a_n}{a_{n + 1}} - 1)) = \\lim\\limits_{n \\to \\infty} n \\cdot (\\frac{3^n \\cdot 2^{n + 1}}{2^n \\cdot 3^{n + 1}} - 1) = \\lim\\limits_{n \\to \\infty} n \\cdot (\\frac{2}{3} - 1) = \\lim\\limits_{n \\to \\infty} -\\frac{1}{3}n = - \\infty$\n",
    "\n",
    "Ряд расходится"
   ]
  },
  {
   "cell_type": "markdown",
   "id": "313baa8e-9048-4ce4-b79a-077c9bd26f7b",
   "metadata": {},
   "source": [
    "### 5. Разложить функцию по Тейлору в единице:\n",
    "\n",
    "$f(x) = ln(16x^2)$"
   ]
  },
  {
   "cell_type": "markdown",
   "id": "6f5b3784-38a1-4fdb-b180-fee690f44c7e",
   "metadata": {},
   "source": [
    "$f(x) = ln(16x^2), \\;\\;\\; f(1) = ln(16)$\n",
    "\n",
    "$f'(x) = \\frac{1}{16x^2} \\cdot 32x = \\frac{2}{x}, \\;\\;\\; f'(1) = 2$\n",
    "\n",
    "$f''(x) = - \\frac{2}{x^2}, \\;\\;\\; f''(1) = -2$\n",
    "\n",
    "$f'''(x) = \\frac{4}{x^3}, \\;\\;\\; f'''(1) = 4$\n",
    "\n",
    "$f^{(IV)}(x) = -\\frac{12}{x^4}, \\;\\;\\; f^{(IV)}(1) = -12$\n",
    "\n",
    "$f(x) = \\sum \\limits_{n = 0}^{\\infty} \\frac{f^{(n)}(a)}{n!} \\cdot (x - a)^n = f(a) + f'(a)(x - a) + \\frac{f''(a)}{2!} \\cdot (x - a)^2 + \\frac{f'''(a)}{3!} \\cdot (x - a)^3 + \\frac{f^{(IV)}(a)}{4!} \\cdot (x - a)^4 + ... + \\frac{f^{(k)}(a)}{k!} \\cdot (x - a) ^ k$\n",
    "\n",
    "$f(x) = ln(16) + 2 \\cdot (x - 1) + \\frac{-2}{2!} \\cdot (x - 1)^2 + \\frac{4}{3!} \\cdot (x - 1)^3 + \\frac{-12}{4!} \\cdot (x - 1)^4 + \\; ...$\n",
    "\n",
    "$f(x) = ln(16) + \\sum \\limits_{n = 1}^{\\infty}- \\frac{2 \\cdot (-1)^n }{n!}\\cdot (x - 1)^n$"
   ]
  },
  {
   "cell_type": "markdown",
   "id": "3f19bbef-dd71-4b2e-85e6-0b56dcbd811d",
   "metadata": {},
   "source": [
    "### 6. * Дана функция\n",
    "\n",
    "$f(x) = x^2$"
   ]
  },
  {
   "cell_type": "markdown",
   "id": "f4f5f9eb-3be5-412d-a8f8-0aaac69e4ed5",
   "metadata": {},
   "source": [
    "#### a. Разложить функцию в ряд Фурье по косинусам на отрезке\n",
    "\n",
    "$x \\in [-\\pi; \\pi]$"
   ]
  },
  {
   "cell_type": "markdown",
   "id": "900a8f4c-d233-4bd4-8b16-ac56f3ad2b35",
   "metadata": {},
   "source": [
    "$f(x) = a_0 + \\sum \\limits_{n = 1}^{\\infty} (a_n \\cdot cos(nx) + b_n \\cdot sin(nx))$\n",
    "\n",
    "$a_0 = \\frac{1}{2 \\pi} \\int \\limits_{-\\pi}^{\\pi} f(x)dx = \\frac{1}{2 \\pi} \\int \\limits_{-\\pi}^{\\pi} x^2dx = \\frac{\\pi^2}{3}$\n",
    "\n",
    "$a_n = \\frac{1}{\\pi} \\int \\limits_{-\\pi}^{\\pi} f(x) \\cdot cos(nx)dx = \\frac{1}{\\pi} \\int \\limits_{-\\pi}^{\\pi} x^2 \\cdot cos(nx)dx = - \\frac{4}{n^2}$\n",
    "\n",
    "$b_n = \\frac{1}{\\pi} \\int \\limits_{-\\pi}^{\\pi} f(x) \\cdot sin(nx)dx = \\frac{1}{\\pi} \\int \\limits_{-\\pi}^{\\pi} x^2 \\cdot sin(nx)dx = 0$\n",
    "\n",
    "$f(x) = \\frac{\\pi^2}{3} + \\sum \\limits_{n = 1}^{\\infty} - \\frac{4}{n^2} cos(nx)$"
   ]
  },
  {
   "cell_type": "markdown",
   "id": "b419c755-478d-4102-ac0f-ec4c03686bb5",
   "metadata": {},
   "source": [
    "#### b. Построить график функции и ее разложения"
   ]
  },
  {
   "cell_type": "code",
   "execution_count": 2,
   "id": "3bbc1597-d527-4d49-ab4f-ae58e98567e1",
   "metadata": {},
   "outputs": [
    {
     "data": {
      "image/png": "[encoded data removed]",
      "text/plain": [
       "<Figure size 432x288 with 1 Axes>"
      ]
     },
     "metadata": {
      "needs_background": "light"
     },
     "output_type": "display_data"
    }
   ],
   "source": [
    "x = np.linspace(-np.pi, np.pi, 100)\n",
    "f1 = x**2\n",
    "f2 = (np.pi**2)/3 - 4 * np.cos(x) + np.cos(2 * x) - 0.4444 * np.cos(3 * x) + 0.25 * np.cos(4 * x)\n",
    "plt.grid()\n",
    "plt.plot(x, f1)\n",
    "plt.plot(x, f2)\n",
    "\n",
    "plt.show()"
   ]
  },
  {
   "cell_type": "code",
   "execution_count": null,
   "id": "d01bb020-fea4-43a3-a3b1-eb8ce5cd50cf",
   "metadata": {},
   "outputs": [],
   "source": []
  }
 ],
 "metadata": {
  "kernelspec": {
   "display_name": "Python 3",
   "language": "python",
   "name": "python3"
  },
  "language_info": {
   "codemirror_mode": {
    "name": "ipython",
    "version": 3
   },
   "file_extension": ".py",
   "mimetype": "text/x-python",
   "name": "python",
   "nbconvert_exporter": "python",
   "pygments_lexer": "ipython3",
   "version": "3.9.4"
  }
 },
 "nbformat": 4,
 "nbformat_minor": 5
}

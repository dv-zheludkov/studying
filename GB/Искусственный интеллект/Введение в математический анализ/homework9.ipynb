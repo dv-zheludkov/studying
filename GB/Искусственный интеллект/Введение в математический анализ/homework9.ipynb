{
 "cells": [
  {
   "cell_type": "markdown",
   "id": "faf1a25f-0bb2-436b-a44b-8b99df405a88",
   "metadata": {},
   "source": [
    "### 1. Найти неопределенный интеграл:\n",
    "\n",
    "$\\int (2x^2 - 2x - 1 + sinx - cosx + lnx + e^x)\\, dx$\n"
   ]
  },
  {
   "cell_type": "markdown",
   "id": "65f0a8b3-cf3c-44c5-9e87-9e9173ca2c79",
   "metadata": {},
   "source": [
    "$\\int{2x^2}dx = \\frac{2x^3}{3}$\n",
    "\n",
    "$\\int{-2x}dx = -\\frac{2x^2}{2}$\n",
    "\n",
    "$\\int{-1}dx = -x$\n",
    "\n",
    "$\\int{sinx}dx = -cosx$\n",
    "\n",
    "$\\int{-cosx}dx = -sinx$\n",
    "\n",
    "$\\int{lnx}dx = xlnx - x$\n",
    "\n",
    "$\\int{e^x}dx = e^x$\n",
    "\n",
    "Тогда\n",
    "\n",
    "$\\int{(2x^2 - 2x - 1 + sinx -cosx + lnx + e^x)}dx = \\frac{2x^3}{3} - \\frac{2x^2}{2} - 2x - cosx - sinx + xlnx + e^x + C$"
   ]
  },
  {
   "cell_type": "markdown",
   "id": "1f6bbacb-d1d3-4e09-888b-d28f6d69c506",
   "metadata": {},
   "source": [
    "### 2. Найти неопределенный интеграл:\n",
    "\n",
    "$\\int (2x + 6xz^2 - 5x^2y - 3lnz)\\, dx$"
   ]
  },
  {
   "cell_type": "markdown",
   "id": "9e10b093-8187-4c3e-81da-52c87d3e8976",
   "metadata": {},
   "source": [
    "$\\int{2x}dx = x^2$\n",
    "\n",
    "$\\int{6xz^2}dx = 3x^2z^2$\n",
    "\n",
    "$\\int{-5x^2y}dx = - \\frac{5x^3y}{3}$\n",
    "\n",
    "$\\int{-3lnz}dx = -3xlnz$\n",
    "\n",
    "Тогда\n",
    "\n",
    "$\\int{(2x + 6xz^2 - 5x^2y - 3lnz)}dx = x^2 + 3x^2z^2 - \\frac{5}{3}x^3y - 3xlnz + C$"
   ]
  },
  {
   "cell_type": "markdown",
   "id": "668c8858-caf4-4cb9-ab6f-9da14a09b23c",
   "metadata": {},
   "source": [
    "### 3. Вычислить определенный интеграл:\n",
    "\n",
    "$\\int \\limits_0^\\pi3x^2sin(2x)\\, dx$"
   ]
  },
  {
   "cell_type": "markdown",
   "id": "c3972f83-e782-448a-afa0-7149e7d9e2a7",
   "metadata": {},
   "source": [
    "$U=3x^2\\ =>\\ dU=3x^2dx=6xdx$\n",
    "\n",
    "$dV=sin(2x)dx\\ =>\\ V=-\\frac{cos(2x)}{2}$\n",
    "\n",
    "$\\int\\limits_0^\\pi(3x^2sin(2x))dx=3x^2\\cdot(-\\frac{cos(2x)}{2})\\bigg|_0^\\pi+\\int\\limits_0^\\pi\\frac{cos(2x)}{2}\\cdot6xdx$\n",
    "\n",
    "$U=6x\\ =>\\ dU=6dx$\n",
    "\n",
    "$dV=\\frac{cos(2x)}{2}dx\\ =>\\ V=\\frac{sin(2x)}{4}$\n",
    "\n",
    "Тогда\n",
    "\n",
    "$\\int \\limits_0^\\pi3x^2sin(2x)\\, dx=-3x^2\\cdot\\frac{cos(2x)}{2}+\\frac{3xsin(2x)}{2}\\bigg|_0^\\pi-6\\int\\limits_0^\\pi\\frac{sin(2x)}{4}dx=(3-6x^2)\\cdot\\frac{cos(2x)}{4}+\\frac{3xsin(2x)}{2}+C\\bigg|_0^\\pi=-\\frac{3\\pi^2}{2}$"
   ]
  },
  {
   "cell_type": "markdown",
   "id": "1063282d-e47a-48f3-9e8d-75e1e5433c19",
   "metadata": {},
   "source": [
    "### 4. Найти неопределенный интеграл:\n",
    "\n",
    "$\\int \\frac{1}{\\sqrt{x+1}}\\, dx$"
   ]
  },
  {
   "cell_type": "markdown",
   "id": "d40a0bd0-b337-4daf-9c22-b438cb1a78ac",
   "metadata": {},
   "source": [
    "$\\sqrt{x+1}=t$\n",
    "\n",
    "$x = t^2 -1$\n",
    "\n",
    "$dx = d(t^2-1)' = 2tdt$\n",
    "\n",
    "Тогда\n",
    "\n",
    "$2\\int\\frac{1}{t}dt = 2\\sqrt{x+1} + C$\n"
   ]
  },
  {
   "cell_type": "code",
   "execution_count": null,
   "id": "1304da59-1718-42e8-a502-db18920369a6",
   "metadata": {},
   "outputs": [],
   "source": []
  },
  {
   "cell_type": "code",
   "execution_count": null,
   "id": "9c0a3141-76da-4c11-bd70-6b533d56714b",
   "metadata": {},
   "outputs": [],
   "source": []
  }
 ],
 "metadata": {
  "kernelspec": {
   "display_name": "Python 3",
   "language": "python",
   "name": "python3"
  },
  "language_info": {
   "codemirror_mode": {
    "name": "ipython",
    "version": 3
   },
   "file_extension": ".py",
   "mimetype": "text/x-python",
   "name": "python",
   "nbconvert_exporter": "python",
   "pygments_lexer": "ipython3",
   "version": "3.9.4"
  }
 },
 "nbformat": 4,
 "nbformat_minor": 5
}

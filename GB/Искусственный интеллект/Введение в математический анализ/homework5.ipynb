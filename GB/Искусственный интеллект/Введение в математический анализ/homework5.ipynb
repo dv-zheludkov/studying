{
 "cells": [
  {
   "cell_type": "markdown",
   "id": "a399f0ec-7405-403b-8a29-a3f439412e28",
   "metadata": {},
   "source": [
    "### Тема 6 “Понятие о производной”"
   ]
  },
  {
   "cell_type": "markdown",
   "id": "7ee963b7-8046-44a7-a697-0839de4b0e0b",
   "metadata": {},
   "source": [
    "#### 1. Найти производную выражения:\n",
    "\n",
    "##### c    \n",
    "$\\sqrt{sin^2(ln(x^3))}$"
   ]
  },
  {
   "cell_type": "markdown",
   "id": "51353f20-8dc8-4624-b093-44f163a413e2",
   "metadata": {},
   "source": [
    "$(\\sqrt{sin^2(ln(x^3))})' = \\frac{1}{2\\sqrt{sin^2(ln(x^3))}}(sin^2(ln(x^3)))' = \\frac{1}{2\\sqrt{sin^2(ln(x^3))}}2sin(ln(x^3))(sin(ln(x^3)))' = \\frac{1}{2\\sqrt{sin^2(ln(x^3))}}2sin(ln(x^3))cos(ln(x^3))(ln(x^3))' = \\frac{1}{2\\sqrt{sin^2(ln(x^3))}}2sin(ln(x^3))cos(ln(x^3))\\frac{1}{x^3}(x^3)' = \\frac{sin(ln(x^3))}{\\sqrt{sin^2(ln(x^3))}}cos(ln(x^3))\\frac{3x^2}{x^3} = \\frac{3cos(ln(x^3))}{x}$"
   ]
  },
  {
   "cell_type": "markdown",
   "id": "c056ac75-f67c-44d0-8d8b-2f78a41fb5ce",
   "metadata": {},
   "source": [
    "#### 2. Найти выражение производной функции и ее значение в точке:\n",
    "$f(x) = cos(x^2 + 3x)$, $x0 = \\sqrt{\\pi}$\n"
   ]
  },
  {
   "cell_type": "markdown",
   "id": "e1860bc7-8413-45b4-bbe0-b0f6aa662158",
   "metadata": {},
   "source": [
    "$f'(x) = -sin(x^2 + 3x)(x^2 + 3x)' = -sin(x^2 + 3x)(2x + 3)$\n",
    "$f'(\\sqrt{\\pi}) = -sin((\\sqrt{\\pi})^2 + 3\\sqrt{\\pi})(2\\sqrt{\\pi} + 3) = -sin(\\pi + 3\\sqrt{\\pi})(2\\sqrt{\\pi} + 3)$"
   ]
  },
  {
   "cell_type": "markdown",
   "id": "a97801ee-5456-4df7-92aa-01fa807dc34f",
   "metadata": {},
   "source": [
    "#### 3. *Найти значение производной функции в точке:\n",
    "$f(x) = \\frac{x^3 - x^2 - x - 1}{1 + 2x + 3x^2 - 4x^3}, x0 = 0$"
   ]
  },
  {
   "cell_type": "markdown",
   "id": "96571ba2-5c35-4784-ba2e-e23348b69b0a",
   "metadata": {},
   "source": [
    "$g(x) = x^3 - x^2 - x - 1$\n",
    "\n",
    "$h(x) = 1 + 2x + 3x^2 - 4x^3$\n",
    "\n",
    "$f'(x) = \\frac{g'(x)h(x) - g(x)h'(x)}{h^2(x)}$\n",
    "\n",
    "$g'(x) = 3x^2 - 2x - 1$\n",
    "\n",
    "$h'(x) = 2 + 6x - 12x^2$\n",
    "\n",
    "$g(0) = -1, h(0) = 1$\n",
    "\n",
    "$g'(0) = -1, h'(0) = 2$\n",
    "\n",
    "$f'(0) = \\frac{-1 * 1 - (-1) * 2}{1 ^ 2} = \\frac{-1 - (-2)}{1} = \\frac{1}{1} = 1$"
   ]
  },
  {
   "cell_type": "markdown",
   "id": "ccedc7c0-be80-43f3-b967-06ade345b281",
   "metadata": {},
   "source": [
    "#### 4. Найти угол наклона касательной к графику функции в точке:\n",
    "$f(x) = \\sqrt{3x}ln(x), x0 = 1$"
   ]
  },
  {
   "cell_type": "markdown",
   "id": "ec666edf-3c2c-4bd4-bce5-015d34c4c2af",
   "metadata": {},
   "source": [
    "$f'(x) = (\\sqrt{3x}ln(x))' = (\\sqrt{3x})'ln(x) + \\sqrt{3x}(ln(x))' = \\frac{3}{2\\sqrt{3x}}ln(x) + \\sqrt{3x}\\frac{1}{x}$\n",
    "\n",
    "$f'(1) = \\frac{2}{2\\sqrt{3}}ln(1) + \\sqrt{3}\\frac{1}{1} = \\sqrt{3}$\n",
    "\n",
    "$tg(a) = \\sqrt{3}$\n",
    "\n",
    "$a = arctg(a) = \\frac{\\pi}{3} = 60^{\\circ}$"
   ]
  },
  {
   "cell_type": "code",
   "execution_count": null,
   "id": "0c5f8956-f628-46d4-99ff-3031571249f2",
   "metadata": {},
   "outputs": [],
   "source": []
  }
 ],
 "metadata": {
  "kernelspec": {
   "display_name": "Python 3",
   "language": "python",
   "name": "python3"
  },
  "language_info": {
   "codemirror_mode": {
    "name": "ipython",
    "version": 3
   },
   "file_extension": ".py",
   "mimetype": "text/x-python",
   "name": "python",
   "nbconvert_exporter": "python",
   "pygments_lexer": "ipython3",
   "version": "3.9.4"
  }
 },
 "nbformat": 4,
 "nbformat_minor": 5
}

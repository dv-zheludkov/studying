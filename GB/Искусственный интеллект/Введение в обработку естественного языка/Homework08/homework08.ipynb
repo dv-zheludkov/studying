{
 "cells": [
  {
   "cell_type": "markdown",
   "metadata": {},
   "source": [
    "### Тема “Рекуррентные блоки”\n",
    "\n",
    "На вебинаре мы говорили что долгое время CNN и RNN архитектуры были конкурирующими, выяснить какая архитектура больше подходит для задачи сентимент анализа на данных с вебинара\n",
    "\n",
    "1. построить свёрточную архитектуру\n",
    "2. построить различные архитектуры с RNN\n",
    "3. построить совместные архитектуры CNN -> RNN и/или (RNN -> CNN)\n",
    "4. сделать выводы что получилось лучше"
   ]
  },
  {
   "cell_type": "code",
   "execution_count": 2,
   "metadata": {},
   "outputs": [],
   "source": [
    "import pandas as pd\n",
    "from sklearn.model_selection import train_test_split\n",
    "\n",
    "from string import punctuation\n",
    "from stop_words import get_stop_words\n",
    "from pymorphy2 import MorphAnalyzer\n",
    "import re\n",
    "from sklearn.preprocessing import LabelEncoder\n",
    "import tensorflow as tf\n",
    "import tensorflow_addons as tfa\n",
    "\n",
    "from keras.preprocessing.text import Tokenizer\n",
    "from keras_preprocessing.sequence import pad_sequences\n",
    "from keras.losses import SparseCategoricalCrossentropy\n",
    "from keras.models import Sequential, Model\n",
    "from keras.layers import Dense, Dropout, Activation, Input, Embedding, Conv1D, GlobalMaxPool1D, SimpleRNN, LSTM, GRU, Masking\n",
    "from keras.callbacks import TensorBoard \n",
    "from keras.callbacks import EarlyStopping "
   ]
  },
  {
   "cell_type": "code",
   "execution_count": 3,
   "metadata": {},
   "outputs": [],
   "source": [
    "df =  pd.read_excel('отзывы за лето.xls')"
   ]
  },
  {
   "cell_type": "code",
   "execution_count": 4,
   "metadata": {},
   "outputs": [
    {
     "data": {
      "text/html": [
       "<div>\n",
       "<style scoped>\n",
       "    .dataframe tbody tr th:only-of-type {\n",
       "        vertical-align: middle;\n",
       "    }\n",
       "\n",
       "    .dataframe tbody tr th {\n",
       "        vertical-align: top;\n",
       "    }\n",
       "\n",
       "    .dataframe thead th {\n",
       "        text-align: right;\n",
       "    }\n",
       "</style>\n",
       "<table border=\"1\" class=\"dataframe\">\n",
       "  <thead>\n",
       "    <tr style=\"text-align: right;\">\n",
       "      <th></th>\n",
       "      <th>Rating</th>\n",
       "      <th>Content</th>\n",
       "      <th>Date</th>\n",
       "    </tr>\n",
       "  </thead>\n",
       "  <tbody>\n",
       "    <tr>\n",
       "      <th>0</th>\n",
       "      <td>5</td>\n",
       "      <td>It just works!</td>\n",
       "      <td>2017-08-14</td>\n",
       "    </tr>\n",
       "    <tr>\n",
       "      <th>1</th>\n",
       "      <td>4</td>\n",
       "      <td>В целом удобноное приложение...из минусов хотя...</td>\n",
       "      <td>2017-08-14</td>\n",
       "    </tr>\n",
       "    <tr>\n",
       "      <th>2</th>\n",
       "      <td>5</td>\n",
       "      <td>Отлично все</td>\n",
       "      <td>2017-08-14</td>\n",
       "    </tr>\n",
       "    <tr>\n",
       "      <th>3</th>\n",
       "      <td>5</td>\n",
       "      <td>Стал зависать на 1% работы антивируса. Дальше ...</td>\n",
       "      <td>2017-08-14</td>\n",
       "    </tr>\n",
       "    <tr>\n",
       "      <th>4</th>\n",
       "      <td>5</td>\n",
       "      <td>Очень удобно, работает быстро.</td>\n",
       "      <td>2017-08-14</td>\n",
       "    </tr>\n",
       "  </tbody>\n",
       "</table>\n",
       "</div>"
      ],
      "text/plain": [
       "   Rating                                            Content        Date\n",
       "0       5                                     It just works!  2017-08-14\n",
       "1       4  В целом удобноное приложение...из минусов хотя...  2017-08-14\n",
       "2       5                                        Отлично все  2017-08-14\n",
       "3       5  Стал зависать на 1% работы антивируса. Дальше ...  2017-08-14\n",
       "4       5                     Очень удобно, работает быстро.  2017-08-14"
      ]
     },
     "execution_count": 4,
     "metadata": {},
     "output_type": "execute_result"
    }
   ],
   "source": [
    "df.head()"
   ]
  },
  {
   "cell_type": "code",
   "execution_count": 5,
   "metadata": {},
   "outputs": [],
   "source": [
    "df_train, df_test = train_test_split(df, test_size=0.33, random_state=42)"
   ]
  },
  {
   "cell_type": "code",
   "execution_count": 7,
   "metadata": {},
   "outputs": [],
   "source": [
    "sw = set(get_stop_words(\"ru\"))\n",
    "exclude = set(punctuation)\n",
    "morpher = MorphAnalyzer()\n",
    "\n",
    "def preprocess_text(txt):\n",
    "    txt = str(txt)\n",
    "    txt = \"\".join(c for c in txt if c not in exclude)\n",
    "    txt = txt.lower()\n",
    "    txt = re.sub(\"\\sне\", \"не\", txt)\n",
    "    txt = [morpher.parse(word)[0].normal_form for word in txt.split() if word not in sw]\n",
    "    return \" \".join(txt)"
   ]
  },
  {
   "cell_type": "code",
   "execution_count": 8,
   "metadata": {},
   "outputs": [],
   "source": [
    "df_train['Content'] = df_train['Content'].apply(preprocess_text)\n",
    "df_test['Content'] = df_test['Content'].apply(preprocess_text)"
   ]
  },
  {
   "cell_type": "code",
   "execution_count": 9,
   "metadata": {},
   "outputs": [
    {
     "data": {
      "text/plain": [
       "10174"
      ]
     },
     "execution_count": 9,
     "metadata": {},
     "output_type": "execute_result"
    }
   ],
   "source": [
    "text_corpus_train = df_train['Content'].values\n",
    "text_corpus_test = df_test['Content'].values\n",
    "\n",
    "tokenizer = Tokenizer(num_words=None, \n",
    "                     filters='#$%&()*+-<=>@[\\\\]^_`{|}~\\t\\n', #символы для удаления из текстов\n",
    "                     lower = False, #перевод к нижнему регистру\n",
    "                      split = ' ') #разделитель для слов\n",
    "\n",
    "tokenizer.fit_on_texts(text_corpus_train)\n",
    "\n",
    "len(tokenizer.index_word)"
   ]
  },
  {
   "cell_type": "code",
   "execution_count": 10,
   "metadata": {},
   "outputs": [
    {
     "data": {
      "text/plain": [
       "[[593, 39, 756, 3488, 20, 1, 2, 14],\n",
       " [2, 170],\n",
       " [5],\n",
       " [57],\n",
       " [2],\n",
       " [120, 1],\n",
       " [35, 949, 64, 97, 28, 466, 868],\n",
       " [95, 48, 1, 669, 129, 713, 99, 1931, 50, 1932, 1599, 2],\n",
       " [194, 137, 92, 19, 104, 1037, 48, 9],\n",
       " [24, 1345, 869, 5, 3489, 714]]"
      ]
     },
     "execution_count": 10,
     "metadata": {},
     "output_type": "execute_result"
    }
   ],
   "source": [
    "sequences_train = tokenizer.texts_to_sequences(text_corpus_train)\n",
    "sequences_test = tokenizer.texts_to_sequences(text_corpus_test)\n",
    "\n",
    "sequences_train[:10]"
   ]
  },
  {
   "cell_type": "code",
   "execution_count": 11,
   "metadata": {},
   "outputs": [
    {
     "data": {
      "text/plain": [
       "(10175, 108)"
      ]
     },
     "execution_count": 11,
     "metadata": {},
     "output_type": "execute_result"
    }
   ],
   "source": [
    "word_count = len(tokenizer.index_word) + 1 \n",
    "training_length = max([len(i.split()) for i in text_corpus_train])\n",
    "word_count, training_length "
   ]
  },
  {
   "cell_type": "code",
   "execution_count": 12,
   "metadata": {},
   "outputs": [],
   "source": [
    "X_train = pad_sequences(sequences_train, maxlen=training_length)\n",
    "X_test = pad_sequences(sequences_test, maxlen=training_length)"
   ]
  },
  {
   "cell_type": "code",
   "execution_count": 13,
   "metadata": {},
   "outputs": [],
   "source": [
    "le = LabelEncoder()\n",
    "train_enc_labels = le.fit_transform(df_train['Rating']) \n",
    "test_enc_labels = le.transform(df_test['Rating'])\n",
    "le.classes_\n",
    "\n",
    "num_classes = 5\n",
    "y_train = tf.keras.utils.to_categorical(train_enc_labels, num_classes=num_classes)\n",
    "y_test = tf.keras.utils.to_categorical(test_enc_labels, num_classes=num_classes)"
   ]
  },
  {
   "cell_type": "markdown",
   "metadata": {},
   "source": [
    "#### CONV модель"
   ]
  },
  {
   "cell_type": "code",
   "execution_count": 14,
   "metadata": {},
   "outputs": [
    {
     "name": "stdout",
     "output_type": "stream",
     "text": [
      "Model: \"sequential\"\n",
      "_________________________________________________________________\n",
      " Layer (type)                Output Shape              Param #   \n",
      "=================================================================\n",
      " embedding (Embedding)       (None, 108, 128)          1302400   \n",
      "                                                                 \n",
      " conv1d (Conv1D)             (None, 106, 128)          49280     \n",
      "                                                                 \n",
      " global_max_pooling1d (Globa  (None, 128)              0         \n",
      " lMaxPooling1D)                                                  \n",
      "                                                                 \n",
      " dense (Dense)               (None, 10)                1290      \n",
      "                                                                 \n",
      " dense_1 (Dense)             (None, 5)                 55        \n",
      "                                                                 \n",
      " activation (Activation)     (None, 5)                 0         \n",
      "                                                                 \n",
      "=================================================================\n",
      "Total params: 1,353,025\n",
      "Trainable params: 1,353,025\n",
      "Non-trainable params: 0\n",
      "_________________________________________________________________\n"
     ]
    },
    {
     "name": "stderr",
     "output_type": "stream",
     "text": [
      "2022-11-14 16:27:22.750927: I tensorflow/core/platform/cpu_feature_guard.cc:193] This TensorFlow binary is optimized with oneAPI Deep Neural Network Library (oneDNN) to use the following CPU instructions in performance-critical operations:  AVX2 FMA\n",
      "To enable them in other operations, rebuild TensorFlow with the appropriate compiler flags.\n"
     ]
    }
   ],
   "source": [
    "model = Sequential()\n",
    "model.add(Embedding(input_dim=word_count, output_dim=128, input_length=training_length))                   \n",
    "model.add(Conv1D(128, 3))\n",
    "model.add(GlobalMaxPool1D())\n",
    "model.add(Dense(10))\n",
    "model.add(Dense(5))\n",
    "model.add(Activation('softmax'))\n",
    "model.summary()"
   ]
  },
  {
   "cell_type": "code",
   "execution_count": 15,
   "metadata": {},
   "outputs": [],
   "source": [
    "model.compile(loss='categorical_crossentropy',\n",
    "              optimizer='adam',\n",
    "              metrics=['accuracy', tfa.metrics.F1Score(num_classes=num_classes)])"
   ]
  },
  {
   "cell_type": "code",
   "execution_count": 16,
   "metadata": {},
   "outputs": [],
   "source": [
    "tensorboard=TensorBoard(log_dir='./logs', write_graph=True, write_images=True) \n",
    "\n",
    "epochs = 20\n",
    "batch_size = 512"
   ]
  },
  {
   "cell_type": "code",
   "execution_count": 16,
   "metadata": {},
   "outputs": [
    {
     "name": "stdout",
     "output_type": "stream",
     "text": [
      "Epoch 1/20\n",
      "25/25 [==============================] - 4s 115ms/step - loss: 1.0555 - accuracy: 0.6750 - f1_score: 0.1681 - val_loss: 0.8463 - val_accuracy: 0.7011 - val_f1_score: 0.1649\n",
      "Epoch 2/20\n",
      "25/25 [==============================] - 3s 113ms/step - loss: 0.7399 - accuracy: 0.7395 - f1_score: 0.2614 - val_loss: 0.7246 - val_accuracy: 0.7386 - val_f1_score: 0.2732\n",
      "Epoch 3/20\n",
      "25/25 [==============================] - 3s 111ms/step - loss: 0.6270 - accuracy: 0.7776 - f1_score: 0.3149 - val_loss: 0.6965 - val_accuracy: 0.7480 - val_f1_score: 0.2984\n",
      "Epoch 4/20\n",
      "25/25 [==============================] - 3s 108ms/step - loss: 0.5505 - accuracy: 0.8044 - f1_score: 0.3757 - val_loss: 0.6858 - val_accuracy: 0.7574 - val_f1_score: 0.3366\n",
      "Epoch 5/20\n",
      "25/25 [==============================] - 3s 108ms/step - loss: 0.4821 - accuracy: 0.8310 - f1_score: 0.4389 - val_loss: 0.6938 - val_accuracy: 0.7581 - val_f1_score: 0.3457\n",
      "Epoch 6/20\n",
      "25/25 [==============================] - 3s 108ms/step - loss: 0.4173 - accuracy: 0.8597 - f1_score: 0.5572 - val_loss: 0.7197 - val_accuracy: 0.7588 - val_f1_score: 0.3822\n",
      "Epoch 7/20\n",
      "25/25 [==============================] - 3s 106ms/step - loss: 0.3572 - accuracy: 0.8909 - f1_score: 0.7047 - val_loss: 0.7724 - val_accuracy: 0.7502 - val_f1_score: 0.3787\n",
      "Epoch 8/20\n",
      "25/25 [==============================] - 3s 106ms/step - loss: 0.3087 - accuracy: 0.9143 - f1_score: 0.8036 - val_loss: 0.8127 - val_accuracy: 0.7495 - val_f1_score: 0.4004\n",
      "Epoch 9/20\n",
      "25/25 [==============================] - 3s 112ms/step - loss: 0.2660 - accuracy: 0.9280 - f1_score: 0.8474 - val_loss: 0.8692 - val_accuracy: 0.7430 - val_f1_score: 0.3913\n",
      "Epoch 10/20\n",
      "25/25 [==============================] - 3s 108ms/step - loss: 0.2316 - accuracy: 0.9369 - f1_score: 0.8743 - val_loss: 0.9205 - val_accuracy: 0.7350 - val_f1_score: 0.3860\n",
      "Epoch 11/20\n",
      "25/25 [==============================] - 3s 111ms/step - loss: 0.2085 - accuracy: 0.9413 - f1_score: 0.8909 - val_loss: 0.9733 - val_accuracy: 0.7365 - val_f1_score: 0.3939\n",
      "Epoch 12/20\n",
      "25/25 [==============================] - 3s 112ms/step - loss: 0.1917 - accuracy: 0.9461 - f1_score: 0.9039 - val_loss: 1.0254 - val_accuracy: 0.7336 - val_f1_score: 0.3909\n",
      "Epoch 13/20\n",
      "25/25 [==============================] - 3s 107ms/step - loss: 0.1770 - accuracy: 0.9500 - f1_score: 0.9152 - val_loss: 1.0865 - val_accuracy: 0.7329 - val_f1_score: 0.3836\n",
      "Epoch 14/20\n",
      "25/25 [==============================] - 3s 109ms/step - loss: 0.1678 - accuracy: 0.9534 - f1_score: 0.9238 - val_loss: 1.1190 - val_accuracy: 0.7336 - val_f1_score: 0.3898\n",
      "Epoch 15/20\n",
      "25/25 [==============================] - 3s 109ms/step - loss: 0.1575 - accuracy: 0.9545 - f1_score: 0.9272 - val_loss: 1.1737 - val_accuracy: 0.7300 - val_f1_score: 0.3889\n",
      "Epoch 16/20\n",
      "25/25 [==============================] - 3s 112ms/step - loss: 0.1552 - accuracy: 0.9556 - f1_score: 0.9295 - val_loss: 1.1960 - val_accuracy: 0.7321 - val_f1_score: 0.3934\n",
      "Epoch 17/20\n",
      "25/25 [==============================] - 3s 112ms/step - loss: 0.1475 - accuracy: 0.9578 - f1_score: 0.9355 - val_loss: 1.2421 - val_accuracy: 0.7329 - val_f1_score: 0.3906\n",
      "Epoch 18/20\n",
      "25/25 [==============================] - 3s 111ms/step - loss: 0.1447 - accuracy: 0.9585 - f1_score: 0.9370 - val_loss: 1.2745 - val_accuracy: 0.7300 - val_f1_score: 0.3778\n",
      "Epoch 19/20\n",
      "25/25 [==============================] - 3s 111ms/step - loss: 0.1418 - accuracy: 0.9595 - f1_score: 0.9389 - val_loss: 1.2965 - val_accuracy: 0.7285 - val_f1_score: 0.3760\n",
      "Epoch 20/20\n",
      "25/25 [==============================] - 3s 113ms/step - loss: 0.1388 - accuracy: 0.9597 - f1_score: 0.9409 - val_loss: 1.3432 - val_accuracy: 0.7300 - val_f1_score: 0.3852\n"
     ]
    }
   ],
   "source": [
    "%time\n",
    "history = model.fit(X_train, y_train,\n",
    "                    batch_size=batch_size,\n",
    "                    epochs=epochs,\n",
    "                    verbose=1,\n",
    "                    validation_split=0.1)"
   ]
  },
  {
   "cell_type": "code",
   "execution_count": 17,
   "metadata": {},
   "outputs": [
    {
     "name": "stdout",
     "output_type": "stream",
     "text": [
      "14/14 [==============================] - 0s 22ms/step - loss: 1.2696 - accuracy: 0.7375 - f1_score: 0.3735\n"
     ]
    }
   ],
   "source": [
    "score_conv = model.evaluate(X_test, y_test, batch_size=batch_size, verbose=1)"
   ]
  },
  {
   "cell_type": "markdown",
   "metadata": {},
   "source": [
    "#### SimpleRNN"
   ]
  },
  {
   "cell_type": "code",
   "execution_count": 18,
   "metadata": {},
   "outputs": [
    {
     "name": "stdout",
     "output_type": "stream",
     "text": [
      "Model: \"sequential_1\"\n",
      "_________________________________________________________________\n",
      " Layer (type)                Output Shape              Param #   \n",
      "=================================================================\n",
      " embedding_1 (Embedding)     (None, 108, 30)           305250    \n",
      "                                                                 \n",
      " masking (Masking)           (None, 108, 30)           0         \n",
      "                                                                 \n",
      " simple_rnn (SimpleRNN)      (None, 64)                6080      \n",
      "                                                                 \n",
      " dense_2 (Dense)             (None, 64)                4160      \n",
      "                                                                 \n",
      " dropout (Dropout)           (None, 64)                0         \n",
      "                                                                 \n",
      " dense_3 (Dense)             (None, 5)                 325       \n",
      "                                                                 \n",
      "=================================================================\n",
      "Total params: 315,815\n",
      "Trainable params: 315,815\n",
      "Non-trainable params: 0\n",
      "_________________________________________________________________\n"
     ]
    }
   ],
   "source": [
    "model = Sequential()\n",
    "\n",
    "model.add(Embedding(input_dim=word_count,\n",
    "              input_length=training_length,\n",
    "              output_dim=30,\n",
    "              trainable=True,\n",
    "              mask_zero=True))\n",
    "model.add(Masking(mask_value=0.0))\n",
    "model.add(SimpleRNN(64))\n",
    "model.add(Dense(64, activation='relu'))\n",
    "model.add(Dropout(0.2))\n",
    "model.add(Dense(5, activation='softmax'))\n",
    "model.summary()"
   ]
  },
  {
   "cell_type": "code",
   "execution_count": 19,
   "metadata": {},
   "outputs": [],
   "source": [
    "model.compile(loss='categorical_crossentropy',\n",
    "              optimizer='adam',\n",
    "              metrics=['accuracy', tfa.metrics.F1Score(num_classes=num_classes)])"
   ]
  },
  {
   "cell_type": "code",
   "execution_count": 20,
   "metadata": {},
   "outputs": [
    {
     "name": "stdout",
     "output_type": "stream",
     "text": [
      "Epoch 1/20\n",
      "25/25 [==============================] - 4s 118ms/step - loss: 1.2159 - accuracy: 0.6396 - f1_score: 0.1750 - val_loss: 1.0102 - val_accuracy: 0.7011 - val_f1_score: 0.1649\n",
      "Epoch 2/20\n",
      "25/25 [==============================] - 3s 107ms/step - loss: 0.9441 - accuracy: 0.7038 - f1_score: 0.1855 - val_loss: 0.8640 - val_accuracy: 0.7011 - val_f1_score: 0.2034\n",
      "Epoch 3/20\n",
      "25/25 [==============================] - 3s 105ms/step - loss: 0.8188 - accuracy: 0.7168 - f1_score: 0.2620 - val_loss: 0.7822 - val_accuracy: 0.7249 - val_f1_score: 0.2566\n",
      "Epoch 4/20\n",
      "25/25 [==============================] - 3s 102ms/step - loss: 0.7237 - accuracy: 0.7500 - f1_score: 0.2926 - val_loss: 0.7341 - val_accuracy: 0.7357 - val_f1_score: 0.2692\n",
      "Epoch 5/20\n",
      "25/25 [==============================] - 3s 107ms/step - loss: 0.6498 - accuracy: 0.7773 - f1_score: 0.3199 - val_loss: 0.7128 - val_accuracy: 0.7415 - val_f1_score: 0.2883\n",
      "Epoch 6/20\n",
      "25/25 [==============================] - 3s 104ms/step - loss: 0.6528 - accuracy: 0.7676 - f1_score: 0.3466 - val_loss: 0.7303 - val_accuracy: 0.7372 - val_f1_score: 0.2982\n",
      "Epoch 7/20\n",
      "25/25 [==============================] - 3s 104ms/step - loss: 0.5777 - accuracy: 0.8003 - f1_score: 0.3802 - val_loss: 0.7133 - val_accuracy: 0.7458 - val_f1_score: 0.3176\n",
      "Epoch 8/20\n",
      "25/25 [==============================] - 3s 104ms/step - loss: 0.5282 - accuracy: 0.8174 - f1_score: 0.4184 - val_loss: 0.7169 - val_accuracy: 0.7487 - val_f1_score: 0.3321\n",
      "Epoch 9/20\n",
      "25/25 [==============================] - 2s 99ms/step - loss: 0.4823 - accuracy: 0.8390 - f1_score: 0.5103 - val_loss: 0.7202 - val_accuracy: 0.7523 - val_f1_score: 0.3374\n",
      "Epoch 10/20\n",
      "25/25 [==============================] - 3s 103ms/step - loss: 0.4375 - accuracy: 0.8598 - f1_score: 0.6011 - val_loss: 0.7309 - val_accuracy: 0.7552 - val_f1_score: 0.3720\n",
      "Epoch 11/20\n",
      "25/25 [==============================] - 3s 106ms/step - loss: 0.3844 - accuracy: 0.8864 - f1_score: 0.7052 - val_loss: 0.7488 - val_accuracy: 0.7495 - val_f1_score: 0.3809\n",
      "Epoch 12/20\n",
      "25/25 [==============================] - 3s 107ms/step - loss: 0.3332 - accuracy: 0.9070 - f1_score: 0.7759 - val_loss: 0.7833 - val_accuracy: 0.7437 - val_f1_score: 0.3784\n",
      "Epoch 13/20\n",
      "25/25 [==============================] - 2s 99ms/step - loss: 0.2935 - accuracy: 0.9187 - f1_score: 0.8125 - val_loss: 0.8185 - val_accuracy: 0.7473 - val_f1_score: 0.3759\n",
      "Epoch 14/20\n",
      "25/25 [==============================] - 3s 106ms/step - loss: 0.2663 - accuracy: 0.9261 - f1_score: 0.8380 - val_loss: 0.8348 - val_accuracy: 0.7444 - val_f1_score: 0.3844\n",
      "Epoch 15/20\n",
      "25/25 [==============================] - 3s 103ms/step - loss: 0.2340 - accuracy: 0.9363 - f1_score: 0.8738 - val_loss: 0.8708 - val_accuracy: 0.7379 - val_f1_score: 0.3733\n",
      "Epoch 16/20\n",
      "25/25 [==============================] - 3s 106ms/step - loss: 0.2185 - accuracy: 0.9416 - f1_score: 0.8884 - val_loss: 0.9065 - val_accuracy: 0.7307 - val_f1_score: 0.3683\n",
      "Epoch 17/20\n",
      "25/25 [==============================] - 3s 108ms/step - loss: 0.2007 - accuracy: 0.9456 - f1_score: 0.9025 - val_loss: 0.9384 - val_accuracy: 0.7357 - val_f1_score: 0.3835\n",
      "Epoch 18/20\n",
      "25/25 [==============================] - 3s 107ms/step - loss: 0.1885 - accuracy: 0.9482 - f1_score: 0.9094 - val_loss: 0.9992 - val_accuracy: 0.7227 - val_f1_score: 0.3610\n",
      "Epoch 19/20\n",
      "25/25 [==============================] - 3s 101ms/step - loss: 0.1831 - accuracy: 0.9508 - f1_score: 0.9168 - val_loss: 1.0006 - val_accuracy: 0.7235 - val_f1_score: 0.3647\n",
      "Epoch 20/20\n",
      "25/25 [==============================] - 3s 109ms/step - loss: 0.1728 - accuracy: 0.9520 - f1_score: 0.9179 - val_loss: 1.0398 - val_accuracy: 0.7227 - val_f1_score: 0.3651\n"
     ]
    }
   ],
   "source": [
    "%time\n",
    "history = model.fit(X_train, y_train,\n",
    "                    batch_size=batch_size,\n",
    "                    epochs=epochs,\n",
    "                    verbose=1,\n",
    "                    validation_split=0.1)"
   ]
  },
  {
   "cell_type": "code",
   "execution_count": 21,
   "metadata": {},
   "outputs": [
    {
     "name": "stdout",
     "output_type": "stream",
     "text": [
      "14/14 [==============================] - 0s 34ms/step - loss: 1.0677 - accuracy: 0.7392 - f1_score: 0.3668\n"
     ]
    }
   ],
   "source": [
    "score_srnn= model.evaluate(X_test, y_test, batch_size=batch_size, verbose=1)"
   ]
  },
  {
   "cell_type": "markdown",
   "metadata": {},
   "source": [
    "#### LSTM"
   ]
  },
  {
   "cell_type": "code",
   "execution_count": 22,
   "metadata": {},
   "outputs": [
    {
     "name": "stdout",
     "output_type": "stream",
     "text": [
      "Model: \"sequential_2\"\n",
      "_________________________________________________________________\n",
      " Layer (type)                Output Shape              Param #   \n",
      "=================================================================\n",
      " embedding_2 (Embedding)     (None, 108, 30)           305250    \n",
      "                                                                 \n",
      " masking_1 (Masking)         (None, 108, 30)           0         \n",
      "                                                                 \n",
      " lstm (LSTM)                 (None, 64)                24320     \n",
      "                                                                 \n",
      " dense_4 (Dense)             (None, 64)                4160      \n",
      "                                                                 \n",
      " dropout_1 (Dropout)         (None, 64)                0         \n",
      "                                                                 \n",
      " dense_5 (Dense)             (None, 5)                 325       \n",
      "                                                                 \n",
      "=================================================================\n",
      "Total params: 334,055\n",
      "Trainable params: 334,055\n",
      "Non-trainable params: 0\n",
      "_________________________________________________________________\n"
     ]
    }
   ],
   "source": [
    "model = Sequential()\n",
    "\n",
    "model.add(Embedding(input_dim=word_count,\n",
    "              input_length=training_length,\n",
    "              output_dim=30,\n",
    "              trainable=True,\n",
    "              mask_zero=True))\n",
    "model.add(Masking(mask_value=0.0))\n",
    "model.add(LSTM(64, recurrent_dropout=0.2))\n",
    "model.add(Dense(64, activation='relu'))\n",
    "model.add(Dropout(0.2))\n",
    "model.add(Dense(5, activation='softmax'))\n",
    "model.summary()"
   ]
  },
  {
   "cell_type": "code",
   "execution_count": 23,
   "metadata": {},
   "outputs": [],
   "source": [
    "model.compile(loss='categorical_crossentropy',\n",
    "              optimizer='adam',\n",
    "              metrics=['accuracy', tfa.metrics.F1Score(num_classes=num_classes)])"
   ]
  },
  {
   "cell_type": "code",
   "execution_count": 24,
   "metadata": {},
   "outputs": [
    {
     "name": "stdout",
     "output_type": "stream",
     "text": [
      "Epoch 1/20\n",
      "25/25 [==============================] - 11s 324ms/step - loss: 1.2236 - accuracy: 0.6924 - f1_score: 0.1704 - val_loss: 0.9689 - val_accuracy: 0.7011 - val_f1_score: 0.1649\n",
      "Epoch 2/20\n",
      "25/25 [==============================] - 8s 302ms/step - loss: 0.9052 - accuracy: 0.7030 - f1_score: 0.1652 - val_loss: 0.8351 - val_accuracy: 0.7040 - val_f1_score: 0.1766\n",
      "Epoch 3/20\n",
      "25/25 [==============================] - 8s 300ms/step - loss: 0.7836 - accuracy: 0.7326 - f1_score: 0.2480 - val_loss: 0.7536 - val_accuracy: 0.7314 - val_f1_score: 0.2625\n",
      "Epoch 4/20\n",
      "25/25 [==============================] - 8s 302ms/step - loss: 0.7093 - accuracy: 0.7608 - f1_score: 0.2857 - val_loss: 0.7215 - val_accuracy: 0.7372 - val_f1_score: 0.2703\n",
      "Epoch 5/20\n",
      "25/25 [==============================] - 7s 300ms/step - loss: 0.6538 - accuracy: 0.7726 - f1_score: 0.2967 - val_loss: 0.7056 - val_accuracy: 0.7444 - val_f1_score: 0.2775\n",
      "Epoch 6/20\n",
      "25/25 [==============================] - 8s 301ms/step - loss: 0.6086 - accuracy: 0.7824 - f1_score: 0.3170 - val_loss: 0.7025 - val_accuracy: 0.7466 - val_f1_score: 0.2983\n",
      "Epoch 7/20\n",
      "25/25 [==============================] - 7s 298ms/step - loss: 0.5738 - accuracy: 0.7954 - f1_score: 0.3504 - val_loss: 0.7079 - val_accuracy: 0.7495 - val_f1_score: 0.3130\n",
      "Epoch 8/20\n",
      "25/25 [==============================] - 7s 298ms/step - loss: 0.5407 - accuracy: 0.8074 - f1_score: 0.3730 - val_loss: 0.7211 - val_accuracy: 0.7509 - val_f1_score: 0.3281\n",
      "Epoch 9/20\n",
      "25/25 [==============================] - 7s 299ms/step - loss: 0.5143 - accuracy: 0.8183 - f1_score: 0.3964 - val_loss: 0.7388 - val_accuracy: 0.7516 - val_f1_score: 0.3381\n",
      "Epoch 10/20\n",
      "25/25 [==============================] - 7s 285ms/step - loss: 0.4846 - accuracy: 0.8272 - f1_score: 0.4162 - val_loss: 0.7486 - val_accuracy: 0.7509 - val_f1_score: 0.3428\n",
      "Epoch 11/20\n",
      "25/25 [==============================] - 7s 293ms/step - loss: 0.4551 - accuracy: 0.8390 - f1_score: 0.4408 - val_loss: 0.7745 - val_accuracy: 0.7531 - val_f1_score: 0.3523\n",
      "Epoch 12/20\n",
      "25/25 [==============================] - 7s 291ms/step - loss: 0.4298 - accuracy: 0.8482 - f1_score: 0.4691 - val_loss: 0.7877 - val_accuracy: 0.7560 - val_f1_score: 0.3688\n",
      "Epoch 13/20\n",
      "25/25 [==============================] - 7s 293ms/step - loss: 0.4031 - accuracy: 0.8596 - f1_score: 0.5275 - val_loss: 0.8056 - val_accuracy: 0.7538 - val_f1_score: 0.3903\n",
      "Epoch 14/20\n",
      "25/25 [==============================] - 7s 291ms/step - loss: 0.3817 - accuracy: 0.8733 - f1_score: 0.6069 - val_loss: 0.8717 - val_accuracy: 0.7487 - val_f1_score: 0.3971\n",
      "Epoch 15/20\n",
      "25/25 [==============================] - 7s 299ms/step - loss: 0.3562 - accuracy: 0.8837 - f1_score: 0.6706 - val_loss: 0.9203 - val_accuracy: 0.7394 - val_f1_score: 0.3845\n",
      "Epoch 16/20\n",
      "25/25 [==============================] - 7s 293ms/step - loss: 0.3393 - accuracy: 0.8903 - f1_score: 0.7016 - val_loss: 0.9468 - val_accuracy: 0.7321 - val_f1_score: 0.3980\n",
      "Epoch 17/20\n",
      "25/25 [==============================] - 8s 302ms/step - loss: 0.3227 - accuracy: 0.8984 - f1_score: 0.7324 - val_loss: 0.9924 - val_accuracy: 0.7365 - val_f1_score: 0.4059\n",
      "Epoch 18/20\n",
      "25/25 [==============================] - 7s 300ms/step - loss: 0.3140 - accuracy: 0.9028 - f1_score: 0.7505 - val_loss: 1.0202 - val_accuracy: 0.7379 - val_f1_score: 0.3933\n",
      "Epoch 19/20\n",
      "25/25 [==============================] - 7s 290ms/step - loss: 0.2979 - accuracy: 0.9087 - f1_score: 0.7748 - val_loss: 1.0591 - val_accuracy: 0.7350 - val_f1_score: 0.3802\n",
      "Epoch 20/20\n",
      "25/25 [==============================] - 7s 298ms/step - loss: 0.2829 - accuracy: 0.9139 - f1_score: 0.7934 - val_loss: 1.0638 - val_accuracy: 0.7307 - val_f1_score: 0.4120\n"
     ]
    }
   ],
   "source": [
    "%time\n",
    "history = model.fit(X_train, y_train,\n",
    "                    batch_size=batch_size,\n",
    "                    epochs=epochs,\n",
    "                    verbose=1,\n",
    "                    validation_split=0.1)"
   ]
  },
  {
   "cell_type": "code",
   "execution_count": 25,
   "metadata": {},
   "outputs": [
    {
     "name": "stdout",
     "output_type": "stream",
     "text": [
      "14/14 [==============================] - 1s 78ms/step - loss: 1.1256 - accuracy: 0.7394 - f1_score: 0.3898\n"
     ]
    }
   ],
   "source": [
    "score_lstm = model.evaluate(X_test, y_test, batch_size=batch_size, verbose=1)"
   ]
  },
  {
   "cell_type": "markdown",
   "metadata": {},
   "source": [
    "#### GRU"
   ]
  },
  {
   "cell_type": "code",
   "execution_count": 26,
   "metadata": {},
   "outputs": [
    {
     "name": "stdout",
     "output_type": "stream",
     "text": [
      "Model: \"sequential_3\"\n",
      "_________________________________________________________________\n",
      " Layer (type)                Output Shape              Param #   \n",
      "=================================================================\n",
      " embedding_3 (Embedding)     (None, 108, 30)           305250    \n",
      "                                                                 \n",
      " masking_2 (Masking)         (None, 108, 30)           0         \n",
      "                                                                 \n",
      " gru (GRU)                   (None, 64)                18432     \n",
      "                                                                 \n",
      " dense_6 (Dense)             (None, 64)                4160      \n",
      "                                                                 \n",
      " dropout_2 (Dropout)         (None, 64)                0         \n",
      "                                                                 \n",
      " dense_7 (Dense)             (None, 5)                 325       \n",
      "                                                                 \n",
      "=================================================================\n",
      "Total params: 328,167\n",
      "Trainable params: 328,167\n",
      "Non-trainable params: 0\n",
      "_________________________________________________________________\n"
     ]
    }
   ],
   "source": [
    "model = Sequential()\n",
    "\n",
    "model.add(Embedding(input_dim=word_count,\n",
    "              input_length=training_length,\n",
    "              output_dim=30,\n",
    "              trainable=True,\n",
    "              mask_zero=True))\n",
    "model.add(Masking(mask_value=0.0))\n",
    "model.add(GRU(64,recurrent_dropout=0.2))\n",
    "model.add(Dense(64, activation='relu'))\n",
    "model.add(Dropout(0.2))\n",
    "model.add(Dense(5, activation='softmax'))\n",
    "model.summary()"
   ]
  },
  {
   "cell_type": "code",
   "execution_count": 27,
   "metadata": {},
   "outputs": [],
   "source": [
    "model.compile(loss='categorical_crossentropy',\n",
    "              optimizer='adam',\n",
    "              metrics=['accuracy', tfa.metrics.F1Score(num_classes=num_classes)])"
   ]
  },
  {
   "cell_type": "code",
   "execution_count": 28,
   "metadata": {},
   "outputs": [
    {
     "name": "stdout",
     "output_type": "stream",
     "text": [
      "Epoch 1/20\n",
      "25/25 [==============================] - 10s 279ms/step - loss: 1.2823 - accuracy: 0.6918 - f1_score: 0.1765 - val_loss: 0.9330 - val_accuracy: 0.7011 - val_f1_score: 0.1649\n",
      "Epoch 2/20\n",
      "25/25 [==============================] - 6s 260ms/step - loss: 0.8540 - accuracy: 0.7030 - f1_score: 0.1651 - val_loss: 0.7990 - val_accuracy: 0.7011 - val_f1_score: 0.1649\n",
      "Epoch 3/20\n",
      "25/25 [==============================] - 7s 261ms/step - loss: 0.7442 - accuracy: 0.7241 - f1_score: 0.2300 - val_loss: 0.7439 - val_accuracy: 0.7162 - val_f1_score: 0.2357\n",
      "Epoch 4/20\n",
      "25/25 [==============================] - 7s 264ms/step - loss: 0.6777 - accuracy: 0.7652 - f1_score: 0.2881 - val_loss: 0.7260 - val_accuracy: 0.7336 - val_f1_score: 0.2647\n",
      "Epoch 5/20\n",
      "25/25 [==============================] - 6s 254ms/step - loss: 0.6181 - accuracy: 0.7802 - f1_score: 0.3021 - val_loss: 0.7214 - val_accuracy: 0.7430 - val_f1_score: 0.2775\n",
      "Epoch 6/20\n",
      "25/25 [==============================] - 6s 242ms/step - loss: 0.5718 - accuracy: 0.7927 - f1_score: 0.3255 - val_loss: 0.7223 - val_accuracy: 0.7466 - val_f1_score: 0.3126\n",
      "Epoch 7/20\n",
      "25/25 [==============================] - 6s 247ms/step - loss: 0.5273 - accuracy: 0.8068 - f1_score: 0.3674 - val_loss: 0.7416 - val_accuracy: 0.7516 - val_f1_score: 0.3341\n",
      "Epoch 8/20\n",
      "25/25 [==============================] - 6s 249ms/step - loss: 0.4923 - accuracy: 0.8248 - f1_score: 0.4069 - val_loss: 0.7722 - val_accuracy: 0.7495 - val_f1_score: 0.3420\n",
      "Epoch 9/20\n",
      "25/25 [==============================] - 6s 250ms/step - loss: 0.4665 - accuracy: 0.8369 - f1_score: 0.4334 - val_loss: 0.7984 - val_accuracy: 0.7415 - val_f1_score: 0.3384\n",
      "Epoch 10/20\n",
      "25/25 [==============================] - 6s 252ms/step - loss: 0.4412 - accuracy: 0.8469 - f1_score: 0.4699 - val_loss: 0.8400 - val_accuracy: 0.7408 - val_f1_score: 0.3430\n",
      "Epoch 11/20\n",
      "25/25 [==============================] - 6s 244ms/step - loss: 0.4107 - accuracy: 0.8585 - f1_score: 0.5204 - val_loss: 0.8717 - val_accuracy: 0.7401 - val_f1_score: 0.3746\n",
      "Epoch 12/20\n",
      "25/25 [==============================] - 6s 250ms/step - loss: 0.3867 - accuracy: 0.8682 - f1_score: 0.5769 - val_loss: 0.9373 - val_accuracy: 0.7415 - val_f1_score: 0.3806\n",
      "Epoch 13/20\n",
      "25/25 [==============================] - 6s 254ms/step - loss: 0.3655 - accuracy: 0.8760 - f1_score: 0.6312 - val_loss: 0.9547 - val_accuracy: 0.7386 - val_f1_score: 0.3848\n",
      "Epoch 14/20\n",
      "25/25 [==============================] - 6s 248ms/step - loss: 0.3422 - accuracy: 0.8871 - f1_score: 0.6811 - val_loss: 1.0024 - val_accuracy: 0.7314 - val_f1_score: 0.3868\n",
      "Epoch 15/20\n",
      "25/25 [==============================] - 6s 249ms/step - loss: 0.3277 - accuracy: 0.8941 - f1_score: 0.7139 - val_loss: 1.0406 - val_accuracy: 0.7300 - val_f1_score: 0.3877\n",
      "Epoch 16/20\n",
      "25/25 [==============================] - 6s 248ms/step - loss: 0.3179 - accuracy: 0.8975 - f1_score: 0.7282 - val_loss: 1.1165 - val_accuracy: 0.7227 - val_f1_score: 0.3894\n",
      "Epoch 17/20\n",
      "25/25 [==============================] - 6s 250ms/step - loss: 0.2985 - accuracy: 0.9058 - f1_score: 0.7649 - val_loss: 1.1350 - val_accuracy: 0.7213 - val_f1_score: 0.3660\n",
      "Epoch 18/20\n",
      "25/25 [==============================] - 6s 252ms/step - loss: 0.2857 - accuracy: 0.9101 - f1_score: 0.7832 - val_loss: 1.1645 - val_accuracy: 0.7249 - val_f1_score: 0.4001\n",
      "Epoch 19/20\n",
      "25/25 [==============================] - 6s 252ms/step - loss: 0.2748 - accuracy: 0.9158 - f1_score: 0.8023 - val_loss: 1.2241 - val_accuracy: 0.7177 - val_f1_score: 0.3735\n",
      "Epoch 20/20\n",
      "25/25 [==============================] - 6s 257ms/step - loss: 0.2686 - accuracy: 0.9192 - f1_score: 0.8180 - val_loss: 1.2947 - val_accuracy: 0.7227 - val_f1_score: 0.3942\n"
     ]
    }
   ],
   "source": [
    "%time\n",
    "history = model.fit(X_train, y_train,\n",
    "                    batch_size=batch_size,\n",
    "                    epochs=epochs,\n",
    "                    verbose=1,\n",
    "                    validation_split=0.1)"
   ]
  },
  {
   "cell_type": "code",
   "execution_count": 29,
   "metadata": {},
   "outputs": [
    {
     "name": "stdout",
     "output_type": "stream",
     "text": [
      "14/14 [==============================] - 1s 59ms/step - loss: 1.3509 - accuracy: 0.7357 - f1_score: 0.3845\n"
     ]
    }
   ],
   "source": [
    "score_gru= model.evaluate(X_test, y_test, batch_size=batch_size, verbose=1)"
   ]
  },
  {
   "cell_type": "code",
   "execution_count": 30,
   "metadata": {},
   "outputs": [
    {
     "data": {
      "text/html": [
       "<div>\n",
       "<style scoped>\n",
       "    .dataframe tbody tr th:only-of-type {\n",
       "        vertical-align: middle;\n",
       "    }\n",
       "\n",
       "    .dataframe tbody tr th {\n",
       "        vertical-align: top;\n",
       "    }\n",
       "\n",
       "    .dataframe thead th {\n",
       "        text-align: right;\n",
       "    }\n",
       "</style>\n",
       "<table border=\"1\" class=\"dataframe\">\n",
       "  <thead>\n",
       "    <tr style=\"text-align: right;\">\n",
       "      <th></th>\n",
       "      <th>model</th>\n",
       "      <th>f1_score</th>\n",
       "    </tr>\n",
       "  </thead>\n",
       "  <tbody>\n",
       "    <tr>\n",
       "      <th>1</th>\n",
       "      <td>LSTM</td>\n",
       "      <td>0.739366</td>\n",
       "    </tr>\n",
       "    <tr>\n",
       "      <th>0</th>\n",
       "      <td>SimpleRNN</td>\n",
       "      <td>0.739220</td>\n",
       "    </tr>\n",
       "    <tr>\n",
       "      <th>2</th>\n",
       "      <td>GRU</td>\n",
       "      <td>0.735700</td>\n",
       "    </tr>\n",
       "  </tbody>\n",
       "</table>\n",
       "</div>"
      ],
      "text/plain": [
       "       model  f1_score\n",
       "1       LSTM  0.739366\n",
       "0  SimpleRNN  0.739220\n",
       "2        GRU  0.735700"
      ]
     },
     "execution_count": 30,
     "metadata": {},
     "output_type": "execute_result"
    }
   ],
   "source": [
    "result_RNN = pd.DataFrame({'model': ['SimpleRNN', 'LSTM', 'GRU'], 'f1_score': [score_srnn[1], score_lstm[1], score_gru[1]]})\n",
    "result_RNN.sort_values(by='f1_score', ascending=False)"
   ]
  },
  {
   "cell_type": "markdown",
   "metadata": {},
   "source": [
    "Лидером по качеству является LSTM, но с учетом того, что обучение происходит значительно дольше, чем Simple RNN, при незначительно большей точности - в большинстве ситуаций целесообразнее будет использовать именно Simple RNN."
   ]
  },
  {
   "cell_type": "markdown",
   "metadata": {},
   "source": [
    "#### CNN -> RNN"
   ]
  },
  {
   "cell_type": "code",
   "execution_count": 31,
   "metadata": {},
   "outputs": [
    {
     "name": "stdout",
     "output_type": "stream",
     "text": [
      "Model: \"sequential_4\"\n",
      "_________________________________________________________________\n",
      " Layer (type)                Output Shape              Param #   \n",
      "=================================================================\n",
      " embedding_4 (Embedding)     (None, 108, 30)           305250    \n",
      "                                                                 \n",
      " masking_3 (Masking)         (None, 108, 30)           0         \n",
      "                                                                 \n",
      " conv1d_1 (Conv1D)           (None, 106, 128)          11648     \n",
      "                                                                 \n",
      " activation_1 (Activation)   (None, 106, 128)          0         \n",
      "                                                                 \n",
      " lstm_1 (LSTM)               (None, 64)                49408     \n",
      "                                                                 \n",
      " dense_8 (Dense)             (None, 32)                2080      \n",
      "                                                                 \n",
      " dropout_3 (Dropout)         (None, 32)                0         \n",
      "                                                                 \n",
      " dense_9 (Dense)             (None, 5)                 165       \n",
      "                                                                 \n",
      "=================================================================\n",
      "Total params: 368,551\n",
      "Trainable params: 368,551\n",
      "Non-trainable params: 0\n",
      "_________________________________________________________________\n"
     ]
    }
   ],
   "source": [
    "model = Sequential()\n",
    "\n",
    "model.add(Embedding(input_dim=word_count,\n",
    "              input_length=training_length,\n",
    "              output_dim=30,\n",
    "              trainable=True,\n",
    "              mask_zero=True))\n",
    "model.add(Masking(mask_value=0.0))\n",
    "model.add(Conv1D(128, 3))\n",
    "model.add(Activation(\"relu\"))\n",
    "model.add(LSTM(64,recurrent_dropout=0.2))\n",
    "model.add(Dense(32, activation='relu'))\n",
    "model.add(Dropout(0.2))\n",
    "model.add(Dense(5, activation='softmax'))\n",
    "model.summary()"
   ]
  },
  {
   "cell_type": "code",
   "execution_count": 32,
   "metadata": {},
   "outputs": [],
   "source": [
    "model.compile(loss='categorical_crossentropy',\n",
    "              optimizer='adam',\n",
    "              metrics=['accuracy', tfa.metrics.F1Score(num_classes=num_classes)])"
   ]
  },
  {
   "cell_type": "code",
   "execution_count": 33,
   "metadata": {},
   "outputs": [
    {
     "name": "stdout",
     "output_type": "stream",
     "text": [
      "CPU times: user 2 µs, sys: 2 µs, total: 4 µs\n",
      "Wall time: 7.87 µs\n",
      "Epoch 1/20\n",
      "25/25 [==============================] - 14s 438ms/step - loss: 1.2374 - accuracy: 0.6776 - f1_score: 0.1802 - val_loss: 0.9344 - val_accuracy: 0.7011 - val_f1_score: 0.1649\n",
      "Epoch 2/20\n",
      "25/25 [==============================] - 10s 415ms/step - loss: 0.8807 - accuracy: 0.7072 - f1_score: 0.1908 - val_loss: 0.7906 - val_accuracy: 0.7148 - val_f1_score: 0.2498\n",
      "Epoch 3/20\n",
      "25/25 [==============================] - 10s 419ms/step - loss: 0.7506 - accuracy: 0.7490 - f1_score: 0.2884 - val_loss: 0.7398 - val_accuracy: 0.7350 - val_f1_score: 0.2701\n",
      "Epoch 4/20\n",
      "25/25 [==============================] - 10s 410ms/step - loss: 0.6612 - accuracy: 0.7718 - f1_score: 0.3005 - val_loss: 0.7194 - val_accuracy: 0.7451 - val_f1_score: 0.2894\n",
      "Epoch 5/20\n",
      "25/25 [==============================] - 10s 413ms/step - loss: 0.5982 - accuracy: 0.7890 - f1_score: 0.3332 - val_loss: 0.7288 - val_accuracy: 0.7451 - val_f1_score: 0.3140\n",
      "Epoch 6/20\n",
      "25/25 [==============================] - 10s 418ms/step - loss: 0.5559 - accuracy: 0.8067 - f1_score: 0.3782 - val_loss: 0.7429 - val_accuracy: 0.7466 - val_f1_score: 0.3235\n",
      "Epoch 7/20\n",
      "25/25 [==============================] - 11s 423ms/step - loss: 0.5229 - accuracy: 0.8178 - f1_score: 0.4048 - val_loss: 0.7749 - val_accuracy: 0.7437 - val_f1_score: 0.3436\n",
      "Epoch 8/20\n",
      "25/25 [==============================] - 11s 432ms/step - loss: 0.4951 - accuracy: 0.8318 - f1_score: 0.4297 - val_loss: 0.7896 - val_accuracy: 0.7430 - val_f1_score: 0.3388\n",
      "Epoch 9/20\n",
      "25/25 [==============================] - 11s 450ms/step - loss: 0.4624 - accuracy: 0.8412 - f1_score: 0.4604 - val_loss: 0.8227 - val_accuracy: 0.7278 - val_f1_score: 0.3480\n",
      "Epoch 10/20\n",
      "25/25 [==============================] - 11s 443ms/step - loss: 0.4366 - accuracy: 0.8502 - f1_score: 0.5320 - val_loss: 0.8537 - val_accuracy: 0.7278 - val_f1_score: 0.3808\n",
      "Epoch 11/20\n",
      "25/25 [==============================] - 11s 433ms/step - loss: 0.4040 - accuracy: 0.8661 - f1_score: 0.6202 - val_loss: 0.9054 - val_accuracy: 0.7206 - val_f1_score: 0.3824\n",
      "Epoch 12/20\n",
      "25/25 [==============================] - 11s 425ms/step - loss: 0.3764 - accuracy: 0.8760 - f1_score: 0.6566 - val_loss: 0.9552 - val_accuracy: 0.7235 - val_f1_score: 0.3885\n",
      "Epoch 13/20\n",
      "25/25 [==============================] - 10s 414ms/step - loss: 0.3538 - accuracy: 0.8860 - f1_score: 0.6991 - val_loss: 0.9821 - val_accuracy: 0.7227 - val_f1_score: 0.4012\n",
      "Epoch 14/20\n",
      "25/25 [==============================] - 10s 408ms/step - loss: 0.3372 - accuracy: 0.8941 - f1_score: 0.7241 - val_loss: 1.0393 - val_accuracy: 0.7227 - val_f1_score: 0.3886\n",
      "Epoch 15/20\n",
      "25/25 [==============================] - 10s 412ms/step - loss: 0.3232 - accuracy: 0.8988 - f1_score: 0.7382 - val_loss: 1.0853 - val_accuracy: 0.7220 - val_f1_score: 0.3953\n",
      "Epoch 16/20\n",
      "25/25 [==============================] - 10s 418ms/step - loss: 0.3020 - accuracy: 0.9084 - f1_score: 0.7688 - val_loss: 1.1557 - val_accuracy: 0.7242 - val_f1_score: 0.4121\n",
      "Epoch 17/20\n",
      "25/25 [==============================] - 11s 428ms/step - loss: 0.2873 - accuracy: 0.9120 - f1_score: 0.7830 - val_loss: 1.1670 - val_accuracy: 0.7199 - val_f1_score: 0.4007\n",
      "Epoch 18/20\n",
      "25/25 [==============================] - 11s 426ms/step - loss: 0.2773 - accuracy: 0.9155 - f1_score: 0.8014 - val_loss: 1.2471 - val_accuracy: 0.7141 - val_f1_score: 0.3876\n",
      "Epoch 19/20\n",
      "25/25 [==============================] - 10s 417ms/step - loss: 0.2678 - accuracy: 0.9220 - f1_score: 0.8221 - val_loss: 1.2587 - val_accuracy: 0.7227 - val_f1_score: 0.4019\n",
      "Epoch 20/20\n",
      "25/25 [==============================] - 10s 403ms/step - loss: 0.2559 - accuracy: 0.9260 - f1_score: 0.8366 - val_loss: 1.3004 - val_accuracy: 0.7141 - val_f1_score: 0.3998\n"
     ]
    }
   ],
   "source": [
    "%time\n",
    "history = model.fit(X_train, y_train,\n",
    "                    batch_size=batch_size,\n",
    "                    epochs=epochs,\n",
    "                    verbose=1,\n",
    "                    validation_split=0.1)"
   ]
  },
  {
   "cell_type": "code",
   "execution_count": 34,
   "metadata": {},
   "outputs": [
    {
     "name": "stdout",
     "output_type": "stream",
     "text": [
      "14/14 [==============================] - 2s 108ms/step - loss: 1.3003 - accuracy: 0.7290 - f1_score: 0.3806\n"
     ]
    }
   ],
   "source": [
    "score_cnnrnn= model.evaluate(X_test, y_test, batch_size=batch_size, verbose=1)"
   ]
  },
  {
   "cell_type": "markdown",
   "metadata": {},
   "source": [
    "#### RNN -> CNN"
   ]
  },
  {
   "cell_type": "code",
   "execution_count": 35,
   "metadata": {},
   "outputs": [
    {
     "name": "stdout",
     "output_type": "stream",
     "text": [
      "Model: \"sequential_5\"\n",
      "_________________________________________________________________\n",
      " Layer (type)                Output Shape              Param #   \n",
      "=================================================================\n",
      " embedding_5 (Embedding)     (None, 108, 30)           305250    \n",
      "                                                                 \n",
      " masking_4 (Masking)         (None, 108, 30)           0         \n",
      "                                                                 \n",
      " lstm_2 (LSTM)               (None, 108, 64)           24320     \n",
      "                                                                 \n",
      " conv1d_2 (Conv1D)           (None, 106, 64)           12352     \n",
      "                                                                 \n",
      " global_max_pooling1d_1 (Glo  (None, 64)               0         \n",
      " balMaxPooling1D)                                                \n",
      "                                                                 \n",
      " dense_10 (Dense)            (None, 32)                2080      \n",
      "                                                                 \n",
      " dropout_4 (Dropout)         (None, 32)                0         \n",
      "                                                                 \n",
      " dense_11 (Dense)            (None, 5)                 165       \n",
      "                                                                 \n",
      "=================================================================\n",
      "Total params: 344,167\n",
      "Trainable params: 344,167\n",
      "Non-trainable params: 0\n",
      "_________________________________________________________________\n"
     ]
    }
   ],
   "source": [
    "model = Sequential()\n",
    "\n",
    "model.add(Embedding(input_dim=word_count,\n",
    "              input_length=training_length,\n",
    "              output_dim=30,\n",
    "              trainable=True,\n",
    "              mask_zero=True))\n",
    "model.add(Masking(mask_value=0.0))\n",
    "model.add(LSTM(64,recurrent_dropout=0.2, return_sequences=True))\n",
    "model.add(Conv1D(64, 3))\n",
    "model.add(GlobalMaxPool1D())\n",
    "model.add(Dense(32, activation='relu'))\n",
    "model.add(Dropout(0.2))\n",
    "model.add(Dense(5, activation='softmax'))\n",
    "model.summary()"
   ]
  },
  {
   "cell_type": "code",
   "execution_count": 36,
   "metadata": {},
   "outputs": [],
   "source": [
    "model.compile(loss='categorical_crossentropy',\n",
    "              optimizer='adam',\n",
    "              metrics=['accuracy', tfa.metrics.F1Score(num_classes=num_classes)])"
   ]
  },
  {
   "cell_type": "code",
   "execution_count": 37,
   "metadata": {},
   "outputs": [
    {
     "name": "stdout",
     "output_type": "stream",
     "text": [
      "CPU times: user 2 µs, sys: 2 µs, total: 4 µs\n",
      "Wall time: 8.11 µs\n",
      "Epoch 1/20\n",
      "25/25 [==============================] - 12s 368ms/step - loss: 1.2722 - accuracy: 0.6757 - f1_score: 0.1759 - val_loss: 1.0558 - val_accuracy: 0.7011 - val_f1_score: 0.1649\n",
      "Epoch 2/20\n",
      "25/25 [==============================] - 9s 354ms/step - loss: 1.0302 - accuracy: 0.7019 - f1_score: 0.1656 - val_loss: 1.0030 - val_accuracy: 0.7011 - val_f1_score: 0.1649\n",
      "Epoch 3/20\n",
      "25/25 [==============================] - 9s 351ms/step - loss: 1.0234 - accuracy: 0.7024 - f1_score: 0.1650 - val_loss: 1.0022 - val_accuracy: 0.7011 - val_f1_score: 0.1649\n",
      "Epoch 4/20\n",
      "25/25 [==============================] - 9s 343ms/step - loss: 1.0119 - accuracy: 0.7025 - f1_score: 0.1651 - val_loss: 1.0014 - val_accuracy: 0.7011 - val_f1_score: 0.1649\n",
      "Epoch 5/20\n",
      "25/25 [==============================] - 9s 346ms/step - loss: 1.0125 - accuracy: 0.7030 - f1_score: 0.1651 - val_loss: 1.0044 - val_accuracy: 0.7011 - val_f1_score: 0.1649\n",
      "Epoch 6/20\n",
      "25/25 [==============================] - 9s 353ms/step - loss: 0.9993 - accuracy: 0.7030 - f1_score: 0.1651 - val_loss: 0.9711 - val_accuracy: 0.7011 - val_f1_score: 0.1649\n",
      "Epoch 7/20\n",
      "25/25 [==============================] - 9s 364ms/step - loss: 0.8563 - accuracy: 0.7133 - f1_score: 0.2419 - val_loss: 0.7599 - val_accuracy: 0.7292 - val_f1_score: 0.2596\n",
      "Epoch 8/20\n",
      "25/25 [==============================] - 9s 377ms/step - loss: 0.7323 - accuracy: 0.7559 - f1_score: 0.2857 - val_loss: 0.7274 - val_accuracy: 0.7365 - val_f1_score: 0.2721\n",
      "Epoch 9/20\n",
      "25/25 [==============================] - 9s 377ms/step - loss: 0.6753 - accuracy: 0.7688 - f1_score: 0.2970 - val_loss: 0.7101 - val_accuracy: 0.7422 - val_f1_score: 0.2858\n",
      "Epoch 10/20\n",
      "25/25 [==============================] - 10s 382ms/step - loss: 0.6279 - accuracy: 0.7807 - f1_score: 0.3294 - val_loss: 0.7057 - val_accuracy: 0.7444 - val_f1_score: 0.3134\n",
      "Epoch 11/20\n",
      "25/25 [==============================] - 10s 382ms/step - loss: 0.5914 - accuracy: 0.7954 - f1_score: 0.3610 - val_loss: 0.7124 - val_accuracy: 0.7473 - val_f1_score: 0.3351\n",
      "Epoch 12/20\n",
      "25/25 [==============================] - 9s 378ms/step - loss: 0.5650 - accuracy: 0.8019 - f1_score: 0.3729 - val_loss: 0.7261 - val_accuracy: 0.7444 - val_f1_score: 0.3294\n",
      "Epoch 13/20\n",
      "25/25 [==============================] - 9s 376ms/step - loss: 0.5428 - accuracy: 0.8107 - f1_score: 0.3922 - val_loss: 0.7444 - val_accuracy: 0.7509 - val_f1_score: 0.3464\n",
      "Epoch 14/20\n",
      "25/25 [==============================] - 9s 379ms/step - loss: 0.5170 - accuracy: 0.8203 - f1_score: 0.4114 - val_loss: 0.7543 - val_accuracy: 0.7487 - val_f1_score: 0.3415\n",
      "Epoch 15/20\n",
      "25/25 [==============================] - 9s 376ms/step - loss: 0.4960 - accuracy: 0.8254 - f1_score: 0.4279 - val_loss: 0.7668 - val_accuracy: 0.7502 - val_f1_score: 0.3431\n",
      "Epoch 16/20\n",
      "25/25 [==============================] - 10s 393ms/step - loss: 0.4778 - accuracy: 0.8315 - f1_score: 0.4411 - val_loss: 0.7729 - val_accuracy: 0.7487 - val_f1_score: 0.3445\n",
      "Epoch 17/20\n",
      "25/25 [==============================] - 9s 378ms/step - loss: 0.4611 - accuracy: 0.8385 - f1_score: 0.4749 - val_loss: 0.8045 - val_accuracy: 0.7451 - val_f1_score: 0.3506\n",
      "Epoch 18/20\n",
      "25/25 [==============================] - 9s 359ms/step - loss: 0.4467 - accuracy: 0.8450 - f1_score: 0.5060 - val_loss: 0.8469 - val_accuracy: 0.7430 - val_f1_score: 0.3595\n",
      "Epoch 19/20\n",
      "25/25 [==============================] - 9s 352ms/step - loss: 0.4374 - accuracy: 0.8460 - f1_score: 0.5145 - val_loss: 0.8595 - val_accuracy: 0.7466 - val_f1_score: 0.3791\n",
      "Epoch 20/20\n",
      "25/25 [==============================] - 9s 352ms/step - loss: 0.4213 - accuracy: 0.8546 - f1_score: 0.5581 - val_loss: 0.9016 - val_accuracy: 0.7444 - val_f1_score: 0.4114\n"
     ]
    }
   ],
   "source": [
    "%time\n",
    "history = model.fit(X_train, y_train,\n",
    "                    batch_size=batch_size,\n",
    "                    epochs=epochs,\n",
    "                    verbose=1,\n",
    "                    validation_split=0.1)"
   ]
  },
  {
   "cell_type": "code",
   "execution_count": 38,
   "metadata": {},
   "outputs": [
    {
     "name": "stdout",
     "output_type": "stream",
     "text": [
      "14/14 [==============================] - 1s 91ms/step - loss: 0.8999 - accuracy: 0.7432 - f1_score: 0.3743\n"
     ]
    }
   ],
   "source": [
    "score_rnncnn= model.evaluate(X_test, y_test, batch_size=batch_size, verbose=1)"
   ]
  },
  {
   "cell_type": "code",
   "execution_count": 39,
   "metadata": {},
   "outputs": [
    {
     "data": {
      "text/html": [
       "<div>\n",
       "<style scoped>\n",
       "    .dataframe tbody tr th:only-of-type {\n",
       "        vertical-align: middle;\n",
       "    }\n",
       "\n",
       "    .dataframe tbody tr th {\n",
       "        vertical-align: top;\n",
       "    }\n",
       "\n",
       "    .dataframe thead th {\n",
       "        text-align: right;\n",
       "    }\n",
       "</style>\n",
       "<table border=\"1\" class=\"dataframe\">\n",
       "  <thead>\n",
       "    <tr style=\"text-align: right;\">\n",
       "      <th></th>\n",
       "      <th>model</th>\n",
       "      <th>f1_score</th>\n",
       "    </tr>\n",
       "  </thead>\n",
       "  <tbody>\n",
       "    <tr>\n",
       "      <th>1</th>\n",
       "      <td>RNN_CNN</td>\n",
       "      <td>0.743180</td>\n",
       "    </tr>\n",
       "    <tr>\n",
       "      <th>0</th>\n",
       "      <td>CNN_RNN</td>\n",
       "      <td>0.728953</td>\n",
       "    </tr>\n",
       "  </tbody>\n",
       "</table>\n",
       "</div>"
      ],
      "text/plain": [
       "     model  f1_score\n",
       "1  RNN_CNN  0.743180\n",
       "0  CNN_RNN  0.728953"
      ]
     },
     "execution_count": 39,
     "metadata": {},
     "output_type": "execute_result"
    }
   ],
   "source": [
    "result_CNN_RNN = pd.DataFrame({'model': ['CNN_RNN', 'RNN_CNN'], 'f1_score': [score_cnnrnn[1], score_rnncnn[1]]})\n",
    "result_CNN_RNN.sort_values(by='f1_score', ascending=False)"
   ]
  },
  {
   "cell_type": "markdown",
   "metadata": {},
   "source": [
    "RNN_CNN показывает лучшую точность"
   ]
  },
  {
   "cell_type": "markdown",
   "metadata": {},
   "source": [
    "Общий итог"
   ]
  },
  {
   "cell_type": "code",
   "execution_count": 40,
   "metadata": {},
   "outputs": [
    {
     "data": {
      "text/html": [
       "<div>\n",
       "<style scoped>\n",
       "    .dataframe tbody tr th:only-of-type {\n",
       "        vertical-align: middle;\n",
       "    }\n",
       "\n",
       "    .dataframe tbody tr th {\n",
       "        vertical-align: top;\n",
       "    }\n",
       "\n",
       "    .dataframe thead th {\n",
       "        text-align: right;\n",
       "    }\n",
       "</style>\n",
       "<table border=\"1\" class=\"dataframe\">\n",
       "  <thead>\n",
       "    <tr style=\"text-align: right;\">\n",
       "      <th></th>\n",
       "      <th>model</th>\n",
       "      <th>f1_score</th>\n",
       "    </tr>\n",
       "  </thead>\n",
       "  <tbody>\n",
       "    <tr>\n",
       "      <th>5</th>\n",
       "      <td>RNN_CNN</td>\n",
       "      <td>0.743180</td>\n",
       "    </tr>\n",
       "    <tr>\n",
       "      <th>2</th>\n",
       "      <td>LSTM</td>\n",
       "      <td>0.739366</td>\n",
       "    </tr>\n",
       "    <tr>\n",
       "      <th>1</th>\n",
       "      <td>SimpleRNN</td>\n",
       "      <td>0.739220</td>\n",
       "    </tr>\n",
       "    <tr>\n",
       "      <th>0</th>\n",
       "      <td>CNN</td>\n",
       "      <td>0.737460</td>\n",
       "    </tr>\n",
       "    <tr>\n",
       "      <th>3</th>\n",
       "      <td>GRU</td>\n",
       "      <td>0.735700</td>\n",
       "    </tr>\n",
       "    <tr>\n",
       "      <th>4</th>\n",
       "      <td>CNN_RNN</td>\n",
       "      <td>0.728953</td>\n",
       "    </tr>\n",
       "  </tbody>\n",
       "</table>\n",
       "</div>"
      ],
      "text/plain": [
       "       model  f1_score\n",
       "5    RNN_CNN  0.743180\n",
       "2       LSTM  0.739366\n",
       "1  SimpleRNN  0.739220\n",
       "0        CNN  0.737460\n",
       "3        GRU  0.735700\n",
       "4    CNN_RNN  0.728953"
      ]
     },
     "execution_count": 40,
     "metadata": {},
     "output_type": "execute_result"
    }
   ],
   "source": [
    "result_CNN = pd.DataFrame({'model': 'CNN', 'f1_score': [score_conv[1]]})\n",
    "result_models = pd.concat([result_CNN, result_RNN, result_CNN_RNN], ignore_index=True)\n",
    "result_models.sort_values(by='f1_score', ascending=False)"
   ]
  },
  {
   "cell_type": "code",
   "execution_count": null,
   "metadata": {},
   "outputs": [],
   "source": []
  }
 ],
 "metadata": {
  "colab": {
   "collapsed_sections": [
    "gJABxhalLVQu",
    "IaQMCGHFLVQ6",
    "5AJk1B39LVRP",
    "RJlvqWuALVRs",
    "rck5OVqhLVSA",
    "mV3fmzp-LVSU",
    "H5THCOjMLVSg",
    "02s2Vh7MLVSj",
    "b1khxRFDLVSm",
    "sfUmWcAQLVSt",
    "BxvtN-3zLVS5",
    "gyrHhYkgLVTB"
   ],
   "name": "sem1_intro_common.ipynb",
   "provenance": []
  },
  "kernelspec": {
   "display_name": "Python 3 (ipykernel)",
   "language": "python",
   "name": "python3"
  },
  "language_info": {
   "codemirror_mode": {
    "name": "ipython",
    "version": 3
   },
   "file_extension": ".py",
   "mimetype": "text/x-python",
   "name": "python",
   "nbconvert_exporter": "python",
   "pygments_lexer": "ipython3",
   "version": "3.10.8"
  }
 },
 "nbformat": 4,
 "nbformat_minor": 4
}

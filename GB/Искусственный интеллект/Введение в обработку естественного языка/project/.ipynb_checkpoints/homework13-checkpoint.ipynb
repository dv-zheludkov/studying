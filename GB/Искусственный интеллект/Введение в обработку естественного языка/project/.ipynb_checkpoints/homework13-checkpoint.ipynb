{
 "cells": [
  {
   "cell_type": "markdown",
   "metadata": {
    "tags": []
   },
   "source": [
    "### Задание\n",
    "\n",
    "1.Взять датасет\n",
    "\n",
    "https://huggingface.co/datasets/merionum/ru_paraphraser \n",
    "\n",
    "решить задачу парафраза"
   ]
  },
  {
   "cell_type": "code",
   "execution_count": 2,
   "metadata": {},
   "outputs": [],
   "source": [
    "!pip install transformers sentencepiece datasets -q\n"
   ]
  },
  {
   "cell_type": "code",
   "execution_count": 3,
   "metadata": {},
   "outputs": [
    {
     "name": "stderr",
     "output_type": "stream",
     "text": [
      "/usr/local/lib/python3.10/site-packages/tqdm/auto.py:22: TqdmWarning: IProgress not found. Please update jupyter and ipywidgets. See https://ipywidgets.readthedocs.io/en/stable/user_install.html\n",
      "  from .autonotebook import tqdm as notebook_tqdm\n",
      "2022-12-05 11:02:23.339124: I tensorflow/core/platform/cpu_feature_guard.cc:193] This TensorFlow binary is optimized with oneAPI Deep Neural Network Library (oneDNN) to use the following CPU instructions in performance-critical operations:  AVX2 FMA\n",
      "To enable them in other operations, rebuild TensorFlow with the appropriate compiler flags.\n"
     ]
    }
   ],
   "source": [
    "import pandas as pd\n",
    "from datasets import load_dataset\n",
    "\n",
    "import torch\n",
    "from transformers import AutoModelForSequenceClassification, BertTokenizer"
   ]
  },
  {
   "cell_type": "code",
   "execution_count": 4,
   "metadata": {},
   "outputs": [
    {
     "name": "stderr",
     "output_type": "stream",
     "text": [
      "Downloading readme: 100%|███████████████████| 3.03k/3.03k [00:00<00:00, 636kB/s]\n",
      "Using custom data configuration merionum--ru_paraphraser-62b622e3b2274f4e\n"
     ]
    },
    {
     "name": "stdout",
     "output_type": "stream",
     "text": [
      "Downloading and preparing dataset json/merionum--ru_paraphraser to /Users/dv/.cache/huggingface/datasets/merionum___json/merionum--ru_paraphraser-62b622e3b2274f4e/0.0.0/e6070c77f18f01a5ad4551a8b7edfba20b8438b7cad4d94e6ad9378022ce4aab...\n"
     ]
    },
    {
     "name": "stderr",
     "output_type": "stream",
     "text": [
      "Downloading data files:   0%|                             | 0/1 [00:00<?, ?it/s]\n",
      "Downloading data:   0%|                              | 0.00/605k [00:00<?, ?B/s]\u001b[A\n",
      "Downloading data:   1%|▏                    | 4.10k/605k [00:00<00:19, 31.3kB/s]\u001b[A\n",
      "Downloading data:   7%|█▍                    | 41.0k/605k [00:00<00:03, 175kB/s]\u001b[A\n",
      "Downloading data:  16%|███▍                  | 94.2k/605k [00:00<00:01, 275kB/s]\u001b[A\n",
      "Downloading data:  35%|███████▉               | 209k/605k [00:00<00:00, 502kB/s]\u001b[A\n",
      "Downloading data: 100%|███████████████████████| 605k/605k [00:00<00:00, 886kB/s]\u001b[A\n",
      "Downloading data files: 100%|█████████████████████| 1/1 [00:01<00:00,  1.85s/it]\n",
      "Extracting data files: 100%|█████████████████████| 1/1 [00:00<00:00, 364.03it/s]\n",
      "                                                        \r"
     ]
    },
    {
     "name": "stdout",
     "output_type": "stream",
     "text": [
      "Dataset json downloaded and prepared to /Users/dv/.cache/huggingface/datasets/merionum___json/merionum--ru_paraphraser-62b622e3b2274f4e/0.0.0/e6070c77f18f01a5ad4551a8b7edfba20b8438b7cad4d94e6ad9378022ce4aab. Subsequent calls will reuse this data.\n"
     ]
    },
    {
     "name": "stderr",
     "output_type": "stream",
     "text": [
      "100%|████████████████████████████████████████████| 1/1 [00:00<00:00, 259.53it/s]\n"
     ]
    }
   ],
   "source": [
    "corpus = load_dataset('merionum/ru_paraphraser', data_files='test.jsonl')"
   ]
  },
  {
   "cell_type": "code",
   "execution_count": 5,
   "metadata": {},
   "outputs": [
    {
     "name": "stderr",
     "output_type": "stream",
     "text": [
      "Downloading: 100%|██████████████████████████| 1.12k/1.12k [00:00<00:00, 678kB/s]\n",
      "Downloading: 100%|███████████████████████████| 712M/712M [01:01<00:00, 11.6MB/s]\n",
      "Downloading: 100%|█████████████████████████| 1.65M/1.65M [00:00<00:00, 1.99MB/s]\n",
      "Downloading: 100%|█████████████████████████████| 112/112 [00:00<00:00, 71.8kB/s]\n",
      "Downloading: 100%|██████████████████████████████| 406/406 [00:00<00:00, 291kB/s]\n"
     ]
    }
   ],
   "source": [
    "model_name = 'cointegrated/rubert-base-cased-dp-paraphrase-detection'\n",
    "model = AutoModelForSequenceClassification.from_pretrained(model_name)\n",
    "tokenizer = BertTokenizer.from_pretrained(model_name)"
   ]
  },
  {
   "cell_type": "code",
   "execution_count": 6,
   "metadata": {},
   "outputs": [],
   "source": [
    "result_df = []\n",
    "\n",
    "def paraphrase_check(row_numb):\n",
    "    \n",
    "    text1 = corpus['train']['text_1'][row_numb]\n",
    "    text2 = corpus['train']['text_2'][row_numb]\n",
    "    \n",
    "    batch = tokenizer(text1, text2, return_tensors='pt').to(model.device)\n",
    "    with torch.inference_mode():\n",
    "        proba = torch.softmax(model(**batch).logits, -1).numpy()\n",
    "    \n",
    "    p = proba[0]\n",
    "    \n",
    "    result_df.append([text1, text2, p[1]])\n",
    "    \n",
    "    return pd.DataFrame(result_df, columns=['текст 1', 'текст 2', 'вероятность парафраза'])"
   ]
  },
  {
   "cell_type": "code",
   "execution_count": 7,
   "metadata": {},
   "outputs": [
    {
     "data": {
      "text/html": [
       "<div>\n",
       "<style scoped>\n",
       "    .dataframe tbody tr th:only-of-type {\n",
       "        vertical-align: middle;\n",
       "    }\n",
       "\n",
       "    .dataframe tbody tr th {\n",
       "        vertical-align: top;\n",
       "    }\n",
       "\n",
       "    .dataframe thead th {\n",
       "        text-align: right;\n",
       "    }\n",
       "</style>\n",
       "<table border=\"1\" class=\"dataframe\">\n",
       "  <thead>\n",
       "    <tr style=\"text-align: right;\">\n",
       "      <th></th>\n",
       "      <th>текст 1</th>\n",
       "      <th>текст 2</th>\n",
       "      <th>вероятность парафраза</th>\n",
       "    </tr>\n",
       "  </thead>\n",
       "  <tbody>\n",
       "    <tr>\n",
       "      <th>0</th>\n",
       "      <td>Цены на нефть восстанавливаются</td>\n",
       "      <td>Парламент Словакии поблагодарил народы бывшего...</td>\n",
       "      <td>0.054301</td>\n",
       "    </tr>\n",
       "  </tbody>\n",
       "</table>\n",
       "</div>"
      ],
      "text/plain": [
       "                           текст 1  \\\n",
       "0  Цены на нефть восстанавливаются   \n",
       "\n",
       "                                             текст 2  вероятность парафраза  \n",
       "0  Парламент Словакии поблагодарил народы бывшего...               0.054301  "
      ]
     },
     "execution_count": 7,
     "metadata": {},
     "output_type": "execute_result"
    }
   ],
   "source": [
    "paraphrase_check(0)"
   ]
  },
  {
   "cell_type": "code",
   "execution_count": 8,
   "metadata": {},
   "outputs": [
    {
     "data": {
      "text/html": [
       "<div>\n",
       "<style scoped>\n",
       "    .dataframe tbody tr th:only-of-type {\n",
       "        vertical-align: middle;\n",
       "    }\n",
       "\n",
       "    .dataframe tbody tr th {\n",
       "        vertical-align: top;\n",
       "    }\n",
       "\n",
       "    .dataframe thead th {\n",
       "        text-align: right;\n",
       "    }\n",
       "</style>\n",
       "<table border=\"1\" class=\"dataframe\">\n",
       "  <thead>\n",
       "    <tr style=\"text-align: right;\">\n",
       "      <th></th>\n",
       "      <th>текст 1</th>\n",
       "      <th>текст 2</th>\n",
       "      <th>вероятность парафраза</th>\n",
       "    </tr>\n",
       "  </thead>\n",
       "  <tbody>\n",
       "    <tr>\n",
       "      <th>0</th>\n",
       "      <td>Цены на нефть восстанавливаются</td>\n",
       "      <td>Парламент Словакии поблагодарил народы бывшего...</td>\n",
       "      <td>0.054301</td>\n",
       "    </tr>\n",
       "    <tr>\n",
       "      <th>1</th>\n",
       "      <td>Пушков: у Обамы не хватило духа лично поздрави...</td>\n",
       "      <td>Пушков: Обама не нашел в себе духа лично поздр...</td>\n",
       "      <td>0.972294</td>\n",
       "    </tr>\n",
       "  </tbody>\n",
       "</table>\n",
       "</div>"
      ],
      "text/plain": [
       "                                             текст 1  \\\n",
       "0                    Цены на нефть восстанавливаются   \n",
       "1  Пушков: у Обамы не хватило духа лично поздрави...   \n",
       "\n",
       "                                             текст 2  вероятность парафраза  \n",
       "0  Парламент Словакии поблагодарил народы бывшего...               0.054301  \n",
       "1  Пушков: Обама не нашел в себе духа лично поздр...               0.972294  "
      ]
     },
     "execution_count": 8,
     "metadata": {},
     "output_type": "execute_result"
    }
   ],
   "source": [
    "paraphrase_check(10)"
   ]
  },
  {
   "cell_type": "code",
   "execution_count": 9,
   "metadata": {},
   "outputs": [
    {
     "data": {
      "text/html": [
       "<div>\n",
       "<style scoped>\n",
       "    .dataframe tbody tr th:only-of-type {\n",
       "        vertical-align: middle;\n",
       "    }\n",
       "\n",
       "    .dataframe tbody tr th {\n",
       "        vertical-align: top;\n",
       "    }\n",
       "\n",
       "    .dataframe thead th {\n",
       "        text-align: right;\n",
       "    }\n",
       "</style>\n",
       "<table border=\"1\" class=\"dataframe\">\n",
       "  <thead>\n",
       "    <tr style=\"text-align: right;\">\n",
       "      <th></th>\n",
       "      <th>текст 1</th>\n",
       "      <th>текст 2</th>\n",
       "      <th>вероятность парафраза</th>\n",
       "    </tr>\n",
       "  </thead>\n",
       "  <tbody>\n",
       "    <tr>\n",
       "      <th>0</th>\n",
       "      <td>Цены на нефть восстанавливаются</td>\n",
       "      <td>Парламент Словакии поблагодарил народы бывшего...</td>\n",
       "      <td>0.054301</td>\n",
       "    </tr>\n",
       "    <tr>\n",
       "      <th>1</th>\n",
       "      <td>Пушков: у Обамы не хватило духа лично поздрави...</td>\n",
       "      <td>Пушков: Обама не нашел в себе духа лично поздр...</td>\n",
       "      <td>0.972294</td>\n",
       "    </tr>\n",
       "    <tr>\n",
       "      <th>2</th>\n",
       "      <td>Лидер либдемов Ник Клегг подал в отставку посл...</td>\n",
       "      <td>Лидер британских лейбористов подал в отставку ...</td>\n",
       "      <td>0.919144</td>\n",
       "    </tr>\n",
       "  </tbody>\n",
       "</table>\n",
       "</div>"
      ],
      "text/plain": [
       "                                             текст 1  \\\n",
       "0                    Цены на нефть восстанавливаются   \n",
       "1  Пушков: у Обамы не хватило духа лично поздрави...   \n",
       "2  Лидер либдемов Ник Клегг подал в отставку посл...   \n",
       "\n",
       "                                             текст 2  вероятность парафраза  \n",
       "0  Парламент Словакии поблагодарил народы бывшего...               0.054301  \n",
       "1  Пушков: Обама не нашел в себе духа лично поздр...               0.972294  \n",
       "2  Лидер британских лейбористов подал в отставку ...               0.919144  "
      ]
     },
     "execution_count": 9,
     "metadata": {},
     "output_type": "execute_result"
    }
   ],
   "source": [
    "paraphrase_check(20)"
   ]
  },
  {
   "cell_type": "code",
   "execution_count": 10,
   "metadata": {},
   "outputs": [
    {
     "data": {
      "text/html": [
       "<div>\n",
       "<style scoped>\n",
       "    .dataframe tbody tr th:only-of-type {\n",
       "        vertical-align: middle;\n",
       "    }\n",
       "\n",
       "    .dataframe tbody tr th {\n",
       "        vertical-align: top;\n",
       "    }\n",
       "\n",
       "    .dataframe thead th {\n",
       "        text-align: right;\n",
       "    }\n",
       "</style>\n",
       "<table border=\"1\" class=\"dataframe\">\n",
       "  <thead>\n",
       "    <tr style=\"text-align: right;\">\n",
       "      <th></th>\n",
       "      <th>текст 1</th>\n",
       "      <th>текст 2</th>\n",
       "      <th>вероятность парафраза</th>\n",
       "    </tr>\n",
       "  </thead>\n",
       "  <tbody>\n",
       "    <tr>\n",
       "      <th>0</th>\n",
       "      <td>Цены на нефть восстанавливаются</td>\n",
       "      <td>Парламент Словакии поблагодарил народы бывшего...</td>\n",
       "      <td>0.054301</td>\n",
       "    </tr>\n",
       "    <tr>\n",
       "      <th>1</th>\n",
       "      <td>Пушков: у Обамы не хватило духа лично поздрави...</td>\n",
       "      <td>Пушков: Обама не нашел в себе духа лично поздр...</td>\n",
       "      <td>0.972294</td>\n",
       "    </tr>\n",
       "    <tr>\n",
       "      <th>2</th>\n",
       "      <td>Лидер либдемов Ник Клегг подал в отставку посл...</td>\n",
       "      <td>Лидер британских лейбористов подал в отставку ...</td>\n",
       "      <td>0.919144</td>\n",
       "    </tr>\n",
       "    <tr>\n",
       "      <th>3</th>\n",
       "      <td>Прокуратура пока не решила, обжаловать ли приг...</td>\n",
       "      <td>Защита Васильевой обжалует приговор суда</td>\n",
       "      <td>0.239415</td>\n",
       "    </tr>\n",
       "  </tbody>\n",
       "</table>\n",
       "</div>"
      ],
      "text/plain": [
       "                                             текст 1  \\\n",
       "0                    Цены на нефть восстанавливаются   \n",
       "1  Пушков: у Обамы не хватило духа лично поздрави...   \n",
       "2  Лидер либдемов Ник Клегг подал в отставку посл...   \n",
       "3  Прокуратура пока не решила, обжаловать ли приг...   \n",
       "\n",
       "                                             текст 2  вероятность парафраза  \n",
       "0  Парламент Словакии поблагодарил народы бывшего...               0.054301  \n",
       "1  Пушков: Обама не нашел в себе духа лично поздр...               0.972294  \n",
       "2  Лидер британских лейбористов подал в отставку ...               0.919144  \n",
       "3           Защита Васильевой обжалует приговор суда               0.239415  "
      ]
     },
     "execution_count": 10,
     "metadata": {},
     "output_type": "execute_result"
    }
   ],
   "source": [
    "paraphrase_check(30)"
   ]
  },
  {
   "cell_type": "code",
   "execution_count": 11,
   "metadata": {},
   "outputs": [
    {
     "data": {
      "text/html": [
       "<div>\n",
       "<style scoped>\n",
       "    .dataframe tbody tr th:only-of-type {\n",
       "        vertical-align: middle;\n",
       "    }\n",
       "\n",
       "    .dataframe tbody tr th {\n",
       "        vertical-align: top;\n",
       "    }\n",
       "\n",
       "    .dataframe thead th {\n",
       "        text-align: right;\n",
       "    }\n",
       "</style>\n",
       "<table border=\"1\" class=\"dataframe\">\n",
       "  <thead>\n",
       "    <tr style=\"text-align: right;\">\n",
       "      <th></th>\n",
       "      <th>текст 1</th>\n",
       "      <th>текст 2</th>\n",
       "      <th>вероятность парафраза</th>\n",
       "    </tr>\n",
       "  </thead>\n",
       "  <tbody>\n",
       "    <tr>\n",
       "      <th>0</th>\n",
       "      <td>Цены на нефть восстанавливаются</td>\n",
       "      <td>Парламент Словакии поблагодарил народы бывшего...</td>\n",
       "      <td>0.054301</td>\n",
       "    </tr>\n",
       "    <tr>\n",
       "      <th>1</th>\n",
       "      <td>Пушков: у Обамы не хватило духа лично поздрави...</td>\n",
       "      <td>Пушков: Обама не нашел в себе духа лично поздр...</td>\n",
       "      <td>0.972294</td>\n",
       "    </tr>\n",
       "    <tr>\n",
       "      <th>2</th>\n",
       "      <td>Лидер либдемов Ник Клегг подал в отставку посл...</td>\n",
       "      <td>Лидер британских лейбористов подал в отставку ...</td>\n",
       "      <td>0.919144</td>\n",
       "    </tr>\n",
       "    <tr>\n",
       "      <th>3</th>\n",
       "      <td>Прокуратура пока не решила, обжаловать ли приг...</td>\n",
       "      <td>Защита Васильевой обжалует приговор суда</td>\n",
       "      <td>0.239415</td>\n",
       "    </tr>\n",
       "    <tr>\n",
       "      <th>4</th>\n",
       "      <td>Владимир Путин освободил от должности почти 20...</td>\n",
       "      <td>Путин снял с должностей более 20 руководителей...</td>\n",
       "      <td>0.972911</td>\n",
       "    </tr>\n",
       "  </tbody>\n",
       "</table>\n",
       "</div>"
      ],
      "text/plain": [
       "                                             текст 1  \\\n",
       "0                    Цены на нефть восстанавливаются   \n",
       "1  Пушков: у Обамы не хватило духа лично поздрави...   \n",
       "2  Лидер либдемов Ник Клегг подал в отставку посл...   \n",
       "3  Прокуратура пока не решила, обжаловать ли приг...   \n",
       "4  Владимир Путин освободил от должности почти 20...   \n",
       "\n",
       "                                             текст 2  вероятность парафраза  \n",
       "0  Парламент Словакии поблагодарил народы бывшего...               0.054301  \n",
       "1  Пушков: Обама не нашел в себе духа лично поздр...               0.972294  \n",
       "2  Лидер британских лейбористов подал в отставку ...               0.919144  \n",
       "3           Защита Васильевой обжалует приговор суда               0.239415  \n",
       "4  Путин снял с должностей более 20 руководителей...               0.972911  "
      ]
     },
     "execution_count": 11,
     "metadata": {},
     "output_type": "execute_result"
    }
   ],
   "source": [
    "paraphrase_check(40)"
   ]
  },
  {
   "cell_type": "code",
   "execution_count": null,
   "metadata": {},
   "outputs": [],
   "source": []
  },
  {
   "cell_type": "markdown",
   "metadata": {},
   "source": [
    "Предобученная модель хорошо решает задачу"
   ]
  },
  {
   "cell_type": "code",
   "execution_count": null,
   "metadata": {},
   "outputs": [],
   "source": []
  }
 ],
 "metadata": {
  "colab": {
   "collapsed_sections": [
    "gJABxhalLVQu",
    "IaQMCGHFLVQ6",
    "5AJk1B39LVRP",
    "RJlvqWuALVRs",
    "rck5OVqhLVSA",
    "mV3fmzp-LVSU",
    "H5THCOjMLVSg",
    "02s2Vh7MLVSj",
    "b1khxRFDLVSm",
    "sfUmWcAQLVSt",
    "BxvtN-3zLVS5",
    "gyrHhYkgLVTB"
   ],
   "name": "sem1_intro_common.ipynb",
   "provenance": []
  },
  "kernelspec": {
   "display_name": "Python 3 (ipykernel)",
   "language": "python",
   "name": "python3"
  },
  "language_info": {
   "codemirror_mode": {
    "name": "ipython",
    "version": 3
   },
   "file_extension": ".py",
   "mimetype": "text/x-python",
   "name": "python",
   "nbconvert_exporter": "python",
   "pygments_lexer": "ipython3",
   "version": "3.10.8"
  }
 },
 "nbformat": 4,
 "nbformat_minor": 4
}

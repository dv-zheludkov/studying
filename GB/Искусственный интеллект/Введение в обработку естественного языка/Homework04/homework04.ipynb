{
 "cells": [
  {
   "cell_type": "markdown",
   "metadata": {},
   "source": [
    "### Задача тематическое моделирование\n",
    "\n",
    "продолжаем исследование датасета с твитами\n",
    "\n",
    "Скачиваем датасет ([источник](http://study.mokoron.com/)): [положительные](https://www.dropbox.com/s/fnpq3z4bcnoktiv/positive.csv?dl=0), [отрицательные](https://www.dropbox.com/s/r6u59ljhhjdg6j0/negative.csv).\n",
    "\n",
    "или можно через ноутбук\n",
    "\n",
    "!wget https://www.dropbox.com/s/fnpq3z4bcnoktiv/positive.csv\n",
    "!wget https://www.dropbox.com/s/r6u59ljhhjdg6j0/negative.csv\n",
    "\n",
    "как альтернатива можно скачать данные из Роспотребнадзора \n",
    "https://zpp.rospotrebnadzor.ru/Forum/Appeals\n",
    "для этого берём ноутбук `parse_rospotrebnadzor.ipynb`\n",
    "устанавливаем количество скачанных страниц больше не 50-сят хотябы 500 и для анализа берём только вопросы так как ответы есть не всегда\n",
    "\n",
    "что надо сделать \n",
    "1. объединить в одну выборку (это только для твитов), для роспотребнадзора сформировать датасет из вопросов\n",
    "2. провести исследование и выявить тематики о которых говорят в твитах (для твитов), а для роспотребнадзора так же выявить тематики о которых люди пишут проанализировать\n",
    "3. сделать визуализацию кластеров тематик\n",
    "4. проинтерпритировать получившиеся тематики"
   ]
  },
  {
   "cell_type": "code",
   "execution_count": 1,
   "metadata": {},
   "outputs": [
    {
     "name": "stdout",
     "output_type": "stream",
     "text": [
      "--2022-10-18 16:41:18--  https://www.dropbox.com/s/fnpq3z4bcnoktiv/positive.csv\n",
      "Распознаётся www.dropbox.com (www.dropbox.com)… 162.125.70.18\n",
      "Подключение к www.dropbox.com (www.dropbox.com)|162.125.70.18|:443... соединение установлено.\n",
      "HTTP-запрос отправлен. Ожидание ответа… 302 Found\n",
      "Адрес: /s/raw/fnpq3z4bcnoktiv/positive.csv [переход]\n",
      "--2022-10-18 16:41:20--  https://www.dropbox.com/s/raw/fnpq3z4bcnoktiv/positive.csv\n",
      "Повторное использование соединения с www.dropbox.com:443.\n",
      "HTTP-запрос отправлен. Ожидание ответа… 302 Found\n",
      "Адрес: https://uc277755833a331fe1716980b0a1.dl.dropboxusercontent.com/cd/0/inline/BvAd_b9KfFVi4LIOBdrs30OxT-OhgPdlIcOeLJyWfuUciePoM3in2uUYB7q83653-ULq7HMaQVNJ3UVf3gFob7xSMVZoC60WNAWXawmmZ6B0CAmTROy5Cs13rYB0kkgaOEpCm66a_xT5Iu9YgbmG2waN7F8feW64niToSoarE24ODw/file# [переход]\n",
      "--2022-10-18 16:41:20--  https://uc277755833a331fe1716980b0a1.dl.dropboxusercontent.com/cd/0/inline/BvAd_b9KfFVi4LIOBdrs30OxT-OhgPdlIcOeLJyWfuUciePoM3in2uUYB7q83653-ULq7HMaQVNJ3UVf3gFob7xSMVZoC60WNAWXawmmZ6B0CAmTROy5Cs13rYB0kkgaOEpCm66a_xT5Iu9YgbmG2waN7F8feW64niToSoarE24ODw/file\n",
      "Распознаётся uc277755833a331fe1716980b0a1.dl.dropboxusercontent.com (uc277755833a331fe1716980b0a1.dl.dropboxusercontent.com)… 162.125.70.15\n",
      "Подключение к uc277755833a331fe1716980b0a1.dl.dropboxusercontent.com (uc277755833a331fe1716980b0a1.dl.dropboxusercontent.com)|162.125.70.15|:443... соединение установлено.\n",
      "HTTP-запрос отправлен. Ожидание ответа… 200 OK\n",
      "Длина: 26233379 (25M) [text/plain]\n",
      "Сохранение в: «positive.csv.1»\n",
      "\n",
      "positive.csv.1      100%[===================>]  25,02M  13,2MB/s    за 1,9s    \n",
      "\n",
      "2022-10-18 16:41:23 (13,2 MB/s) - «positive.csv.1» сохранён [26233379/26233379]\n",
      "\n"
     ]
    }
   ],
   "source": [
    "!wget https://www.dropbox.com/s/fnpq3z4bcnoktiv/positive.csv "
   ]
  },
  {
   "cell_type": "code",
   "execution_count": 2,
   "metadata": {},
   "outputs": [
    {
     "name": "stdout",
     "output_type": "stream",
     "text": [
      "--2022-10-18 16:41:23--  https://www.dropbox.com/s/r6u59ljhhjdg6j0/negative.csv\n",
      "Распознаётся www.dropbox.com (www.dropbox.com)… 162.125.70.18\n",
      "Подключение к www.dropbox.com (www.dropbox.com)|162.125.70.18|:443... соединение установлено.\n",
      "HTTP-запрос отправлен. Ожидание ответа… 302 Found\n",
      "Адрес: /s/raw/r6u59ljhhjdg6j0/negative.csv [переход]\n",
      "--2022-10-18 16:41:25--  https://www.dropbox.com/s/raw/r6u59ljhhjdg6j0/negative.csv\n",
      "Повторное использование соединения с www.dropbox.com:443.\n",
      "HTTP-запрос отправлен. Ожидание ответа… 302 Found\n",
      "Адрес: https://uc8ae7afd503ffa0d76ca0937381.dl.dropboxusercontent.com/cd/0/inline/BvCHzXwN-1jyjjSXog914M7hoQDSndTbhC3nlv87WdxFI0BhncogfpkZUdue5vf0-G81V3PoHcqJJsKpineooHtS9qyGSGK_4PT4OW05MwPQlcrG2lekef-EB2x0jH9UOeWUQ6Dga60QqeJjE2T-l2peGmOL8s84mUKkG4CkMTlfkQ/file# [переход]\n",
      "--2022-10-18 16:41:25--  https://uc8ae7afd503ffa0d76ca0937381.dl.dropboxusercontent.com/cd/0/inline/BvCHzXwN-1jyjjSXog914M7hoQDSndTbhC3nlv87WdxFI0BhncogfpkZUdue5vf0-G81V3PoHcqJJsKpineooHtS9qyGSGK_4PT4OW05MwPQlcrG2lekef-EB2x0jH9UOeWUQ6Dga60QqeJjE2T-l2peGmOL8s84mUKkG4CkMTlfkQ/file\n",
      "Распознаётся uc8ae7afd503ffa0d76ca0937381.dl.dropboxusercontent.com (uc8ae7afd503ffa0d76ca0937381.dl.dropboxusercontent.com)… 162.125.70.15\n",
      "Подключение к uc8ae7afd503ffa0d76ca0937381.dl.dropboxusercontent.com (uc8ae7afd503ffa0d76ca0937381.dl.dropboxusercontent.com)|162.125.70.15|:443... соединение установлено.\n",
      "HTTP-запрос отправлен. Ожидание ответа… 200 OK\n",
      "Длина: 24450101 (23M) [text/plain]\n",
      "Сохранение в: «negative.csv.1»\n",
      "\n",
      "negative.csv.1      100%[===================>]  23,32M  13,3MB/s    за 1,7s    \n",
      "\n",
      "2022-10-18 16:41:28 (13,3 MB/s) - «negative.csv.1» сохранён [24450101/24450101]\n",
      "\n"
     ]
    }
   ],
   "source": [
    "!wget https://www.dropbox.com/s/r6u59ljhhjdg6j0/negative.csv"
   ]
  },
  {
   "cell_type": "code",
   "execution_count": 3,
   "metadata": {},
   "outputs": [
    {
     "name": "stdout",
     "output_type": "stream",
     "text": [
      "\u001b[33mDEPRECATION: Configuring installation scheme with distutils config files is deprecated and will no longer work in the near future. If you are using a Homebrew or Linuxbrew Python, please see discussion at https://github.com/Homebrew/homebrew-core/issues/76621\u001b[0m\u001b[33m\n",
      "\u001b[0mRequirement already satisfied: pyLDAvis in /usr/local/lib/python3.9/site-packages (3.3.1)\n",
      "Requirement already satisfied: jinja2 in /usr/local/lib/python3.9/site-packages (from pyLDAvis) (3.0.3)\n",
      "Requirement already satisfied: sklearn in /usr/local/lib/python3.9/site-packages (from pyLDAvis) (0.0)\n",
      "Requirement already satisfied: joblib in /usr/local/lib/python3.9/site-packages (from pyLDAvis) (1.1.0)\n",
      "Requirement already satisfied: numpy>=1.20.0 in /usr/local/lib/python3.9/site-packages (from pyLDAvis) (1.21.4)\n",
      "Requirement already satisfied: scipy in /usr/local/lib/python3.9/site-packages (from pyLDAvis) (1.8.0)\n",
      "Requirement already satisfied: funcy in /usr/local/lib/python3.9/site-packages (from pyLDAvis) (1.17)\n",
      "Requirement already satisfied: pandas>=1.2.0 in /usr/local/lib/python3.9/site-packages (from pyLDAvis) (1.4.1)\n",
      "Requirement already satisfied: scikit-learn in /usr/local/lib/python3.9/site-packages (from pyLDAvis) (1.0.2)\n",
      "Requirement already satisfied: future in /usr/local/lib/python3.9/site-packages (from pyLDAvis) (0.18.2)\n",
      "Requirement already satisfied: setuptools in /usr/local/lib/python3.9/site-packages (from pyLDAvis) (65.3.0)\n",
      "Requirement already satisfied: gensim in /usr/local/lib/python3.9/site-packages (from pyLDAvis) (4.2.0)\n",
      "Requirement already satisfied: numexpr in /usr/local/lib/python3.9/site-packages (from pyLDAvis) (2.8.3)\n",
      "Requirement already satisfied: pytz>=2020.1 in /usr/local/lib/python3.9/site-packages (from pandas>=1.2.0->pyLDAvis) (2022.1)\n",
      "Requirement already satisfied: python-dateutil>=2.8.1 in /usr/local/lib/python3.9/site-packages (from pandas>=1.2.0->pyLDAvis) (2.8.2)\n",
      "Requirement already satisfied: smart-open>=1.8.1 in /usr/local/lib/python3.9/site-packages (from gensim->pyLDAvis) (5.2.1)\n",
      "Requirement already satisfied: MarkupSafe>=2.0 in /usr/local/lib/python3.9/site-packages (from jinja2->pyLDAvis) (2.1.1)\n",
      "Requirement already satisfied: packaging in /usr/local/lib/python3.9/site-packages (from numexpr->pyLDAvis) (21.3)\n",
      "Requirement already satisfied: threadpoolctl>=2.0.0 in /usr/local/lib/python3.9/site-packages (from scikit-learn->pyLDAvis) (3.1.0)\n",
      "Requirement already satisfied: six>=1.5 in /usr/local/lib/python3.9/site-packages (from python-dateutil>=2.8.1->pandas>=1.2.0->pyLDAvis) (1.16.0)\n",
      "Requirement already satisfied: pyparsing!=3.0.5,>=2.0.2 in /usr/local/lib/python3.9/site-packages (from packaging->numexpr->pyLDAvis) (3.0.7)\n",
      "\u001b[33mDEPRECATION: Configuring installation scheme with distutils config files is deprecated and will no longer work in the near future. If you are using a Homebrew or Linuxbrew Python, please see discussion at https://github.com/Homebrew/homebrew-core/issues/76621\u001b[0m\u001b[33m\n",
      "\u001b[0m"
     ]
    }
   ],
   "source": [
    "!pip install pyLDAvis"
   ]
  },
  {
   "cell_type": "code",
   "execution_count": 4,
   "metadata": {},
   "outputs": [],
   "source": [
    "import pandas as pd\n",
    "import numpy as np\n",
    "import re\n",
    "\n",
    "from nltk.corpus import stopwords\n",
    "import nltk\n",
    "\n",
    "import pymorphy2\n",
    "from gensim.models import *\n",
    "from gensim import corpora\n",
    "\n",
    "import pyLDAvis\n",
    "import pyLDAvis.gensim_models as gensimvis"
   ]
  },
  {
   "cell_type": "code",
   "execution_count": 5,
   "metadata": {},
   "outputs": [],
   "source": [
    "import warnings\n",
    "\n",
    "def fxn():\n",
    "    warnings.warn(\"deprecated\", DeprecationWarning)\n",
    "\n",
    "with warnings.catch_warnings():\n",
    "    warnings.simplefilter(\"ignore\")\n",
    "    fxn()"
   ]
  },
  {
   "cell_type": "code",
   "execution_count": 6,
   "metadata": {},
   "outputs": [
    {
     "data": {
      "text/html": [
       "<div>\n",
       "<style scoped>\n",
       "    .dataframe tbody tr th:only-of-type {\n",
       "        vertical-align: middle;\n",
       "    }\n",
       "\n",
       "    .dataframe tbody tr th {\n",
       "        vertical-align: top;\n",
       "    }\n",
       "\n",
       "    .dataframe thead th {\n",
       "        text-align: right;\n",
       "    }\n",
       "</style>\n",
       "<table border=\"1\" class=\"dataframe\">\n",
       "  <thead>\n",
       "    <tr style=\"text-align: right;\">\n",
       "      <th></th>\n",
       "      <th>text</th>\n",
       "      <th>label</th>\n",
       "    </tr>\n",
       "  </thead>\n",
       "  <tbody>\n",
       "    <tr>\n",
       "      <th>0</th>\n",
       "      <td>@first_timee хоть я и школота, но поверь, у на...</td>\n",
       "      <td>positive</td>\n",
       "    </tr>\n",
       "    <tr>\n",
       "      <th>1</th>\n",
       "      <td>Да, все-таки он немного похож на него. Но мой ...</td>\n",
       "      <td>positive</td>\n",
       "    </tr>\n",
       "    <tr>\n",
       "      <th>2</th>\n",
       "      <td>RT @KatiaCheh: Ну ты идиотка) я испугалась за ...</td>\n",
       "      <td>positive</td>\n",
       "    </tr>\n",
       "    <tr>\n",
       "      <th>3</th>\n",
       "      <td>RT @digger2912: \"Кто то в углу сидит и погибае...</td>\n",
       "      <td>positive</td>\n",
       "    </tr>\n",
       "    <tr>\n",
       "      <th>4</th>\n",
       "      <td>@irina_dyshkant Вот что значит страшилка :D\\nН...</td>\n",
       "      <td>positive</td>\n",
       "    </tr>\n",
       "  </tbody>\n",
       "</table>\n",
       "</div>"
      ],
      "text/plain": [
       "                                                text     label\n",
       "0  @first_timee хоть я и школота, но поверь, у на...  positive\n",
       "1  Да, все-таки он немного похож на него. Но мой ...  positive\n",
       "2  RT @KatiaCheh: Ну ты идиотка) я испугалась за ...  positive\n",
       "3  RT @digger2912: \"Кто то в углу сидит и погибае...  positive\n",
       "4  @irina_dyshkant Вот что значит страшилка :D\\nН...  positive"
      ]
     },
     "execution_count": 6,
     "metadata": {},
     "output_type": "execute_result"
    }
   ],
   "source": [
    "positive = pd.read_csv('positive.csv', sep=';', usecols=[3], names=['text'])\n",
    "positive['label'] = ['positive'] * len(positive)\n",
    "\n",
    "negative = pd.read_csv('negative.csv', sep=';', usecols=[3], names=['text'])\n",
    "negative['label'] = ['negative'] * len(negative)\n",
    "\n",
    "df = pd.concat([positive, negative], ignore_index=True)\n",
    "df.head()"
   ]
  },
  {
   "cell_type": "code",
   "execution_count": 7,
   "metadata": {},
   "outputs": [
    {
     "name": "stderr",
     "output_type": "stream",
     "text": [
      "/usr/local/lib/python3.9/site-packages/pymorphy2/units/base.py:70: DeprecationWarning: inspect.getargspec() is deprecated since Python 3.0, use inspect.signature() or inspect.getfullargspec()\n",
      "  args, varargs, kw, default = inspect.getargspec(cls.__init__)\n",
      "/usr/local/lib/python3.9/site-packages/pymorphy2/units/base.py:70: DeprecationWarning: inspect.getargspec() is deprecated since Python 3.0, use inspect.signature() or inspect.getfullargspec()\n",
      "  args, varargs, kw, default = inspect.getargspec(cls.__init__)\n",
      "/usr/local/lib/python3.9/site-packages/pymorphy2/units/base.py:70: DeprecationWarning: inspect.getargspec() is deprecated since Python 3.0, use inspect.signature() or inspect.getfullargspec()\n",
      "  args, varargs, kw, default = inspect.getargspec(cls.__init__)\n",
      "/usr/local/lib/python3.9/site-packages/pymorphy2/units/base.py:70: DeprecationWarning: inspect.getargspec() is deprecated since Python 3.0, use inspect.signature() or inspect.getfullargspec()\n",
      "  args, varargs, kw, default = inspect.getargspec(cls.__init__)\n",
      "/usr/local/lib/python3.9/site-packages/pymorphy2/units/base.py:70: DeprecationWarning: inspect.getargspec() is deprecated since Python 3.0, use inspect.signature() or inspect.getfullargspec()\n",
      "  args, varargs, kw, default = inspect.getargspec(cls.__init__)\n",
      "/usr/local/lib/python3.9/site-packages/pymorphy2/units/base.py:70: DeprecationWarning: inspect.getargspec() is deprecated since Python 3.0, use inspect.signature() or inspect.getfullargspec()\n",
      "  args, varargs, kw, default = inspect.getargspec(cls.__init__)\n",
      "/usr/local/lib/python3.9/site-packages/pymorphy2/units/base.py:70: DeprecationWarning: inspect.getargspec() is deprecated since Python 3.0, use inspect.signature() or inspect.getfullargspec()\n",
      "  args, varargs, kw, default = inspect.getargspec(cls.__init__)\n",
      "/usr/local/lib/python3.9/site-packages/pymorphy2/units/base.py:70: DeprecationWarning: inspect.getargspec() is deprecated since Python 3.0, use inspect.signature() or inspect.getfullargspec()\n",
      "  args, varargs, kw, default = inspect.getargspec(cls.__init__)\n",
      "/usr/local/lib/python3.9/site-packages/pymorphy2/units/base.py:70: DeprecationWarning: inspect.getargspec() is deprecated since Python 3.0, use inspect.signature() or inspect.getfullargspec()\n",
      "  args, varargs, kw, default = inspect.getargspec(cls.__init__)\n",
      "/usr/local/lib/python3.9/site-packages/pymorphy2/units/base.py:70: DeprecationWarning: inspect.getargspec() is deprecated since Python 3.0, use inspect.signature() or inspect.getfullargspec()\n",
      "  args, varargs, kw, default = inspect.getargspec(cls.__init__)\n",
      "/usr/local/lib/python3.9/site-packages/pymorphy2/units/base.py:70: DeprecationWarning: inspect.getargspec() is deprecated since Python 3.0, use inspect.signature() or inspect.getfullargspec()\n",
      "  args, varargs, kw, default = inspect.getargspec(cls.__init__)\n",
      "/usr/local/lib/python3.9/site-packages/pymorphy2/units/base.py:70: DeprecationWarning: inspect.getargspec() is deprecated since Python 3.0, use inspect.signature() or inspect.getfullargspec()\n",
      "  args, varargs, kw, default = inspect.getargspec(cls.__init__)\n"
     ]
    }
   ],
   "source": [
    "words_regex = re.compile(r'\\w+')\n",
    "\n",
    "def find_words(text, regex = words_regex):\n",
    "    tokens = regex.findall(text) \n",
    "    return [w for w in tokens if w.isalpha() and len(w)>= 4]\n",
    "\n",
    "morph = pymorphy2.MorphAnalyzer() \n",
    "stopwords_list = stopwords.words('russian')\n",
    "\n",
    "def lemmatize(words, lemmer = morph, stopwords = stopwords_list):\n",
    "    lemmas = [lemmer.parse(w)[0].normal_form for w in words] #список нормальных форм\n",
    "    return [w for w in lemmas if not w in stopwords and w.isalpha()] #чистим список токенов\n",
    "\n",
    "def clear_tokens(tokens):\n",
    "    string_tokens = ' '.join(tokens)\n",
    "    ignore_list = [r'[A-za-z]',r'\\w+ще\\b',r'который',r'\\bидио\\w+',r'почему',\n",
    "                   r'\\bпид\\w+',r'весь',r'значит',r'\\bхуй\\w+',r'\\bхуй\\w+',r'\\w+xу.\\b',\n",
    "                   r'\\bбл\\w+',r'\\w+xу\\w+',r'\\w+но\\b',r'очень',r'\\bпиз\\w+',r'это',\n",
    "                   r'\\bгов\\w+',r'\\bпи.де\\w+',r'лох',r'нету',r'ой',r'мочь',r'\\w+ть\\b',\n",
    "                   r'\\bфиг\\w+',r'сука',r'\\bпоп\\w+',r'свой',r'капец']\n",
    "    for i in ignore_list:\n",
    "        string_tokens = re.sub(i, ' ',  string_tokens)\n",
    "\n",
    "    clear_tokens = string_tokens.split()\n",
    "    clear_tokens = [w for w in clear_tokens if len(w)>2]\n",
    "    return clear_tokens\n",
    "\n",
    "def preprocess(text):\n",
    "    return (clear_tokens(lemmatize(find_words(text))))"
   ]
  },
  {
   "cell_type": "code",
   "execution_count": 8,
   "metadata": {},
   "outputs": [
    {
     "data": {
      "text/html": [
       "<div>\n",
       "<style scoped>\n",
       "    .dataframe tbody tr th:only-of-type {\n",
       "        vertical-align: middle;\n",
       "    }\n",
       "\n",
       "    .dataframe tbody tr th {\n",
       "        vertical-align: top;\n",
       "    }\n",
       "\n",
       "    .dataframe thead th {\n",
       "        text-align: right;\n",
       "    }\n",
       "</style>\n",
       "<table border=\"1\" class=\"dataframe\">\n",
       "  <thead>\n",
       "    <tr style=\"text-align: right;\">\n",
       "      <th></th>\n",
       "      <th>text</th>\n",
       "      <th>label</th>\n",
       "    </tr>\n",
       "  </thead>\n",
       "  <tbody>\n",
       "    <tr>\n",
       "      <th>0</th>\n",
       "      <td>[школотый, поверь, самый, общество, предмет, тип]</td>\n",
       "      <td>positive</td>\n",
       "    </tr>\n",
       "    <tr>\n",
       "      <th>1</th>\n",
       "      <td>[таки, немного, похожий, мальчик, хороший]</td>\n",
       "      <td>positive</td>\n",
       "    </tr>\n",
       "    <tr>\n",
       "      <th>2</th>\n",
       "      <td>[испугаться]</td>\n",
       "      <td>positive</td>\n",
       "    </tr>\n",
       "    <tr>\n",
       "      <th>3</th>\n",
       "      <td>[угол, голод, порция, хотя]</td>\n",
       "      <td>positive</td>\n",
       "    </tr>\n",
       "    <tr>\n",
       "      <th>4</th>\n",
       "      <td>[страшилка, создаться, ощущение, автор]</td>\n",
       "      <td>positive</td>\n",
       "    </tr>\n",
       "  </tbody>\n",
       "</table>\n",
       "</div>"
      ],
      "text/plain": [
       "                                                text     label\n",
       "0  [школотый, поверь, самый, общество, предмет, тип]  positive\n",
       "1         [таки, немного, похожий, мальчик, хороший]  positive\n",
       "2                                       [испугаться]  positive\n",
       "3                        [угол, голод, порция, хотя]  positive\n",
       "4            [страшилка, создаться, ощущение, автор]  positive"
      ]
     },
     "execution_count": 8,
     "metadata": {},
     "output_type": "execute_result"
    }
   ],
   "source": [
    "df['text'] = df['text'].apply(preprocess)\n",
    "df.head()"
   ]
  },
  {
   "cell_type": "code",
   "execution_count": 9,
   "metadata": {},
   "outputs": [
    {
     "data": {
      "text/plain": [
       "8184"
      ]
     },
     "execution_count": 9,
     "metadata": {},
     "output_type": "execute_result"
    }
   ],
   "source": [
    "dictionary = corpora.Dictionary(df['text'])\n",
    "dictionary.filter_extremes(no_below = 10, no_above = 0.9, keep_n=None)\n",
    "dictionary.save('tweet.dict')\n",
    "len(dictionary.keys())"
   ]
  },
  {
   "cell_type": "code",
   "execution_count": 10,
   "metadata": {},
   "outputs": [],
   "source": [
    "corpus = [dictionary.doc2bow(text) for text in df['text']]\n",
    "corpora.MmCorpus.serialize('tweet.model', corpus)"
   ]
  },
  {
   "cell_type": "code",
   "execution_count": 11,
   "metadata": {},
   "outputs": [],
   "source": [
    "lda = ldamodel.LdaModel(corpus, id2word=dictionary, num_topics=5, chunksize=50, update_every=1, passes=2)"
   ]
  },
  {
   "cell_type": "code",
   "execution_count": 12,
   "metadata": {},
   "outputs": [
    {
     "data": {
      "text/plain": [
       "[(0,\n",
       "  '0.022*\"ночь\" + 0.018*\"любимый\" + 0.015*\"остаться\" + 0.014*\"фильм\" + 0.014*\"хотя\" + 0.013*\"казаться\" + 0.012*\"город\" + 0.012*\"твит\" + 0.010*\"пара\" + 0.010*\"лето\"'),\n",
       " (1,\n",
       "  '0.029*\"жизнь\" + 0.021*\"утро\" + 0.019*\"голова\" + 0.016*\"наш\" + 0.015*\"выходн\" + 0.014*\"нравиться\" + 0.013*\"вроде\" + 0.012*\"минута\" + 0.012*\"рука\" + 0.012*\"ранний\"'),\n",
       " (2,\n",
       "  '0.026*\"время\" + 0.023*\"хотеться\" + 0.019*\"друг\" + 0.018*\"последний\" + 0.017*\"работа\" + 0.016*\"первый\" + 0.016*\"пока\" + 0.016*\"новый\" + 0.015*\"вчера\" + 0.015*\"прийти\"'),\n",
       " (3,\n",
       "  '0.058*\"день\" + 0.053*\"завтра\" + 0.045*\"просто\" + 0.030*\"школа\" + 0.023*\"идти\" + 0.020*\"урок\" + 0.020*\"мама\" + 0.018*\"час\" + 0.018*\"неделя\" + 0.018*\"каждый\"'),\n",
       " (4,\n",
       "  '0.059*\"сегодня\" + 0.038*\"человек\" + 0.034*\"дом\" + 0.031*\"больш\" + 0.027*\"хороший\" + 0.023*\"самый\" + 0.022*\"жаль\" + 0.019*\"никто\" + 0.012*\"жалко\" + 0.012*\"дело\"')]"
      ]
     },
     "execution_count": 12,
     "metadata": {},
     "output_type": "execute_result"
    }
   ],
   "source": [
    "lda.show_topics(num_topics=5, num_words=10, formatted=True)"
   ]
  },
  {
   "cell_type": "code",
   "execution_count": 13,
   "metadata": {},
   "outputs": [
    {
     "name": "stdout",
     "output_type": "stream",
     "text": [
      "-8.52313228191057\n",
      "Персплексия:  0.00019881487630181555\n"
     ]
    }
   ],
   "source": [
    "print(lda.log_perplexity(corpus))\n",
    "print('Персплексия: ', np.exp(lda.log_perplexity(corpus)))"
   ]
  },
  {
   "cell_type": "code",
   "execution_count": 14,
   "metadata": {},
   "outputs": [
    {
     "name": "stderr",
     "output_type": "stream",
     "text": [
      "/usr/local/lib/python3.9/site-packages/pyLDAvis/_prepare.py:246: FutureWarning: In a future version of pandas all arguments of DataFrame.drop except for the argument 'labels' will be keyword-only.\n",
      "  default_term_info = default_term_info.sort_values(\n",
      "/usr/local/lib/python3.9/site-packages/past/builtins/misc.py:45: DeprecationWarning: the imp module is deprecated in favour of importlib; see the module's documentation for alternative uses\n",
      "  from imp import reload\n",
      "/usr/local/lib/python3.9/site-packages/past/builtins/misc.py:45: DeprecationWarning: the imp module is deprecated in favour of importlib; see the module's documentation for alternative uses\n",
      "  from imp import reload\n",
      "/usr/local/lib/python3.9/site-packages/past/builtins/misc.py:45: DeprecationWarning: the imp module is deprecated in favour of importlib; see the module's documentation for alternative uses\n",
      "  from imp import reload\n",
      "/usr/local/lib/python3.9/site-packages/past/builtins/misc.py:45: DeprecationWarning: the imp module is deprecated in favour of importlib; see the module's documentation for alternative uses\n",
      "  from imp import reload\n",
      "/usr/local/lib/python3.9/site-packages/past/builtins/misc.py:45: DeprecationWarning: the imp module is deprecated in favour of importlib; see the module's documentation for alternative uses\n",
      "  from imp import reload\n",
      "/usr/local/lib/python3.9/site-packages/past/builtins/misc.py:45: DeprecationWarning: the imp module is deprecated in favour of importlib; see the module's documentation for alternative uses\n",
      "  from imp import reload\n",
      "/usr/local/lib/python3.9/site-packages/past/builtins/misc.py:45: DeprecationWarning: the imp module is deprecated in favour of importlib; see the module's documentation for alternative uses\n",
      "  from imp import reload\n",
      "/usr/local/lib/python3.9/site-packages/past/builtins/misc.py:45: DeprecationWarning: the imp module is deprecated in favour of importlib; see the module's documentation for alternative uses\n",
      "  from imp import reload\n"
     ]
    },
    {
     "data": {
      "text/html": [
       "\n",
       "<link rel=\"stylesheet\" type=\"text/css\" href=\"https://cdn.jsdelivr.net/gh/bmabey/pyLDAvis@3.3.1/pyLDAvis/js/ldavis.v1.0.0.css\">\n",
       "\n",
       "\n",
       "<div id=\"ldavis_el436953678648967583749388\"></div>\n",
       "<script type=\"text/javascript\">\n",
       "\n",
       "var ldavis_el436953678648967583749388_data = {\"mdsDat\": {\"x\": [0.30798904054289317, 0.02552258048122922, -0.35597557425022003, 0.05534323655217034, -0.03287928332607271], \"y\": [-0.2275537462735855, 0.3782527752442088, -0.17283735354134033, -0.004170259985977966, 0.026308584556694853], \"topics\": [1, 2, 3, 4, 5], \"cluster\": [1, 1, 1, 1, 1], \"Freq\": [21.466764348214678, 20.485952737375783, 20.24871435041032, 19.324283411957648, 18.47428515204157]}, \"tinfo\": {\"Term\": [\"\\u0441\\u0435\\u0433\\u043e\\u0434\\u043d\\u044f\", \"\\u0434\\u0435\\u043d\\u044c\", \"\\u0437\\u0430\\u0432\\u0442\\u0440\\u0430\", \"\\u043f\\u0440\\u043e\\u0441\\u0442\\u043e\", \"\\u0447\\u0435\\u043b\\u043e\\u0432\\u0435\\u043a\", \"\\u0434\\u043e\\u043c\", \"\\u0431\\u043e\\u043b\\u044c\\u0448\", \"\\u0448\\u043a\\u043e\\u043b\\u0430\", \"\\u0436\\u0438\\u0437\\u043d\\u044c\", \"\\u0445\\u043e\\u0440\\u043e\\u0448\\u0438\\u0439\", \"\\u0432\\u0440\\u0435\\u043c\\u044f\", \"\\u0441\\u0430\\u043c\\u044b\\u0439\", \"\\u0445\\u043e\\u0442\\u0435\\u0442\\u044c\\u0441\\u044f\", \"\\u0438\\u0434\\u0442\\u0438\", \"\\u0436\\u0430\\u043b\\u044c\", \"\\u0443\\u0442\\u0440\\u043e\", \"\\u043d\\u043e\\u0447\\u044c\", \"\\u0443\\u0440\\u043e\\u043a\", \"\\u043c\\u0430\\u043c\\u0430\", \"\\u043d\\u0438\\u043a\\u0442\\u043e\", \"\\u0434\\u0440\\u0443\\u0433\", \"\\u0433\\u043e\\u043b\\u043e\\u0432\\u0430\", \"\\u043f\\u043e\\u0441\\u043b\\u0435\\u0434\\u043d\\u0438\\u0439\", \"\\u0447\\u0430\\u0441\", \"\\u043d\\u0435\\u0434\\u0435\\u043b\\u044f\", \"\\u043b\\u044e\\u0431\\u0438\\u043c\\u044b\\u0439\", \"\\u043a\\u0430\\u0436\\u0434\\u044b\\u0439\", \"\\u0440\\u0430\\u0431\\u043e\\u0442\\u0430\", \"\\u043f\\u0435\\u0440\\u0432\\u044b\\u0439\", \"\\u043f\\u043e\\u043a\\u0430\", \"\\u0441\\u0435\\u0433\\u043e\\u0434\\u043d\\u044f\", \"\\u0447\\u0435\\u043b\\u043e\\u0432\\u0435\\u043a\", \"\\u0434\\u043e\\u043c\", \"\\u0431\\u043e\\u043b\\u044c\\u0448\", \"\\u0445\\u043e\\u0440\\u043e\\u0448\\u0438\\u0439\", \"\\u0441\\u0430\\u043c\\u044b\\u0439\", \"\\u0436\\u0430\\u043b\\u044c\", \"\\u043d\\u0438\\u043a\\u0442\\u043e\", \"\\u0436\\u0430\\u043b\\u043a\\u043e\", \"\\u0434\\u0435\\u043b\\u043e\", \"\\u0442\\u0435\\u043b\\u0435\\u0444\\u043e\\u043d\", \"\\u0441\\u043d\\u043e\\u0432\\u0430\", \"\\u0433\\u043e\\u0434\", \"\\u043f\\u043e\\u043d\\u0435\\u0434\\u0435\\u043b\\u044c\\u043d\\u0438\\u043a\", \"\\u0443\\u0447\\u0451\\u0431\\u0430\", \"\\u0447\\u0443\\u0432\\u0441\\u0442\\u0432\\u043e\", \"\\u043f\\u0430\\u0440\\u0435\\u043d\\u044c\", \"\\u0431\\u043e\\u043b\\u044c\", \"\\u0441\\u0442\\u043e\\u043b\\u044c\\u043a\\u043e\", \"\\u043c\\u043e\\u043c\\u0435\\u043d\\u0442\", \"\\u043f\\u043e\\u043b\\u0443\\u0447\\u0430\\u0442\\u044c\\u0441\\u044f\", \"\\u0434\\u043e\\u043b\\u0436\\u043d\\u044b\\u0439\", \"\\u043c\\u0435\\u0441\\u0442\\u043e\", \"\\u043a\\u043b\\u0430\\u0441\\u0441\", \"\\u043c\\u0443\\u0437\\u044b\\u043a\\u0430\", \"\\u043c\\u044b\\u0441\\u043b\\u044c\", \"\\u0434\\u0435\\u0432\\u0443\\u0448\\u043a\\u0430\", \"\\u043f\\u043e\\u0445\\u043e\\u0434\", \"\\u0443\\u043a\\u0440\\u0430\\u0438\\u043d\\u0430\", \"\\u0441\\u0442\\u0430\\u0440\\u044b\\u0439\", \"\\u0432\\u0440\\u0435\\u043c\\u044f\", \"\\u0445\\u043e\\u0442\\u0435\\u0442\\u044c\\u0441\\u044f\", \"\\u0434\\u0440\\u0443\\u0433\", \"\\u043f\\u043e\\u0441\\u043b\\u0435\\u0434\\u043d\\u0438\\u0439\", \"\\u0440\\u0430\\u0431\\u043e\\u0442\\u0430\", \"\\u043f\\u0435\\u0440\\u0432\\u044b\\u0439\", \"\\u043f\\u043e\\u043a\\u0430\", \"\\u043d\\u043e\\u0432\\u044b\\u0439\", \"\\u0432\\u0447\\u0435\\u0440\\u0430\", \"\\u043f\\u0440\\u0438\\u0439\\u0442\\u0438\", \"\\u044d\\u043a\\u0437\\u0430\\u043c\\u0435\\u043d\", \"\\u043d\\u0430\\u0439\\u0442\\u0438\", \"\\u043f\\u0440\\u0438\\u0439\\u0442\\u0438\\u0441\\u044c\", \"\\u0431\\u043e\\u044f\\u0442\\u044c\\u0441\\u044f\", \"\\u043f\\u043e\\u043b\\u0443\\u0447\\u0438\\u0442\\u044c\\u0441\\u044f\", \"\\u0441\\u043d\\u0435\\u0433\", \"\\u0443\\u0436\\u0430\\u0441\", \"\\u043d\\u0438\\u043a\\u0430\\u043a\", \"\\u0431\\u043e\\u0433\", \"\\u043d\\u0430\\u0432\\u0435\\u0440\\u043d\\u043e\\u0435\", \"\\u0434\\u0435\\u043d\\u044c\\u0433\\u0430\", \"\\u043f\\u044b\\u0442\\u0430\\u0442\\u044c\\u0441\\u044f\", \"\\u0442\\u0435\\u043c\\u043f\\u0435\\u0440\\u0430\\u0442\\u0443\\u0440\\u0430\", \"\\u043d\\u0443\\u0436\\u043d\\u044b\\u0439\", \"\\u0440\\u0435\\u0431\\u0451\\u043d\\u043e\\u043a\", \"\\u0432\\u043e\\u0434\\u0430\", \"\\u0441\\u0435\\u0440\\u0434\\u0446\\u0435\", \"\\u0437\\u0438\\u043c\\u0430\", \"\\u043f\\u0440\\u043e\\u0431\\u043b\\u0435\\u043c\\u0430\", \"\\u043a\\u0438\\u0435\\u0432\", \"\\u0434\\u0435\\u043d\\u044c\", \"\\u0437\\u0430\\u0432\\u0442\\u0440\\u0430\", \"\\u043f\\u0440\\u043e\\u0441\\u0442\\u043e\", \"\\u0448\\u043a\\u043e\\u043b\\u0430\", \"\\u0438\\u0434\\u0442\\u0438\", \"\\u0443\\u0440\\u043e\\u043a\", \"\\u043c\\u0430\\u043c\\u0430\", \"\\u0447\\u0430\\u0441\", \"\\u043d\\u0435\\u0434\\u0435\\u043b\\u044f\", \"\\u043a\\u0430\\u0436\\u0434\\u044b\\u0439\", \"\\u043d\\u0430\\u0441\\u0442\\u0440\\u043e\\u0435\\u043d\\u0438\\u0435\", \"\\u0441\\u043a\\u043e\\u0440\\u043e\", \"\\u0443\\u043b\\u0438\\u0446\\u0430\", \"\\u0432\\u0442\\u043e\\u0440\", \"\\u0437\\u0430\\u043a\\u043e\\u043d\\u0447\\u0438\\u0442\\u044c\\u0441\\u044f\", \"\\u0441\\u043b\\u043e\\u0432\\u043e\", \"\\u0443\\u0436\\u0430\\u0441\\u043d\\u044b\\u0439\", \"\\u043f\\u0430\\u043f\\u0430\", \"\\u0443\\u0439\\u0442\\u0438\", \"\\u0434\\u043e\\u043b\\u0433\\u043e\", \"\\u043f\\u0440\\u043e\\u0441\\u043d\\u0443\\u0442\\u044c\\u0441\\u044f\", \"\\u0441\\u043b\\u0435\\u0437\\u0430\", \"\\u043d\\u0430\\u0447\\u0430\\u043b\\u043e\", \"\\u0446\\u0435\\u043b\\u044b\\u0439\", \"\\u043a\\u0440\\u0443\\u0442\\u043e\", \"\\u0443\\u0447\\u0438\\u0442\\u044c\\u0441\\u044f\", \"\\u0438\\u043d\\u0442\\u0435\\u0440\\u043d\\u0435\\u0442\", \"\\u043d\\u043e\\u0433\\u0430\", \"\\u0441\\u043b\\u0438\\u0448\\u043a\\u043e\\u043c\", \"\\u0442\\u0440\\u0435\\u0442\\u0438\\u0439\", \"\\u0436\\u0438\\u0437\\u043d\\u044c\", \"\\u0443\\u0442\\u0440\\u043e\", \"\\u0433\\u043e\\u043b\\u043e\\u0432\\u0430\", \"\\u043d\\u0430\\u0448\", \"\\u0432\\u044b\\u0445\\u043e\\u0434\\u043d\", \"\\u043d\\u0440\\u0430\\u0432\\u0438\\u0442\\u044c\\u0441\\u044f\", \"\\u0432\\u0440\\u043e\\u0434\\u0435\", \"\\u043c\\u0438\\u043d\\u0443\\u0442\\u0430\", \"\\u0440\\u0443\\u043a\\u0430\", \"\\u0440\\u0430\\u043d\\u043d\\u0438\\u0439\", \"\\u0442\\u0432\\u0438\\u0442\\u0442\\u0435\\u0440\", \"\\u0432\\u0435\\u0447\\u0435\\u0440\", \"\\u043c\\u0430\\u043b\\u0435\\u043d\\u044c\\u043a\\u0438\\u0439\", \"\\u0441\\u043f\\u0430\\u0441\\u0438\\u0431\\u043e\", \"\\u043a\\u043e\\u043d\\u0435\\u0446\", \"\\u043c\\u0435\\u0441\\u044f\\u0446\", \"\\u043f\\u0435\\u0441\\u043d\\u044f\", \"\\u0432\\u044b\\u0439\\u0442\\u0438\", \"\\u043d\\u0430\\u0434\\u0435\\u044f\\u0442\\u044c\\u0441\\u044f\", \"\\u043b\\u0435\\u043d\\u0442\\u0430\", \"\\u043c\\u0430\\u043b\\u043e\", \"\\u0442\\u0430\\u043a\\u0438\", \"\\u0433\\u043b\\u0430\\u0437\", \"\\u043a\\u0430\\u0442\\u043e\\u043a\", \"\\u0441\\u0440\\u0430\\u0437\\u0443\", \"\\u0432\\u043e\\u043f\\u0440\\u043e\\u0441\", \"\\u043d\\u0430\\u0437\\u0430\\u0434\", \"\\u043b\\u0438\\u0448\\u044c\", \"\\u0432\\u044b\\u0441\\u043f\\u0430\\u0442\\u044c\\u0441\\u044f\", \"\\u0441\\u0435\\u0437\\u043e\\u043d\", \"\\u043d\\u043e\\u0447\\u044c\", \"\\u043b\\u044e\\u0431\\u0438\\u043c\\u044b\\u0439\", \"\\u043e\\u0441\\u0442\\u0430\\u0442\\u044c\\u0441\\u044f\", \"\\u0444\\u0438\\u043b\\u044c\\u043c\", \"\\u0445\\u043e\\u0442\\u044f\", \"\\u043a\\u0430\\u0437\\u0430\\u0442\\u044c\\u0441\\u044f\", \"\\u0433\\u043e\\u0440\\u043e\\u0434\", \"\\u0442\\u0432\\u0438\\u0442\", \"\\u043f\\u0430\\u0440\\u0430\", \"\\u043b\\u0435\\u0442\\u043e\", \"\\u043f\\u0440\\u0430\\u0432\\u0434\\u0430\", \"\\u043f\\u043e\\u0433\\u043e\\u0434\\u0430\", \"\\u043f\\u0440\\u044f\\u043c\", \"\\u043f\\u043e\\u0436\\u0430\\u043b\\u0443\\u0439\\u0441\\u0442\\u0430\", \"\\u0440\\u043e\\u0434\\u0438\\u0442\\u0435\\u043b\\u044c\", \"\\u0441\\u0435\\u0440\\u0438\\u0430\\u043b\", \"\\u043a\\u043d\\u0438\\u0433\\u0430\", \"\\u0444\\u043e\\u0442\\u043a\\u0430\", \"\\u0447\\u0435\\u0440\\u0442\\u0430\", \"\\u0431\\u043e\\u043b\\u044c\\u043d\\u0438\\u0446\\u0430\", \"\\u043d\\u043e\\u0440\\u043c\\u0430\\u043b\\u044c\\u043d\\u044b\\u0439\", \"\\u043d\\u0430\\u0447\\u0430\\u0442\\u044c\\u0441\\u044f\", \"\\u0441\\u043e\\u0431\\u0438\\u0440\\u0430\\u0442\\u044c\\u0441\\u044f\", \"\\u0444\\u043e\\u0442\\u043e\", \"\\u0437\\u0430\\u0442\\u043e\", \"\\u043f\\u0435\\u0447\\u0430\\u043b\\u044c\", \"\\u043f\\u043e\\u0445\\u043e\\u0436\\u0435\", \"\\u043d\\u043e\\u0447\\u044c\\u044e\", \"\\u043f\\u0437\\u0434\\u0446\\u0430\", \"\\u043f\\u043e\\u0434\\u0440\\u0443\\u0433\\u0430\"], \"Freq\": [9517.0, 8785.0, 8032.0, 6834.0, 6185.0, 5526.0, 4949.0, 4617.0, 4253.0, 4273.0, 4016.0, 3717.0, 3606.0, 3446.0, 3519.0, 3091.0, 2984.0, 3079.0, 2984.0, 3046.0, 2880.0, 2763.0, 2840.0, 2779.0, 2720.0, 2528.0, 2668.0, 2556.0, 2480.0, 2423.0, 9516.691548910227, 6184.706798008888, 5525.681091274167, 4948.469137208464, 4272.560413997614, 3716.569723469457, 3518.758665616045, 3045.9113162579742, 1964.6056340149962, 1928.5955458085712, 1891.9747640559506, 1835.8417615144513, 1689.6814403686326, 1462.0952131544218, 1453.233637674643, 1419.0574284681684, 1379.056926260626, 1354.7471269455232, 1346.9374429996703, 1205.0534753116908, 1161.960540876971, 1155.4968554796228, 1118.0592430095692, 1068.233768153728, 1075.9877778290506, 976.0505140020294, 970.6350484841574, 956.3477418403928, 968.4313814289342, 936.3838326224997, 4015.803066419945, 3605.6482795201077, 2879.5526428091234, 2839.566451853787, 2555.1935722620005, 2479.7430771922454, 2422.694479137509, 2401.7182901642223, 2331.2383238172233, 2269.38452378994, 2083.4171006597835, 2006.1880558793052, 1860.6134188176716, 1798.661080614875, 1569.58928388682, 1477.4977075015017, 1479.4011103722012, 1433.8774743984106, 1404.5188187441238, 1399.7881282221467, 1399.7409328695785, 1338.2077752073196, 1310.9380144609474, 1293.0147927339465, 1220.2671612041531, 1221.6445504180463, 1168.735199307875, 1162.3373687104797, 1118.2263754487888, 1117.3634155778893, 8784.174655508983, 8031.504952465296, 6833.187059071164, 4616.445179091438, 3445.9279943886936, 3078.9429769727235, 2983.831435423885, 2778.7073104349993, 2719.9922973639173, 2667.9856651601863, 2386.827663514067, 2365.33189420749, 2323.5191567586335, 2176.5915363061567, 1674.2605244589106, 1502.491567227091, 1470.4517544087198, 1435.6640442606022, 1422.0400487440484, 1216.0910880681895, 1165.4272346460452, 1129.6621613548716, 1104.8741173011479, 1066.1220362150154, 1045.105406678961, 1025.8916827730097, 1031.1831415309566, 1018.1906012009853, 1005.7945294539073, 877.3622413116325, 4252.609399085665, 3090.901589520242, 2762.5102921527505, 2314.4899424380524, 2188.891686973859, 2091.938915114171, 1841.4300220646749, 1801.1730104134733, 1720.6901504875711, 1688.8302522861793, 1646.1167301470982, 1628.6200456654922, 1606.1697333842017, 1577.227455717786, 1580.322613064341, 1484.274388561522, 1394.6216713737074, 1377.4267724905083, 1374.3639926779797, 1349.3588231492035, 1303.0039076832593, 1287.4218147137622, 1279.190501219447, 1282.3344946798259, 1225.0058885875098, 1134.2875458110434, 1093.525646988614, 1046.5987958747282, 1015.9057705090175, 1024.8962022698656, 2983.185193435054, 2527.3755912224865, 2116.25750399301, 2001.024665483178, 1958.9677986245092, 1805.4945154534712, 1659.4110926815474, 1629.333053077047, 1364.9433795765249, 1332.1422167833111, 1260.6759032258108, 1236.3831784302579, 1201.326804304381, 1168.5501462665834, 1157.0558683076692, 1148.770036667104, 1132.3328915959682, 1109.2317427756225, 1036.8810010061964, 1030.0862192465024, 1005.8181281787625, 942.2719450303412, 912.462232497647, 909.1876878258729, 899.1242941246635, 863.6835177697465, 856.2429067324414, 824.6048815009124, 816.0409853725729, 814.8257429625297], \"Total\": [9517.0, 8785.0, 8032.0, 6834.0, 6185.0, 5526.0, 4949.0, 4617.0, 4253.0, 4273.0, 4016.0, 3717.0, 3606.0, 3446.0, 3519.0, 3091.0, 2984.0, 3079.0, 2984.0, 3046.0, 2880.0, 2763.0, 2840.0, 2779.0, 2720.0, 2528.0, 2668.0, 2556.0, 2480.0, 2423.0, 9517.595096306582, 6185.608428080585, 5526.5828738174405, 4949.374076258805, 4273.46149973759, 3717.4728144992105, 3519.6605840726174, 3046.8101380893636, 1965.5056072682128, 1929.494350503857, 1892.8762832489265, 1836.740890782806, 1690.5836751584486, 1462.9989035940123, 1454.142005155522, 1419.9557914138381, 1379.955944294562, 1355.64614355701, 1347.8390189715994, 1205.9563893113022, 1162.8613846591336, 1156.400010254549, 1118.9612977859297, 1069.1323477032593, 1076.8946884232103, 976.9521767285934, 971.5359505032739, 957.248836133902, 969.3616385017559, 937.2854681021192, 4016.686317243791, 3606.53425543815, 2880.4378398295244, 2840.452614239111, 2556.079638143635, 2480.633379463566, 2423.580981392602, 2402.603358312873, 2332.1275624888112, 2270.2715500475015, 2084.3040789167444, 2007.0759438369648, 1861.5016129355454, 1799.5447987230882, 1570.474961535468, 1478.3816689080024, 1480.2892010408477, 1434.7602729636365, 1405.4041416971857, 1400.6753174653848, 1400.6284528294207, 1339.0920325437296, 1311.8261066650732, 1293.8941776018767, 1221.15826419323, 1222.537125681294, 1169.6195130079584, 1163.2209656314328, 1119.1086125142679, 1118.2565798545882, 8785.069900093013, 8032.39961893696, 6834.085200455112, 4617.337728022558, 3446.8247844623634, 3079.835939112779, 2984.7313403635, 2779.6048752095157, 2720.8892971696887, 2668.883932658709, 2387.7209175980956, 2366.2335737564754, 2324.419047763542, 2177.4894570308215, 1675.1557726991064, 1503.391406329911, 1471.3487927892106, 1436.5628175742168, 1422.946000569436, 1216.9897888791922, 1166.3213326210184, 1130.561800683633, 1105.7764216826697, 1067.0147987302453, 1046.0041674360643, 1026.7836113538579, 1032.0806549799565, 1019.0801714979211, 1006.6872069667851, 878.2587786803094, 4253.489440018704, 3091.7824197218065, 2763.3886506583776, 2315.375120250264, 2189.7758948384976, 2092.81711848686, 1842.3119386944663, 1802.0548929218594, 1721.5674584469286, 1689.70885751103, 1646.995171973749, 1629.501082512047, 1607.048171572004, 1578.1043591829782, 1581.208260200679, 1485.1547633169648, 1395.5020134697977, 1378.3063570020954, 1375.2423813707721, 1350.236621264963, 1303.883437659029, 1288.3018087088794, 1280.069306921582, 1283.2290822327088, 1225.8838334430563, 1135.1676842140507, 1094.4073606006953, 1047.4807952224692, 1016.7834869830266, 1025.7835241737785, 2984.074942056672, 2528.2580835738463, 2117.1424066948916, 2001.9075570517407, 1959.8529073210714, 1806.3810718972484, 1660.2950728474566, 1630.2173973767074, 1365.827956171794, 1333.0260117728963, 1261.5555722787642, 1237.2702903514273, 1202.2122547682081, 1169.4352304498443, 1157.9450267784484, 1149.6573810849413, 1133.2231704664898, 1110.1117669090436, 1037.7650747080556, 1030.9679861094057, 1006.7092429579521, 943.1648653907286, 913.3487479439311, 910.0783152220496, 900.0210070112814, 864.5638997307564, 857.1291525394332, 825.4919869571314, 816.9253983299336, 815.7133627528871], \"Category\": [\"Default\", \"Default\", \"Default\", \"Default\", \"Default\", \"Default\", \"Default\", \"Default\", \"Default\", \"Default\", \"Default\", \"Default\", \"Default\", \"Default\", \"Default\", \"Default\", \"Default\", \"Default\", \"Default\", \"Default\", \"Default\", \"Default\", \"Default\", \"Default\", \"Default\", \"Default\", \"Default\", \"Default\", \"Default\", \"Default\", \"Topic1\", \"Topic1\", \"Topic1\", \"Topic1\", \"Topic1\", \"Topic1\", \"Topic1\", \"Topic1\", \"Topic1\", \"Topic1\", \"Topic1\", \"Topic1\", \"Topic1\", \"Topic1\", \"Topic1\", \"Topic1\", \"Topic1\", \"Topic1\", \"Topic1\", \"Topic1\", \"Topic1\", \"Topic1\", \"Topic1\", \"Topic1\", \"Topic1\", \"Topic1\", \"Topic1\", \"Topic1\", \"Topic1\", \"Topic1\", \"Topic2\", \"Topic2\", \"Topic2\", \"Topic2\", \"Topic2\", \"Topic2\", \"Topic2\", \"Topic2\", \"Topic2\", \"Topic2\", \"Topic2\", \"Topic2\", \"Topic2\", \"Topic2\", \"Topic2\", \"Topic2\", \"Topic2\", \"Topic2\", \"Topic2\", \"Topic2\", \"Topic2\", \"Topic2\", \"Topic2\", \"Topic2\", \"Topic2\", \"Topic2\", \"Topic2\", \"Topic2\", \"Topic2\", \"Topic2\", \"Topic3\", \"Topic3\", \"Topic3\", \"Topic3\", \"Topic3\", \"Topic3\", \"Topic3\", \"Topic3\", \"Topic3\", \"Topic3\", \"Topic3\", \"Topic3\", \"Topic3\", \"Topic3\", \"Topic3\", \"Topic3\", \"Topic3\", \"Topic3\", \"Topic3\", \"Topic3\", \"Topic3\", \"Topic3\", \"Topic3\", \"Topic3\", \"Topic3\", \"Topic3\", \"Topic3\", \"Topic3\", \"Topic3\", \"Topic3\", \"Topic4\", \"Topic4\", \"Topic4\", \"Topic4\", \"Topic4\", \"Topic4\", \"Topic4\", \"Topic4\", \"Topic4\", \"Topic4\", \"Topic4\", \"Topic4\", \"Topic4\", \"Topic4\", \"Topic4\", \"Topic4\", \"Topic4\", \"Topic4\", \"Topic4\", \"Topic4\", \"Topic4\", \"Topic4\", \"Topic4\", \"Topic4\", \"Topic4\", \"Topic4\", \"Topic4\", \"Topic4\", \"Topic4\", \"Topic4\", \"Topic5\", \"Topic5\", \"Topic5\", \"Topic5\", \"Topic5\", \"Topic5\", \"Topic5\", \"Topic5\", \"Topic5\", \"Topic5\", \"Topic5\", \"Topic5\", \"Topic5\", \"Topic5\", \"Topic5\", \"Topic5\", \"Topic5\", \"Topic5\", \"Topic5\", \"Topic5\", \"Topic5\", \"Topic5\", \"Topic5\", \"Topic5\", \"Topic5\", \"Topic5\", \"Topic5\", \"Topic5\", \"Topic5\", \"Topic5\"], \"logprob\": [30.0, 29.0, 28.0, 27.0, 26.0, 25.0, 24.0, 23.0, 22.0, 21.0, 20.0, 19.0, 18.0, 17.0, 16.0, 15.0, 14.0, 13.0, 12.0, 11.0, 10.0, 9.0, 8.0, 7.0, 6.0, 5.0, 4.0, 3.0, 2.0, 1.0, -2.8278, -3.2588, -3.3715, -3.4818, -3.6287, -3.7681, -3.8228, -3.9671, -4.4056, -4.4241, -4.4433, -4.4734, -4.5563, -4.701, -4.7071, -4.7309, -4.7595, -4.7773, -4.783, -4.8944, -4.9308, -4.9363, -4.9693, -5.0149, -5.0076, -5.1051, -5.1107, -5.1255, -5.113, -5.1466, -3.6439, -3.7516, -3.9765, -3.9905, -4.096, -4.126, -4.1492, -4.1579, -4.1877, -4.2146, -4.3001, -4.3379, -4.4132, -4.4471, -4.5833, -4.6438, -4.6425, -4.6737, -4.6944, -4.6978, -4.6978, -4.7428, -4.7634, -4.7771, -4.835, -4.8339, -4.8782, -4.8837, -4.9224, -4.9231, -2.8495, -2.9391, -3.1007, -3.4928, -3.7853, -3.8979, -3.9293, -4.0005, -4.0218, -4.0411, -4.1525, -4.1615, -4.1794, -4.2447, -4.5071, -4.6153, -4.6369, -4.6608, -4.6704, -4.8268, -4.8694, -4.9005, -4.9227, -4.9584, -4.9783, -4.9969, -4.9918, -5.0044, -5.0167, -5.1533, -3.5282, -3.8473, -3.9596, -4.1365, -4.1923, -4.2376, -4.3652, -4.3873, -4.433, -4.4517, -4.4773, -4.488, -4.5019, -4.5201, -4.5181, -4.5808, -4.6431, -4.6555, -4.6577, -4.6761, -4.7111, -4.7231, -4.7295, -4.727, -4.7728, -4.8497, -4.8863, -4.9302, -4.96, -4.9511, -3.8378, -4.0036, -4.1811, -4.2371, -4.2583, -4.3399, -4.4243, -4.4426, -4.6196, -4.644, -4.6991, -4.7186, -4.7473, -4.775, -4.7849, -4.7921, -4.8065, -4.8271, -4.8945, -4.9011, -4.9249, -4.9902, -5.0224, -5.026, -5.0371, -5.0773, -5.0859, -5.1236, -5.134, -5.1355], \"loglift\": [30.0, 29.0, 28.0, 27.0, 26.0, 25.0, 24.0, 23.0, 22.0, 21.0, 20.0, 19.0, 18.0, 17.0, 16.0, 15.0, 14.0, 13.0, 12.0, 11.0, 10.0, 9.0, 8.0, 7.0, 6.0, 5.0, 4.0, 3.0, 2.0, 1.0, 1.5386, 1.5385, 1.5385, 1.5385, 1.5385, 1.5384, 1.5384, 1.5384, 1.5382, 1.5382, 1.5382, 1.5382, 1.5381, 1.538, 1.538, 1.538, 1.538, 1.538, 1.538, 1.5379, 1.5379, 1.5379, 1.5379, 1.5378, 1.5378, 1.5377, 1.5377, 1.5377, 1.5377, 1.5377, 1.5852, 1.5852, 1.5851, 1.5851, 1.5851, 1.5851, 1.5851, 1.5851, 1.585, 1.585, 1.585, 1.585, 1.585, 1.5849, 1.5849, 1.5848, 1.5848, 1.5848, 1.5848, 1.5848, 1.5848, 1.5848, 1.5848, 1.5848, 1.5847, 1.5847, 1.5847, 1.5847, 1.5846, 1.5846, 1.597, 1.597, 1.5969, 1.5969, 1.5968, 1.5968, 1.5968, 1.5968, 1.5967, 1.5967, 1.5967, 1.5967, 1.5967, 1.5967, 1.5965, 1.5965, 1.5965, 1.5965, 1.5964, 1.5963, 1.5963, 1.5963, 1.5963, 1.5962, 1.5962, 1.5962, 1.5962, 1.5962, 1.5962, 1.5961, 1.6436, 1.6435, 1.6435, 1.6434, 1.6434, 1.6434, 1.6433, 1.6433, 1.6433, 1.6433, 1.6433, 1.6433, 1.6433, 1.6433, 1.6432, 1.6432, 1.6432, 1.6432, 1.6432, 1.6432, 1.6431, 1.6431, 1.6431, 1.6431, 1.6431, 1.643, 1.643, 1.643, 1.6429, 1.6429, 1.6885, 1.6884, 1.6884, 1.6883, 1.6883, 1.6883, 1.6883, 1.6882, 1.6881, 1.6881, 1.6881, 1.6881, 1.6881, 1.688, 1.688, 1.688, 1.688, 1.688, 1.6879, 1.6879, 1.6879, 1.6878, 1.6878, 1.6878, 1.6878, 1.6878, 1.6878, 1.6877, 1.6877, 1.6877]}, \"token.table\": {\"Topic\": [2, 1, 5, 1, 2, 4, 2, 4, 2, 4, 3, 2, 4, 4, 4, 4, 1, 4, 5, 1, 1, 3, 2, 3, 1, 1, 2, 1, 1, 4, 3, 3, 5, 2, 3, 3, 3, 5, 4, 2, 1, 5, 4, 3, 4, 5, 4, 5, 4, 4, 3, 1, 4, 4, 1, 1, 1, 2, 4, 4, 2, 3, 3, 5, 4, 3, 2, 1, 2, 3, 5, 5, 5, 4, 2, 5, 3, 5, 1, 2, 4, 5, 5, 5, 5, 5, 2, 1, 2, 1, 2, 1, 5, 5, 2, 2, 2, 3, 3, 5, 2, 2, 4, 2, 5, 4, 1, 1, 4, 2, 5, 3, 3, 3, 3, 2, 1, 5, 4, 4, 1, 1, 4, 5, 4, 1, 2, 3, 2, 3, 3, 1, 3, 3, 4, 3, 1, 5, 5, 5, 1, 2, 5, 3, 3, 1, 5, 1, 3, 2], \"Freq\": [0.9997124373799713, 0.999523368572189, 0.9990610900411577, 0.9997223737309742, 0.9996972574822951, 0.999692493292932, 0.9995606467321027, 0.9989713553069834, 0.999829133472324, 0.9992878846047125, 0.99977521956341, 0.9995165090851171, 0.9990522012791577, 0.9992294456066046, 0.9996456738608154, 0.9991646491984457, 0.9996547493229556, 0.9998593572213286, 0.9992199742873202, 0.9994483472248287, 0.9997437927176476, 0.9998782138212695, 0.9995513065380394, 0.9991866908923667, 0.9987893373900604, 0.9998945326921267, 0.9998479953903292, 0.9997427596917846, 0.9998123159728507, 0.9998849321185332, 0.9999502491215678, 0.99931005061264, 0.9988655742440147, 0.9989503579564781, 0.9997607118104519, 0.9989529355339215, 0.9996688006368908, 0.999235448201526, 0.9990421957780365, 0.9988763045286516, 0.9989408722823776, 0.9989206270235489, 0.9992358627063296, 0.9990399967157629, 0.9990841447747102, 0.9992303137644466, 0.9995409985322289, 0.999502391159344, 0.999347765928523, 0.9993224565681922, 0.9997549727998598, 0.9991409016667228, 0.99922246263791, 0.9994146166545743, 0.9992069453590702, 0.9991691959921167, 0.9990253599395399, 0.9995178629501327, 0.9990966091595186, 0.9996277797323369, 0.9994639247008721, 0.9996980729226844, 0.9992978493052979, 0.9987649397963463, 0.9994060918085207, 0.9996731593708669, 0.9994701045338633, 0.9997341028640953, 0.9997488731085032, 0.9989400524824917, 0.9992954838123188, 0.9996397737732647, 0.9994040075919514, 0.9996095604916253, 0.999308925244927, 0.9994604015812639, 0.9996082193083856, 0.999393806395562, 0.9993072646278931, 0.9997446702649373, 0.9996402631705636, 0.9993477639640841, 0.9988672180693299, 0.998973312168462, 0.9991254737442579, 0.999627828511993, 0.9997602797690431, 0.9992592542236786, 0.999697568221652, 0.9993172219120887, 0.9998406541841811, 0.9986953902822742, 0.9986826343076911, 0.9995596133131411, 0.9994399127948043, 0.9997305331716827, 0.9990093789808505, 0.9988670938410694, 0.9998412076491175, 0.9989916466386031, 0.999184497766255, 0.9995776195203296, 0.9995804854144672, 0.999051503619807, 0.999183875955599, 0.9996703826828601, 0.9998728129235092, 0.9999374740887208, 0.9992361700540964, 0.999470329452383, 0.9994281939160683, 0.9994786762515092, 0.9995030783073572, 0.9993173580015429, 0.9990744883042083, 0.9990654179924843, 0.9995966274902879, 0.998523293597361, 0.9993001988895399, 0.9992790234939521, 0.9986285201831603, 0.9993775080259661, 0.9989895157329756, 0.9992532300424064, 0.9993957650934967, 0.9995370625874067, 0.9993702620637934, 0.9985667337339902, 0.9991290883970908, 0.9990832950039985, 0.9993351816800797, 0.9985953245438303, 0.9998197193557051, 0.9997285767393765, 0.9997469357103477, 0.9992368291184307, 0.999214653622911, 0.9995466538659371, 0.9989985090310869, 0.9988151401873734, 0.9998920079805051, 0.9998518645879089, 0.9995648105437478, 0.9990489365925825, 0.9997823880599324, 0.9999016381189241, 0.9992627669530401, 0.9993268864991307, 0.9997102815298871, 0.9993743336541269], \"Term\": [\"\\u0431\\u043e\\u0433\", \"\\u0431\\u043e\\u043b\\u044c\", \"\\u0431\\u043e\\u043b\\u044c\\u043d\\u0438\\u0446\\u0430\", \"\\u0431\\u043e\\u043b\\u044c\\u0448\", \"\\u0431\\u043e\\u044f\\u0442\\u044c\\u0441\\u044f\", \"\\u0432\\u0435\\u0447\\u0435\\u0440\", \"\\u0432\\u043e\\u0434\\u0430\", \"\\u0432\\u043e\\u043f\\u0440\\u043e\\u0441\", \"\\u0432\\u0440\\u0435\\u043c\\u044f\", \"\\u0432\\u0440\\u043e\\u0434\\u0435\", \"\\u0432\\u0442\\u043e\\u0440\", \"\\u0432\\u0447\\u0435\\u0440\\u0430\", \"\\u0432\\u044b\\u0439\\u0442\\u0438\", \"\\u0432\\u044b\\u0441\\u043f\\u0430\\u0442\\u044c\\u0441\\u044f\", \"\\u0432\\u044b\\u0445\\u043e\\u0434\\u043d\", \"\\u0433\\u043b\\u0430\\u0437\", \"\\u0433\\u043e\\u0434\", \"\\u0433\\u043e\\u043b\\u043e\\u0432\\u0430\", \"\\u0433\\u043e\\u0440\\u043e\\u0434\", \"\\u0434\\u0435\\u0432\\u0443\\u0448\\u043a\\u0430\", \"\\u0434\\u0435\\u043b\\u043e\", \"\\u0434\\u0435\\u043d\\u044c\", \"\\u0434\\u0435\\u043d\\u044c\\u0433\\u0430\", \"\\u0434\\u043e\\u043b\\u0433\\u043e\", \"\\u0434\\u043e\\u043b\\u0436\\u043d\\u044b\\u0439\", \"\\u0434\\u043e\\u043c\", \"\\u0434\\u0440\\u0443\\u0433\", \"\\u0436\\u0430\\u043b\\u043a\\u043e\", \"\\u0436\\u0430\\u043b\\u044c\", \"\\u0436\\u0438\\u0437\\u043d\\u044c\", \"\\u0437\\u0430\\u0432\\u0442\\u0440\\u0430\", \"\\u0437\\u0430\\u043a\\u043e\\u043d\\u0447\\u0438\\u0442\\u044c\\u0441\\u044f\", \"\\u0437\\u0430\\u0442\\u043e\", \"\\u0437\\u0438\\u043c\\u0430\", \"\\u0438\\u0434\\u0442\\u0438\", \"\\u0438\\u043d\\u0442\\u0435\\u0440\\u043d\\u0435\\u0442\", \"\\u043a\\u0430\\u0436\\u0434\\u044b\\u0439\", \"\\u043a\\u0430\\u0437\\u0430\\u0442\\u044c\\u0441\\u044f\", \"\\u043a\\u0430\\u0442\\u043e\\u043a\", \"\\u043a\\u0438\\u0435\\u0432\", \"\\u043a\\u043b\\u0430\\u0441\\u0441\", \"\\u043a\\u043d\\u0438\\u0433\\u0430\", \"\\u043a\\u043e\\u043d\\u0435\\u0446\", \"\\u043a\\u0440\\u0443\\u0442\\u043e\", \"\\u043b\\u0435\\u043d\\u0442\\u0430\", \"\\u043b\\u0435\\u0442\\u043e\", \"\\u043b\\u0438\\u0448\\u044c\", \"\\u043b\\u044e\\u0431\\u0438\\u043c\\u044b\\u0439\", \"\\u043c\\u0430\\u043b\\u0435\\u043d\\u044c\\u043a\\u0438\\u0439\", \"\\u043c\\u0430\\u043b\\u043e\", \"\\u043c\\u0430\\u043c\\u0430\", \"\\u043c\\u0435\\u0441\\u0442\\u043e\", \"\\u043c\\u0435\\u0441\\u044f\\u0446\", \"\\u043c\\u0438\\u043d\\u0443\\u0442\\u0430\", \"\\u043c\\u043e\\u043c\\u0435\\u043d\\u0442\", \"\\u043c\\u0443\\u0437\\u044b\\u043a\\u0430\", \"\\u043c\\u044b\\u0441\\u043b\\u044c\", \"\\u043d\\u0430\\u0432\\u0435\\u0440\\u043d\\u043e\\u0435\", \"\\u043d\\u0430\\u0434\\u0435\\u044f\\u0442\\u044c\\u0441\\u044f\", \"\\u043d\\u0430\\u0437\\u0430\\u0434\", \"\\u043d\\u0430\\u0439\\u0442\\u0438\", \"\\u043d\\u0430\\u0441\\u0442\\u0440\\u043e\\u0435\\u043d\\u0438\\u0435\", \"\\u043d\\u0430\\u0447\\u0430\\u043b\\u043e\", \"\\u043d\\u0430\\u0447\\u0430\\u0442\\u044c\\u0441\\u044f\", \"\\u043d\\u0430\\u0448\", \"\\u043d\\u0435\\u0434\\u0435\\u043b\\u044f\", \"\\u043d\\u0438\\u043a\\u0430\\u043a\", \"\\u043d\\u0438\\u043a\\u0442\\u043e\", \"\\u043d\\u043e\\u0432\\u044b\\u0439\", \"\\u043d\\u043e\\u0433\\u0430\", \"\\u043d\\u043e\\u0440\\u043c\\u0430\\u043b\\u044c\\u043d\\u044b\\u0439\", \"\\u043d\\u043e\\u0447\\u044c\", \"\\u043d\\u043e\\u0447\\u044c\\u044e\", \"\\u043d\\u0440\\u0430\\u0432\\u0438\\u0442\\u044c\\u0441\\u044f\", \"\\u043d\\u0443\\u0436\\u043d\\u044b\\u0439\", \"\\u043e\\u0441\\u0442\\u0430\\u0442\\u044c\\u0441\\u044f\", \"\\u043f\\u0430\\u043f\\u0430\", \"\\u043f\\u0430\\u0440\\u0430\", \"\\u043f\\u0430\\u0440\\u0435\\u043d\\u044c\", \"\\u043f\\u0435\\u0440\\u0432\\u044b\\u0439\", \"\\u043f\\u0435\\u0441\\u043d\\u044f\", \"\\u043f\\u0435\\u0447\\u0430\\u043b\\u044c\", \"\\u043f\\u0437\\u0434\\u0446\\u0430\", \"\\u043f\\u043e\\u0433\\u043e\\u0434\\u0430\", \"\\u043f\\u043e\\u0434\\u0440\\u0443\\u0433\\u0430\", \"\\u043f\\u043e\\u0436\\u0430\\u043b\\u0443\\u0439\\u0441\\u0442\\u0430\", \"\\u043f\\u043e\\u043a\\u0430\", \"\\u043f\\u043e\\u043b\\u0443\\u0447\\u0430\\u0442\\u044c\\u0441\\u044f\", \"\\u043f\\u043e\\u043b\\u0443\\u0447\\u0438\\u0442\\u044c\\u0441\\u044f\", \"\\u043f\\u043e\\u043d\\u0435\\u0434\\u0435\\u043b\\u044c\\u043d\\u0438\\u043a\", \"\\u043f\\u043e\\u0441\\u043b\\u0435\\u0434\\u043d\\u0438\\u0439\", \"\\u043f\\u043e\\u0445\\u043e\\u0434\", \"\\u043f\\u043e\\u0445\\u043e\\u0436\\u0435\", \"\\u043f\\u0440\\u0430\\u0432\\u0434\\u0430\", \"\\u043f\\u0440\\u0438\\u0439\\u0442\\u0438\", \"\\u043f\\u0440\\u0438\\u0439\\u0442\\u0438\\u0441\\u044c\", \"\\u043f\\u0440\\u043e\\u0431\\u043b\\u0435\\u043c\\u0430\", \"\\u043f\\u0440\\u043e\\u0441\\u043d\\u0443\\u0442\\u044c\\u0441\\u044f\", \"\\u043f\\u0440\\u043e\\u0441\\u0442\\u043e\", \"\\u043f\\u0440\\u044f\\u043c\", \"\\u043f\\u044b\\u0442\\u0430\\u0442\\u044c\\u0441\\u044f\", \"\\u0440\\u0430\\u0431\\u043e\\u0442\\u0430\", \"\\u0440\\u0430\\u043d\\u043d\\u0438\\u0439\", \"\\u0440\\u0435\\u0431\\u0451\\u043d\\u043e\\u043a\", \"\\u0440\\u043e\\u0434\\u0438\\u0442\\u0435\\u043b\\u044c\", \"\\u0440\\u0443\\u043a\\u0430\", \"\\u0441\\u0430\\u043c\\u044b\\u0439\", \"\\u0441\\u0435\\u0433\\u043e\\u0434\\u043d\\u044f\", \"\\u0441\\u0435\\u0437\\u043e\\u043d\", \"\\u0441\\u0435\\u0440\\u0434\\u0446\\u0435\", \"\\u0441\\u0435\\u0440\\u0438\\u0430\\u043b\", \"\\u0441\\u043a\\u043e\\u0440\\u043e\", \"\\u0441\\u043b\\u0435\\u0437\\u0430\", \"\\u0441\\u043b\\u0438\\u0448\\u043a\\u043e\\u043c\", \"\\u0441\\u043b\\u043e\\u0432\\u043e\", \"\\u0441\\u043d\\u0435\\u0433\", \"\\u0441\\u043d\\u043e\\u0432\\u0430\", \"\\u0441\\u043e\\u0431\\u0438\\u0440\\u0430\\u0442\\u044c\\u0441\\u044f\", \"\\u0441\\u043f\\u0430\\u0441\\u0438\\u0431\\u043e\", \"\\u0441\\u0440\\u0430\\u0437\\u0443\", \"\\u0441\\u0442\\u0430\\u0440\\u044b\\u0439\", \"\\u0441\\u0442\\u043e\\u043b\\u044c\\u043a\\u043e\", \"\\u0442\\u0430\\u043a\\u0438\", \"\\u0442\\u0432\\u0438\\u0442\", \"\\u0442\\u0432\\u0438\\u0442\\u0442\\u0435\\u0440\", \"\\u0442\\u0435\\u043b\\u0435\\u0444\\u043e\\u043d\", \"\\u0442\\u0435\\u043c\\u043f\\u0435\\u0440\\u0430\\u0442\\u0443\\u0440\\u0430\", \"\\u0442\\u0440\\u0435\\u0442\\u0438\\u0439\", \"\\u0443\\u0436\\u0430\\u0441\", \"\\u0443\\u0436\\u0430\\u0441\\u043d\\u044b\\u0439\", \"\\u0443\\u0439\\u0442\\u0438\", \"\\u0443\\u043a\\u0440\\u0430\\u0438\\u043d\\u0430\", \"\\u0443\\u043b\\u0438\\u0446\\u0430\", \"\\u0443\\u0440\\u043e\\u043a\", \"\\u0443\\u0442\\u0440\\u043e\", \"\\u0443\\u0447\\u0438\\u0442\\u044c\\u0441\\u044f\", \"\\u0443\\u0447\\u0451\\u0431\\u0430\", \"\\u0444\\u0438\\u043b\\u044c\\u043c\", \"\\u0444\\u043e\\u0442\\u043a\\u0430\", \"\\u0444\\u043e\\u0442\\u043e\", \"\\u0445\\u043e\\u0440\\u043e\\u0448\\u0438\\u0439\", \"\\u0445\\u043e\\u0442\\u0435\\u0442\\u044c\\u0441\\u044f\", \"\\u0445\\u043e\\u0442\\u044f\", \"\\u0446\\u0435\\u043b\\u044b\\u0439\", \"\\u0447\\u0430\\u0441\", \"\\u0447\\u0435\\u043b\\u043e\\u0432\\u0435\\u043a\", \"\\u0447\\u0435\\u0440\\u0442\\u0430\", \"\\u0447\\u0443\\u0432\\u0441\\u0442\\u0432\\u043e\", \"\\u0448\\u043a\\u043e\\u043b\\u0430\", \"\\u044d\\u043a\\u0437\\u0430\\u043c\\u0435\\u043d\"]}, \"R\": 30, \"lambda.step\": 0.01, \"plot.opts\": {\"xlab\": \"PC1\", \"ylab\": \"PC2\"}, \"topic.order\": [5, 3, 4, 2, 1]};\n",
       "\n",
       "function LDAvis_load_lib(url, callback){\n",
       "  var s = document.createElement('script');\n",
       "  s.src = url;\n",
       "  s.async = true;\n",
       "  s.onreadystatechange = s.onload = callback;\n",
       "  s.onerror = function(){console.warn(\"failed to load library \" + url);};\n",
       "  document.getElementsByTagName(\"head\")[0].appendChild(s);\n",
       "}\n",
       "\n",
       "if(typeof(LDAvis) !== \"undefined\"){\n",
       "   // already loaded: just create the visualization\n",
       "   !function(LDAvis){\n",
       "       new LDAvis(\"#\" + \"ldavis_el436953678648967583749388\", ldavis_el436953678648967583749388_data);\n",
       "   }(LDAvis);\n",
       "}else if(typeof define === \"function\" && define.amd){\n",
       "   // require.js is available: use it to load d3/LDAvis\n",
       "   require.config({paths: {d3: \"https://d3js.org/d3.v5\"}});\n",
       "   require([\"d3\"], function(d3){\n",
       "      window.d3 = d3;\n",
       "      LDAvis_load_lib(\"https://cdn.jsdelivr.net/gh/bmabey/pyLDAvis@3.3.1/pyLDAvis/js/ldavis.v3.0.0.js\", function(){\n",
       "        new LDAvis(\"#\" + \"ldavis_el436953678648967583749388\", ldavis_el436953678648967583749388_data);\n",
       "      });\n",
       "    });\n",
       "}else{\n",
       "    // require.js not available: dynamically load d3 & LDAvis\n",
       "    LDAvis_load_lib(\"https://d3js.org/d3.v5.js\", function(){\n",
       "         LDAvis_load_lib(\"https://cdn.jsdelivr.net/gh/bmabey/pyLDAvis@3.3.1/pyLDAvis/js/ldavis.v3.0.0.js\", function(){\n",
       "                 new LDAvis(\"#\" + \"ldavis_el436953678648967583749388\", ldavis_el436953678648967583749388_data);\n",
       "            })\n",
       "         });\n",
       "}\n",
       "</script>"
      ],
      "text/plain": [
       "<IPython.core.display.HTML object>"
      ]
     },
     "execution_count": 14,
     "metadata": {},
     "output_type": "execute_result"
    }
   ],
   "source": [
    "visual_data = gensimvis.prepare(lda, corpus, dictionary)\n",
    "pyLDAvis.display(visual_data)"
   ]
  },
  {
   "cell_type": "code",
   "execution_count": 15,
   "metadata": {},
   "outputs": [],
   "source": [
    "pyLDAvis.save_html(visual_data, 'hw04.html')"
   ]
  },
  {
   "cell_type": "markdown",
   "metadata": {},
   "source": [
    "Получившиеся тематики:\\\n",
    "1.Повседневность\\\n",
    "2.Дружеские отношения\\\n",
    "3.Учеба\\\n",
    "4.Времяпрепровождение\\\n",
    "5.Досуг"
   ]
  },
  {
   "cell_type": "markdown",
   "metadata": {},
   "source": [
    "Нужно заметить, что результаты нестабильны в силу самого алгоритма, плюс для реального использования необходим значительный объем работ по фильтрации и отбрасыванию слов для более четкого разграничения по темам"
   ]
  },
  {
   "cell_type": "code",
   "execution_count": null,
   "metadata": {},
   "outputs": [],
   "source": []
  }
 ],
 "metadata": {
  "colab": {
   "collapsed_sections": [
    "gJABxhalLVQu",
    "IaQMCGHFLVQ6",
    "5AJk1B39LVRP",
    "RJlvqWuALVRs",
    "rck5OVqhLVSA",
    "mV3fmzp-LVSU",
    "H5THCOjMLVSg",
    "02s2Vh7MLVSj",
    "b1khxRFDLVSm",
    "sfUmWcAQLVSt",
    "BxvtN-3zLVS5",
    "gyrHhYkgLVTB"
   ],
   "name": "sem1_intro_common.ipynb",
   "provenance": []
  },
  "kernelspec": {
   "display_name": "Python 3 (ipykernel)",
   "language": "python",
   "name": "python3"
  },
  "language_info": {
   "codemirror_mode": {
    "name": "ipython",
    "version": 3
   },
   "file_extension": ".py",
   "mimetype": "text/x-python",
   "name": "python",
   "nbconvert_exporter": "python",
   "pygments_lexer": "ipython3",
   "version": "3.9.14"
  }
 },
 "nbformat": 4,
 "nbformat_minor": 4
}

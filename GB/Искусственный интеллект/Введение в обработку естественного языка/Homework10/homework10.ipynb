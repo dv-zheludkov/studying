{
 "cells": [
  {
   "cell_type": "markdown",
   "metadata": {},
   "source": [
    "### Тема “Перевод без механизма внимания  SEQ2SEQ модель”\n",
    "\n",
    "Разобраться с моделькой перевода (без механизма внимания) как она устроена, запустить для перевода с русского на английский (при желании можно взять другие пары языков)"
   ]
  },
  {
   "cell_type": "code",
   "execution_count": 1,
   "metadata": {},
   "outputs": [
    {
     "name": "stderr",
     "output_type": "stream",
     "text": [
      "2022-11-24 10:15:13.077763: I tensorflow/core/platform/cpu_feature_guard.cc:193] This TensorFlow binary is optimized with oneAPI Deep Neural Network Library (oneDNN) to use the following CPU instructions in performance-critical operations:  AVX2 FMA\n",
      "To enable them in other operations, rebuild TensorFlow with the appropriate compiler flags.\n"
     ]
    }
   ],
   "source": [
    "import tensorflow as tf\n",
    "\n",
    "import matplotlib.pyplot as plt\n",
    "import matplotlib.ticker as ticker\n",
    "from sklearn.model_selection import train_test_split\n",
    "\n",
    "import unicodedata\n",
    "import re\n",
    "import numpy as np\n",
    "import os\n",
    "import io\n",
    "import time"
   ]
  },
  {
   "cell_type": "markdown",
   "metadata": {},
   "source": [
    "!wget http://www.manythings.org/anki/rus-eng.zip"
   ]
  },
  {
   "cell_type": "markdown",
   "metadata": {},
   "source": [
    "!mkdir rus-eng\n",
    "!unzip rus-eng.zip -d rus-eng/"
   ]
  },
  {
   "cell_type": "code",
   "execution_count": 2,
   "metadata": {},
   "outputs": [],
   "source": [
    "path_to_file = \"rus-eng/rus.txt\""
   ]
  },
  {
   "cell_type": "code",
   "execution_count": 3,
   "metadata": {},
   "outputs": [],
   "source": [
    "def preprocess_sentence(w):\n",
    "    w = w.lower().strip()\n",
    "    w = re.sub(r\"([?.!,])\", r\" \\1 \", w)\n",
    "    w = re.sub(r'[\" \"]+', \" \", w)\n",
    "    w = re.sub(r\"[^a-zA-Zа-яА-Я?.!,']+\", \" \", w)\n",
    "    w = w.strip()\n",
    "    w = '<start> ' + w + ' <end>'\n",
    "    return w"
   ]
  },
  {
   "cell_type": "code",
   "execution_count": 4,
   "metadata": {},
   "outputs": [
    {
     "data": {
      "text/plain": [
       "'<start> the sentence for test . <end>'"
      ]
     },
     "execution_count": 4,
     "metadata": {},
     "output_type": "execute_result"
    }
   ],
   "source": [
    "preprocess_sentence(\"The sentence for test.\")"
   ]
  },
  {
   "cell_type": "code",
   "execution_count": 5,
   "metadata": {},
   "outputs": [],
   "source": [
    "def create_dataset(path, num_examples):\n",
    "    lines = io.open(path, encoding='UTF-8').read().strip().split('\\n')\n",
    "    word_pairs = [[preprocess_sentence(w) for w in l.split('\\t')[:2]]  for l in lines[:num_examples]]\n",
    "    return zip(*word_pairs)"
   ]
  },
  {
   "cell_type": "code",
   "execution_count": 6,
   "metadata": {},
   "outputs": [
    {
     "name": "stdout",
     "output_type": "stream",
     "text": [
      "<start> go . <end>\n",
      "<start> марш ! <end>\n"
     ]
    }
   ],
   "source": [
    "en, ru = create_dataset(path_to_file, None)\n",
    "print(en[0])\n",
    "print(ru[0])"
   ]
  },
  {
   "cell_type": "code",
   "execution_count": 7,
   "metadata": {},
   "outputs": [
    {
     "data": {
      "text/plain": [
       "(451436, 451436)"
      ]
     },
     "execution_count": 7,
     "metadata": {},
     "output_type": "execute_result"
    }
   ],
   "source": [
    "len(en), len(ru)"
   ]
  },
  {
   "cell_type": "code",
   "execution_count": 8,
   "metadata": {},
   "outputs": [],
   "source": [
    "def tokenize(lang):\n",
    "    lang_tokenizer = tf.keras.preprocessing.text.Tokenizer(filters='')\n",
    "    lang_tokenizer.fit_on_texts(lang)\n",
    "    tensor = lang_tokenizer.texts_to_sequences(lang)\n",
    "    tensor = tf.keras.preprocessing.sequence.pad_sequences(tensor, padding='post')\n",
    "    return tensor, lang_tokenizer\n",
    "\n",
    "def load_dataset(path, num_examples=None):\n",
    "    targ_lang, inp_lang = create_dataset(path, num_examples)\n",
    "    input_tensor, inp_lang_tokenizer = tokenize(inp_lang)\n",
    "    target_tensor, targ_lang_tokenizer = tokenize(targ_lang)\n",
    "    return input_tensor, target_tensor, inp_lang_tokenizer, targ_lang_tokenizer"
   ]
  },
  {
   "cell_type": "code",
   "execution_count": 9,
   "metadata": {},
   "outputs": [],
   "source": [
    "num_examples = 100000\n",
    "input_tensor, target_tensor, inp_lang, targ_lang = load_dataset(path_to_file, num_examples)"
   ]
  },
  {
   "cell_type": "code",
   "execution_count": 10,
   "metadata": {},
   "outputs": [
    {
     "data": {
      "text/plain": [
       "(array([[   1, 5663,   24, ...,    0,    0,    0],\n",
       "        [   1,  198,    3, ...,    0,    0,    0],\n",
       "        [   1,  301,    3, ...,    0,    0,    0],\n",
       "        ...,\n",
       "        [   1,   33,  234, ...,    0,    0,    0],\n",
       "        [   1,   10,  298, ...,    0,    0,    0],\n",
       "        [   1,   27,   65, ...,    0,    0,    0]], dtype=int32),\n",
       " array([[ 1, 27,  3, ...,  0,  0,  0],\n",
       "        [ 1, 27,  3, ...,  0,  0,  0],\n",
       "        [ 1, 27,  3, ...,  0,  0,  0],\n",
       "        ...,\n",
       "        [ 1, 15,  7, ...,  0,  0,  0],\n",
       "        [ 1, 15,  7, ...,  0,  0,  0],\n",
       "        [ 1, 15,  7, ...,  0,  0,  0]], dtype=int32))"
      ]
     },
     "execution_count": 10,
     "metadata": {},
     "output_type": "execute_result"
    }
   ],
   "source": [
    "input_tensor, target_tensor"
   ]
  },
  {
   "cell_type": "code",
   "execution_count": 11,
   "metadata": {},
   "outputs": [],
   "source": [
    "max_length_targ, max_length_inp = target_tensor.shape[1], input_tensor.shape[1]"
   ]
  },
  {
   "cell_type": "code",
   "execution_count": 12,
   "metadata": {},
   "outputs": [
    {
     "data": {
      "text/plain": [
       "(11, 15)"
      ]
     },
     "execution_count": 12,
     "metadata": {},
     "output_type": "execute_result"
    }
   ],
   "source": [
    "max_length_targ, max_length_inp"
   ]
  },
  {
   "cell_type": "code",
   "execution_count": 13,
   "metadata": {},
   "outputs": [],
   "source": [
    "input_tensor_train, input_tensor_val, target_tensor_train, target_tensor_val = train_test_split(input_tensor, target_tensor, test_size=0.2)"
   ]
  },
  {
   "cell_type": "code",
   "execution_count": 14,
   "metadata": {},
   "outputs": [
    {
     "name": "stdout",
     "output_type": "stream",
     "text": [
      "80000 80000 20000 20000\n"
     ]
    }
   ],
   "source": [
    "print(len(input_tensor_train), len(target_tensor_train), len(input_tensor_val), len(target_tensor_val))"
   ]
  },
  {
   "cell_type": "code",
   "execution_count": 15,
   "metadata": {},
   "outputs": [],
   "source": [
    "def convert(lang, tensor):\n",
    "    for t in tensor:\n",
    "        if t!=0:\n",
    "            print (\"%d ----> %s\" % (t, lang.index_word[t]))"
   ]
  },
  {
   "cell_type": "code",
   "execution_count": 16,
   "metadata": {},
   "outputs": [
    {
     "name": "stdout",
     "output_type": "stream",
     "text": [
      "Input Language; index to word mapping\n",
      "1 ----> <start>\n",
      "6 ----> том\n",
      "224 ----> потерял\n",
      "270 ----> ключ\n",
      "3 ----> .\n",
      "2 ----> <end>\n",
      "\n",
      "Target Language; index to word mapping\n",
      "1 ----> <start>\n",
      "5 ----> tom\n",
      "58 ----> has\n",
      "143 ----> lost\n",
      "101 ----> his\n",
      "306 ----> key\n",
      "3 ----> .\n",
      "2 ----> <end>\n"
     ]
    }
   ],
   "source": [
    "print (\"Input Language; index to word mapping\")\n",
    "convert(inp_lang, input_tensor_train[0])\n",
    "print ()\n",
    "print (\"Target Language; index to word mapping\")\n",
    "convert(targ_lang, target_tensor_train[0])"
   ]
  },
  {
   "cell_type": "code",
   "execution_count": 17,
   "metadata": {},
   "outputs": [
    {
     "name": "stderr",
     "output_type": "stream",
     "text": [
      "2022-11-24 10:15:35.159593: I tensorflow/core/platform/cpu_feature_guard.cc:193] This TensorFlow binary is optimized with oneAPI Deep Neural Network Library (oneDNN) to use the following CPU instructions in performance-critical operations:  AVX2 FMA\n",
      "To enable them in other operations, rebuild TensorFlow with the appropriate compiler flags.\n"
     ]
    }
   ],
   "source": [
    "BUFFER_SIZE = len(input_tensor_train)\n",
    "BATCH_SIZE = 64\n",
    "steps_per_epoch = len(input_tensor_train)//BATCH_SIZE\n",
    "embedding_dim = 300\n",
    "units = 1024\n",
    "vocab_inp_size = len(inp_lang.word_index)+1\n",
    "vocab_tar_size = len(targ_lang.word_index)+1\n",
    "\n",
    "dataset = tf.data.Dataset.from_tensor_slices((input_tensor_train, target_tensor_train)).shuffle(BUFFER_SIZE)\n",
    "\n",
    "dataset = dataset.batch(BATCH_SIZE, drop_remainder=True)"
   ]
  },
  {
   "cell_type": "code",
   "execution_count": 18,
   "metadata": {},
   "outputs": [],
   "source": [
    "class Encoder(tf.keras.Model):\n",
    "    def __init__(self, vocab_size, embedding_dim, enc_units, batch_sz):\n",
    "        super(Encoder, self).__init__()\n",
    "        self.batch_sz = batch_sz\n",
    "        self.enc_units = enc_units\n",
    "        self.embedding = tf.keras.layers.Embedding(vocab_size, embedding_dim)\n",
    "        self.gru = tf.keras.layers.GRU(self.enc_units,\n",
    "                                       return_sequences=False,\n",
    "                                       return_state=True,\n",
    "                                       recurrent_initializer='glorot_uniform')\n",
    "    def call(self, x, hidden):\n",
    "        x = self.embedding(x)\n",
    "        output, state = self.gru(x, initial_state = hidden)\n",
    "        return state\n",
    "\n",
    "    def initialize_hidden_state(self):\n",
    "        return tf.zeros((self.batch_sz, self.enc_units))"
   ]
  },
  {
   "cell_type": "code",
   "execution_count": 19,
   "metadata": {},
   "outputs": [],
   "source": [
    "example_input_batch, example_target_batch = next(iter(dataset))\n"
   ]
  },
  {
   "cell_type": "code",
   "execution_count": 20,
   "metadata": {},
   "outputs": [
    {
     "name": "stdout",
     "output_type": "stream",
     "text": [
      "Encoder Hidden state shape: (batch size, units) (64, 1024)\n"
     ]
    }
   ],
   "source": [
    "encoder = Encoder(vocab_inp_size, embedding_dim, units, BATCH_SIZE)\n",
    "\n",
    "sample_hidden = encoder.initialize_hidden_state()\n",
    "sample_hidden = encoder(example_input_batch, sample_hidden)\n",
    "\n",
    "print ('Encoder Hidden state shape: (batch size, units) {}'.format(sample_hidden.shape))"
   ]
  },
  {
   "cell_type": "code",
   "execution_count": 21,
   "metadata": {},
   "outputs": [],
   "source": [
    "class Decoder(tf.keras.Model):\n",
    "    def __init__(self, vocab_size, embedding_dim, dec_units, batch_sz):\n",
    "        super(Decoder, self).__init__()\n",
    "        self.batch_sz = batch_sz\n",
    "        self.dec_units = dec_units\n",
    "        self.embedding = tf.keras.layers.Embedding(vocab_size, embedding_dim)\n",
    "        self.gru = tf.keras.layers.GRU(self.dec_units,\n",
    "                                       return_sequences=True,\n",
    "                                       return_state=True,\n",
    "                                       recurrent_initializer='glorot_uniform')\n",
    "        self.fc = tf.keras.layers.Dense(vocab_size)\n",
    "\n",
    "    def call(self, x, hidden):\n",
    "        x = self.embedding(x)\n",
    "        output, state = self.gru(x, initial_state=hidden)\n",
    "        output = tf.reshape(output, (-1, output.shape[2]))\n",
    "        x = self.fc(output)\n",
    "\n",
    "        return x, state"
   ]
  },
  {
   "cell_type": "code",
   "execution_count": 22,
   "metadata": {},
   "outputs": [],
   "source": [
    "decoder = Decoder(vocab_tar_size, embedding_dim, units, BATCH_SIZE)\n",
    "\n",
    "decoder_sample_x, decoder_sample_h = decoder(tf.random.uniform((BATCH_SIZE, 1)), sample_hidden)"
   ]
  },
  {
   "cell_type": "code",
   "execution_count": 23,
   "metadata": {},
   "outputs": [],
   "source": [
    "optimizer = tf.keras.optimizers.Adam()\n",
    "\n",
    "loss_object = tf.keras.losses.SparseCategoricalCrossentropy(\n",
    "    from_logits=True, reduction='none')\n",
    "\n",
    "def loss_function(real, pred):\n",
    "    mask = tf.math.logical_not(tf.math.equal(real, 0))\n",
    "    loss_ = loss_object(real, pred)\n",
    "    mask = tf.cast(mask, dtype=loss_.dtype)\n",
    "    loss_ *= mask\n",
    "\n",
    "    return tf.reduce_mean(loss_)"
   ]
  },
  {
   "cell_type": "code",
   "execution_count": 24,
   "metadata": {},
   "outputs": [],
   "source": [
    "checkpoint_dir = './training_nmt_checkpoints'\n",
    "\n",
    "checkpoint_prefix = os.path.join(checkpoint_dir, \"ckpt\")\n",
    "\n",
    "checkpoint = tf.train.Checkpoint(optimizer=optimizer,\n",
    "                                 encoder=encoder,\n",
    "                                 decoder=decoder)"
   ]
  },
  {
   "cell_type": "code",
   "execution_count": 25,
   "metadata": {},
   "outputs": [],
   "source": [
    "@tf.function\n",
    "def train_step(inp, targ, enc_hidden):\n",
    "    loss = 0\n",
    "    with tf.GradientTape() as tape:\n",
    "        enc_hidden = encoder(inp, enc_hidden)\n",
    "        dec_hidden = enc_hidden\n",
    "        dec_input = tf.expand_dims([targ_lang.word_index['<start>']] * BATCH_SIZE, 1)\n",
    "\n",
    "        for t in range(1, targ.shape[1]):\n",
    "            predictions, dec_hidden = decoder(dec_input, dec_hidden)\n",
    "            loss += loss_function(targ[:, t], predictions)\n",
    "            dec_input = tf.expand_dims(targ[:, t], 1)\n",
    "\n",
    "    batch_loss = (loss / int(targ.shape[1]))\n",
    "    variables = encoder.trainable_variables + decoder.trainable_variables\n",
    "    gradients = tape.gradient(loss, variables)\n",
    "    optimizer.apply_gradients(zip(gradients, variables))\n",
    "\n",
    "    return batch_loss"
   ]
  },
  {
   "cell_type": "code",
   "execution_count": 26,
   "metadata": {},
   "outputs": [
    {
     "name": "stdout",
     "output_type": "stream",
     "text": [
      "Epoch 1 Batch 0 Loss 4.6780\n",
      "Epoch 1 Batch 100 Loss 2.1011\n",
      "Epoch 1 Batch 200 Loss 1.8378\n",
      "Epoch 1 Batch 300 Loss 1.5352\n",
      "Epoch 1 Batch 400 Loss 1.5048\n",
      "Epoch 1 Batch 500 Loss 1.4043\n",
      "Epoch 1 Batch 600 Loss 1.2535\n",
      "Epoch 1 Batch 700 Loss 1.3385\n",
      "Epoch 1 Batch 800 Loss 1.1927\n",
      "Epoch 1 Batch 900 Loss 1.1284\n",
      "Epoch 1 Batch 1000 Loss 0.9790\n",
      "Epoch 1 Batch 1100 Loss 0.9840\n",
      "Epoch 1 Batch 1200 Loss 0.9311\n",
      "Epoch 1 Loss 1.4053\n",
      "Time taken for 1 epoch 877.4432818889618 sec\n",
      "\n",
      "Epoch 2 Batch 0 Loss 0.8342\n",
      "Epoch 2 Batch 100 Loss 0.8559\n",
      "Epoch 2 Batch 200 Loss 0.7627\n",
      "Epoch 2 Batch 300 Loss 0.8654\n",
      "Epoch 2 Batch 400 Loss 0.7489\n",
      "Epoch 2 Batch 500 Loss 0.6983\n",
      "Epoch 2 Batch 600 Loss 0.6969\n",
      "Epoch 2 Batch 700 Loss 0.7175\n",
      "Epoch 2 Batch 800 Loss 0.6811\n",
      "Epoch 2 Batch 900 Loss 0.6113\n",
      "Epoch 2 Batch 1000 Loss 0.5884\n",
      "Epoch 2 Batch 1100 Loss 0.6332\n",
      "Epoch 2 Batch 1200 Loss 0.5399\n",
      "Epoch 2 Loss 0.6702\n",
      "Time taken for 1 epoch 865.5904281139374 sec\n",
      "\n",
      "Epoch 3 Batch 0 Loss 0.4159\n",
      "Epoch 3 Batch 100 Loss 0.3539\n",
      "Epoch 3 Batch 200 Loss 0.3601\n",
      "Epoch 3 Batch 300 Loss 0.2999\n",
      "Epoch 3 Batch 400 Loss 0.3728\n",
      "Epoch 3 Batch 500 Loss 0.3812\n",
      "Epoch 3 Batch 600 Loss 0.4103\n",
      "Epoch 3 Batch 700 Loss 0.2645\n",
      "Epoch 3 Batch 800 Loss 0.3303\n",
      "Epoch 3 Batch 900 Loss 0.3463\n",
      "Epoch 3 Batch 1000 Loss 0.3334\n",
      "Epoch 3 Batch 1100 Loss 0.3386\n",
      "Epoch 3 Batch 1200 Loss 0.3880\n",
      "Epoch 3 Loss 0.3628\n",
      "Time taken for 1 epoch 902.1756858825684 sec\n",
      "\n",
      "Epoch 4 Batch 0 Loss 0.2087\n",
      "Epoch 4 Batch 100 Loss 0.1901\n",
      "Epoch 4 Batch 200 Loss 0.1778\n",
      "Epoch 4 Batch 300 Loss 0.1679\n",
      "Epoch 4 Batch 400 Loss 0.2172\n",
      "Epoch 4 Batch 500 Loss 0.2043\n",
      "Epoch 4 Batch 600 Loss 0.2015\n",
      "Epoch 4 Batch 700 Loss 0.2202\n",
      "Epoch 4 Batch 800 Loss 0.1391\n",
      "Epoch 4 Batch 900 Loss 0.2232\n",
      "Epoch 4 Batch 1000 Loss 0.2609\n",
      "Epoch 4 Batch 1100 Loss 0.2364\n",
      "Epoch 4 Batch 1200 Loss 0.2881\n",
      "Epoch 4 Loss 0.2175\n",
      "Time taken for 1 epoch 867.5423991680145 sec\n",
      "\n",
      "Epoch 5 Batch 0 Loss 0.1200\n",
      "Epoch 5 Batch 100 Loss 0.1404\n",
      "Epoch 5 Batch 200 Loss 0.0987\n",
      "Epoch 5 Batch 300 Loss 0.1382\n",
      "Epoch 5 Batch 400 Loss 0.0950\n",
      "Epoch 5 Batch 500 Loss 0.1614\n",
      "Epoch 5 Batch 600 Loss 0.1647\n",
      "Epoch 5 Batch 700 Loss 0.1802\n",
      "Epoch 5 Batch 800 Loss 0.2313\n",
      "Epoch 5 Batch 900 Loss 0.1657\n",
      "Epoch 5 Batch 1000 Loss 0.1477\n",
      "Epoch 5 Batch 1100 Loss 0.1652\n",
      "Epoch 5 Batch 1200 Loss 0.1216\n",
      "Epoch 5 Loss 0.1489\n",
      "Time taken for 1 epoch 883.3932440280914 sec\n",
      "\n",
      "Epoch 6 Batch 0 Loss 0.1079\n",
      "Epoch 6 Batch 100 Loss 0.0950\n",
      "Epoch 6 Batch 200 Loss 0.1035\n",
      "Epoch 6 Batch 300 Loss 0.1411\n",
      "Epoch 6 Batch 400 Loss 0.1148\n",
      "Epoch 6 Batch 500 Loss 0.0878\n",
      "Epoch 6 Batch 600 Loss 0.1489\n",
      "Epoch 6 Batch 700 Loss 0.1390\n",
      "Epoch 6 Batch 800 Loss 0.1193\n",
      "Epoch 6 Batch 900 Loss 0.1204\n",
      "Epoch 6 Batch 1000 Loss 0.1600\n",
      "Epoch 6 Batch 1100 Loss 0.1374\n",
      "Epoch 6 Batch 1200 Loss 0.0858\n",
      "Epoch 6 Loss 0.1162\n",
      "Time taken for 1 epoch 2323.8447608947754 sec\n",
      "\n",
      "Epoch 7 Batch 0 Loss 0.0671\n",
      "Epoch 7 Batch 100 Loss 0.0706\n",
      "Epoch 7 Batch 200 Loss 0.1110\n",
      "Epoch 7 Batch 300 Loss 0.0577\n",
      "Epoch 7 Batch 400 Loss 0.0601\n",
      "Epoch 7 Batch 500 Loss 0.1126\n",
      "Epoch 7 Batch 600 Loss 0.0905\n",
      "Epoch 7 Batch 700 Loss 0.0946\n",
      "Epoch 7 Batch 800 Loss 0.1208\n",
      "Epoch 7 Batch 900 Loss 0.1070\n",
      "Epoch 7 Batch 1000 Loss 0.1082\n",
      "Epoch 7 Batch 1100 Loss 0.1333\n",
      "Epoch 7 Batch 1200 Loss 0.1262\n",
      "Epoch 7 Loss 0.0984\n",
      "Time taken for 1 epoch 875.4065380096436 sec\n",
      "\n",
      "Epoch 8 Batch 0 Loss 0.0860\n",
      "Epoch 8 Batch 100 Loss 0.0630\n",
      "Epoch 8 Batch 200 Loss 0.0854\n",
      "Epoch 8 Batch 300 Loss 0.0642\n",
      "Epoch 8 Batch 400 Loss 0.0981\n",
      "Epoch 8 Batch 500 Loss 0.0660\n",
      "Epoch 8 Batch 600 Loss 0.0778\n",
      "Epoch 8 Batch 700 Loss 0.1192\n",
      "Epoch 8 Batch 800 Loss 0.0704\n",
      "Epoch 8 Batch 900 Loss 0.1076\n",
      "Epoch 8 Batch 1000 Loss 0.1344\n",
      "Epoch 8 Batch 1100 Loss 0.1138\n",
      "Epoch 8 Batch 1200 Loss 0.0974\n",
      "Epoch 8 Loss 0.0898\n",
      "Time taken for 1 epoch 886.2227921485901 sec\n",
      "\n",
      "Epoch 9 Batch 0 Loss 0.0619\n",
      "Epoch 9 Batch 100 Loss 0.0831\n",
      "Epoch 9 Batch 200 Loss 0.0700\n",
      "Epoch 9 Batch 300 Loss 0.0899\n",
      "Epoch 9 Batch 400 Loss 0.0811\n",
      "Epoch 9 Batch 500 Loss 0.0865\n",
      "Epoch 9 Batch 600 Loss 0.0968\n",
      "Epoch 9 Batch 700 Loss 0.1135\n",
      "Epoch 9 Batch 800 Loss 0.1754\n",
      "Epoch 9 Batch 900 Loss 0.0918\n",
      "Epoch 9 Batch 1000 Loss 0.1026\n",
      "Epoch 9 Batch 1100 Loss 0.0826\n",
      "Epoch 9 Batch 1200 Loss 0.1262\n",
      "Epoch 9 Loss 0.0833\n",
      "Time taken for 1 epoch 869.8378250598907 sec\n",
      "\n",
      "Epoch 10 Batch 0 Loss 0.0709\n",
      "Epoch 10 Batch 100 Loss 0.0816\n",
      "Epoch 10 Batch 200 Loss 0.0426\n",
      "Epoch 10 Batch 300 Loss 0.0760\n",
      "Epoch 10 Batch 400 Loss 0.1105\n",
      "Epoch 10 Batch 500 Loss 0.1034\n",
      "Epoch 10 Batch 600 Loss 0.0975\n",
      "Epoch 10 Batch 700 Loss 0.1042\n",
      "Epoch 10 Batch 800 Loss 0.0747\n",
      "Epoch 10 Batch 900 Loss 0.0763\n",
      "Epoch 10 Batch 1000 Loss 0.0811\n",
      "Epoch 10 Batch 1100 Loss 0.0741\n",
      "Epoch 10 Batch 1200 Loss 0.1762\n",
      "Epoch 10 Loss 0.0786\n",
      "Time taken for 1 epoch 5501.993376970291 sec\n",
      "\n",
      "Epoch 11 Batch 0 Loss 0.0437\n",
      "Epoch 11 Batch 100 Loss 0.0693\n",
      "Epoch 11 Batch 200 Loss 0.1013\n",
      "Epoch 11 Batch 300 Loss 0.0529\n",
      "Epoch 11 Batch 400 Loss 0.0902\n",
      "Epoch 11 Batch 500 Loss 0.0809\n",
      "Epoch 11 Batch 600 Loss 0.0593\n",
      "Epoch 11 Batch 700 Loss 0.0477\n",
      "Epoch 11 Batch 800 Loss 0.0949\n",
      "Epoch 11 Batch 900 Loss 0.0728\n",
      "Epoch 11 Batch 1000 Loss 0.1145\n",
      "Epoch 11 Batch 1100 Loss 0.0842\n",
      "Epoch 11 Batch 1200 Loss 0.0960\n",
      "Epoch 11 Loss 0.0768\n",
      "Time taken for 1 epoch 821.8978629112244 sec\n",
      "\n",
      "Epoch 12 Batch 0 Loss 0.0669\n",
      "Epoch 12 Batch 100 Loss 0.0370\n",
      "Epoch 12 Batch 200 Loss 0.1215\n",
      "Epoch 12 Batch 300 Loss 0.0850\n",
      "Epoch 12 Batch 400 Loss 0.0862\n",
      "Epoch 12 Batch 500 Loss 0.0566\n",
      "Epoch 12 Batch 600 Loss 0.0898\n",
      "Epoch 12 Batch 700 Loss 0.0733\n",
      "Epoch 12 Batch 800 Loss 0.0776\n",
      "Epoch 12 Batch 900 Loss 0.1026\n",
      "Epoch 12 Batch 1000 Loss 0.0615\n",
      "Epoch 12 Batch 1100 Loss 0.1102\n",
      "Epoch 12 Batch 1200 Loss 0.0863\n",
      "Epoch 12 Loss 0.0735\n",
      "Time taken for 1 epoch 831.9553022384644 sec\n",
      "\n",
      "Epoch 13 Batch 0 Loss 0.0657\n",
      "Epoch 13 Batch 100 Loss 0.0495\n",
      "Epoch 13 Batch 200 Loss 0.0187\n",
      "Epoch 13 Batch 300 Loss 0.0376\n",
      "Epoch 13 Batch 400 Loss 0.0526\n",
      "Epoch 13 Batch 500 Loss 0.0842\n",
      "Epoch 13 Batch 600 Loss 0.0447\n",
      "Epoch 13 Batch 700 Loss 0.0767\n",
      "Epoch 13 Batch 800 Loss 0.1015\n",
      "Epoch 13 Batch 900 Loss 0.0923\n",
      "Epoch 13 Batch 1000 Loss 0.0748\n",
      "Epoch 13 Batch 1100 Loss 0.1118\n",
      "Epoch 13 Batch 1200 Loss 0.0768\n",
      "Epoch 13 Loss 0.0709\n",
      "Time taken for 1 epoch 865.215115070343 sec\n",
      "\n",
      "Epoch 14 Batch 0 Loss 0.0363\n",
      "Epoch 14 Batch 100 Loss 0.0620\n",
      "Epoch 14 Batch 200 Loss 0.0889\n",
      "Epoch 14 Batch 300 Loss 0.0869\n",
      "Epoch 14 Batch 400 Loss 0.0522\n",
      "Epoch 14 Batch 500 Loss 0.0747\n",
      "Epoch 14 Batch 600 Loss 0.0868\n",
      "Epoch 14 Batch 700 Loss 0.1003\n",
      "Epoch 14 Batch 800 Loss 0.0823\n",
      "Epoch 14 Batch 900 Loss 0.0481\n",
      "Epoch 14 Batch 1000 Loss 0.0736\n",
      "Epoch 14 Batch 1100 Loss 0.0596\n",
      "Epoch 14 Batch 1200 Loss 0.0476\n",
      "Epoch 14 Loss 0.0690\n",
      "Time taken for 1 epoch 860.3810129165649 sec\n",
      "\n",
      "Epoch 15 Batch 0 Loss 0.0640\n",
      "Epoch 15 Batch 100 Loss 0.0636\n",
      "Epoch 15 Batch 200 Loss 0.0307\n",
      "Epoch 15 Batch 300 Loss 0.0742\n",
      "Epoch 15 Batch 400 Loss 0.0464\n",
      "Epoch 15 Batch 500 Loss 0.0476\n",
      "Epoch 15 Batch 600 Loss 0.0731\n",
      "Epoch 15 Batch 700 Loss 0.0592\n",
      "Epoch 15 Batch 800 Loss 0.1014\n",
      "Epoch 15 Batch 900 Loss 0.0812\n",
      "Epoch 15 Batch 1000 Loss 0.1056\n",
      "Epoch 15 Batch 1100 Loss 0.1136\n",
      "Epoch 15 Batch 1200 Loss 0.0830\n",
      "Epoch 15 Loss 0.0679\n",
      "Time taken for 1 epoch 815.7222299575806 sec\n",
      "\n",
      "Epoch 16 Batch 0 Loss 0.0525\n",
      "Epoch 16 Batch 100 Loss 0.0508\n",
      "Epoch 16 Batch 200 Loss 0.0675\n",
      "Epoch 16 Batch 300 Loss 0.0696\n",
      "Epoch 16 Batch 400 Loss 0.0630\n",
      "Epoch 16 Batch 500 Loss 0.0793\n",
      "Epoch 16 Batch 600 Loss 0.0653\n",
      "Epoch 16 Batch 700 Loss 0.0635\n",
      "Epoch 16 Batch 800 Loss 0.0762\n",
      "Epoch 16 Batch 900 Loss 0.0831\n",
      "Epoch 16 Batch 1000 Loss 0.0822\n",
      "Epoch 16 Batch 1100 Loss 0.0624\n",
      "Epoch 16 Batch 1200 Loss 0.0639\n",
      "Epoch 16 Loss 0.0665\n",
      "Time taken for 1 epoch 831.9166491031647 sec\n",
      "\n",
      "Epoch 17 Batch 0 Loss 0.0256\n",
      "Epoch 17 Batch 100 Loss 0.0313\n",
      "Epoch 17 Batch 200 Loss 0.0661\n",
      "Epoch 17 Batch 300 Loss 0.0373\n",
      "Epoch 17 Batch 400 Loss 0.0438\n",
      "Epoch 17 Batch 500 Loss 0.0865\n",
      "Epoch 17 Batch 600 Loss 0.0720\n",
      "Epoch 17 Batch 700 Loss 0.0800\n",
      "Epoch 17 Batch 800 Loss 0.0612\n",
      "Epoch 17 Batch 900 Loss 0.0504\n",
      "Epoch 17 Batch 1000 Loss 0.1035\n",
      "Epoch 17 Batch 1100 Loss 0.0855\n",
      "Epoch 17 Batch 1200 Loss 0.0732\n",
      "Epoch 17 Loss 0.0643\n",
      "Time taken for 1 epoch 953.4793860912323 sec\n",
      "\n",
      "Epoch 18 Batch 0 Loss 0.0355\n",
      "Epoch 18 Batch 100 Loss 0.0318\n",
      "Epoch 18 Batch 200 Loss 0.0372\n",
      "Epoch 18 Batch 300 Loss 0.0354\n",
      "Epoch 18 Batch 400 Loss 0.0470\n",
      "Epoch 18 Batch 500 Loss 0.0657\n",
      "Epoch 18 Batch 600 Loss 0.0521\n",
      "Epoch 18 Batch 700 Loss 0.0728\n",
      "Epoch 18 Batch 800 Loss 0.0692\n",
      "Epoch 18 Batch 900 Loss 0.0861\n",
      "Epoch 18 Batch 1000 Loss 0.0569\n",
      "Epoch 18 Batch 1100 Loss 0.0564\n",
      "Epoch 18 Batch 1200 Loss 0.0472\n",
      "Epoch 18 Loss 0.0632\n",
      "Time taken for 1 epoch 854.45827293396 sec\n",
      "\n",
      "Epoch 19 Batch 0 Loss 0.0664\n",
      "Epoch 19 Batch 100 Loss 0.0444\n",
      "Epoch 19 Batch 200 Loss 0.0556\n",
      "Epoch 19 Batch 300 Loss 0.0486\n",
      "Epoch 19 Batch 400 Loss 0.0484\n",
      "Epoch 19 Batch 500 Loss 0.0421\n",
      "Epoch 19 Batch 600 Loss 0.0600\n",
      "Epoch 19 Batch 700 Loss 0.0211\n",
      "Epoch 19 Batch 800 Loss 0.0555\n",
      "Epoch 19 Batch 900 Loss 0.0497\n",
      "Epoch 19 Batch 1000 Loss 0.0621\n",
      "Epoch 19 Batch 1100 Loss 0.0480\n",
      "Epoch 19 Batch 1200 Loss 0.0904\n",
      "Epoch 19 Loss 0.0632\n",
      "Time taken for 1 epoch 821.5141530036926 sec\n",
      "\n",
      "Epoch 20 Batch 0 Loss 0.0485\n",
      "Epoch 20 Batch 100 Loss 0.0401\n",
      "Epoch 20 Batch 200 Loss 0.0520\n",
      "Epoch 20 Batch 300 Loss 0.0997\n",
      "Epoch 20 Batch 400 Loss 0.0475\n",
      "Epoch 20 Batch 500 Loss 0.0493\n",
      "Epoch 20 Batch 600 Loss 0.0684\n",
      "Epoch 20 Batch 700 Loss 0.0509\n",
      "Epoch 20 Batch 800 Loss 0.0439\n",
      "Epoch 20 Batch 900 Loss 0.0774\n",
      "Epoch 20 Batch 1000 Loss 0.0868\n",
      "Epoch 20 Batch 1100 Loss 0.0740\n",
      "Epoch 20 Batch 1200 Loss 0.0582\n",
      "Epoch 20 Loss 0.0614\n",
      "Time taken for 1 epoch 866.6204259395599 sec\n",
      "\n",
      "Epoch 21 Batch 0 Loss 0.0304\n",
      "Epoch 21 Batch 100 Loss 0.0315\n",
      "Epoch 21 Batch 200 Loss 0.0598\n",
      "Epoch 21 Batch 300 Loss 0.0534\n",
      "Epoch 21 Batch 400 Loss 0.0554\n",
      "Epoch 21 Batch 500 Loss 0.0348\n",
      "Epoch 21 Batch 600 Loss 0.0655\n",
      "Epoch 21 Batch 700 Loss 0.0863\n",
      "Epoch 21 Batch 800 Loss 0.0516\n",
      "Epoch 21 Batch 900 Loss 0.0757\n",
      "Epoch 21 Batch 1000 Loss 0.0992\n",
      "Epoch 21 Batch 1100 Loss 0.0450\n",
      "Epoch 21 Batch 1200 Loss 0.0483\n",
      "Epoch 21 Loss 0.0600\n",
      "Time taken for 1 epoch 833.061496257782 sec\n",
      "\n",
      "Epoch 22 Batch 0 Loss 0.0458\n",
      "Epoch 22 Batch 100 Loss 0.0425\n",
      "Epoch 22 Batch 200 Loss 0.0631\n",
      "Epoch 22 Batch 300 Loss 0.0287\n",
      "Epoch 22 Batch 400 Loss 0.0557\n",
      "Epoch 22 Batch 500 Loss 0.0559\n",
      "Epoch 22 Batch 600 Loss 0.0848\n",
      "Epoch 22 Batch 700 Loss 0.0380\n",
      "Epoch 22 Batch 800 Loss 0.0489\n",
      "Epoch 22 Batch 900 Loss 0.0387\n",
      "Epoch 22 Batch 1000 Loss 0.0607\n",
      "Epoch 22 Batch 1100 Loss 0.0469\n",
      "Epoch 22 Batch 1200 Loss 0.0740\n",
      "Epoch 22 Loss 0.0594\n",
      "Time taken for 1 epoch 2126.1184759140015 sec\n",
      "\n",
      "Epoch 23 Batch 0 Loss 0.0781\n",
      "Epoch 23 Batch 100 Loss 0.0671\n",
      "Epoch 23 Batch 200 Loss 0.0595\n",
      "Epoch 23 Batch 300 Loss 0.0721\n",
      "Epoch 23 Batch 400 Loss 0.0481\n",
      "Epoch 23 Batch 500 Loss 0.0525\n",
      "Epoch 23 Batch 600 Loss 0.0745\n",
      "Epoch 23 Batch 700 Loss 0.0574\n",
      "Epoch 23 Batch 800 Loss 0.0651\n",
      "Epoch 23 Batch 900 Loss 0.0652\n",
      "Epoch 23 Batch 1000 Loss 0.0258\n",
      "Epoch 23 Batch 1100 Loss 0.0758\n",
      "Epoch 23 Batch 1200 Loss 0.0632\n",
      "Epoch 23 Loss 0.0583\n",
      "Time taken for 1 epoch 5100.802272081375 sec\n",
      "\n",
      "Epoch 24 Batch 0 Loss 0.0657\n",
      "Epoch 24 Batch 100 Loss 0.0289\n",
      "Epoch 24 Batch 200 Loss 0.0595\n",
      "Epoch 24 Batch 300 Loss 0.0458\n",
      "Epoch 24 Batch 400 Loss 0.0608\n",
      "Epoch 24 Batch 500 Loss 0.0704\n",
      "Epoch 24 Batch 600 Loss 0.0580\n",
      "Epoch 24 Batch 700 Loss 0.0576\n",
      "Epoch 24 Batch 800 Loss 0.0471\n",
      "Epoch 24 Batch 900 Loss 0.0724\n",
      "Epoch 24 Batch 1000 Loss 0.0651\n",
      "Epoch 24 Batch 1100 Loss 0.0595\n",
      "Epoch 24 Batch 1200 Loss 0.1021\n",
      "Epoch 24 Loss 0.0575\n",
      "Time taken for 1 epoch 1044.3627390861511 sec\n",
      "\n",
      "Epoch 25 Batch 0 Loss 0.0737\n",
      "Epoch 25 Batch 100 Loss 0.0598\n",
      "Epoch 25 Batch 200 Loss 0.0475\n",
      "Epoch 25 Batch 300 Loss 0.0623\n",
      "Epoch 25 Batch 400 Loss 0.0504\n",
      "Epoch 25 Batch 500 Loss 0.0485\n",
      "Epoch 25 Batch 600 Loss 0.0808\n",
      "Epoch 25 Batch 700 Loss 0.0612\n",
      "Epoch 25 Batch 800 Loss 0.0488\n",
      "Epoch 25 Batch 900 Loss 0.0904\n",
      "Epoch 25 Batch 1000 Loss 0.0635\n",
      "Epoch 25 Batch 1100 Loss 0.0356\n",
      "Epoch 25 Batch 1200 Loss 0.0481\n",
      "Epoch 25 Loss 0.0568\n",
      "Time taken for 1 epoch 4776.264918088913 sec\n",
      "\n",
      "Epoch 26 Batch 0 Loss 0.0402\n",
      "Epoch 26 Batch 100 Loss 0.0367\n",
      "Epoch 26 Batch 200 Loss 0.0343\n",
      "Epoch 26 Batch 300 Loss 0.0372\n",
      "Epoch 26 Batch 400 Loss 0.0454\n",
      "Epoch 26 Batch 500 Loss 0.0559\n",
      "Epoch 26 Batch 600 Loss 0.0539\n",
      "Epoch 26 Batch 700 Loss 0.0420\n",
      "Epoch 26 Batch 800 Loss 0.0386\n",
      "Epoch 26 Batch 900 Loss 0.0816\n",
      "Epoch 26 Batch 1000 Loss 0.0839\n",
      "Epoch 26 Batch 1100 Loss 0.0862\n",
      "Epoch 26 Batch 1200 Loss 0.0766\n",
      "Epoch 26 Loss 0.0560\n",
      "Time taken for 1 epoch 12254.081401824951 sec\n",
      "\n",
      "Epoch 27 Batch 0 Loss 0.0209\n",
      "Epoch 27 Batch 100 Loss 0.0750\n",
      "Epoch 27 Batch 200 Loss 0.0255\n",
      "Epoch 27 Batch 300 Loss 0.0275\n",
      "Epoch 27 Batch 400 Loss 0.0408\n",
      "Epoch 27 Batch 500 Loss 0.0564\n",
      "Epoch 27 Batch 600 Loss 0.0584\n",
      "Epoch 27 Batch 700 Loss 0.0356\n",
      "Epoch 27 Batch 800 Loss 0.0655\n",
      "Epoch 27 Batch 900 Loss 0.0433\n",
      "Epoch 27 Batch 1000 Loss 0.0465\n",
      "Epoch 27 Batch 1100 Loss 0.0756\n",
      "Epoch 27 Batch 1200 Loss 0.0657\n",
      "Epoch 27 Loss 0.0550\n",
      "Time taken for 1 epoch 33938.15105199814 sec\n",
      "\n",
      "Epoch 28 Batch 0 Loss 0.0261\n",
      "Epoch 28 Batch 100 Loss 0.0420\n",
      "Epoch 28 Batch 200 Loss 0.1169\n",
      "Epoch 28 Batch 300 Loss 0.0553\n",
      "Epoch 28 Batch 400 Loss 0.0691\n",
      "Epoch 28 Batch 500 Loss 0.0741\n",
      "Epoch 28 Batch 600 Loss 0.0380\n",
      "Epoch 28 Batch 700 Loss 0.0545\n",
      "Epoch 28 Batch 800 Loss 0.0435\n",
      "Epoch 28 Batch 900 Loss 0.0753\n",
      "Epoch 28 Batch 1000 Loss 0.0700\n",
      "Epoch 28 Batch 1100 Loss 0.0569\n",
      "Epoch 28 Batch 1200 Loss 0.0434\n",
      "Epoch 28 Loss 0.0545\n",
      "Time taken for 1 epoch 1034.0305981636047 sec\n",
      "\n",
      "Epoch 29 Batch 0 Loss 0.0269\n",
      "Epoch 29 Batch 100 Loss 0.0485\n",
      "Epoch 29 Batch 200 Loss 0.0931\n",
      "Epoch 29 Batch 300 Loss 0.0667\n",
      "Epoch 29 Batch 400 Loss 0.0873\n",
      "Epoch 29 Batch 500 Loss 0.0790\n",
      "Epoch 29 Batch 600 Loss 0.0327\n",
      "Epoch 29 Batch 700 Loss 0.0391\n",
      "Epoch 29 Batch 800 Loss 0.0676\n",
      "Epoch 29 Batch 900 Loss 0.0971\n",
      "Epoch 29 Batch 1000 Loss 0.0534\n",
      "Epoch 29 Batch 1100 Loss 0.0720\n",
      "Epoch 29 Batch 1200 Loss 0.0834\n",
      "Epoch 29 Loss 0.0536\n",
      "Time taken for 1 epoch 841.2699027061462 sec\n",
      "\n",
      "Epoch 30 Batch 0 Loss 0.0418\n",
      "Epoch 30 Batch 100 Loss 0.0161\n",
      "Epoch 30 Batch 200 Loss 0.0439\n",
      "Epoch 30 Batch 300 Loss 0.0486\n",
      "Epoch 30 Batch 400 Loss 0.0461\n",
      "Epoch 30 Batch 500 Loss 0.0829\n",
      "Epoch 30 Batch 600 Loss 0.0584\n",
      "Epoch 30 Batch 700 Loss 0.0491\n",
      "Epoch 30 Batch 800 Loss 0.0872\n",
      "Epoch 30 Batch 900 Loss 0.0413\n",
      "Epoch 30 Batch 1000 Loss 0.0593\n",
      "Epoch 30 Batch 1100 Loss 0.0479\n",
      "Epoch 30 Batch 1200 Loss 0.0658\n",
      "Epoch 30 Loss 0.0533\n",
      "Time taken for 1 epoch 857.8747808933258 sec\n",
      "\n"
     ]
    }
   ],
   "source": [
    "EPOCHS = 30\n",
    "\n",
    "for epoch in range(EPOCHS):\n",
    "    start = time.time()\n",
    "    enc_hidden = encoder.initialize_hidden_state()\n",
    "    total_loss = 0\n",
    "\n",
    "    for (batch, (inp, targ)) in enumerate(dataset.take(steps_per_epoch)):\n",
    "        batch_loss = train_step(inp, targ, enc_hidden)\n",
    "        total_loss += batch_loss\n",
    "        if batch % 100 == 0:\n",
    "            print('Epoch {} Batch {} Loss {:.4f}'.format(epoch + 1,\n",
    "                                                       batch,\n",
    "                                                       batch_loss.numpy()))\n",
    "    if (epoch + 1) % 2 == 0:\n",
    "        checkpoint.save(file_prefix = checkpoint_prefix)\n",
    "\n",
    "    print('Epoch {} Loss {:.4f}'.format(epoch + 1,\n",
    "                                      total_loss / steps_per_epoch))\n",
    "    print('Time taken for 1 epoch {} sec\\n'.format(time.time() - start))"
   ]
  },
  {
   "cell_type": "code",
   "execution_count": 27,
   "metadata": {},
   "outputs": [],
   "source": [
    "def evaluate(sentence):\n",
    "    sentence = preprocess_sentence(sentence)\n",
    "    inputs = [inp_lang.word_index[i] for i in sentence.split(' ')]\n",
    "    inputs = tf.keras.preprocessing.sequence.pad_sequences([inputs],\n",
    "                                                             maxlen=max_length_inp,\n",
    "                                                             padding='post')\n",
    "    inputs = tf.convert_to_tensor(inputs)\n",
    "\n",
    "    result = ''\n",
    "    hidden = [tf.zeros((1, units))]\n",
    "    enc_hidden = encoder(inputs, hidden)\n",
    "\n",
    "    dec_hidden = enc_hidden\n",
    "    dec_input = tf.expand_dims([targ_lang.word_index['<start>']], 0)\n",
    "\n",
    "    for t in range(max_length_targ):\n",
    "        predictions, dec_hidden = decoder(dec_input, dec_hidden)\n",
    "\n",
    "        predicted_id = tf.argmax(predictions[0]).numpy()\n",
    "        result += targ_lang.index_word[predicted_id] + ' '\n",
    "\n",
    "        if targ_lang.index_word[predicted_id] == '<end>':\n",
    "            return result, sentence\n",
    "\n",
    "        dec_input = tf.expand_dims([predicted_id], 0)\n",
    "\n",
    "    return result, sentence"
   ]
  },
  {
   "cell_type": "code",
   "execution_count": 28,
   "metadata": {},
   "outputs": [],
   "source": [
    "def translate(sentence):\n",
    "    result, sentence = evaluate(sentence)\n",
    "    print('Input: %s' % (sentence))\n",
    "    print('Predicted translation: {}'.format(result))"
   ]
  },
  {
   "cell_type": "code",
   "execution_count": 29,
   "metadata": {},
   "outputs": [
    {
     "data": {
      "text/plain": [
       "<tensorflow.python.checkpoint.checkpoint.CheckpointLoadStatus at 0x15ed93100>"
      ]
     },
     "execution_count": 29,
     "metadata": {},
     "output_type": "execute_result"
    }
   ],
   "source": [
    "checkpoint.restore(tf.train.latest_checkpoint(checkpoint_dir))"
   ]
  },
  {
   "cell_type": "code",
   "execution_count": 30,
   "metadata": {},
   "outputs": [
    {
     "name": "stdout",
     "output_type": "stream",
     "text": [
      "Input: <start> сегодня нет дождя . <end>\n",
      "Predicted translation: it isn't raining today . <end> \n"
     ]
    }
   ],
   "source": [
    "translate('Сегодня нет дождя.')"
   ]
  },
  {
   "cell_type": "code",
   "execution_count": 31,
   "metadata": {},
   "outputs": [
    {
     "name": "stdout",
     "output_type": "stream",
     "text": [
      "Input: <start> сегодня нет дождя , светит солнце . <end>\n",
      "Predicted translation: it isn't cheap as tom . <end> \n"
     ]
    }
   ],
   "source": [
    "translate('Сегодня нет дождя, светит солнце.')"
   ]
  },
  {
   "cell_type": "code",
   "execution_count": 32,
   "metadata": {},
   "outputs": [
    {
     "name": "stdout",
     "output_type": "stream",
     "text": [
      "Input: <start> сегодня нет дождя , светит солнце , но есть маленькие облака . <end>\n",
      "Predicted translation: it isn't just cheap . <end> \n"
     ]
    }
   ],
   "source": [
    "translate('Сегодня нет дождя, светит солнце, но есть маленькие облака.')"
   ]
  },
  {
   "cell_type": "markdown",
   "metadata": {},
   "source": [
    "Очевидно, что качество перевода падает с ростом сложности грамматической конструкции."
   ]
  },
  {
   "cell_type": "code",
   "execution_count": null,
   "metadata": {},
   "outputs": [],
   "source": []
  }
 ],
 "metadata": {
  "colab": {
   "collapsed_sections": [
    "gJABxhalLVQu",
    "IaQMCGHFLVQ6",
    "5AJk1B39LVRP",
    "RJlvqWuALVRs",
    "rck5OVqhLVSA",
    "mV3fmzp-LVSU",
    "H5THCOjMLVSg",
    "02s2Vh7MLVSj",
    "b1khxRFDLVSm",
    "sfUmWcAQLVSt",
    "BxvtN-3zLVS5",
    "gyrHhYkgLVTB"
   ],
   "name": "sem1_intro_common.ipynb",
   "provenance": []
  },
  "kernelspec": {
   "display_name": "Python 3 (ipykernel)",
   "language": "python",
   "name": "python3"
  },
  "language_info": {
   "codemirror_mode": {
    "name": "ipython",
    "version": 3
   },
   "file_extension": ".py",
   "mimetype": "text/x-python",
   "name": "python",
   "nbconvert_exporter": "python",
   "pygments_lexer": "ipython3",
   "version": "3.10.8"
  }
 },
 "nbformat": 4,
 "nbformat_minor": 4
}

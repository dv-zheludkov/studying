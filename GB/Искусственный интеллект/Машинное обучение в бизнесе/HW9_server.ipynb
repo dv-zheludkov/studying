{
 "cells": [
  {
   "cell_type": "markdown",
   "metadata": {},
   "source": [
    "!pip install dill"
   ]
  },
  {
   "cell_type": "markdown",
   "metadata": {
    "id": "JQsYK4xc7ZSD"
   },
   "source": [
    "# Итоговый проект"
   ]
  },
  {
   "cell_type": "markdown",
   "metadata": {
    "id": "p13AIiQkGrmc"
   },
   "source": [
    "# Step 1 - TRAIN"
   ]
  },
  {
   "cell_type": "code",
   "execution_count": 1,
   "metadata": {
    "id": "KLvQLw8KGrtP"
   },
   "outputs": [],
   "source": [
    "import pandas as pd\n",
    "import dill\n",
    "import numpy as np\n",
    "from sklearn.model_selection import train_test_split\n",
    "from sklearn.base import BaseEstimator, TransformerMixin\n",
    "from sklearn.linear_model import LogisticRegression\n",
    "from sklearn.ensemble import GradientBoostingClassifier\n",
    "from sklearn.metrics import confusion_matrix, accuracy_score, classification_report\n",
    "from sklearn.metrics import roc_auc_score, roc_curve, precision_recall_curve\n",
    "from sklearn.metrics import f1_score\n",
    "\n",
    "#working with text\n",
    "from sklearn.feature_extraction.text import TfidfVectorizer\n",
    "\n",
    "#normalizing data\n",
    "from sklearn.preprocessing import StandardScaler\n",
    "\n",
    "#pipeline\n",
    "from sklearn.pipeline import Pipeline, FeatureUnion\n",
    "from sklearn.metrics import precision_score,recall_score\n",
    "\n",
    "#imputer\n",
    "from sklearn.impute import SimpleImputer\n",
    "\n",
    "import sklearn.datasets"
   ]
  },
  {
   "cell_type": "markdown",
   "metadata": {
    "id": "OTBkHNk0GrtV"
   },
   "source": [
    "Используем данные\n",
    "\n",
    "https://www.kaggle.com/datasets/clmentbisaillon/fake-and-real-news-dataset"
   ]
  },
  {
   "cell_type": "code",
   "execution_count": 2,
   "metadata": {},
   "outputs": [],
   "source": [
    "df_fake = pd.read_csv(\"Fake.csv.zip\",compression='zip')\n",
    "df_true = pd.read_csv(\"True.csv.zip\",compression='zip')"
   ]
  },
  {
   "cell_type": "code",
   "execution_count": 3,
   "metadata": {},
   "outputs": [
    {
     "data": {
      "text/html": [
       "<div>\n",
       "<style scoped>\n",
       "    .dataframe tbody tr th:only-of-type {\n",
       "        vertical-align: middle;\n",
       "    }\n",
       "\n",
       "    .dataframe tbody tr th {\n",
       "        vertical-align: top;\n",
       "    }\n",
       "\n",
       "    .dataframe thead th {\n",
       "        text-align: right;\n",
       "    }\n",
       "</style>\n",
       "<table border=\"1\" class=\"dataframe\">\n",
       "  <thead>\n",
       "    <tr style=\"text-align: right;\">\n",
       "      <th></th>\n",
       "      <th>title</th>\n",
       "      <th>text</th>\n",
       "      <th>subject</th>\n",
       "      <th>date</th>\n",
       "    </tr>\n",
       "  </thead>\n",
       "  <tbody>\n",
       "    <tr>\n",
       "      <th>count</th>\n",
       "      <td>23481</td>\n",
       "      <td>23481</td>\n",
       "      <td>23481</td>\n",
       "      <td>23481</td>\n",
       "    </tr>\n",
       "    <tr>\n",
       "      <th>unique</th>\n",
       "      <td>17903</td>\n",
       "      <td>17455</td>\n",
       "      <td>6</td>\n",
       "      <td>1681</td>\n",
       "    </tr>\n",
       "    <tr>\n",
       "      <th>top</th>\n",
       "      <td>MEDIA IGNORES Time That Bill Clinton FIRED His...</td>\n",
       "      <td></td>\n",
       "      <td>News</td>\n",
       "      <td>May 10, 2017</td>\n",
       "    </tr>\n",
       "    <tr>\n",
       "      <th>freq</th>\n",
       "      <td>6</td>\n",
       "      <td>626</td>\n",
       "      <td>9050</td>\n",
       "      <td>46</td>\n",
       "    </tr>\n",
       "  </tbody>\n",
       "</table>\n",
       "</div>"
      ],
      "text/plain": [
       "                                                    title   text subject  \\\n",
       "count                                               23481  23481   23481   \n",
       "unique                                              17903  17455       6   \n",
       "top     MEDIA IGNORES Time That Bill Clinton FIRED His...           News   \n",
       "freq                                                    6    626    9050   \n",
       "\n",
       "                date  \n",
       "count          23481  \n",
       "unique          1681  \n",
       "top     May 10, 2017  \n",
       "freq              46  "
      ]
     },
     "execution_count": 3,
     "metadata": {},
     "output_type": "execute_result"
    }
   ],
   "source": [
    "df_fake.describe()"
   ]
  },
  {
   "cell_type": "code",
   "execution_count": 4,
   "metadata": {},
   "outputs": [
    {
     "data": {
      "text/html": [
       "<div>\n",
       "<style scoped>\n",
       "    .dataframe tbody tr th:only-of-type {\n",
       "        vertical-align: middle;\n",
       "    }\n",
       "\n",
       "    .dataframe tbody tr th {\n",
       "        vertical-align: top;\n",
       "    }\n",
       "\n",
       "    .dataframe thead th {\n",
       "        text-align: right;\n",
       "    }\n",
       "</style>\n",
       "<table border=\"1\" class=\"dataframe\">\n",
       "  <thead>\n",
       "    <tr style=\"text-align: right;\">\n",
       "      <th></th>\n",
       "      <th>title</th>\n",
       "      <th>text</th>\n",
       "      <th>subject</th>\n",
       "      <th>date</th>\n",
       "    </tr>\n",
       "  </thead>\n",
       "  <tbody>\n",
       "    <tr>\n",
       "      <th>count</th>\n",
       "      <td>21417</td>\n",
       "      <td>21417</td>\n",
       "      <td>21417</td>\n",
       "      <td>21417</td>\n",
       "    </tr>\n",
       "    <tr>\n",
       "      <th>unique</th>\n",
       "      <td>20826</td>\n",
       "      <td>21192</td>\n",
       "      <td>2</td>\n",
       "      <td>716</td>\n",
       "    </tr>\n",
       "    <tr>\n",
       "      <th>top</th>\n",
       "      <td>Factbox: Trump fills top jobs for his administ...</td>\n",
       "      <td>(Reuters) - Highlights for U.S. President Dona...</td>\n",
       "      <td>politicsNews</td>\n",
       "      <td>December 20, 2017</td>\n",
       "    </tr>\n",
       "    <tr>\n",
       "      <th>freq</th>\n",
       "      <td>14</td>\n",
       "      <td>8</td>\n",
       "      <td>11272</td>\n",
       "      <td>182</td>\n",
       "    </tr>\n",
       "  </tbody>\n",
       "</table>\n",
       "</div>"
      ],
      "text/plain": [
       "                                                    title  \\\n",
       "count                                               21417   \n",
       "unique                                              20826   \n",
       "top     Factbox: Trump fills top jobs for his administ...   \n",
       "freq                                                   14   \n",
       "\n",
       "                                                     text       subject  \\\n",
       "count                                               21417         21417   \n",
       "unique                                              21192             2   \n",
       "top     (Reuters) - Highlights for U.S. President Dona...  politicsNews   \n",
       "freq                                                    8         11272   \n",
       "\n",
       "                      date  \n",
       "count                21417  \n",
       "unique                 716  \n",
       "top     December 20, 2017   \n",
       "freq                   182  "
      ]
     },
     "execution_count": 4,
     "metadata": {},
     "output_type": "execute_result"
    }
   ],
   "source": [
    "df_true.describe()"
   ]
  },
  {
   "cell_type": "code",
   "execution_count": 5,
   "metadata": {},
   "outputs": [],
   "source": [
    "df_true['label'] = 0\n",
    "df_fake['label'] = 1"
   ]
  },
  {
   "cell_type": "code",
   "execution_count": 6,
   "metadata": {
    "colab": {
     "base_uri": "https://localhost:8080/",
     "height": 433
    },
    "id": "Uv4ago4BGrtY",
    "outputId": "06dda788-0cc2-448d-f774-c5b264955d9a"
   },
   "outputs": [
    {
     "name": "stdout",
     "output_type": "stream",
     "text": [
      "<class 'pandas.core.frame.DataFrame'>\n",
      "RangeIndex: 44898 entries, 0 to 44897\n",
      "Data columns (total 5 columns):\n",
      " #   Column   Non-Null Count  Dtype \n",
      "---  ------   --------------  ----- \n",
      " 0   title    44898 non-null  object\n",
      " 1   text     44898 non-null  object\n",
      " 2   subject  44898 non-null  object\n",
      " 3   date     44898 non-null  object\n",
      " 4   label    44898 non-null  int64 \n",
      "dtypes: int64(1), object(4)\n",
      "memory usage: 1.7+ MB\n"
     ]
    }
   ],
   "source": [
    "df = pd.concat([df_true, df_fake], ignore_index=True)\n",
    "df.info()"
   ]
  },
  {
   "cell_type": "code",
   "execution_count": 7,
   "metadata": {},
   "outputs": [
    {
     "data": {
      "text/html": [
       "<div>\n",
       "<style scoped>\n",
       "    .dataframe tbody tr th:only-of-type {\n",
       "        vertical-align: middle;\n",
       "    }\n",
       "\n",
       "    .dataframe tbody tr th {\n",
       "        vertical-align: top;\n",
       "    }\n",
       "\n",
       "    .dataframe thead th {\n",
       "        text-align: right;\n",
       "    }\n",
       "</style>\n",
       "<table border=\"1\" class=\"dataframe\">\n",
       "  <thead>\n",
       "    <tr style=\"text-align: right;\">\n",
       "      <th></th>\n",
       "      <th>title</th>\n",
       "      <th>text</th>\n",
       "      <th>subject</th>\n",
       "      <th>date</th>\n",
       "      <th>label</th>\n",
       "    </tr>\n",
       "  </thead>\n",
       "  <tbody>\n",
       "    <tr>\n",
       "      <th>0</th>\n",
       "      <td>As U.S. budget fight looms, Republicans flip t...</td>\n",
       "      <td>WASHINGTON (Reuters) - The head of a conservat...</td>\n",
       "      <td>politicsNews</td>\n",
       "      <td>December 31, 2017</td>\n",
       "      <td>0</td>\n",
       "    </tr>\n",
       "    <tr>\n",
       "      <th>1</th>\n",
       "      <td>U.S. military to accept transgender recruits o...</td>\n",
       "      <td>WASHINGTON (Reuters) - Transgender people will...</td>\n",
       "      <td>politicsNews</td>\n",
       "      <td>December 29, 2017</td>\n",
       "      <td>0</td>\n",
       "    </tr>\n",
       "    <tr>\n",
       "      <th>2</th>\n",
       "      <td>Senior U.S. Republican senator: 'Let Mr. Muell...</td>\n",
       "      <td>WASHINGTON (Reuters) - The special counsel inv...</td>\n",
       "      <td>politicsNews</td>\n",
       "      <td>December 31, 2017</td>\n",
       "      <td>0</td>\n",
       "    </tr>\n",
       "    <tr>\n",
       "      <th>3</th>\n",
       "      <td>FBI Russia probe helped by Australian diplomat...</td>\n",
       "      <td>WASHINGTON (Reuters) - Trump campaign adviser ...</td>\n",
       "      <td>politicsNews</td>\n",
       "      <td>December 30, 2017</td>\n",
       "      <td>0</td>\n",
       "    </tr>\n",
       "    <tr>\n",
       "      <th>4</th>\n",
       "      <td>Trump wants Postal Service to charge 'much mor...</td>\n",
       "      <td>SEATTLE/WASHINGTON (Reuters) - President Donal...</td>\n",
       "      <td>politicsNews</td>\n",
       "      <td>December 29, 2017</td>\n",
       "      <td>0</td>\n",
       "    </tr>\n",
       "  </tbody>\n",
       "</table>\n",
       "</div>"
      ],
      "text/plain": [
       "                                               title  \\\n",
       "0  As U.S. budget fight looms, Republicans flip t...   \n",
       "1  U.S. military to accept transgender recruits o...   \n",
       "2  Senior U.S. Republican senator: 'Let Mr. Muell...   \n",
       "3  FBI Russia probe helped by Australian diplomat...   \n",
       "4  Trump wants Postal Service to charge 'much mor...   \n",
       "\n",
       "                                                text       subject  \\\n",
       "0  WASHINGTON (Reuters) - The head of a conservat...  politicsNews   \n",
       "1  WASHINGTON (Reuters) - Transgender people will...  politicsNews   \n",
       "2  WASHINGTON (Reuters) - The special counsel inv...  politicsNews   \n",
       "3  WASHINGTON (Reuters) - Trump campaign adviser ...  politicsNews   \n",
       "4  SEATTLE/WASHINGTON (Reuters) - President Donal...  politicsNews   \n",
       "\n",
       "                 date  label  \n",
       "0  December 31, 2017       0  \n",
       "1  December 29, 2017       0  \n",
       "2  December 31, 2017       0  \n",
       "3  December 30, 2017       0  \n",
       "4  December 29, 2017       0  "
      ]
     },
     "execution_count": 7,
     "metadata": {},
     "output_type": "execute_result"
    }
   ],
   "source": [
    "df.head()"
   ]
  },
  {
   "cell_type": "code",
   "execution_count": 8,
   "metadata": {},
   "outputs": [
    {
     "data": {
      "text/html": [
       "<div>\n",
       "<style scoped>\n",
       "    .dataframe tbody tr th:only-of-type {\n",
       "        vertical-align: middle;\n",
       "    }\n",
       "\n",
       "    .dataframe tbody tr th {\n",
       "        vertical-align: top;\n",
       "    }\n",
       "\n",
       "    .dataframe thead th {\n",
       "        text-align: right;\n",
       "    }\n",
       "</style>\n",
       "<table border=\"1\" class=\"dataframe\">\n",
       "  <thead>\n",
       "    <tr style=\"text-align: right;\">\n",
       "      <th></th>\n",
       "      <th>title</th>\n",
       "      <th>text</th>\n",
       "      <th>subject</th>\n",
       "      <th>date</th>\n",
       "      <th>label</th>\n",
       "    </tr>\n",
       "  </thead>\n",
       "  <tbody>\n",
       "    <tr>\n",
       "      <th>0</th>\n",
       "      <td>False</td>\n",
       "      <td>False</td>\n",
       "      <td>False</td>\n",
       "      <td>False</td>\n",
       "      <td>False</td>\n",
       "    </tr>\n",
       "    <tr>\n",
       "      <th>1</th>\n",
       "      <td>False</td>\n",
       "      <td>False</td>\n",
       "      <td>False</td>\n",
       "      <td>False</td>\n",
       "      <td>False</td>\n",
       "    </tr>\n",
       "    <tr>\n",
       "      <th>2</th>\n",
       "      <td>False</td>\n",
       "      <td>False</td>\n",
       "      <td>False</td>\n",
       "      <td>False</td>\n",
       "      <td>False</td>\n",
       "    </tr>\n",
       "    <tr>\n",
       "      <th>3</th>\n",
       "      <td>False</td>\n",
       "      <td>False</td>\n",
       "      <td>False</td>\n",
       "      <td>False</td>\n",
       "      <td>False</td>\n",
       "    </tr>\n",
       "    <tr>\n",
       "      <th>4</th>\n",
       "      <td>False</td>\n",
       "      <td>False</td>\n",
       "      <td>False</td>\n",
       "      <td>False</td>\n",
       "      <td>False</td>\n",
       "    </tr>\n",
       "    <tr>\n",
       "      <th>...</th>\n",
       "      <td>...</td>\n",
       "      <td>...</td>\n",
       "      <td>...</td>\n",
       "      <td>...</td>\n",
       "      <td>...</td>\n",
       "    </tr>\n",
       "    <tr>\n",
       "      <th>44893</th>\n",
       "      <td>False</td>\n",
       "      <td>False</td>\n",
       "      <td>False</td>\n",
       "      <td>False</td>\n",
       "      <td>False</td>\n",
       "    </tr>\n",
       "    <tr>\n",
       "      <th>44894</th>\n",
       "      <td>False</td>\n",
       "      <td>False</td>\n",
       "      <td>False</td>\n",
       "      <td>False</td>\n",
       "      <td>False</td>\n",
       "    </tr>\n",
       "    <tr>\n",
       "      <th>44895</th>\n",
       "      <td>False</td>\n",
       "      <td>False</td>\n",
       "      <td>False</td>\n",
       "      <td>False</td>\n",
       "      <td>False</td>\n",
       "    </tr>\n",
       "    <tr>\n",
       "      <th>44896</th>\n",
       "      <td>False</td>\n",
       "      <td>False</td>\n",
       "      <td>False</td>\n",
       "      <td>False</td>\n",
       "      <td>False</td>\n",
       "    </tr>\n",
       "    <tr>\n",
       "      <th>44897</th>\n",
       "      <td>False</td>\n",
       "      <td>False</td>\n",
       "      <td>False</td>\n",
       "      <td>False</td>\n",
       "      <td>False</td>\n",
       "    </tr>\n",
       "  </tbody>\n",
       "</table>\n",
       "<p>44898 rows × 5 columns</p>\n",
       "</div>"
      ],
      "text/plain": [
       "       title   text  subject   date  label\n",
       "0      False  False    False  False  False\n",
       "1      False  False    False  False  False\n",
       "2      False  False    False  False  False\n",
       "3      False  False    False  False  False\n",
       "4      False  False    False  False  False\n",
       "...      ...    ...      ...    ...    ...\n",
       "44893  False  False    False  False  False\n",
       "44894  False  False    False  False  False\n",
       "44895  False  False    False  False  False\n",
       "44896  False  False    False  False  False\n",
       "44897  False  False    False  False  False\n",
       "\n",
       "[44898 rows x 5 columns]"
      ]
     },
     "execution_count": 8,
     "metadata": {},
     "output_type": "execute_result"
    }
   ],
   "source": [
    "pd.isnull(df)"
   ]
  },
  {
   "cell_type": "markdown",
   "metadata": {
    "id": "yrlbd6KzGrtb"
   },
   "source": [
    "Разделим данные на train/test и сохраним тестовую выборку на диск"
   ]
  },
  {
   "cell_type": "code",
   "execution_count": 9,
   "metadata": {
    "id": "re8x7JVAGrtc"
   },
   "outputs": [],
   "source": [
    "X_train, X_test, y_train, y_test = train_test_split(df, df['label'],\n",
    "                                                    test_size=0.33, random_state=42)\n",
    "# save test\n",
    "X_test.to_csv(\"X_test.csv\", index=None)\n",
    "y_test.to_csv(\"y_test.csv\", index=None)\n",
    "\n",
    "# save train\n",
    "X_train.to_csv(\"X_train.csv\", index=None)\n",
    "y_train.to_csv(\"y_train.csv\", index=None)"
   ]
  },
  {
   "cell_type": "code",
   "execution_count": 10,
   "metadata": {
    "id": "ir49pzvUGrte"
   },
   "outputs": [],
   "source": [
    "class ColumnSelector(BaseEstimator, TransformerMixin):\n",
    "    \"\"\"\n",
    "    Transformer to select a single column from the data frame to perform additional transformations on\n",
    "    \"\"\"\n",
    "\n",
    "    def __init__(self, key):\n",
    "        self.key = key\n",
    "\n",
    "    def fit(self, X, y=None):\n",
    "        return self\n",
    "\n",
    "    def transform(self, X):\n",
    "        return X[self.key]\n",
    "\n",
    "\n",
    "class TextImputer(BaseEstimator, TransformerMixin):\n",
    "    def __init__(self, key, value):\n",
    "        self.key = key\n",
    "        self.value = value\n",
    "\n",
    "    def fit(self, X, y=None):\n",
    "        return self\n",
    "\n",
    "    def transform(self, X):\n",
    "        X[self.key] = X[self.key].fillna(self.value)\n",
    "        return X\n",
    "\n",
    "\n",
    "class OHEEncoder(BaseEstimator, TransformerMixin):\n",
    "    def __init__(self, key):\n",
    "        self.key = key\n",
    "        self.columns = []\n",
    "\n",
    "    def fit(self, X, y=None):\n",
    "        self.columns = [col for col in pd.get_dummies(X, prefix=self.key).columns]\n",
    "        return self\n",
    "\n",
    "    def transform(self, X):\n",
    "        X = pd.get_dummies(X, prefix=self.key)\n",
    "        test_columns = [col for col in X.columns]\n",
    "        for col_ in self.columns:\n",
    "            if col_ not in test_columns:\n",
    "                X[col_] = 0\n",
    "        return X[self.columns]\n"
   ]
  },
  {
   "cell_type": "code",
   "execution_count": 11,
   "metadata": {
    "id": "kCsnbDyxGrth"
   },
   "outputs": [],
   "source": [
    "features = ['title', 'text', 'subject']\n",
    "target = 'label'"
   ]
  },
  {
   "cell_type": "markdown",
   "metadata": {
    "id": "HaM6QdpqGrtk"
   },
   "source": [
    "Соберем кусок, ответственный за feature engineering"
   ]
  },
  {
   "cell_type": "code",
   "execution_count": 12,
   "metadata": {
    "id": "4lfkwyUoGrtn"
   },
   "outputs": [],
   "source": [
    "# combine\n",
    "title = Pipeline([(\"imput\", TextImputer('title', '')),\n",
    "                  (\"col_sec\", ColumnSelector(key='title')),\n",
    "                  ('tfidif', TfidfVectorizer(stop_words='english', ngram_range=[1, 3], max_df=0.9, min_df=10))\n",
    "                  ])\n",
    "\n",
    "text = Pipeline([(\"imput\", TextImputer('text', '')),\n",
    "                 (\"col_sec\", ColumnSelector(key='text')),\n",
    "                 ('tfidif', TfidfVectorizer(stop_words='english', ngram_range=[1, 3], max_df=0.9, min_df=10))\n",
    "                 ])\n",
    "\n",
    "subject = Pipeline([(\"col_sec\", ColumnSelector(key='subject')),\n",
    "                    ('onhe', OHEEncoder(key='subject'))\n",
    "                    ])\n",
    "\n",
    "feats = FeatureUnion([(\"title\", title),\n",
    "                      ('text', text),\n",
    "                      ('subject', subject)\n",
    "                      ])\n"
   ]
  },
  {
   "cell_type": "markdown",
   "metadata": {
    "id": "EosvEXq6Grtr"
   },
   "source": [
    "Добавим простейший классификатор"
   ]
  },
  {
   "cell_type": "code",
   "execution_count": 13,
   "metadata": {
    "colab": {
     "base_uri": "https://localhost:8080/"
    },
    "id": "fdym1vgQGrtu",
    "outputId": "de58768a-de07-422d-ec33-fd18356bc4aa",
    "scrolled": true
   },
   "outputs": [
    {
     "name": "stdout",
     "output_type": "stream",
     "text": [
      "CPU times: user 3min 33s, sys: 5.19 s, total: 3min 38s\n",
      "Wall time: 3min 38s\n"
     ]
    },
    {
     "data": {
      "text/plain": [
       "Pipeline(steps=[('features',\n",
       "                 FeatureUnion(transformer_list=[('title',\n",
       "                                                 Pipeline(steps=[('imput',\n",
       "                                                                  TextImputer(key='title',\n",
       "                                                                              value='')),\n",
       "                                                                 ('col_sec',\n",
       "                                                                  ColumnSelector(key='title')),\n",
       "                                                                 ('tfidif',\n",
       "                                                                  TfidfVectorizer(max_df=0.9,\n",
       "                                                                                  min_df=10,\n",
       "                                                                                  ngram_range=[1,\n",
       "                                                                                               3],\n",
       "                                                                                  stop_words='english'))])),\n",
       "                                                ('text',\n",
       "                                                 Pipeline(steps=[('imput',\n",
       "                                                                  TextImputer(key='text',\n",
       "                                                                              value='')),\n",
       "                                                                 ('col_sec',\n",
       "                                                                  ColumnSelector(key='text')),\n",
       "                                                                 ('tfidif',\n",
       "                                                                  TfidfVectorizer(max_df=0.9,\n",
       "                                                                                  min_df=10,\n",
       "                                                                                  ngram_range=[1,\n",
       "                                                                                               3],\n",
       "                                                                                  stop_words='english'))])),\n",
       "                                                ('subject',\n",
       "                                                 Pipeline(steps=[('col_sec',\n",
       "                                                                  ColumnSelector(key='subject')),\n",
       "                                                                 ('onhe',\n",
       "                                                                  OHEEncoder(key='subject'))]))])),\n",
       "                ('classifier', GradientBoostingClassifier())])"
      ]
     },
     "execution_count": 13,
     "metadata": {},
     "output_type": "execute_result"
    }
   ],
   "source": [
    "%%time\n",
    "\n",
    "pipeline = Pipeline([('features', feats),\n",
    "                     ('classifier', GradientBoostingClassifier())\n",
    "                     ])\n",
    "\n",
    "pipeline.fit(X_train, y_train)"
   ]
  },
  {
   "cell_type": "markdown",
   "metadata": {
    "id": "PJjFDr7CGrtx"
   },
   "source": [
    "Посмотрим, как выглядит наш pipeline"
   ]
  },
  {
   "cell_type": "code",
   "execution_count": 14,
   "metadata": {
    "colab": {
     "base_uri": "https://localhost:8080/"
    },
    "id": "mrekox0QGrty",
    "outputId": "32ff1a36-c225-4c65-95b8-3f7b95243dc4"
   },
   "outputs": [
    {
     "data": {
      "text/plain": [
       "[('features',\n",
       "  FeatureUnion(transformer_list=[('title',\n",
       "                                  Pipeline(steps=[('imput',\n",
       "                                                   TextImputer(key='title',\n",
       "                                                               value='')),\n",
       "                                                  ('col_sec',\n",
       "                                                   ColumnSelector(key='title')),\n",
       "                                                  ('tfidif',\n",
       "                                                   TfidfVectorizer(max_df=0.9,\n",
       "                                                                   min_df=10,\n",
       "                                                                   ngram_range=[1,\n",
       "                                                                                3],\n",
       "                                                                   stop_words='english'))])),\n",
       "                                 ('text',\n",
       "                                  Pipeline(steps=[('imput',\n",
       "                                                   TextImputer(key='text',\n",
       "                                                               value='')),\n",
       "                                                  ('col_sec',\n",
       "                                                   ColumnSelector(key='text')),\n",
       "                                                  ('tfidif',\n",
       "                                                   TfidfVectorizer(max_df=0.9,\n",
       "                                                                   min_df=10,\n",
       "                                                                   ngram_range=[1,\n",
       "                                                                                3],\n",
       "                                                                   stop_words='english'))])),\n",
       "                                 ('subject',\n",
       "                                  Pipeline(steps=[('col_sec',\n",
       "                                                   ColumnSelector(key='subject')),\n",
       "                                                  ('onhe',\n",
       "                                                   OHEEncoder(key='subject'))]))])),\n",
       " ('classifier', GradientBoostingClassifier())]"
      ]
     },
     "execution_count": 14,
     "metadata": {},
     "output_type": "execute_result"
    }
   ],
   "source": [
    "pipeline.steps"
   ]
  },
  {
   "cell_type": "markdown",
   "metadata": {
    "id": "blNARG08Grtz"
   },
   "source": [
    "Сохраним модель (пайплайн)"
   ]
  },
  {
   "cell_type": "code",
   "execution_count": 15,
   "metadata": {
    "id": "u9ENN-zdGrt1"
   },
   "outputs": [],
   "source": [
    "with open(\"gradboost_pipeline.dill\", \"wb\") as f:\n",
    "    dill.dump(pipeline, f)"
   ]
  },
  {
   "cell_type": "markdown",
   "metadata": {
    "id": "dbm98jEM2Gr8"
   },
   "source": [
    "# Step 2 - PREDICT"
   ]
  },
  {
   "cell_type": "markdown",
   "metadata": {
    "id": "LxGmuf_z24B5"
   },
   "source": [
    "### Проверка работоспособности и качества пайплайна\n",
    "\n",
    "Загружаем модель (pipeline) напрямую и проверяем на отложенной (тестовой) выборке"
   ]
  },
  {
   "cell_type": "code",
   "execution_count": 16,
   "metadata": {
    "id": "ChYPxDk_24CD"
   },
   "outputs": [],
   "source": [
    "X_test = pd.read_csv(\"X_test.csv\")\n",
    "y_test = pd.read_csv(\"y_test.csv\")"
   ]
  },
  {
   "cell_type": "code",
   "execution_count": 17,
   "metadata": {
    "colab": {
     "base_uri": "https://localhost:8080/",
     "height": 416
    },
    "id": "WBr-fIkQ24CE",
    "outputId": "2787725e-f853-4947-8556-72a7d93ca72b",
    "scrolled": true
   },
   "outputs": [
    {
     "data": {
      "text/html": [
       "<div>\n",
       "<style scoped>\n",
       "    .dataframe tbody tr th:only-of-type {\n",
       "        vertical-align: middle;\n",
       "    }\n",
       "\n",
       "    .dataframe tbody tr th {\n",
       "        vertical-align: top;\n",
       "    }\n",
       "\n",
       "    .dataframe thead th {\n",
       "        text-align: right;\n",
       "    }\n",
       "</style>\n",
       "<table border=\"1\" class=\"dataframe\">\n",
       "  <thead>\n",
       "    <tr style=\"text-align: right;\">\n",
       "      <th></th>\n",
       "      <th>title</th>\n",
       "      <th>text</th>\n",
       "      <th>subject</th>\n",
       "      <th>date</th>\n",
       "      <th>label</th>\n",
       "    </tr>\n",
       "  </thead>\n",
       "  <tbody>\n",
       "    <tr>\n",
       "      <th>0</th>\n",
       "      <td>BREAKING: GOP Chairman Grassley Has Had Enoug...</td>\n",
       "      <td>Donald Trump s White House is in chaos, and th...</td>\n",
       "      <td>News</td>\n",
       "      <td>July 21, 2017</td>\n",
       "      <td>1</td>\n",
       "    </tr>\n",
       "    <tr>\n",
       "      <th>1</th>\n",
       "      <td>Failed GOP Candidates Remembered In Hilarious...</td>\n",
       "      <td>Now that Donald Trump is the presumptive GOP n...</td>\n",
       "      <td>News</td>\n",
       "      <td>May 7, 2016</td>\n",
       "      <td>1</td>\n",
       "    </tr>\n",
       "    <tr>\n",
       "      <th>2</th>\n",
       "      <td>Mike Pence’s New DC Neighbors Are HILARIOUSLY...</td>\n",
       "      <td>Mike Pence is a huge homophobe. He supports ex...</td>\n",
       "      <td>News</td>\n",
       "      <td>December 3, 2016</td>\n",
       "      <td>1</td>\n",
       "    </tr>\n",
       "  </tbody>\n",
       "</table>\n",
       "</div>"
      ],
      "text/plain": [
       "                                               title  \\\n",
       "0   BREAKING: GOP Chairman Grassley Has Had Enoug...   \n",
       "1   Failed GOP Candidates Remembered In Hilarious...   \n",
       "2   Mike Pence’s New DC Neighbors Are HILARIOUSLY...   \n",
       "\n",
       "                                                text subject  \\\n",
       "0  Donald Trump s White House is in chaos, and th...    News   \n",
       "1  Now that Donald Trump is the presumptive GOP n...    News   \n",
       "2  Mike Pence is a huge homophobe. He supports ex...    News   \n",
       "\n",
       "               date  label  \n",
       "0     July 21, 2017      1  \n",
       "1       May 7, 2016      1  \n",
       "2  December 3, 2016      1  "
      ]
     },
     "execution_count": 17,
     "metadata": {},
     "output_type": "execute_result"
    }
   ],
   "source": [
    "X_test.head(3)"
   ]
  },
  {
   "cell_type": "code",
   "execution_count": 18,
   "metadata": {
    "id": "SeqnhORg24CF"
   },
   "outputs": [],
   "source": [
    "with open('gradboost_pipeline.dill', 'rb') as in_strm:\n",
    "    pipeline = dill.load(in_strm)"
   ]
  },
  {
   "cell_type": "code",
   "execution_count": 19,
   "metadata": {
    "colab": {
     "base_uri": "https://localhost:8080/"
    },
    "id": "ECgyPbnw6GoR",
    "outputId": "98c1468b-4dc9-4b78-82d8-8a6e9951bafd"
   },
   "outputs": [
    {
     "data": {
      "text/plain": [
       "Pipeline(steps=[('features',\n",
       "                 FeatureUnion(transformer_list=[('title',\n",
       "                                                 Pipeline(steps=[('imput',\n",
       "                                                                  TextImputer(key='title',\n",
       "                                                                              value='')),\n",
       "                                                                 ('col_sec',\n",
       "                                                                  ColumnSelector(key='title')),\n",
       "                                                                 ('tfidif',\n",
       "                                                                  TfidfVectorizer(max_df=0.9,\n",
       "                                                                                  min_df=10,\n",
       "                                                                                  ngram_range=[1,\n",
       "                                                                                               3],\n",
       "                                                                                  stop_words='english'))])),\n",
       "                                                ('text',\n",
       "                                                 Pipeline(steps=[('imput',\n",
       "                                                                  TextImputer(key='text',\n",
       "                                                                              value='')),\n",
       "                                                                 ('col_sec',\n",
       "                                                                  ColumnSelector(key='text')),\n",
       "                                                                 ('tfidif',\n",
       "                                                                  TfidfVectorizer(max_df=0.9,\n",
       "                                                                                  min_df=10,\n",
       "                                                                                  ngram_range=[1,\n",
       "                                                                                               3],\n",
       "                                                                                  stop_words='english'))])),\n",
       "                                                ('subject',\n",
       "                                                 Pipeline(steps=[('col_sec',\n",
       "                                                                  ColumnSelector(key='subject')),\n",
       "                                                                 ('onhe',\n",
       "                                                                  OHEEncoder(key='subject'))]))])),\n",
       "                ('classifier', GradientBoostingClassifier())])"
      ]
     },
     "execution_count": 19,
     "metadata": {},
     "output_type": "execute_result"
    }
   ],
   "source": [
    "pipeline"
   ]
  },
  {
   "cell_type": "code",
   "execution_count": 20,
   "metadata": {
    "id": "KisGNNJ824CG"
   },
   "outputs": [],
   "source": [
    "preds = pipeline.predict_proba(X_test)[:, 1]\n",
    "\n",
    "pred_df = pd.DataFrame({'preds': preds})\n",
    "pred_df.to_csv(\"test_predictions.csv\", index=None)"
   ]
  },
  {
   "cell_type": "code",
   "execution_count": 21,
   "metadata": {
    "colab": {
     "base_uri": "https://localhost:8080/"
    },
    "id": "_teu9EeZ6_Mr",
    "outputId": "c52c361c-12d2-4bcf-f5d4-0a4060fed9ed"
   },
   "outputs": [
    {
     "data": {
      "text/plain": [
       "array([9.99978578e-01, 9.99978578e-01, 9.99978578e-01, 3.82697712e-05,\n",
       "       9.99978578e-01, 5.27423015e-05, 3.82673410e-05, 3.82673410e-05,\n",
       "       9.99978578e-01, 9.99978578e-01])"
      ]
     },
     "execution_count": 21,
     "metadata": {},
     "output_type": "execute_result"
    }
   ],
   "source": [
    "preds[:10]"
   ]
  },
  {
   "cell_type": "code",
   "execution_count": 22,
   "metadata": {
    "colab": {
     "base_uri": "https://localhost:8080/"
    },
    "id": "svdcO2Ki64wy",
    "outputId": "fef3c9ba-234a-429c-c704-20e1b3c5f5ac"
   },
   "outputs": [
    {
     "name": "stdout",
     "output_type": "stream",
     "text": [
      "Best Threshold=0.9982706473891718, F-Score=1.000, Precision=1.000, Recall=1.000\n"
     ]
    }
   ],
   "source": [
    "precision, recall, thresholds = precision_recall_curve(y_test, preds)\n",
    "\n",
    "fscore = (2 * precision * recall) / (precision + recall)\n",
    "# locate the index of the largest f score\n",
    "ix = np.argmax(fscore)\n",
    "print(f'Best Threshold={thresholds[ix]}, F-Score={fscore[ix]:.3f}, Precision={precision[ix]:.3f}, Recall={recall[ix]:.3f}')"
   ]
  },
  {
   "cell_type": "markdown",
   "metadata": {},
   "source": [
    "Фиксируем в маркдаун лучшие значения\n",
    "\n",
    "Best Threshold=0.9982706473891718, F-Score=1.000, Precision=1.000, Recall=1.000"
   ]
  },
  {
   "cell_type": "markdown",
   "metadata": {
    "id": "faRb47TiBvkL"
   },
   "source": [
    "# Step 3 - FLASK"
   ]
  },
  {
   "cell_type": "markdown",
   "metadata": {
    "id": "_KCCtAZqgbI6"
   },
   "source": [
    "## При внедрении"
   ]
  },
  {
   "cell_type": "markdown",
   "metadata": {
    "id": "bwDoeEWdRZUv"
   },
   "source": [
    "**При внедрении необходимо сделать:**\n",
    "*   Определить формат json'а, в котором данные будут приниматься сервисом и отправляться обратно.\n",
    "*   Определить ip-адрес и порт, на который будут поступать данные.\n",
    "*   Создать во Flask необходимые роуты:<br/>\n",
    "    `@app.route('/predict_example', method='POST')`<br/>\n",
    "    `def predict_example():`\n",
    "*   Перенести во Flask все функции преобразования данных,\n",
    "    *   формат данные, приходящих от фронт-системы, может отличаться от формата исторических данных, использовавшихся при построении модели; в результате преобразований данные на вход модели должны поступить ровно в том виде, в каком была обучена модель.\n",
    "*   Загрузить обученные модели.\n",
    "*   Настроить логирование."
   ]
  },
  {
   "cell_type": "markdown",
   "metadata": {
    "id": "koF_iLbj89XC",
    "tags": []
   },
   "source": [
    "## Flask\n"
   ]
  },
  {
   "cell_type": "markdown",
   "metadata": {},
   "source": [
    "!pip install flask"
   ]
  },
  {
   "cell_type": "code",
   "execution_count": 23,
   "metadata": {
    "id": "KaWqHrF2865_"
   },
   "outputs": [],
   "source": [
    "from flask import Flask, request, jsonify\n",
    "import pandas as pd"
   ]
  },
  {
   "cell_type": "markdown",
   "metadata": {
    "id": "6Je5vTHecqjm"
   },
   "source": [
    "### **Создаем сервис для обработки запросов к модели**"
   ]
  },
  {
   "cell_type": "code",
   "execution_count": 24,
   "metadata": {
    "id": "KixQ-op0GIpV"
   },
   "outputs": [],
   "source": [
    "# Загружаем обученные модели\n",
    "with open('gradboost_pipeline.dill', 'rb') as in_strm:\n",
    "    model = dill.load(in_strm)"
   ]
  },
  {
   "cell_type": "code",
   "execution_count": 25,
   "metadata": {
    "id": "QAyoTMLNVJzn"
   },
   "outputs": [],
   "source": [
    "X_test = pd.read_csv(\"X_test.csv\")\n",
    "y_test = pd.read_csv(\"y_test.csv\")"
   ]
  },
  {
   "cell_type": "markdown",
   "metadata": {
    "id": "aomkZwKfdA08"
   },
   "source": [
    "Запустить сервис и не глушить его, пока работаем "
   ]
  },
  {
   "cell_type": "code",
   "execution_count": null,
   "metadata": {
    "colab": {
     "base_uri": "https://localhost:8080/"
    },
    "id": "pmii6qPeGInX",
    "outputId": "94d35619-f2f7-4c1b-8745-49c0fe25501a",
    "tags": []
   },
   "outputs": [
    {
     "name": "stdout",
     "output_type": "stream",
     "text": [
      " * Serving Flask app '__main__' (lazy loading)\n",
      " * Environment: production\n",
      "\u001b[31m   WARNING: This is a development server. Do not use it in a production deployment.\u001b[0m\n",
      "\u001b[2m   Use a production WSGI server instead.\u001b[0m\n",
      " * Debug mode: off\n"
     ]
    },
    {
     "name": "stderr",
     "output_type": "stream",
     "text": [
      " * Running on http://127.0.0.1:5000 (Press CTRL+C to quit)\n",
      "127.0.0.1 - - [04/Apr/2022 18:05:05] \"POST /predict HTTP/1.1\" 200 -\n",
      "127.0.0.1 - - [04/Apr/2022 18:05:05] \"POST /predict HTTP/1.1\" 200 -\n",
      "127.0.0.1 - - [04/Apr/2022 18:05:05] \"POST /predict HTTP/1.1\" 200 -\n",
      "127.0.0.1 - - [04/Apr/2022 18:05:05] \"POST /predict HTTP/1.1\" 200 -\n",
      "127.0.0.1 - - [04/Apr/2022 18:05:05] \"POST /predict HTTP/1.1\" 200 -\n",
      "127.0.0.1 - - [04/Apr/2022 18:05:05] \"POST /predict HTTP/1.1\" 200 -\n",
      "127.0.0.1 - - [04/Apr/2022 18:05:05] \"POST /predict HTTP/1.1\" 200 -\n",
      "127.0.0.1 - - [04/Apr/2022 18:05:05] \"POST /predict HTTP/1.1\" 200 -\n",
      "127.0.0.1 - - [04/Apr/2022 18:05:05] \"POST /predict HTTP/1.1\" 200 -\n",
      "127.0.0.1 - - [04/Apr/2022 18:05:05] \"POST /predict HTTP/1.1\" 200 -\n",
      "127.0.0.1 - - [04/Apr/2022 18:05:05] \"POST /predict HTTP/1.1\" 200 -\n",
      "127.0.0.1 - - [04/Apr/2022 18:05:05] \"POST /predict HTTP/1.1\" 200 -\n",
      "127.0.0.1 - - [04/Apr/2022 18:05:05] \"POST /predict HTTP/1.1\" 200 -\n",
      "127.0.0.1 - - [04/Apr/2022 18:05:05] \"POST /predict HTTP/1.1\" 200 -\n",
      "127.0.0.1 - - [04/Apr/2022 18:05:05] \"POST /predict HTTP/1.1\" 200 -\n"
     ]
    },
    {
     "name": "stdout",
     "output_type": "stream",
     "text": [
      " BREAKING: GOP Chairman Grassley Has Had Enough, DEMANDS Trump Jr. Testimony\n",
      "OK\n",
      " Failed GOP Candidates Remembered In Hilarious Mocking Eulogies (VIDEO)\n",
      "OK\n",
      " Mike Pence’s New DC Neighbors Are HILARIOUSLY Trolling Him For Being A Homophobic Bigot\n",
      "OK\n",
      "California AG pledges to defend birth control insurance coverage\n",
      "OK\n",
      "AZ RANCHERS Living On US-Mexico Border Destroy Nancy Pelosi’s Claim About Trump Being “Weak” For Wanting Border Wall [VIDEO]\n",
      "OK\n",
      "As private lawyer, Trump high court pick was friend to business\n",
      "OK\n",
      "Yemeni Salafist imam killed in Aden: sources\n",
      "OK\n",
      "FBI says witnesses in U.S. probe into Malaysia's 1MDB fear for safety\n",
      "OK\n",
      "An Easy To Read Chart Shows How Bernie Sanders’ Socialism Is Just A Stepping Stone To Communism\n",
      "OK\n",
      "MMA FIGHTER JAKE SHIELDS Embarrasses Cowards In Masks For Violent 20-on-1 Beating of Trump Supporter [VIDEO]: “I was in Berkeley and watched a man getting beat by a mob with no police help…I was the only person to jump in and help”\n",
      "OK\n",
      " Tired Of Things Going Well, Marco Rubio Makes Promise To Destroy America Again (VIDEO)\n",
      "OK\n",
      "Yemen air strike kills eight women, two children, say residents\n",
      "OK\n",
      "BREAKING: WDBJ KILLER WAS ANGRY BLACK DEMOCRAT…Reprimanded For Wearing Obama Sticker At Work\n",
      "OK\n",
      "LIST OF 22 TIMES OBAMA Called Phony Climate Change More Serious Than Terrorism\n",
      "OK\n",
      "Indo-Pacific? Not from where China is sitting...\n",
      "OK\n",
      "ART CONTEST WINNER Disqualified for Being a Trump Supporter…What Happened to the “Tolerant” and “Accepting” Left?\n"
     ]
    },
    {
     "name": "stderr",
     "output_type": "stream",
     "text": [
      "127.0.0.1 - - [04/Apr/2022 18:05:05] \"POST /predict HTTP/1.1\" 200 -\n",
      "127.0.0.1 - - [04/Apr/2022 18:05:05] \"POST /predict HTTP/1.1\" 200 -\n",
      "127.0.0.1 - - [04/Apr/2022 18:05:05] \"POST /predict HTTP/1.1\" 200 -\n",
      "127.0.0.1 - - [04/Apr/2022 18:05:06] \"POST /predict HTTP/1.1\" 200 -\n",
      "127.0.0.1 - - [04/Apr/2022 18:05:06] \"POST /predict HTTP/1.1\" 200 -\n",
      "127.0.0.1 - - [04/Apr/2022 18:05:06] \"POST /predict HTTP/1.1\" 200 -\n",
      "127.0.0.1 - - [04/Apr/2022 18:05:06] \"POST /predict HTTP/1.1\" 200 -\n",
      "127.0.0.1 - - [04/Apr/2022 18:05:06] \"POST /predict HTTP/1.1\" 200 -\n",
      "127.0.0.1 - - [04/Apr/2022 18:05:06] \"POST /predict HTTP/1.1\" 200 -\n",
      "127.0.0.1 - - [04/Apr/2022 18:05:06] \"POST /predict HTTP/1.1\" 200 -\n",
      "127.0.0.1 - - [04/Apr/2022 18:05:06] \"POST /predict HTTP/1.1\" 200 -\n",
      "127.0.0.1 - - [04/Apr/2022 18:05:06] \"POST /predict HTTP/1.1\" 200 -\n",
      "127.0.0.1 - - [04/Apr/2022 18:05:06] \"POST /predict HTTP/1.1\" 200 -\n",
      "127.0.0.1 - - [04/Apr/2022 18:05:06] \"POST /predict HTTP/1.1\" 200 -\n",
      "127.0.0.1 - - [04/Apr/2022 18:05:06] \"POST /predict HTTP/1.1\" 200 -\n",
      "127.0.0.1 - - [04/Apr/2022 18:05:06] \"POST /predict HTTP/1.1\" 200 -\n",
      "127.0.0.1 - - [04/Apr/2022 18:05:06] \"POST /predict HTTP/1.1\" 200 -\n"
     ]
    },
    {
     "name": "stdout",
     "output_type": "stream",
     "text": [
      "OK\n",
      "'Lips and teeth' no more as China's ties with North Korea fray\n",
      "OK\n",
      "Factbox: Trump on Twitter (Sept 25) - NASCAR, NFL, John Kelly, Puerto Rico, John McCain, Alabama\n",
      "OK\n",
      "Judge declines to dismiss bribery charges against U.S. Senator Menendez\n",
      "OK\n",
      "FATHER OF BENGHAZI VICTIM TY WOODS SPEAKS UP AGAINST HILLARY: “My son would still be alive…” [Video]\n",
      "OK\n",
      "Before debate, protesters build 'wall of taco trucks' outside Trump hotel\n",
      "OK\n",
      "Obama to call for increases in budget for SEC, CFTC: White House\n",
      "OK\n",
      " Ammon Bundy Just Got Sweet Justice Handed To Him By A Federal Judge (VIDEO)\n",
      "OK\n",
      "CHARITY GETS MILLIONS From US To Train “Vulnerable Afghans”\n",
      "OK\n",
      "LIVE FEED: INAUGURATION 2017!\n",
      "OK\n",
      "Senate repeals Labor Dept. municipal retirement plan rule\n",
      "OK\n",
      "Trump explained U.S. position on THAAD to Xi: South Korea\n",
      "OK\n",
      "Kosovo war crimes court ready for first indictments: chief judge\n",
      "OK\n",
      "WATCH: 40,000 BOY SCOUTS BOO Barack Obama…GO CRAZY…Chant “We Love Trump” During President Trump’s Visit To National Scout Jamboree\n",
      "OK\n",
      "BREAKING: OBAMA-APPOINTED JUDGE ORDERS Vote Recount To Begin At Noon On Monday\n",
      "OK\n",
      "NEW YORK GOV CUOMO Thinks He’s The Boss of You: Bans Travel To Mississippi!\n",
      "OK\n",
      "OBAMA AND VALERIE JARRETT Finalize Executive Action Gun Control Proposal\n",
      "OK\n",
      "Key U.S. House committee approves healthcare bill, vote set for Thursday\n"
     ]
    },
    {
     "name": "stderr",
     "output_type": "stream",
     "text": [
      "127.0.0.1 - - [04/Apr/2022 18:05:06] \"POST /predict HTTP/1.1\" 200 -\n",
      "127.0.0.1 - - [04/Apr/2022 18:05:06] \"POST /predict HTTP/1.1\" 200 -\n",
      "127.0.0.1 - - [04/Apr/2022 18:05:06] \"POST /predict HTTP/1.1\" 200 -\n",
      "127.0.0.1 - - [04/Apr/2022 18:05:06] \"POST /predict HTTP/1.1\" 200 -\n",
      "127.0.0.1 - - [04/Apr/2022 18:05:06] \"POST /predict HTTP/1.1\" 200 -\n",
      "127.0.0.1 - - [04/Apr/2022 18:05:06] \"POST /predict HTTP/1.1\" 200 -\n",
      "127.0.0.1 - - [04/Apr/2022 18:05:06] \"POST /predict HTTP/1.1\" 200 -\n",
      "127.0.0.1 - - [04/Apr/2022 18:05:06] \"POST /predict HTTP/1.1\" 200 -\n",
      "127.0.0.1 - - [04/Apr/2022 18:05:06] \"POST /predict HTTP/1.1\" 200 -\n",
      "127.0.0.1 - - [04/Apr/2022 18:05:06] \"POST /predict HTTP/1.1\" 200 -\n",
      "127.0.0.1 - - [04/Apr/2022 18:05:06] \"POST /predict HTTP/1.1\" 200 -\n",
      "127.0.0.1 - - [04/Apr/2022 18:05:06] \"POST /predict HTTP/1.1\" 200 -\n",
      "127.0.0.1 - - [04/Apr/2022 18:05:06] \"POST /predict HTTP/1.1\" 200 -\n",
      "127.0.0.1 - - [04/Apr/2022 18:05:06] \"POST /predict HTTP/1.1\" 200 -\n",
      "127.0.0.1 - - [04/Apr/2022 18:05:06] \"POST /predict HTTP/1.1\" 200 -\n",
      "127.0.0.1 - - [04/Apr/2022 18:05:06] \"POST /predict HTTP/1.1\" 200 -\n",
      "127.0.0.1 - - [04/Apr/2022 18:05:06] \"POST /predict HTTP/1.1\" 200 -\n"
     ]
    },
    {
     "name": "stdout",
     "output_type": "stream",
     "text": [
      "OK\n",
      "Cambodia's Hun Sen urges arrests of opposition 'rebels in the city'\n",
      "OK\n",
      " WATCH: Wolf Blitzer Makes Republican Throw Temper Tantrum Over Trump’s Nazi Problem\n",
      "OK\n",
      "RIP PROUD PATRIOT: MARINE Dies After Delivering Powerful Message To President Trump, Mike Pence, General Mattis: “Give ‘Em Hell…Semper Fi…God Bless” [VIDEO]\n",
      "OK\n",
      " The Shocking Detail Trump Doesn’t Want You To Know About HIS MOTHER (VIDEO)\n",
      "OK\n",
      "Irish border row thwarts May bid to clinch Brexit trade deal\n",
      "OK\n",
      "Senate passes budget blueprint, key to Trump tax effort\n",
      "OK\n",
      " White Nationalist Radio: Trump Gave Us A Press Pass And We Interviewed His Son\n",
      "OK\n",
      "‘Vaccine Choice’ Mom Gets Jail Time for Not Jabbing Her Kid\n",
      "OK\n",
      "Factbox: British business organizations react to Brexit talk progress\n",
      "OK\n",
      "Iraqi Kurds face more sanctions after calling elections\n",
      "OK\n",
      "Cambodia marks independence from France with doves, balloons\n",
      "OK\n",
      " Trump Staff Defends Shoving Breitbart Reporter By Saying They Thought She Was Liberal\n",
      "OK\n",
      " AG Sessions Persuaded Trump To End DACA, Then Race-Baited His Way Through The Speech That Killed It\n",
      "OK\n",
      "MEALS ON WHEELS Shuts the Lyin’ Lefties Up With Truth After MoveOn.org’s Fake News [Video]\n",
      "OK\n",
      "Sessions: 'no reason to doubt' Roy Moore's accusers\n",
      "OK\n",
      " SICK: Republicans Write Letters Supporting Child Molester\n",
      "OK\n",
      "Episode #159 – SUNDAY WIRE: ‘Tick-Tock USA’ with guests Dr Marcus Papadopoulos, Basil Valentine\n"
     ]
    },
    {
     "name": "stderr",
     "output_type": "stream",
     "text": [
      "127.0.0.1 - - [04/Apr/2022 18:05:06] \"POST /predict HTTP/1.1\" 200 -\n"
     ]
    },
    {
     "name": "stdout",
     "output_type": "stream",
     "text": [
      "OK\n"
     ]
    }
   ],
   "source": [
    "# Обработчики и запуск Flask\n",
    "app = Flask(__name__)\n",
    "\n",
    "@app.route(\"/\", methods=[\"GET\"])\n",
    "def general():\n",
    "    return \"Welcome to prediction process\"\n",
    "\n",
    "\n",
    "@app.route('/predict', methods=['POST'])\n",
    "def predict():\n",
    "    data = {\"success\": False}\n",
    "\n",
    "    # ensure an image was properly uploaded to our endpoint\n",
    "    title, text, subject = \"\", \"\", \"\"\n",
    "    request_json = request.get_json()\n",
    "    \n",
    "    if request_json[\"title\"]:\n",
    "        description = request_json['title']\n",
    "    \n",
    "    if request_json[\"text\"]:\n",
    "        company_profile = request_json['text']\n",
    "                \n",
    "    if request_json[\"subject\"]:\n",
    "        benefits = request_json['subject']\n",
    "    \n",
    "    print(description)  \n",
    "    preds = model.predict_proba(pd.DataFrame({\"title\": [title],\n",
    "                                              \"text\": [text],\n",
    "                                              \"subject\": [subject]}))\n",
    "    data[\"predictions\"] = preds[:, 1][0]\n",
    "    data[\"description\"] = description\n",
    "        # indicate that the request was a success\n",
    "    data[\"success\"] = True\n",
    "    print('OK')\n",
    "\n",
    "        # return the data dictionary as a JSON response\n",
    "    return jsonify(data)\n",
    "\n",
    "\n",
    "if __name__ == '__main__':\n",
    "    app.run()"
   ]
  },
  {
   "cell_type": "code",
   "execution_count": null,
   "metadata": {},
   "outputs": [],
   "source": []
  }
 ],
 "metadata": {
  "colab": {
   "collapsed_sections": [],
   "name": "Lesson 9.ipynb",
   "provenance": [],
   "toc_visible": true
  },
  "kernelspec": {
   "display_name": "Python 3 (ipykernel)",
   "language": "python",
   "name": "python3"
  },
  "language_info": {
   "codemirror_mode": {
    "name": "ipython",
    "version": 3
   },
   "file_extension": ".py",
   "mimetype": "text/x-python",
   "name": "python",
   "nbconvert_exporter": "python",
   "pygments_lexer": "ipython3",
   "version": "3.9.12"
  }
 },
 "nbformat": 4,
 "nbformat_minor": 4
}

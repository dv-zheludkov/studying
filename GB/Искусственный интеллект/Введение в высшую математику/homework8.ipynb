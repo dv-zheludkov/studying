{
 "cells": [
  {
   "cell_type": "code",
   "execution_count": 1,
   "id": "0d1ed0ce-1c9f-48ce-9716-201422989dc1",
   "metadata": {},
   "outputs": [],
   "source": [
    "import numpy as np\n",
    "import scipy\n",
    "import scipy.linalg\n",
    "import scipy.optimize\n",
    "import matplotlib.pyplot as plt\n",
    "%matplotlib inline\n"
   ]
  },
  {
   "cell_type": "markdown",
   "id": "2dbba40f-68e4-432a-8ee6-fe7792208aef",
   "metadata": {},
   "source": [
    "ДЗ к уроку на сайте отсутствует\n"
   ]
  },
  {
   "cell_type": "code",
   "execution_count": null,
   "id": "33604a37-b173-4f00-beda-bd5940b68aea",
   "metadata": {},
   "outputs": [],
   "source": []
  }
 ],
 "metadata": {
  "kernelspec": {
   "display_name": "Python 3",
   "language": "python",
   "name": "python3"
  },
  "language_info": {
   "codemirror_mode": {
    "name": "ipython",
    "version": 3
   },
   "file_extension": ".py",
   "mimetype": "text/x-python",
   "name": "python",
   "nbconvert_exporter": "python",
   "pygments_lexer": "ipython3",
   "version": "3.9.4"
  }
 },
 "nbformat": 4,
 "nbformat_minor": 5
}

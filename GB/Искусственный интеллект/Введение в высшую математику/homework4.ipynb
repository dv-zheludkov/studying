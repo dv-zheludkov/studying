{
 "cells": [
  {
   "cell_type": "markdown",
   "id": "ab85fde9-a7e7-4bc3-8a6b-4632067345e9",
   "metadata": {},
   "source": [
    "## Задача 1."
   ]
  },
  {
   "cell_type": "markdown",
   "id": "ae7be77b-4aa1-4b00-acef-16d74ea83ad8",
   "metadata": {},
   "source": [
    "Решите уравнение \n",
    "\n",
    "$\\frac{sin(x)}x=0$\n"
   ]
  },
  {
   "cell_type": "markdown",
   "id": "275a2858-cf91-47cd-8445-87516af285b4",
   "metadata": {},
   "source": [
    "#### Решение"
   ]
  },
  {
   "cell_type": "markdown",
   "id": "b0d388ed-726b-41c8-b85d-8915e735f42d",
   "metadata": {},
   "source": [
    "$x\\neq0$ и $sinx=0 \\Rightarrow x=n\\pi$, где $n \\in \\mathbb{Z}, n\\neq0$"
   ]
  },
  {
   "cell_type": "markdown",
   "id": "8356f4f3-f35b-424e-b83c-9bb31b69c373",
   "metadata": {},
   "source": [
    "## Задача 2."
   ]
  },
  {
   "cell_type": "markdown",
   "id": "c1acf041-5b06-4165-8738-cfe1ab7e4a8c",
   "metadata": {},
   "source": [
    "Даны три прямые $y=k_1x+b_1$, $y=k_2x+b_2$, $y=k_3x+b_3$. Как узнать, пересекаются они в одной точке или нет?\n"
   ]
  },
  {
   "cell_type": "markdown",
   "id": "708959db-6e5c-4175-832a-a96290d925b6",
   "metadata": {},
   "source": [
    "#### Решение"
   ]
  },
  {
   "cell_type": "markdown",
   "id": "5fa8bb36-814e-44a2-94bb-e1e571bcf88d",
   "metadata": {},
   "source": [
    "Уравнение прямых, проходящих через одну точку: $y-y_1=k(x-x_1)$, если все уравнения удовлетворяют условию - то они проходят через одну точку.\n",
    "\n",
    "$\\left(\\frac{b_2-b_1}{k_1-k_2},\\frac{k_1b_2-k_2b_1}{k_1-k_2}\\right)=\\left(\\frac{b_3-b_1}{k_1-k_3},\\frac{k_1b_3-k_3b_1}{k_1-k_3}\\right)=\\left(\\frac{b_2-b_3}{k_3-k_2},\\frac{k_3b_2-k_2b_3}{k_3-k_2}\\right)$"
   ]
  },
  {
   "cell_type": "markdown",
   "id": "959bc8f1-bdd6-4b3c-afb5-d430c2e4574f",
   "metadata": {},
   "source": [
    "## Задача 3. \n"
   ]
  },
  {
   "cell_type": "markdown",
   "id": "ab5f1b4e-7770-4254-9fe8-4103a2af0b93",
   "metadata": {},
   "source": [
    "На листе тетради «в линейку» (расстояние между линиями равно $а$) лежит игла (длиной $b$). Координаты нижней точки иглы $(х,у)$, игла лежит под углом $\\alpha$. Пересекает ли игла линию или нет?\n"
   ]
  },
  {
   "cell_type": "markdown",
   "id": "46e4e23e-0498-4cee-a2fe-13cf0e4cad35",
   "metadata": {},
   "source": [
    "#### Решение"
   ]
  },
  {
   "cell_type": "markdown",
   "id": "9bacaa01-0f78-4750-81cc-51bd384b4070",
   "metadata": {},
   "source": [
    "Игла пересекает линию при $mod(y,a) + a \\dot sin(\\alpha) > a$"
   ]
  },
  {
   "cell_type": "markdown",
   "id": "388a7579-459d-4537-95c5-05c1386cb582",
   "metadata": {},
   "source": [
    "## Задача 4."
   ]
  },
  {
   "cell_type": "markdown",
   "id": "567c0e1a-de82-4feb-a295-ea435d09f35b",
   "metadata": {},
   "source": [
    "Решите аналитически и потом численно (в программе) уравнение, зависящее от параметра а: \n",
    "\n",
    "$sin{(а\\cdot x)}=0$\n",
    "\n",
    "при условии: $0.01<a<0.02$, $100<х<500$.\n",
    "\n",
    "Т.е. надо найти решение х как функцию параметра а - построить график x=x(а).\n",
    "Если численным методом не получается найти все ветви решения x(а), то отыщите хотя бы одну."
   ]
  },
  {
   "cell_type": "markdown",
   "id": "ee9e38cf-6c56-47e6-856f-e1c229b0075f",
   "metadata": {},
   "source": [
    "#### Решение"
   ]
  },
  {
   "cell_type": "markdown",
   "id": "5c45c2e1-1698-48c8-8a0f-8b9ddc74f625",
   "metadata": {},
   "source": [
    "$sin{(а\\cdot x)}=0$ $\\Rightarrow$  $ax=n\\pi$, $n \\in \\mathbb{Z}$ $\\Rightarrow$  $x=\\frac{n\\pi}a$, $n \\in \\mathbb{Z}$"
   ]
  },
  {
   "cell_type": "code",
   "execution_count": 1,
   "id": "baa7a261-cd37-4ee3-8a51-196db6e09552",
   "metadata": {},
   "outputs": [
    {
     "name": "stdout",
     "output_type": "stream",
     "text": [
      "157.07963267948966<x<314.1592653589793\n",
      "314.1592653589793<x<500\n",
      "471.23889803846896<x<500\n"
     ]
    },
    {
     "data": {
      "image/png": "[encoded data removed]",
      "text/plain": [
       "<Figure size 432x288 with 1 Axes>"
      ]
     },
     "metadata": {
      "needs_background": "light"
     },
     "output_type": "display_data"
    }
   ],
   "source": [
    "import pandas as pd\n",
    "import numpy as np\n",
    "import matplotlib.pyplot as plt\n",
    "\n",
    "a = np.linspace(0.01, 0.02, 100)\n",
    "n = [1, 2, 3]\n",
    "for i in n:\n",
    "    x = i*np.pi/a\n",
    "    plt.plot(a, x)\n",
    "    plt.xlim(0.01, 0.02) \n",
    "    plt.ylim(100, 500)\n",
    "    max_x=i*np.pi/0.01\n",
    "    if max_x>500:\n",
    "        max_x=500\n",
    "    print(f\"{i*np.pi/0.02}<x<{max_x}\")"
   ]
  },
  {
   "cell_type": "markdown",
   "id": "e80154e2-427b-4e20-8c6e-134cf7f3e35a",
   "metadata": {},
   "source": [
    "## Задача 5."
   ]
  },
  {
   "cell_type": "markdown",
   "id": "b99c6560-c557-4d4c-b822-e2728eeadbc7",
   "metadata": {},
   "source": [
    "Найти угол $\\alpha$ между прямыми \n",
    "$4y-3x+12 = 0$ и $7y+x-14 = 0$"
   ]
  },
  {
   "cell_type": "markdown",
   "id": "e30f81fe-7523-4d6b-bd47-3682ca69dc7d",
   "metadata": {},
   "source": [
    "#### Решение"
   ]
  },
  {
   "cell_type": "markdown",
   "id": "05fc9c4d-12bd-4517-99d9-f40e3c11bf8e",
   "metadata": {},
   "source": [
    "Приведем прямые к виду $y=kx+b$: $y=\\frac{3}4 x-3$ $y=-\\frac{y}7+2$\n",
    "$$\\alpha=\\arctan \\left| \\frac{3/4+1/7}{1-3/4\\cdot1/7} \\right|$$"
   ]
  },
  {
   "cell_type": "code",
   "execution_count": 2,
   "id": "d1f5baab-3366-4e5e-8ccc-8cd6e14951cd",
   "metadata": {},
   "outputs": [
    {
     "data": {
      "text/plain": [
       "45.0"
      ]
     },
     "execution_count": 2,
     "metadata": {},
     "output_type": "execute_result"
    }
   ],
   "source": [
    "alpha = np.arctan(np.abs((3/4+1/7)/(1-(3/4)*(1/7))))\n",
    "alpha*180/np.pi"
   ]
  },
  {
   "cell_type": "markdown",
   "id": "c6165d52-523e-478e-b53b-dd02227c1e0d",
   "metadata": {},
   "source": [
    "## Задача 6."
   ]
  },
  {
   "cell_type": "markdown",
   "id": "db7798ef-6824-43cd-af3d-549236ff835f",
   "metadata": {},
   "source": [
    "Найти угол $\\alpha$ между прямыми \n",
    "$x = \\sqrt{2}$ и $x = \\sqrt{-3}$."
   ]
  },
  {
   "cell_type": "markdown",
   "id": "a626e7ed-b795-4309-adfc-7c83dd116af2",
   "metadata": {},
   "source": [
    "#### Решение"
   ]
  },
  {
   "cell_type": "markdown",
   "id": "46236a43-32eb-4f28-b2c6-0e88e4dae8a7",
   "metadata": {},
   "source": [
    "Прямые параллельны (при постоянном х), следовательно угол между ними равен 0"
   ]
  },
  {
   "cell_type": "markdown",
   "id": "961a141b-445f-4be1-863d-195f9691b8eb",
   "metadata": {},
   "source": [
    "## Задача 7."
   ]
  },
  {
   "cell_type": "markdown",
   "id": "0ba16909-83fc-479b-a670-f0b10bbc9361",
   "metadata": {},
   "source": [
    "Выяснить тип кривых второго порядка, порожденных следующими уравнениями.\n",
    "\n",
    "$y^2-2x-2y-5=0$\n",
    "\n",
    "$3x^2+5y^2+12x-30y+42=0$\n",
    "\n",
    "$2x^2-y^2+6y-7=0$\n",
    "\n",
    "$2x^2-3y^2-28x-42y-55=0$"
   ]
  },
  {
   "cell_type": "markdown",
   "id": "894320e5-fc7b-4d4d-b7d0-015ba90ac0c0",
   "metadata": {},
   "source": [
    "#### Решение"
   ]
  },
  {
   "cell_type": "markdown",
   "id": "bfa8c3dd-7b15-4bed-a0e8-af60d28c95e4",
   "metadata": {},
   "source": [
    "$y^2-2x-2y-5=0$ парабола"
   ]
  },
  {
   "cell_type": "code",
   "execution_count": 3,
   "id": "84a9ba0e-543f-4b69-a375-6545931b9467",
   "metadata": {},
   "outputs": [
    {
     "data": {
      "image/png": "[encoded data removed]",
      "text/plain": [
       "<Figure size 432x288 with 1 Axes>"
      ]
     },
     "metadata": {
      "needs_background": "light"
     },
     "output_type": "display_data"
    }
   ],
   "source": [
    "from sympy import *\n",
    "import matplotlib.pyplot as plt\n",
    "var('x y')\n",
    "plot_implicit(Eq(y**2 - 2*x - 2*y, 5))\n",
    "plt.show()"
   ]
  },
  {
   "cell_type": "markdown",
   "id": "010d9572-b533-4904-b4e1-72e7b7dbc497",
   "metadata": {},
   "source": [
    "$3x^2+5y^2+12x-30y+42=0$ элипс"
   ]
  },
  {
   "cell_type": "code",
   "execution_count": 4,
   "id": "a1926908-55a6-45cb-a39f-fd78c540f2b4",
   "metadata": {},
   "outputs": [
    {
     "data": {
      "image/png": "[encoded data removed]",
      "text/plain": [
       "<Figure size 432x288 with 1 Axes>"
      ]
     },
     "metadata": {
      "needs_background": "light"
     },
     "output_type": "display_data"
    }
   ],
   "source": [
    "plot_implicit(Eq(3*x**2 + 5*y**2+ 12*x - 30*y, -42))\n",
    "plt.show()"
   ]
  },
  {
   "cell_type": "markdown",
   "id": "02b0eea7-3e73-4f51-baae-b4b1608ad616",
   "metadata": {},
   "source": [
    "$2x^2-y^2+6y-7=0$ гипербола "
   ]
  },
  {
   "cell_type": "code",
   "execution_count": 5,
   "id": "2abe761e-1373-4b82-8fc4-68144ad78190",
   "metadata": {},
   "outputs": [
    {
     "data": {
      "image/png": "[encoded data removed]",
      "text/plain": [
       "<Figure size 432x288 with 1 Axes>"
      ]
     },
     "metadata": {
      "needs_background": "light"
     },
     "output_type": "display_data"
    }
   ],
   "source": [
    "plot_implicit(Eq(2*x**2 - y**2 + 6*y, 7))\n",
    "plt.show()"
   ]
  },
  {
   "cell_type": "markdown",
   "id": "5ea3603e-779c-4f2b-9ae2-1eba27db4577",
   "metadata": {},
   "source": [
    "$2x^2-3y^2-28x-42y-55=0$ гипербола "
   ]
  },
  {
   "cell_type": "code",
   "execution_count": 6,
   "id": "d5e04395-373a-43ff-af12-77760c472fbd",
   "metadata": {},
   "outputs": [
    {
     "data": {
      "image/png": "[encoded data removed]",
      "text/plain": [
       "<Figure size 432x288 with 1 Axes>"
      ]
     },
     "metadata": {
      "needs_background": "light"
     },
     "output_type": "display_data"
    }
   ],
   "source": [
    "plot_implicit(Eq(2*x**2 - 3*y**2 - 28*x - 42*y, 55))\n",
    "plt.show()"
   ]
  },
  {
   "cell_type": "code",
   "execution_count": null,
   "id": "9189c6ec-d966-4bb1-8a80-611e66c527f4",
   "metadata": {},
   "outputs": [],
   "source": []
  }
 ],
 "metadata": {
  "kernelspec": {
   "display_name": "Python 3",
   "language": "python",
   "name": "python3"
  },
  "language_info": {
   "codemirror_mode": {
    "name": "ipython",
    "version": 3
   },
   "file_extension": ".py",
   "mimetype": "text/x-python",
   "name": "python",
   "nbconvert_exporter": "python",
   "pygments_lexer": "ipython3",
   "version": "3.9.4"
  }
 },
 "nbformat": 4,
 "nbformat_minor": 5
}

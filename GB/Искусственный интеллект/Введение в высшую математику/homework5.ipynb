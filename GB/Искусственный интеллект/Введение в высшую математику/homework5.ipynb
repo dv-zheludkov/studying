{
 "cells": [
  {
   "cell_type": "markdown",
   "id": "ab85fde9-a7e7-4bc3-8a6b-4632067345e9",
   "metadata": {},
   "source": [
    "## Задача 1."
   ]
  },
  {
   "cell_type": "markdown",
   "id": "ae7be77b-4aa1-4b00-acef-16d74ea83ad8",
   "metadata": {},
   "source": [
    "Напишите код, моделирующий выпадение поля в рулетке (с учетом поля зеро)."
   ]
  },
  {
   "cell_type": "markdown",
   "id": "275a2858-cf91-47cd-8445-87516af285b4",
   "metadata": {},
   "source": [
    "#### Решение"
   ]
  },
  {
   "cell_type": "code",
   "execution_count": 12,
   "id": "d461d3f3-3074-4d94-b7d5-747a05fe2df3",
   "metadata": {},
   "outputs": [
    {
     "name": "stdout",
     "output_type": "stream",
     "text": [
      "Произведено опытов -  1000\n",
      "0 выпало: 25\n",
      "Красное выпало: 482\n",
      "Черное выпало: 493\n"
     ]
    }
   ],
   "source": [
    "import pandas as pd\n",
    "import numpy as np\n",
    "import matplotlib.pyplot as plt\n",
    "\n",
    "def get_field(iter):\n",
    "    z = 0\n",
    "    r = 0\n",
    "    b = 0\n",
    "    for i in range(0, iter):\n",
    "        field = np.random.randint(0,37)\n",
    "        if field == 0:\n",
    "            z += 1\n",
    "        elif field in [3, 12, 7, 18, 9, 14, 1, 16, 5, 23, 30, 36, 27, 34, 25, 21, 19, 32]:\n",
    "            r += 1\n",
    "        else:\n",
    "            b += 1\n",
    "    return [z,r,b]\n",
    "\n",
    "iter = 1000\n",
    "e = get_field(iter)\n",
    "print(f\"Произведено опытов -  {iter}\")\n",
    "print(f\"0 выпало: {e[0]}\")\n",
    "print(f\"Красное выпало: {e[1]}\")\n",
    "print(f\"Черное выпало: {e[2]}\")"
   ]
  },
  {
   "cell_type": "markdown",
   "id": "8356f4f3-f35b-424e-b83c-9bb31b69c373",
   "metadata": {},
   "source": [
    "## Задача 2."
   ]
  },
  {
   "cell_type": "markdown",
   "id": "a6026729-dd97-4238-b2de-64360d4d9f7c",
   "metadata": {},
   "source": [
    "1) Напишите код, проверяющий любую из теорем сложения или умножения вероятности на примере рулетки или подбрасывания монетки."
   ]
  },
  {
   "cell_type": "markdown",
   "id": "c1acf041-5b06-4165-8738-cfe1ab7e4a8c",
   "metadata": {},
   "source": [
    "2) Сгенерируйте десять выборок случайных чисел х0, …, х9.\n",
    "и постройте гистограмму распределения случайной суммы  +х0+ …+ х 9.\n"
   ]
  },
  {
   "cell_type": "markdown",
   "id": "708959db-6e5c-4175-832a-a96290d925b6",
   "metadata": {},
   "source": [
    "#### Решение"
   ]
  },
  {
   "cell_type": "markdown",
   "id": "5fa8bb36-814e-44a2-94bb-e1e571bcf88d",
   "metadata": {},
   "source": [
    "Пусть событие A выпадение красного поля, а событие B выпадение черного поля, тогда P(A)=18/37, P(B)=18/37, тогда вероятность выпадения красного или черного поля равна $P(A+B)=36/37$\n",
    "\n",
    "Пусть событие A выпадение красного поля в первый раз, а событие B выпадение красного поля во второй раз. Эти события независимы и следовательно $$P(AB)=P(A)P(B)=\\left({\\frac{18}{37}}\\right)^2$$"
   ]
  },
  {
   "cell_type": "code",
   "execution_count": 23,
   "id": "58298141-c067-4b9b-88e6-a2d6aa4c3682",
   "metadata": {},
   "outputs": [
    {
     "data": {
      "image/png": "[encoded data removed]",
      "text/plain": [
       "<Figure size 432x288 with 1 Axes>"
      ]
     },
     "metadata": {
      "needs_background": "light"
     },
     "output_type": "display_data"
    }
   ],
   "source": [
    "p = 18/37\n",
    "q = (1 - p)\n",
    "sumP = 0\n",
    "arP = []\n",
    "arSum = []\n",
    "iter = 40\n",
    "n = range(0, iter + 1)\n",
    "for i in n:\n",
    "    binom = np.math.factorial(iter)/(np.math.factorial(i)*np.math.factorial(iter-i))\n",
    "    P = binom*(p**i)*(q**(iter-i))\n",
    "    sumP = sumP+P\n",
    "    arP.append(P)\n",
    "    arSum.append(sumP)\n",
    "\n",
    "plt.bar(n, arSum)\n",
    "plt.bar(n, arP);"
   ]
  },
  {
   "cell_type": "code",
   "execution_count": 26,
   "id": "75e760bd-8692-432f-aa7a-5068f214c4ab",
   "metadata": {},
   "outputs": [
    {
     "data": {
      "text/plain": [
       "Text(0, 0.5, 'Вероятность')"
      ]
     },
     "execution_count": 26,
     "metadata": {},
     "output_type": "execute_result"
    },
    {
     "data": {
      "image/png": "[encoded data removed]",
      "text/plain": [
       "<Figure size 432x288 with 1 Axes>"
      ]
     },
     "metadata": {
      "needs_background": "light"
     },
     "output_type": "display_data"
    }
   ],
   "source": [
    "n = 1000\n",
    "x0 = np.random.rand(n)\n",
    "x1 = np.random.rand(n)\n",
    "x2 = np.random.rand(n)\n",
    "x3 = np.random.rand(n)\n",
    "x4 = np.random.rand(n)\n",
    "x5 = np.random.rand(n)\n",
    "x6 = np.random.rand(n)\n",
    "x7 = np.random.rand(n)\n",
    "x8 = np.random.rand(n)\n",
    "x9 = np.random.rand(n)\n",
    "x = x0 + x1 + x2 + x3 + x4 + x5 + x6 + x7 + x8 + x9\n",
    "num_bins = 10\n",
    "n, bins, patches = plt.hist(x, num_bins)\n",
    "\n",
    "plt.xlabel('x')\n",
    "plt.ylabel('Вероятность')\n"
   ]
  },
  {
   "cell_type": "code",
   "execution_count": null,
   "id": "282afff4-128a-4178-95cd-ebe31e4d7558",
   "metadata": {},
   "outputs": [],
   "source": []
  },
  {
   "cell_type": "markdown",
   "id": "959bc8f1-bdd6-4b3c-afb5-d430c2e4574f",
   "metadata": {},
   "source": [
    "## Задача 3. \n"
   ]
  },
  {
   "cell_type": "markdown",
   "id": "ab5f1b4e-7770-4254-9fe8-4103a2af0b93",
   "metadata": {},
   "source": [
    "1) Дополните код Монте-Карло последовательности независимых испытаний расчетом соответствующих вероятностей (через биномиальное распределение) \n",
    "и сравните результаты."
   ]
  },
  {
   "cell_type": "markdown",
   "id": "1e3fc504-4662-471b-847c-994382a4509c",
   "metadata": {},
   "source": [
    "2) Повторите расчеты биномиальных коэффициентов и вероятностей k успехов в последовательности из n независимых испытаний, взяв другие значения n и k.\n"
   ]
  },
  {
   "cell_type": "markdown",
   "id": "46e4e23e-0498-4cee-a2fe-13cf0e4cad35",
   "metadata": {},
   "source": [
    "#### Решение"
   ]
  },
  {
   "cell_type": "code",
   "execution_count": 28,
   "id": "ffc02ea8-7e90-4fb6-b134-e428c1f7dfad",
   "metadata": {},
   "outputs": [],
   "source": [
    "def monte_carlo(N):\n",
    "    p1 = 1/37 # выпадение зеро\n",
    "    p2 = 18/37 # выпадение красного или черного поля\n",
    "    q1 = (1 - p1)\n",
    "    q2 = (1 - p2)\n",
    "    j1 = j2 = j3 = 0\n",
    "    for i in range(0, N):\n",
    "        val = np.random.randint(0,37)\n",
    "        if val == 0:\n",
    "            print(f\"В {i+1}-ом опыте выпало:\")\n",
    "            print(\"  Зеро\")\n",
    "            j1 = j1 + 1\n",
    "            binom1 = np.math.factorial(N)/(np.math.factorial(j1)*np.math.factorial(N-j1))\n",
    "            P1 = binom1*(p1**j1)*(q1**(N-j1))\n",
    "            print(f\"  Вероятность выпадения зеро {j1} из {N} раз: \", np.around(P1, decimals=5))\n",
    "        elif val in [3, 12, 7, 18, 9, 14, 1, 16, 5, 23, 30, 36, 27, 34, 25, \n",
    "                   21, 19, 32]:\n",
    "            print(f\"В {i+1}-ом опыте выпало:\")\n",
    "            print(\"  красное поле \", val)\n",
    "            j2 += 1\n",
    "            binom2 = np.math.factorial(N)/(np.math.factorial(j2)*np.math.factorial(N-j2))\n",
    "            P2 = binom2*(p2**j2)*(q2**(N-j2))\n",
    "            print(f\"  Вероятность выпадения красного поля {j2} из {N} раз: \", np.around(P2, decimals=5))\n",
    "        else:\n",
    "            print(f\"В {i+1}-ом опыте выпало:\")\n",
    "            print(\"  черное поле \", val)\n",
    "            j3 += 1\n",
    "            binom3 = np.math.factorial(N)/(np.math.factorial(j3)*np.math.factorial(N-j3))\n",
    "            P3 = binom3*(p2**j3)*(q2**(N-j3))\n",
    "            print(f\"  Вероятность выпадения черного поля {j3} из {N} раз: \", np.around(P3, decimals=5))\n"
   ]
  },
  {
   "cell_type": "code",
   "execution_count": 29,
   "id": "24618228-3343-45c4-acf0-7bd435f1ed6c",
   "metadata": {},
   "outputs": [
    {
     "name": "stdout",
     "output_type": "stream",
     "text": [
      "В 1-ом опыте выпало:\n",
      "  черное поле  28\n",
      "  Вероятность выпадения черного поля 1 из 5 раз:  0.16914\n",
      "В 2-ом опыте выпало:\n",
      "  красное поле  36\n",
      "  Вероятность выпадения красного поля 1 из 5 раз:  0.16914\n",
      "В 3-ом опыте выпало:\n",
      "  Зеро\n",
      "  Вероятность выпадения зеро 1 из 5 раз:  0.12111\n",
      "В 4-ом опыте выпало:\n",
      "  красное поле  32\n",
      "  Вероятность выпадения красного поля 2 из 5 раз:  0.32048\n",
      "В 5-ом опыте выпало:\n",
      "  красное поле  7\n",
      "  Вероятность выпадения красного поля 3 из 5 раз:  0.30361\n"
     ]
    }
   ],
   "source": [
    "monte_carlo(5)"
   ]
  },
  {
   "cell_type": "code",
   "execution_count": 30,
   "id": "4a0d0b71-50a2-44de-8369-58816f13d134",
   "metadata": {},
   "outputs": [
    {
     "name": "stdout",
     "output_type": "stream",
     "text": [
      "В 1-ом опыте выпало:\n",
      "  черное поле  22\n",
      "  Вероятность выпадения черного поля 1 из 7 раз:  0.06244\n",
      "В 2-ом опыте выпало:\n",
      "  красное поле  30\n",
      "  Вероятность выпадения красного поля 1 из 7 раз:  0.06244\n",
      "В 3-ом опыте выпало:\n",
      "  черное поле  29\n",
      "  Вероятность выпадения черного поля 2 из 7 раз:  0.17747\n",
      "В 4-ом опыте выпало:\n",
      "  черное поле  28\n",
      "  Вероятность выпадения черного поля 3 из 7 раз:  0.28021\n",
      "В 5-ом опыте выпало:\n",
      "  черное поле  33\n",
      "  Вероятность выпадения черного поля 4 из 7 раз:  0.26546\n",
      "В 6-ом опыте выпало:\n",
      "  черное поле  22\n",
      "  Вероятность выпадения черного поля 5 из 7 раз:  0.1509\n",
      "В 7-ом опыте выпало:\n",
      "  красное поле  32\n",
      "  Вероятность выпадения красного поля 2 из 7 раз:  0.17747\n"
     ]
    }
   ],
   "source": [
    "monte_carlo(7)"
   ]
  },
  {
   "cell_type": "markdown",
   "id": "388a7579-459d-4537-95c5-05c1386cb582",
   "metadata": {},
   "source": [
    "## Задача 4."
   ]
  },
  {
   "cell_type": "markdown",
   "id": "567c0e1a-de82-4feb-a295-ea435d09f35b",
   "metadata": {},
   "source": [
    "(не обязательно, но желательно) Из урока по комбинаторике повторите расчеты, сгенерировав возможные варианты перестановок для других значений n и k\n"
   ]
  },
  {
   "cell_type": "markdown",
   "id": "ee9e38cf-6c56-47e6-856f-e1c229b0075f",
   "metadata": {},
   "source": [
    "#### Решение"
   ]
  },
  {
   "cell_type": "code",
   "execution_count": 32,
   "id": "8625a547-ca01-419b-a6b5-ded95b6f89ce",
   "metadata": {},
   "outputs": [
    {
     "name": "stdout",
     "output_type": "stream",
     "text": [
      "12\n",
      "13\n",
      "21\n",
      "23\n",
      "31\n",
      "32\n"
     ]
    }
   ],
   "source": [
    "import itertools\n",
    "for p in itertools.permutations(\"123\", 2):\n",
    "    print(''.join(str(x) for x in p))"
   ]
  },
  {
   "cell_type": "markdown",
   "id": "e80154e2-427b-4e20-8c6e-134cf7f3e35a",
   "metadata": {},
   "source": [
    "## Задача 5."
   ]
  },
  {
   "cell_type": "markdown",
   "id": "b99c6560-c557-4d4c-b822-e2728eeadbc7",
   "metadata": {},
   "source": [
    "Дополните код расчетом коэффициента корреляции x и y по формуле \n",
    "\n",
    "$R=\\frac{\\sum{(x_i-x_m)(y_i-y_m)}}{\\sqrt{\\sum{(x_i-x_m)^2}\\sum{(y_i-y_m)^2}}} $"
   ]
  },
  {
   "cell_type": "markdown",
   "id": "e30f81fe-7523-4d6b-bd47-3682ca69dc7d",
   "metadata": {},
   "source": [
    "#### Решение"
   ]
  },
  {
   "cell_type": "code",
   "execution_count": 33,
   "id": "d1f5baab-3366-4e5e-8ccc-8cd6e14951cd",
   "metadata": {},
   "outputs": [
    {
     "data": {
      "image/png": "[encoded data removed]",
      "text/plain": [
       "<Figure size 432x288 with 1 Axes>"
      ]
     },
     "metadata": {
      "needs_background": "light"
     },
     "output_type": "display_data"
    },
    {
     "name": "stdout",
     "output_type": "stream",
     "text": [
      "0.9713517852618808\n"
     ]
    }
   ],
   "source": [
    "n = 1000\n",
    "r = 0.8\n",
    "x = np.random.rand(n)\n",
    "y = r*x + (1 - r)*np.random.rand(n)\n",
    "plt.plot(x, y, 'o')\n",
    "plt.xlabel('x')\n",
    "plt.ylabel('y')\n",
    "plt.grid(True)\n",
    "plt.show()\n",
    "xm = np.sum(x)/n\n",
    "ym = np.sum(y)/n\n",
    "x1 = x - xm\n",
    "y1 = y - ym\n",
    "Rxy = np.sum(x1 * y1)/np.sqrt(np.sum(x1 * x1) * np.sum(y1 * y1))\n",
    "print(Rxy)"
   ]
  },
  {
   "cell_type": "code",
   "execution_count": null,
   "id": "4cee327a-2f56-4780-9874-de888ae2b59b",
   "metadata": {},
   "outputs": [],
   "source": []
  }
 ],
 "metadata": {
  "kernelspec": {
   "display_name": "Python 3",
   "language": "python",
   "name": "python3"
  },
  "language_info": {
   "codemirror_mode": {
    "name": "ipython",
    "version": 3
   },
   "file_extension": ".py",
   "mimetype": "text/x-python",
   "name": "python",
   "nbconvert_exporter": "python",
   "pygments_lexer": "ipython3",
   "version": "3.9.4"
  }
 },
 "nbformat": 4,
 "nbformat_minor": 5
}

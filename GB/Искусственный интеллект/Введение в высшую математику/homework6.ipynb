{
 "cells": [
  {
   "cell_type": "markdown",
   "id": "ab85fde9-a7e7-4bc3-8a6b-4632067345e9",
   "metadata": {},
   "source": [
    "## Задача 1."
   ]
  },
  {
   "cell_type": "markdown",
   "id": "ae7be77b-4aa1-4b00-acef-16d74ea83ad8",
   "metadata": {},
   "source": [
    "(теорема сложения)\n",
    "Найти вероятность выпадения 2 или 5 очков при подбрасывании игральной кости, на гранях которой имеются соответственно 1,2,3,4,5 и 6 очков.\n"
   ]
  },
  {
   "cell_type": "markdown",
   "id": "275a2858-cf91-47cd-8445-87516af285b4",
   "metadata": {},
   "source": [
    "#### Решение"
   ]
  },
  {
   "cell_type": "markdown",
   "id": "51ec2274-2fea-496a-86a0-36213f8982d7",
   "metadata": {},
   "source": [
    "Вероятность выпадения одного числа -  $\\displaystyle P=\\frac{1}{6}$, соответственно вероятность выпадения одного из двух чисел - в два раза больше, их вероятности складываются $\\displaystyle \\Rightarrow P=\\frac{1}{6}+\\frac{1}{6}=\\frac{1}{3}$"
   ]
  },
  {
   "cell_type": "code",
   "execution_count": null,
   "id": "0d1ed0ce-1c9f-48ce-9716-201422989dc1",
   "metadata": {},
   "outputs": [],
   "source": []
  },
  {
   "cell_type": "markdown",
   "id": "8356f4f3-f35b-424e-b83c-9bb31b69c373",
   "metadata": {},
   "source": [
    "## Задача 2."
   ]
  },
  {
   "cell_type": "markdown",
   "id": "a6026729-dd97-4238-b2de-64360d4d9f7c",
   "metadata": {},
   "source": [
    "(теорема умножения)\n",
    "Найти вероятность того, что при двух подбрасываниях той же самой игральной кости сначала выпадет 2, а затем 5.\n"
   ]
  },
  {
   "cell_type": "markdown",
   "id": "708959db-6e5c-4175-832a-a96290d925b6",
   "metadata": {},
   "source": [
    "#### Решение"
   ]
  },
  {
   "cell_type": "markdown",
   "id": "0c5c3221-1c1d-439d-a1a2-3be60193ef8b",
   "metadata": {},
   "source": [
    "Важен порядок - вероятности перемножаются: $\\displaystyle P = \\frac{1}{6}\\cdot\\frac{1}{6}=\\frac{1}{36}$"
   ]
  },
  {
   "cell_type": "code",
   "execution_count": null,
   "id": "32c135b1-aa7d-477f-8736-5fc70bcd0ba8",
   "metadata": {},
   "outputs": [],
   "source": []
  },
  {
   "cell_type": "markdown",
   "id": "959bc8f1-bdd6-4b3c-afb5-d430c2e4574f",
   "metadata": {},
   "source": [
    "## Задача 3. \n"
   ]
  },
  {
   "cell_type": "markdown",
   "id": "1e3fc504-4662-471b-847c-994382a4509c",
   "metadata": {},
   "source": [
    "Найти вероятность выпадения 2 и 5 очков при двух подбрасываниях той же самой игральной игральной кости. Обратите внимание на порядок выпадения костей!\n"
   ]
  },
  {
   "cell_type": "markdown",
   "id": "46e4e23e-0498-4cee-a2fe-13cf0e4cad35",
   "metadata": {},
   "source": [
    "#### Решение"
   ]
  },
  {
   "cell_type": "markdown",
   "id": "0ecdd2bf-a360-4db1-b1c6-4ee6e866bb1c",
   "metadata": {},
   "source": [
    "Условию удовлетворяют два исхода (2, 5) и (5, 2), тогда вероятность в два раза больше чем в предыдущей задаче: $\\displaystyle P = 2\\cdot\\frac{1}{36}=\\frac{1}{18}$"
   ]
  },
  {
   "cell_type": "markdown",
   "id": "388a7579-459d-4537-95c5-05c1386cb582",
   "metadata": {},
   "source": [
    "## Задача 4."
   ]
  },
  {
   "cell_type": "markdown",
   "id": "567c0e1a-de82-4feb-a295-ea435d09f35b",
   "metadata": {},
   "source": [
    "(Геометрическая вероятность +интервалы)\n",
    "\n",
    "На отрезке AB длиной 20 см наугад отметили точку C. Какова вероятность, что она находится на расстоянии не более 9 см от точки А и не более 15 см от точки В?\n"
   ]
  },
  {
   "cell_type": "markdown",
   "id": "ee9e38cf-6c56-47e6-856f-e1c229b0075f",
   "metadata": {},
   "source": [
    "#### Решение"
   ]
  },
  {
   "cell_type": "markdown",
   "id": "53a46dfd-cdac-4dc9-84cf-161183a325bd",
   "metadata": {},
   "source": [
    "Искомый интервал, удовлетворяющий условию, будет равен 4 см (9+15-20). Следовательно вероятность попадения в этот отрезок равна 4/20 или 0.2."
   ]
  },
  {
   "cell_type": "markdown",
   "id": "e80154e2-427b-4e20-8c6e-134cf7f3e35a",
   "metadata": {},
   "source": [
    "## Задача 5."
   ]
  },
  {
   "cell_type": "markdown",
   "id": "b99c6560-c557-4d4c-b822-e2728eeadbc7",
   "metadata": {},
   "source": [
    "Телефонный номер состоит из 7 цифр. Какова вероятность, \n",
    "что это номер 8882227?\n"
   ]
  },
  {
   "cell_type": "markdown",
   "id": "e30f81fe-7523-4d6b-bd47-3682ca69dc7d",
   "metadata": {},
   "source": [
    "#### Решение"
   ]
  },
  {
   "cell_type": "markdown",
   "id": "0d567599-5483-414a-a870-df22eb632754",
   "metadata": {},
   "source": [
    "Будем считать, что на любом месте может находиться цифры от 0 до 9, тогда вероятность 8 на первом месте равна 0.1, вероятность 8 на втором месте равна 0.1 и т. д. Вероятность такого номера $\\frac{1}{10^7}$"
   ]
  },
  {
   "cell_type": "markdown",
   "id": "a9a3dca3-fc39-4b74-94f0-46daa5e94021",
   "metadata": {},
   "source": [
    "## Задача 6."
   ]
  },
  {
   "cell_type": "markdown",
   "id": "3e877499-92f1-4003-873e-d1a8e7cca393",
   "metadata": {},
   "source": [
    "Набирая номер телефона, абонент забыл 2 последние цифры, и, помня только то, что эти цифры различны и среди них нет нуля, стал набирать их наудачу. Сколько вариантов ему надо перебрать, чтобы наверняка найти нужный номер? Какова вероятность того, что он угадает номер с первого раза?"
   ]
  },
  {
   "cell_type": "markdown",
   "id": "3dc3d809-f5f7-4cfd-b491-bbd1a822f07e",
   "metadata": {},
   "source": [
    "#### Решение"
   ]
  },
  {
   "cell_type": "markdown",
   "id": "b370801b-f072-4556-993f-8e7720152df0",
   "metadata": {},
   "source": [
    "Вариантов исхода 9*8. Вероятность отгадать с первого раза 1/72"
   ]
  },
  {
   "cell_type": "code",
   "execution_count": null,
   "id": "7de5eb79-a573-403b-8b28-113861f49867",
   "metadata": {},
   "outputs": [],
   "source": []
  }
 ],
 "metadata": {
  "kernelspec": {
   "display_name": "Python 3",
   "language": "python",
   "name": "python3"
  },
  "language_info": {
   "codemirror_mode": {
    "name": "ipython",
    "version": 3
   },
   "file_extension": ".py",
   "mimetype": "text/x-python",
   "name": "python",
   "nbconvert_exporter": "python",
   "pygments_lexer": "ipython3",
   "version": "3.9.4"
  }
 },
 "nbformat": 4,
 "nbformat_minor": 5
}

{
 "cells": [
  {
   "cell_type": "markdown",
   "id": "ab85fde9-a7e7-4bc3-8a6b-4632067345e9",
   "metadata": {},
   "source": [
    "## Задача 1."
   ]
  },
  {
   "cell_type": "markdown",
   "id": "f634fe92-9e94-4e90-8c95-cb120cf0d4f2",
   "metadata": {},
   "source": [
    " Вычислить: \n",
    " \n",
    "$ 7 \\cdot \\begin{bmatrix} \n",
    "5 & 10 \\\\\n",
    "7 & 12 \\\\\n",
    "11.3 & 5 \\\\\n",
    "25 & 30\n",
    "\\end{bmatrix} + 2 \\cdot \\begin{bmatrix}\n",
    "5 & 10 \\\\\n",
    "7 & 12 \\\\\n",
    "11.3 & 5 \\\\\n",
    "25 & 30\n",
    "\\end{bmatrix}$"
   ]
  },
  {
   "cell_type": "markdown",
   "id": "275a2858-cf91-47cd-8445-87516af285b4",
   "metadata": {},
   "source": [
    "#### Решение"
   ]
  },
  {
   "cell_type": "markdown",
   "id": "247ca669-1494-404b-a6f2-56bb0d0c109a",
   "metadata": {},
   "source": [
    "$7 \\cdot \\begin{bmatrix} \n",
    "5 & 10 \\\\\n",
    "7 & 12 \\\\\n",
    "11.3 & 5 \\\\\n",
    "25 & 30\n",
    "\\end{bmatrix} + 2 \\cdot \\begin{bmatrix}\n",
    "5 & 10 \\\\\n",
    "7 & 12 \\\\\n",
    "11.3 & 5 \\\\\n",
    "25 & 30\n",
    "\\end{bmatrix} = (7 + 2) \\cdot \\begin{bmatrix}\n",
    "5 & 10 \\\\\n",
    "7 & 12 \\\\\n",
    "11.3 & 5 \\\\\n",
    "25 & 30\n",
    "\\end{bmatrix} = 9 \\cdot \\begin{bmatrix}\n",
    "5 & 10 \\\\\n",
    "7 & 12 \\\\\n",
    "11.3 & 5 \\\\\n",
    "25 & 30\n",
    "\\end{bmatrix} = \\begin{bmatrix}\n",
    "45 & 90 \\\\\n",
    "63 & 108 \\\\\n",
    "101.7 & 45 \\\\\n",
    "225 & 270\n",
    "\\end{bmatrix}$"
   ]
  },
  {
   "cell_type": "markdown",
   "id": "8356f4f3-f35b-424e-b83c-9bb31b69c373",
   "metadata": {},
   "source": [
    "## Задача 2."
   ]
  },
  {
   "cell_type": "markdown",
   "id": "60b4aa61-9253-45de-94c4-465a2161f19f",
   "metadata": {},
   "source": [
    "Решить систему уравнений:\n",
    "\n",
    "$\n",
    "3x - 2y + 5z = 7\\\\\n",
    "7x + 4y - 8z = 3\\\\\n",
    "5x - 3y - 4z = -12\n",
    "$\n",
    "\n",
    "Линейная или нелинейная это система?\n",
    "\n",
    "А каждое уравнение по отдельности?"
   ]
  },
  {
   "cell_type": "markdown",
   "id": "708959db-6e5c-4175-832a-a96290d925b6",
   "metadata": {},
   "source": [
    "#### Решение"
   ]
  },
  {
   "cell_type": "code",
   "execution_count": 1,
   "id": "e1fddf02-b895-429c-a4e6-84f9c39d0bff",
   "metadata": {},
   "outputs": [
    {
     "data": {
      "text/plain": [
       "(array([[ 3., -2.,  5.],\n",
       "        [ 7.,  4., -8.],\n",
       "        [ 5., -3., -4.]]),\n",
       " array([[1.],\n",
       "        [3.],\n",
       "        [2.]]))"
      ]
     },
     "execution_count": 1,
     "metadata": {},
     "output_type": "execute_result"
    }
   ],
   "source": [
    "import numpy as np\n",
    "A = np.array([[3., -2., 5.], [7., 4., -8.], [5., -3., -4.]])\n",
    "v = np.array([[7], [3], [-12]])\n",
    "np.linalg.det(A)\n",
    "solv = np.linalg.solve(A, v)\n",
    "A, solv"
   ]
  },
  {
   "cell_type": "markdown",
   "id": "8d79130c-44ee-4cd8-aed3-eaad5e686e47",
   "metadata": {},
   "source": [
    "Решение: $x = 1, y = 3, z = 2$\n",
    "\n",
    "Это линейная система\n",
    "\n",
    "Каждое уравнение линейно"
   ]
  },
  {
   "cell_type": "markdown",
   "id": "959bc8f1-bdd6-4b3c-afb5-d430c2e4574f",
   "metadata": {},
   "source": [
    "## Задача 3. \n"
   ]
  },
  {
   "cell_type": "markdown",
   "id": "343dd5f4-40da-472d-b8ea-119683f04fb9",
   "metadata": {},
   "source": [
    "Решить систему уравнений:\n",
    "\n",
    "$\n",
    "x^2 + y\\cdot x - 9 = 0\\\\\n",
    "x - y/5 = 0\n",
    "$\n",
    "\n",
    "Линейная или нелинейная это система? \n",
    "\n",
    "А каждое уравнение по отдельности?\n"
   ]
  },
  {
   "cell_type": "markdown",
   "id": "30d435e8-f687-4293-9c37-2fa8cacf9700",
   "metadata": {},
   "source": [
    "#### Решение"
   ]
  },
  {
   "cell_type": "markdown",
   "id": "cf459636-89d3-4cac-af85-5df5aaaa0344",
   "metadata": {},
   "source": [
    "Решение: $ x = \\frac{y}{5},  y = {5}{x} \\\\\n",
    "\\frac{y^2}{25} + \\frac{y^2}{5} = 9 \\Rightarrow y^2 + {5}y^2 = 225 \\Rightarrow y = \\frac{15}{\\sqrt{6}} \\Rightarrow x = \\frac{3}{\\sqrt{6}}$\n",
    "\n",
    "Это нелинейная система\n",
    "\n",
    "Первое уравнение нелинейно, второе - линейно"
   ]
  },
  {
   "cell_type": "markdown",
   "id": "388a7579-459d-4537-95c5-05c1386cb582",
   "metadata": {},
   "source": [
    "## Задача 4."
   ]
  },
  {
   "cell_type": "markdown",
   "id": "15cca75d-52a8-4233-a3c9-29d514502d42",
   "metadata": {},
   "source": [
    " Решить задачу:\n",
    " \n",
    " Площадь пола прямоугольной комнаты равна 48 м2,а его периметр равен 28 м. Найдите длину и ширину комнаты."
   ]
  },
  {
   "cell_type": "markdown",
   "id": "7d8f3827-ee60-4818-b5ef-712b55edfa2b",
   "metadata": {},
   "source": [
    "#### Решение"
   ]
  },
  {
   "cell_type": "markdown",
   "id": "e84fbdf9-01ca-4610-a611-ef8bcf9b8e0c",
   "metadata": {},
   "source": [
    "$2x + 2y = 28\\\\\n",
    "x * y = 48\\\\\n",
    "x = 14 - y\\\\\n",
    "(14 - y) * y = 48 \\rightarrow y^2 - 14y + 48 = 0\\\\\n",
    "D = 4\\\\\n",
    "y1 = 6, y2 = 8\n",
    "$"
   ]
  },
  {
   "cell_type": "markdown",
   "id": "f267c17b-d968-4c76-8a0d-342ea7c367f9",
   "metadata": {},
   "source": [
    "Длина и ширина раны 8 и 6"
   ]
  },
  {
   "cell_type": "markdown",
   "id": "bb68bcab-ca24-4a02-9f9b-0f4c23b0504a",
   "metadata": {},
   "source": [
    "## Задача 5. "
   ]
  },
  {
   "cell_type": "markdown",
   "id": "89427c67-a323-4423-b557-1fc6ed0ea384",
   "metadata": {},
   "source": [
    "Постройте на одном графике две кривые y(x) для функции двух переменной y(k,x)=cos(k∙x), взяв для одной кривой значение k=1, а для другой – любое другое k, не равное 1."
   ]
  },
  {
   "cell_type": "markdown",
   "id": "7ebc64a0-99f2-41ac-95c1-668176ca71cb",
   "metadata": {},
   "source": [
    "#### Решение"
   ]
  },
  {
   "cell_type": "code",
   "execution_count": 2,
   "id": "0c1968d1-378b-4b21-92d8-2fc7ebf2cdff",
   "metadata": {},
   "outputs": [
    {
     "data": {
      "image/png": "[encoded data removed]",
      "text/plain": [
       "<Figure size 432x288 with 1 Axes>"
      ]
     },
     "metadata": {
      "needs_background": "light"
     },
     "output_type": "display_data"
    }
   ],
   "source": [
    "%matplotlib inline\n",
    "import matplotlib.pyplot as plt\n",
    "\n",
    "k1 = 1\n",
    "k2 = 1.5\n",
    "\n",
    "x = np.linspace(-2*np.pi, 2*np.pi, 201)\n",
    "plt.plot(x, np.cos(k1*x), x, np.cos(k2*x))\n",
    "plt.xlabel('x')\n",
    "plt.ylabel('y')\n",
    "plt.show()"
   ]
  },
  {
   "cell_type": "code",
   "execution_count": null,
   "id": "de5953ad-ffe3-42d7-939e-84c3f5913354",
   "metadata": {},
   "outputs": [],
   "source": []
  },
  {
   "cell_type": "code",
   "execution_count": null,
   "id": "9bbdfd33-b7b5-45ad-bb72-61fb107b4210",
   "metadata": {},
   "outputs": [],
   "source": []
  },
  {
   "cell_type": "code",
   "execution_count": null,
   "id": "d602c44c-5d3a-4880-9947-5b6e39d6f816",
   "metadata": {},
   "outputs": [],
   "source": []
  }
 ],
 "metadata": {
  "kernelspec": {
   "display_name": "Python 3",
   "language": "python",
   "name": "python3"
  },
  "language_info": {
   "codemirror_mode": {
    "name": "ipython",
    "version": 3
   },
   "file_extension": ".py",
   "mimetype": "text/x-python",
   "name": "python",
   "nbconvert_exporter": "python",
   "pygments_lexer": "ipython3",
   "version": "3.9.4"
  }
 },
 "nbformat": 4,
 "nbformat_minor": 5
}

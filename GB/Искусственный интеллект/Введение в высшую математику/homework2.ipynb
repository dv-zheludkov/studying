{
 "cells": [
  {
   "cell_type": "markdown",
   "id": "ab85fde9-a7e7-4bc3-8a6b-4632067345e9",
   "metadata": {},
   "source": [
    "## Задача 1."
   ]
  },
  {
   "cell_type": "markdown",
   "id": "ae7be77b-4aa1-4b00-acef-16d74ea83ad8",
   "metadata": {},
   "source": [
    "Напишите уравнение параболы, проходящей через три точки (x,y):\n",
    "(1,2), (3,10), (5,1)\n"
   ]
  },
  {
   "cell_type": "markdown",
   "id": "275a2858-cf91-47cd-8445-87516af285b4",
   "metadata": {},
   "source": [
    "#### Решение"
   ]
  },
  {
   "cell_type": "markdown",
   "id": "4b4169ca-47d6-4427-a8cd-a9465ee9db94",
   "metadata": {},
   "source": [
    "$\n",
    "a + b + c = 2\\\\\n",
    "9a + 3b + c = 10\\\\\n",
    "25a + 5b + c = 1\n",
    "$"
   ]
  },
  {
   "cell_type": "code",
   "execution_count": 2,
   "id": "b5973631-a184-462c-ba51-428ada6d0e82",
   "metadata": {},
   "outputs": [
    {
     "name": "stdout",
     "output_type": "stream",
     "text": [
      "[[-2.125]\n",
      " [12.5  ]\n",
      " [-8.375]]\n"
     ]
    }
   ],
   "source": [
    "import numpy as np\n",
    "A = np.array([[1., 1., 1.], [9., 3., 1.], [25., 5., 1.]])\n",
    "v = np.array([[2], [10], [1]])\n",
    "np.linalg.det(A)\n",
    "solv = np.linalg.solve(A, v)\n",
    "print(solv)"
   ]
  },
  {
   "cell_type": "markdown",
   "id": "75642124-fff1-4cf3-9ecb-c65b0ea4c07a",
   "metadata": {},
   "source": [
    "$-2.125x^2+12.5x-8.375=y$"
   ]
  },
  {
   "cell_type": "markdown",
   "id": "8356f4f3-f35b-424e-b83c-9bb31b69c373",
   "metadata": {},
   "source": [
    "## Задача 2."
   ]
  },
  {
   "cell_type": "markdown",
   "id": "c1acf041-5b06-4165-8738-cfe1ab7e4a8c",
   "metadata": {},
   "source": [
    "Известно, что свежий огурец на 99% состоит из воды. Месяц назад взвесили мешок со свежими огурцами. Получилось, что мешок весил ровно 100 кг. Мешок убрали, а через месяц снова взвесили. Огурцы за это время усохли, и теперь вода составляет уже только 98% их веса. Сколько теперь (в кг) весят огурцы?"
   ]
  },
  {
   "cell_type": "markdown",
   "id": "708959db-6e5c-4175-832a-a96290d925b6",
   "metadata": {},
   "source": [
    "#### Решение"
   ]
  },
  {
   "cell_type": "code",
   "execution_count": 14,
   "id": "6914ece2-1a85-4b31-bc61-bd5856c9a1e1",
   "metadata": {},
   "outputs": [
    {
     "name": "stdout",
     "output_type": "stream",
     "text": [
      "Общая масса через месяц:  50 кг\n"
     ]
    }
   ],
   "source": [
    "y = (100*0.01) / 2 * 100\n",
    "print(\"Общая масса через месяц: \", round(y), \"кг\")"
   ]
  },
  {
   "cell_type": "markdown",
   "id": "959bc8f1-bdd6-4b3c-afb5-d430c2e4574f",
   "metadata": {},
   "source": [
    "## Задача 3. \n"
   ]
  },
  {
   "cell_type": "markdown",
   "id": "30d435e8-f687-4293-9c37-2fa8cacf9700",
   "metadata": {},
   "source": [
    "### 3.1 \n",
    "$2^x = 256$"
   ]
  },
  {
   "cell_type": "markdown",
   "id": "f384093b-f935-417a-aea6-7c047e138e1b",
   "metadata": {},
   "source": [
    "$x = \\log_2{256} = \\log_2{2^8}=8$"
   ]
  },
  {
   "cell_type": "markdown",
   "id": "bd2fdc74-8a27-46a2-8c5e-6c5a408abb6e",
   "metadata": {},
   "source": [
    "### 3.2 \n",
    "$2^x=300$"
   ]
  },
  {
   "cell_type": "markdown",
   "id": "45162754-7c23-4ff7-9016-f82d183ea497",
   "metadata": {},
   "source": [
    "$x = \\log_2{300}=\\log_22^2+\\log_2{75}=2+\\log_2{5^2 \\cdot 3}=2(1+\\log_25)+\\log_23$"
   ]
  },
  {
   "cell_type": "markdown",
   "id": "23f17415-5879-4a92-a8a1-9aee411b7c1b",
   "metadata": {},
   "source": [
    "### 3.3 \n",
    "$\\log_82^{8x-4}=4$"
   ]
  },
  {
   "cell_type": "markdown",
   "id": "0dbe2a1f-d065-42ca-8bf9-03955475a20d",
   "metadata": {},
   "source": [
    "$\\log_8{2^{(8x-4)}}=(8x-4)\\log_8{2}=(8x-4)\\log_{2^3}{2}=(8x-4)\\frac{1}{3}\\log_22=4\\\\ 8x-4=12 \\\\ x = 2$"
   ]
  },
  {
   "cell_type": "markdown",
   "id": "b6bdf2e5-beb3-4fd4-86d5-4d3da19e530d",
   "metadata": {},
   "source": [
    "### 3.4 \n",
    "$3^{\\log_9(5x-5)}=5$"
   ]
  },
  {
   "cell_type": "markdown",
   "id": "ea22236e-3175-4cc7-bd2c-b544ffe8d07c",
   "metadata": {},
   "source": [
    "$3^{\\log_9{(5x-5)}}=(5x-5)\\log_9{3}=\\sqrt{5x-5}=5\\\\ \n",
    "5x-5=25 \\\\ \n",
    "x =6$"
   ]
  },
  {
   "cell_type": "markdown",
   "id": "57d5f318-686a-47b2-a58c-2f824495c399",
   "metadata": {},
   "source": [
    "### 3.5 \n",
    "$x^{\\log_3{x+1}}=9$"
   ]
  },
  {
   "cell_type": "markdown",
   "id": "624bca29-36fe-4dc0-9fe9-3c24d8aa3d11",
   "metadata": {},
   "source": [
    "$x^{\\log_3x+1}=x \\cdot x^{\\log_3x}=3^2 \\\\\n",
    "x =3$"
   ]
  },
  {
   "cell_type": "markdown",
   "id": "388a7579-459d-4537-95c5-05c1386cb582",
   "metadata": {},
   "source": [
    "## Задача 4."
   ]
  },
  {
   "cell_type": "markdown",
   "id": "93a9e251-2972-43b0-888f-363405ad7504",
   "metadata": {},
   "source": [
    "Вычислить:"
   ]
  },
  {
   "cell_type": "markdown",
   "id": "79800e31-24e5-41c8-90d2-6804ca12b514",
   "metadata": {},
   "source": [
    "$\\log_4{16}=\\log_4{4^2}=2$"
   ]
  },
  {
   "cell_type": "markdown",
   "id": "cb80663a-117a-4fa4-83e9-6b56e438657d",
   "metadata": {},
   "source": [
    "$ \\log_{5}\\frac{1}{25}=\\log_5{5^{-2}}=-2$"
   ]
  },
  {
   "cell_type": "markdown",
   "id": "75eccca5-597c-4cd7-91ac-85cc3018cfde",
   "metadata": {},
   "source": [
    "$ \\log_{25}{5}=\\log_{5^2}5=\\frac{1}{2}$"
   ]
  },
  {
   "cell_type": "markdown",
   "id": "2455e549-0d73-4d53-9b7f-89dcf4102b8c",
   "metadata": {},
   "source": [
    "$ \\log_3{\\sqrt{27}}=\\log_3{3^{\\frac{3}{2}}}=\\frac{3}{2}$"
   ]
  },
  {
   "cell_type": "markdown",
   "id": "beb0b054-728b-49e9-8847-1fb82a3a32b1",
   "metadata": {},
   "source": [
    "$\\log_2{12}-\\log_2{3} = \\log_2{\\frac{12}{3}}=\\log_24=2$"
   ]
  },
  {
   "cell_type": "markdown",
   "id": "dacf5c56-9b0e-44b5-98cd-ecf62b11be89",
   "metadata": {},
   "source": [
    "$\\log_6{12}+\\log_6{3} = \\log_6(12 \\cdot 3) = \\log_636 = \\log_6{6^2}=2$"
   ]
  },
  {
   "cell_type": "markdown",
   "id": "7276c444-4bf7-41ae-a115-53c81320d8eb",
   "metadata": {},
   "source": [
    "$e^{\\ln5}=5^{\\ln e}=5$"
   ]
  },
  {
   "cell_type": "markdown",
   "id": "fbc428de-0340-4de4-9fbd-38ae38dd3ec1",
   "metadata": {},
   "source": [
    "$\\frac{\\log_2{225}}{\\log_2{15}}=\\frac{\\log_2{15^2}}{\\log_2{15}}=\\frac{2\\log_2{15}}{\\log_2{15}}=2$"
   ]
  },
  {
   "cell_type": "markdown",
   "id": "6f219a94-98de-46df-93f8-53bd8cac29d0",
   "metadata": {},
   "source": [
    "$\\log_4{32}+\\log_{0.1}{10} =\\log_{2^2}{2^5}+\\log_{10^{-1}}{10}=\\frac{5}{2}+\\frac{1}{(-1)}=\\frac{3}{2}$"
   ]
  },
  {
   "cell_type": "markdown",
   "id": "02f2d91d-2822-4321-a2ae-dcc19888736b",
   "metadata": {},
   "source": [
    "$9^{\\log_3{\\sqrt{5}}}=\\sqrt{5}^{\\log_3{9}}=5$"
   ]
  },
  {
   "cell_type": "code",
   "execution_count": null,
   "id": "01fdcd50-80b5-4728-8484-3953adb3c058",
   "metadata": {},
   "outputs": [],
   "source": []
  }
 ],
 "metadata": {
  "kernelspec": {
   "display_name": "Python 3",
   "language": "python",
   "name": "python3"
  },
  "language_info": {
   "codemirror_mode": {
    "name": "ipython",
    "version": 3
   },
   "file_extension": ".py",
   "mimetype": "text/x-python",
   "name": "python",
   "nbconvert_exporter": "python",
   "pygments_lexer": "ipython3",
   "version": "3.9.4"
  }
 },
 "nbformat": 4,
 "nbformat_minor": 5
}

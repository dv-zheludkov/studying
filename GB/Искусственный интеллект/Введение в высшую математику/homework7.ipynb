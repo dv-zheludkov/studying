{
 "cells": [
  {
   "cell_type": "code",
   "execution_count": 1,
   "id": "0d1ed0ce-1c9f-48ce-9716-201422989dc1",
   "metadata": {},
   "outputs": [],
   "source": [
    "import numpy as np\n",
    "import scipy\n",
    "import scipy.linalg\n",
    "import scipy.optimize\n",
    "import matplotlib.pyplot as plt\n",
    "%matplotlib inline\n"
   ]
  },
  {
   "cell_type": "markdown",
   "id": "ab85fde9-a7e7-4bc3-8a6b-4632067345e9",
   "metadata": {},
   "source": [
    "## Задача 1."
   ]
  },
  {
   "cell_type": "markdown",
   "id": "ae7be77b-4aa1-4b00-acef-16d74ea83ad8",
   "metadata": {},
   "source": [
    "Вектор – это частный случай матрицы 1хN и Nх1. Повторите материал для векторов, уделяя особое внимание умножению A∙B.\n"
   ]
  },
  {
   "cell_type": "markdown",
   "id": "275a2858-cf91-47cd-8445-87516af285b4",
   "metadata": {},
   "source": [
    "#### Решение"
   ]
  },
  {
   "cell_type": "code",
   "execution_count": 2,
   "id": "87584d6d-17c8-4e3b-8476-d2e98c88c285",
   "metadata": {},
   "outputs": [
    {
     "name": "stdout",
     "output_type": "stream",
     "text": [
      "скалярное произведение -  65.0\n",
      "векторное произведение -  [-4.  8. -4.]\n",
      "смешанное произведение -  88.0\n"
     ]
    }
   ],
   "source": [
    "a = np.array([2, 3, 4], float)\n",
    "b = np.array([6, 7, 8], float)\n",
    "c = np.array([9, 10, -11], float)\n",
    "print(\"скалярное произведение - \",np.dot(a, b))\n",
    "print(\"векторное произведение - \",np.cross(a, b))\n",
    "print(\"смешанное произведение - \",np.dot(c, (np.cross(a, b))))"
   ]
  },
  {
   "cell_type": "markdown",
   "id": "8356f4f3-f35b-424e-b83c-9bb31b69c373",
   "metadata": {},
   "source": [
    "## Задача 2."
   ]
  },
  {
   "cell_type": "markdown",
   "id": "a6026729-dd97-4238-b2de-64360d4d9f7c",
   "metadata": {},
   "source": [
    "Вычислите, по возможности, не используя программирование: \n",
    "\n",
    "(5Е)-1. \n",
    "\n",
    "Е – единичная матрица размера 5х5.\n"
   ]
  },
  {
   "cell_type": "markdown",
   "id": "708959db-6e5c-4175-832a-a96290d925b6",
   "metadata": {},
   "source": [
    "#### Решение"
   ]
  },
  {
   "cell_type": "code",
   "execution_count": 3,
   "id": "c7918f0a-d198-45a2-b537-a3a632dfa4ec",
   "metadata": {},
   "outputs": [
    {
     "name": "stdout",
     "output_type": "stream",
     "text": [
      "[[1. 0. 0. 0. 0.]\n",
      " [0. 1. 0. 0. 0.]\n",
      " [0. 0. 1. 0. 0.]\n",
      " [0. 0. 0. 1. 0.]\n",
      " [0. 0. 0. 0. 1.]]\n",
      "[[5. 0. 0. 0. 0.]\n",
      " [0. 5. 0. 0. 0.]\n",
      " [0. 0. 5. 0. 0.]\n",
      " [0. 0. 0. 5. 0.]\n",
      " [0. 0. 0. 0. 5.]]\n",
      "[[0.2 0.  0.  0.  0. ]\n",
      " [0.  0.2 0.  0.  0. ]\n",
      " [0.  0.  0.2 0.  0. ]\n",
      " [0.  0.  0.  0.2 0. ]\n",
      " [0.  0.  0.  0.  0.2]]\n",
      "Проверка:\n",
      " [[1. 0. 0. 0. 0.]\n",
      " [0. 1. 0. 0. 0.]\n",
      " [0. 0. 1. 0. 0.]\n",
      " [0. 0. 0. 1. 0.]\n",
      " [0. 0. 0. 0. 1.]]\n"
     ]
    }
   ],
   "source": [
    "E = np.eye(5)\n",
    "A = 5*E\n",
    "A_inv = np.linalg.inv(A)\n",
    "print(E)\n",
    "print(A)\n",
    "print(A_inv)\n",
    "print(\"Проверка:\\n\",np.round(np.dot(A, A_inv), 0))"
   ]
  },
  {
   "cell_type": "code",
   "execution_count": null,
   "id": "32c135b1-aa7d-477f-8736-5fc70bcd0ba8",
   "metadata": {},
   "outputs": [],
   "source": []
  },
  {
   "cell_type": "markdown",
   "id": "959bc8f1-bdd6-4b3c-afb5-d430c2e4574f",
   "metadata": {},
   "source": [
    "## Задача 3. \n"
   ]
  },
  {
   "cell_type": "markdown",
   "id": "1e3fc504-4662-471b-847c-994382a4509c",
   "metadata": {},
   "source": [
    "Вычислите определитель\n",
    "\n",
    "$\\begin{vmatrix}\n",
    "1 & 2 & 3 \\\\\n",
    "4 & 0 & 6 \\\\\n",
    "7 & 8 & 9\n",
    "\\end{vmatrix}$\n"
   ]
  },
  {
   "cell_type": "markdown",
   "id": "46e4e23e-0498-4cee-a2fe-13cf0e4cad35",
   "metadata": {},
   "source": [
    "#### Решение"
   ]
  },
  {
   "cell_type": "markdown",
   "id": "0ecdd2bf-a360-4db1-b1c6-4ee6e866bb1c",
   "metadata": {},
   "source": [
    "$det \\begin{vmatrix}\n",
    "1 & 2 & 3 \\\\\n",
    "4 & 0 & 6 \\\\\n",
    "7 & 8 & 9\n",
    "\\end{vmatrix} = -4\\cdot \\begin{vmatrix}\n",
    "2 & 3 \\\\\n",
    "8 & 9\n",
    "\\end{vmatrix} + 0 \\cdot \\begin{vmatrix}\n",
    "1 & 3 \\\\\n",
    "7 & 9\n",
    "\\end{vmatrix}\n",
    "- 6 \\cdot \\begin{vmatrix}\n",
    "1 & 2 \\\\\n",
    "7 & 8\n",
    "\\end{vmatrix} = -4\\cdot (2\\cdot 9 - 3 \\cdot 8) - 6\\cdot (1\\cdot 8-2 \\cdot 7)=60$"
   ]
  },
  {
   "cell_type": "code",
   "execution_count": 4,
   "id": "6d52bd51-5e7c-440e-9831-269bc8b417de",
   "metadata": {},
   "outputs": [
    {
     "name": "stdout",
     "output_type": "stream",
     "text": [
      "59.999999999999986\n"
     ]
    }
   ],
   "source": [
    "B = np.array([[1, 2, 3], [4, 0, 6], [7, 8, 9]])\n",
    "print(np.linalg.det(B))"
   ]
  },
  {
   "cell_type": "markdown",
   "id": "388a7579-459d-4537-95c5-05c1386cb582",
   "metadata": {},
   "source": [
    "## Задача 4."
   ]
  },
  {
   "cell_type": "markdown",
   "id": "567c0e1a-de82-4feb-a295-ea435d09f35b",
   "metadata": {},
   "source": [
    "Вычислите матрицу, обратную данной\n",
    "\n",
    "$B = \\begin{vmatrix}\n",
    "1 & 2 & 3 \\\\\n",
    "4 & 0 & 6 \\\\\n",
    "7 & 8 & 9\n",
    "\\end{vmatrix}$"
   ]
  },
  {
   "cell_type": "markdown",
   "id": "ee9e38cf-6c56-47e6-856f-e1c229b0075f",
   "metadata": {},
   "source": [
    "#### Решение"
   ]
  },
  {
   "cell_type": "code",
   "execution_count": 5,
   "id": "70f75bb2-49b0-49f5-b563-47efaf3642ce",
   "metadata": {},
   "outputs": [
    {
     "name": "stdout",
     "output_type": "stream",
     "text": [
      "[[-0.8         0.1         0.2       ]\n",
      " [ 0.1        -0.2         0.1       ]\n",
      " [ 0.53333333  0.1        -0.13333333]]\n",
      "Проверка:\n",
      " [[ 1.  0.  0.]\n",
      " [-0.  1.  0.]\n",
      " [ 0.  0.  1.]]\n"
     ]
    }
   ],
   "source": [
    "B = np.array([[1, 2, 3], [4, 0, 6], [7, 8, 9]])\n",
    "B_inv = np.linalg.inv(B)\n",
    "print(B_inv)\n",
    "print(\"Проверка:\\n\",np.round(np.dot(B, B_inv), 0))"
   ]
  },
  {
   "cell_type": "markdown",
   "id": "e80154e2-427b-4e20-8c6e-134cf7f3e35a",
   "metadata": {},
   "source": [
    "## Задача 5."
   ]
  },
  {
   "cell_type": "markdown",
   "id": "b99c6560-c557-4d4c-b822-e2728eeadbc7",
   "metadata": {},
   "source": [
    "Приведите пример матрицы 4х4, ранг которой равен 1.\n"
   ]
  },
  {
   "cell_type": "markdown",
   "id": "e30f81fe-7523-4d6b-bd47-3682ca69dc7d",
   "metadata": {},
   "source": [
    "#### Решение"
   ]
  },
  {
   "cell_type": "code",
   "execution_count": 6,
   "id": "edd9fbc0-a8d4-4771-be45-fbe0683237ce",
   "metadata": {},
   "outputs": [
    {
     "name": "stdout",
     "output_type": "stream",
     "text": [
      "[[ 1  2  3  4]\n",
      " [ 3  6  9 12]\n",
      " [ 2  4  6  8]\n",
      " [ 5 10 15 20]]\n",
      "Ранг матрицы -  1\n"
     ]
    }
   ],
   "source": [
    "a = np.matrix([[1, 2, 3, 4], [3, 6, 9, 12], [2, 4, 6, 8], [5, 10, 15, 20]])\n",
    "print(a)\n",
    "print(\"Ранг матрицы - \", np.linalg.matrix_rank(a))"
   ]
  },
  {
   "cell_type": "markdown",
   "id": "a9a3dca3-fc39-4b74-94f0-46daa5e94021",
   "metadata": {},
   "source": [
    "## Задача 7."
   ]
  },
  {
   "cell_type": "markdown",
   "id": "3e877499-92f1-4003-873e-d1a8e7cca393",
   "metadata": {},
   "source": [
    "Вычислите скалярное произведение двух векторов: ",
    "\n",
    "(1, 5)  и  (2, 8)"
   ]
  },
  {
   "cell_type": "markdown",
   "id": "3dc3d809-f5f7-4cfd-b491-bbd1a822f07e",
   "metadata": {},
   "source": [
    "#### Решение"
   ]
  },
  {
   "cell_type": "code",
   "execution_count": 7,
   "id": "28446963-0abe-419b-9c20-21f2925aba60",
   "metadata": {},
   "outputs": [
    {
     "name": "stdout",
     "output_type": "stream",
     "text": [
      "Скалярное произведение:  42\n"
     ]
    }
   ],
   "source": [
    "a = np.array([1,5])\n",
    "b = np.array([2,8])\n",
    "print(\"Скалярное произведение: \",np.dot(a, b))"
   ]
  },
  {
   "cell_type": "markdown",
   "id": "541e7038-3686-4b4c-bcca-938cb701f587",
   "metadata": {},
   "source": [
    "## Задача 8."
   ]
  },
  {
   "cell_type": "markdown",
   "id": "58337a8d-940e-4d04-a716-2f4517d40bed",
   "metadata": {},
   "source": [
    "Вычислите смешанное произведение трех векторов: ",
    "\n",
    "(1, 5, 0), (2, 8, 7) и (7, 1.5, 3) "
   ]
  },
  {
   "cell_type": "markdown",
   "id": "61e2245e-a575-4225-b442-f3fd39b6a081",
   "metadata": {},
   "source": [
    "#### Решение"
   ]
  },
  {
   "cell_type": "code",
   "execution_count": 8,
   "id": "6c49eb24-31e4-4e46-834d-f393b32d92f6",
   "metadata": {},
   "outputs": [
    {
     "name": "stdout",
     "output_type": "stream",
     "text": [
      "смешанное произведение -  228.5\n"
     ]
    }
   ],
   "source": [
    "a = np.array([1, 5, 0])\n",
    "b = np.array([2, 8, 7])\n",
    "c = np.array([7, 1.5, 3])\n",
    "print(\"смешанное произведение - \",np.dot(a, (np.cross(b, c))))"
   ]
  },
  {
   "cell_type": "code",
   "execution_count": null,
   "id": "ae2fd76e-ac6e-465d-924c-6513f9accafc",
   "metadata": {},
   "outputs": [],
   "source": []
  },
  {
   "cell_type": "markdown",
   "id": "846d7c19-282f-44c3-9cb2-7bc0a030dde0",
   "metadata": {},
   "source": [
    "## Задача 1."
   ]
  },
  {
   "cell_type": "markdown",
   "id": "5069dec3-6e9e-46fd-aabf-c344c5d49627",
   "metadata": {},
   "source": [
    "Решите линейную систему:\n",
    "\n",
    "$\\begin{bmatrix}\n",
    "1 & 2 & 3 \\\\\n",
    "4 & 0 & 6 \\\\\n",
    "7 & 8 & 9\n",
    "\\end{bmatrix} \\cdot X = \n",
    "\\begin{bmatrix}\n",
    "12 \\\\ 2 \\\\ 1\n",
    "\\end{bmatrix}\n",
    "$"
   ]
  },
  {
   "cell_type": "markdown",
   "id": "f918c0e7-10b1-4b9d-9624-bf6e6607b2fb",
   "metadata": {},
   "source": [
    "#### Решение"
   ]
  },
  {
   "cell_type": "code",
   "execution_count": 9,
   "id": "4d5813e7-0a43-4756-b9d5-5453c8a0c83a",
   "metadata": {},
   "outputs": [
    {
     "name": "stdout",
     "output_type": "stream",
     "text": [
      "Определитель равен:  59.999999999999986\n",
      "[[-9.2       ]\n",
      " [ 0.9       ]\n",
      " [ 6.46666667]]\n"
     ]
    }
   ],
   "source": [
    "A = np.matrix([[1, 2, 3], [4, 0, 6], [7, 8, 9]])\n",
    "B = np.matrix([12, 2, 1]).T\n",
    "\n",
    "det_A = np.linalg.det(A)\n",
    "\n",
    "print(\"Определитель равен: \",det_A)\n",
    "\n",
    "print(np.linalg.solve(A, B))\n"
   ]
  },
  {
   "cell_type": "markdown",
   "id": "3ea1d4b4-5a07-4723-936a-3078600bcc3b",
   "metadata": {},
   "source": [
    "## Задача 2."
   ]
  },
  {
   "cell_type": "markdown",
   "id": "6a8a89ba-4f0a-4c6d-a728-1300203a1102",
   "metadata": {},
   "source": [
    "Найдите псевдорешение:\n",
    "\n",
    "$\n",
    "x+2y-z=1\\\\\n",
    "3x-4y=7\\\\\n",
    "8x-5y+2z=12\\\\\n",
    "2x-5z=7\\\\\n",
    "11x+4y-7z=15\n",
    "$"
   ]
  },
  {
   "cell_type": "markdown",
   "id": "351e3475-806f-4af9-849c-553fa3052bb8",
   "metadata": {},
   "source": [
    "#### Решение"
   ]
  },
  {
   "cell_type": "code",
   "execution_count": 10,
   "id": "041c3dc2-153d-4014-a38d-3c1c55b21ebe",
   "metadata": {},
   "outputs": [
    {
     "name": "stdout",
     "output_type": "stream",
     "text": [
      "[ 1.13919353 -0.90498444 -0.9009803 ]\n"
     ]
    }
   ],
   "source": [
    "A = np.array([[1, 2, -1], [3, -4, 0], [8, -5, 2], [2, 0, -5], [11, 4, -7]])\n",
    "B = np.array([1, 7, 12, 7, 15])\n",
    "x = np.linalg.lstsq(A, B, rcond=None)[0]\n",
    "print(x)"
   ]
  },
  {
   "cell_type": "markdown",
   "id": "d38755c4-01a8-490b-8176-2acec9804a00",
   "metadata": {},
   "source": [
    "## Задача 3."
   ]
  },
  {
   "cell_type": "markdown",
   "id": "2f185249-4847-4944-b660-84b8d07ef136",
   "metadata": {},
   "source": [
    "Сколько решений имеет линейная система:\n",
    "\n",
    "$\\begin{bmatrix}\n",
    "1 & 2 & 3 \\\\\n",
    "4 & 5 & 6 \\\\\n",
    "7 & 8 & 9\n",
    "\\end{bmatrix} \\cdot X = \n",
    "\\begin{bmatrix}\n",
    "12 \\\\ 2 \\\\ 1\n",
    "\\end{bmatrix}\n",
    "$\n",
    "\n",
    "Если ноль – то измените вектор правой части так, чтобы система стала совместной, и решите ее. \n"
   ]
  },
  {
   "cell_type": "markdown",
   "id": "59c2e085-f89f-4077-bb5f-b8b9a9741d5f",
   "metadata": {},
   "source": [
    "#### Решение"
   ]
  },
  {
   "cell_type": "code",
   "execution_count": 11,
   "id": "2a182eca-16d2-4581-b67c-9c5d89a05721",
   "metadata": {},
   "outputs": [
    {
     "name": "stdout",
     "output_type": "stream",
     "text": [
      "Определитель равен  0.0\n"
     ]
    }
   ],
   "source": [
    "A = np.array([[1, 2, 3], [4, 5, 6], [7, 8, 9]])\n",
    "B = np.array([[12, 2, 0]])\n",
    "det_A = np.linalg.det(A)\n",
    "print(\"Определитель равен \",det_A)\n"
   ]
  },
  {
   "cell_type": "markdown",
   "id": "9f3f5a21-394f-452f-b94b-bd2d5db7d903",
   "metadata": {},
   "source": [
    "Создаем рассширенную матрицу С"
   ]
  },
  {
   "cell_type": "code",
   "execution_count": 12,
   "id": "e0eb02c2-391c-4dd1-9805-49caeb512d98",
   "metadata": {},
   "outputs": [
    {
     "name": "stdout",
     "output_type": "stream",
     "text": [
      "Система не имеет решений\n"
     ]
    }
   ],
   "source": [
    "C = np.concatenate((A, B.T), axis=1)\n",
    "rank_A, rank_C = np.linalg.matrix_rank(A, 0.0001), np.linalg.matrix_rank(C, 0.0001)\n",
    "n = A.shape[1]\n",
    "if rank_A < rank_C:\n",
    "    print(\"Система не имеет решений\")\n",
    "elif (rank_A == rank_C) and (rank_A == n):\n",
    "    print(\"Система имеет единственное решение\")\n",
    "else:\n",
    "    print(\"Система имеет бесконечное кол-во решений\")"
   ]
  },
  {
   "cell_type": "markdown",
   "id": "6fe479ee-6b17-470c-8de3-7a0b25c5f6f5",
   "metadata": {},
   "source": [
    "Заменим свободный член во всех уравнениях на 1 и решим новую систему:"
   ]
  },
  {
   "cell_type": "code",
   "execution_count": 13,
   "id": "b5945ede-8a16-4a4d-90f5-2f605427a3dc",
   "metadata": {},
   "outputs": [
    {
     "name": "stdout",
     "output_type": "stream",
     "text": [
      "Система имеет бесконечное кол-во решений\n"
     ]
    }
   ],
   "source": [
    "B = np.array([[1, 1, 1]]) \n",
    "C = np.concatenate((A, B.T), axis=1)\n",
    "rank_A, rank_C = np.linalg.matrix_rank(A, 0.0001), np.linalg.matrix_rank(C, 0.0001)\n",
    "n = A.shape[1]\n",
    "if rank_A < rank_C:\n",
    "    print(\"Система не имеет решений\")\n",
    "elif (rank_A == rank_C) and (rank_A == n):\n",
    "    print(\"Система имеет единственное решение\")\n",
    "else:\n",
    "    print(\"Система имеет бесконечное кол-во решений\")"
   ]
  },
  {
   "cell_type": "code",
   "execution_count": 14,
   "id": "5b7f3989-aae1-4597-a3cb-6d9a383fe8d8",
   "metadata": {},
   "outputs": [
    {
     "name": "stdout",
     "output_type": "stream",
     "text": [
      "[-5.00000000e-01  1.11022302e-16  5.00000000e-01]\n"
     ]
    }
   ],
   "source": [
    "x = np.linalg.lstsq(A, B.flatten(), rcond=None)[0]\n",
    "print(x)"
   ]
  },
  {
   "cell_type": "code",
   "execution_count": null,
   "id": "ed21c0ee-1fb8-4c32-aa39-153400081bb6",
   "metadata": {},
   "outputs": [],
   "source": []
  },
  {
   "cell_type": "markdown",
   "id": "b8793fce-9fb9-4086-b6fe-1660a00a43e9",
   "metadata": {},
   "source": [
    "## Задача 4."
   ]
  },
  {
   "cell_type": "markdown",
   "id": "31490aad-551f-49a8-b2ed-3931e03d38d4",
   "metadata": {},
   "source": [
    "Вычислите LU-разложение матрицы:\n",
    "\n",
    "$\\begin{bmatrix}\n",
    "1 & 2 & 3 \\\\\n",
    "2 & 16 & 21 \\\\\n",
    "4 & 28 & 73\n",
    "\\end{bmatrix}$"
   ]
  },
  {
   "cell_type": "markdown",
   "id": "8d3cebca-42e5-43df-a1ef-41bbf26c9e42",
   "metadata": {},
   "source": [
    "#### Решение"
   ]
  },
  {
   "cell_type": "code",
   "execution_count": 15,
   "id": "2c5cf563-2fb6-4317-a740-f28614e43e1d",
   "metadata": {},
   "outputs": [
    {
     "name": "stdout",
     "output_type": "stream",
     "text": [
      "P: \n",
      "[[0. 1. 0.]\n",
      " [0. 0. 1.]\n",
      " [1. 0. 0.]]\n",
      "L: \n",
      "[[ 1.    0.    0.  ]\n",
      " [ 0.25  1.    0.  ]\n",
      " [ 0.5  -0.4   1.  ]]\n",
      "U: \n",
      "[[  4.    28.    73.  ]\n",
      " [  0.    -5.   -15.25]\n",
      " [  0.     0.   -21.6 ]]\n",
      "Определитель равен  432.00000000000017\n",
      "[ 1.18518519 -0.03703704 -0.03703704]\n"
     ]
    }
   ],
   "source": [
    "A = np.array([[1,2,3],[2,16,21],[4,28,73]])\n",
    "p, l, u = scipy.linalg.lu(A)\n",
    "print(f'P: \\n{p}')\n",
    "print(f'L: \\n{l}')\n",
    "print(f'U: \\n{u}')\n",
    "det_A = np.linalg.det(A)\n",
    "print(\"Определитель равен \",det_A)\n",
    "B = np.array([1,1,1])\n",
    "x = np.linalg.solve(A, B)\n",
    "print(x)"
   ]
  },
  {
   "cell_type": "markdown",
   "id": "f1ff43c3-9b9a-44e1-b418-2db8e58343c6",
   "metadata": {},
   "source": [
    "## Задача 5."
   ]
  },
  {
   "cell_type": "markdown",
   "id": "d4b0f48f-72bd-425b-9921-1e4a54783215",
   "metadata": {},
   "source": [
    "Найдите нормальное псевдорешение недоопределенной системы:\n",
    "\n",
    "$\n",
    "x+2y-z=1\\\\\n",
    "8x-5y+2z=12\n",
    "$\n",
    "\n",
    "Для этого определите функцию Q(x,y,z), равную норме решения, и найдите ее минимум. \n"
   ]
  },
  {
   "cell_type": "markdown",
   "id": "590534bd-0349-48a6-9867-f455d0c0e09f",
   "metadata": {},
   "source": [
    "#### Решение"
   ]
  },
  {
   "cell_type": "code",
   "execution_count": 16,
   "id": "7f68c256-a79a-4e70-8a7e-782011940be6",
   "metadata": {},
   "outputs": [
    {
     "data": {
      "image/png": "[encoded data removed]",
      "text/plain": [
       "<Figure size 432x288 with 1 Axes>"
      ]
     },
     "metadata": {
      "needs_background": "light"
     },
     "output_type": "display_data"
    }
   ],
   "source": [
    "A = np.array([[1, 2, -1], [8, -5, 2]])\n",
    "B = np.array([1, 12])\n",
    "def Q(x, y, z):\n",
    "    return (x**2 + y**2 + z**2)\n",
    "x = np.linspace(-5, 5, 201)\n",
    "y = 10 * x - 14\n",
    "z = x + 2 * y - 1\n",
    "\n",
    "plt.plot(x, Q(x, y, z))\n",
    "plt.xlabel('x')\n",
    "plt.ylabel('Q(x, y, z)')\n",
    "plt.grid(True)\n",
    "plt.show()"
   ]
  },
  {
   "cell_type": "code",
   "execution_count": 17,
   "id": "2c433ff2-7a28-4b3d-a15f-57a5449df4ae",
   "metadata": {},
   "outputs": [
    {
     "data": {
      "image/png": "[encoded data removed]",
      "text/plain": [
       "<Figure size 432x288 with 1 Axes>"
      ]
     },
     "metadata": {
      "needs_background": "light"
     },
     "output_type": "display_data"
    }
   ],
   "source": [
    "x = np.linspace(1.25, 1.5, 201)\n",
    "y = 10 * x - 14\n",
    "z = x + 2 * y - 1\n",
    "\n",
    "plt.plot(x, Q(x, y, z))\n",
    "plt.xlabel('x')\n",
    "plt.ylabel('Q(x, y, z)')\n",
    "plt.grid(True)\n",
    "plt.show()"
   ]
  },
  {
   "cell_type": "code",
   "execution_count": 18,
   "id": "470a7a4d-1396-4964-ae73-852a8ff8b780",
   "metadata": {},
   "outputs": [
    {
     "name": "stdout",
     "output_type": "stream",
     "text": [
      "Решение на основе анализа графиков [ 1.37 -0.3  -0.23]\n",
      "Решение числовым методом [ 1.38191882 -0.18081181  0.0202952 ]\n",
      "Проверки\n",
      "[ 1. 12.]\n",
      "[ 1. 12.]\n"
     ]
    }
   ],
   "source": [
    "x = 1.37\n",
    "y = 10 * x - 14\n",
    "z = x + 2 * y - 1\n",
    "\n",
    "X1 = np.array([x, y, z]) \n",
    "X2 = np.linalg.lstsq(A, B, rcond=None)[0]\n",
    "print(\"Решение на основе анализа графиков\",X1)\n",
    "print(\"Решение числовым методом\",X2)\n",
    "print(\"Проверки\")\n",
    "print(np.dot(A, X1))\n",
    "print(np.dot(A, X2))"
   ]
  },
  {
   "cell_type": "markdown",
   "id": "0be24418-cbd4-46b6-98a6-8c74d3fce488",
   "metadata": {},
   "source": [
    "## Задача 6."
   ]
  },
  {
   "cell_type": "markdown",
   "id": "a7a65203-e927-4237-905e-c5d593e9386c",
   "metadata": {},
   "source": [
    "Найдите одно из псевдорешений вырожденной системы:\n",
    "\n",
    "$\\begin{bmatrix}\n",
    "1 & 2 & 3 \\\\\n",
    "4 & 5 & 6 \\\\\n",
    "7 & 8 & 9\n",
    "\\end{bmatrix} \\cdot X = \n",
    "\\begin{bmatrix}\n",
    "2 \\\\ 5 \\\\ 11\n",
    "\\end{bmatrix}\n",
    "$\n",
    "\n",
    "Попробуйте также отыскать и нормальное псевдорешение.\n"
   ]
  },
  {
   "cell_type": "markdown",
   "id": "d54eaa10-4fe2-46d8-a681-0d8ac1734b3c",
   "metadata": {},
   "source": [
    "#### Решение"
   ]
  },
  {
   "cell_type": "code",
   "execution_count": 19,
   "id": "c0062c67-c33b-4b51-914b-1d42ab57e9f5",
   "metadata": {},
   "outputs": [
    {
     "name": "stdout",
     "output_type": "stream",
     "text": [
      "Определитель равен  0.0\n",
      "Q: \n",
      "[[-0.12309149  0.90453403  0.40824829]\n",
      " [-0.49236596  0.30151134 -0.81649658]\n",
      " [-0.86164044 -0.30151134  0.40824829]]\n",
      "R: \n",
      "[[-8.12403840e+00 -9.60113630e+00 -1.10782342e+01]\n",
      " [ 0.00000000e+00  9.04534034e-01  1.80906807e+00]\n",
      " [ 0.00000000e+00  0.00000000e+00 -8.88178420e-16]]\n",
      "Система не имеет решений\n"
     ]
    }
   ],
   "source": [
    "A = np.array([[1,2,3],[4,5,6],[7,8,9]])\n",
    "B = np.array([[2,5,11]])\n",
    "C = np.concatenate((A, B.T), axis=1)\n",
    "det_A = np.linalg.det(A)\n",
    "print(\"Определитель равен \",det_A)\n",
    "q, r = np.linalg.qr(A)\n",
    "print(f'Q: \\n{q}')\n",
    "print(f'R: \\n{r}')\n",
    "rank_A = np.linalg.matrix_rank(A)\n",
    "rank_C = np.linalg.matrix_rank(C)\n",
    "n = A.shape[1]\n",
    "if rank_A < rank_C:\n",
    "    print(\"Система не имеет решений\")\n",
    "elif (rank_A == rank_C) and (rank_A == n):\n",
    "    print(\"Система имеет единственное решение\")\n",
    "else:\n",
    "    print(\"Система имеет бесконечное кол-во решений\")"
   ]
  },
  {
   "cell_type": "code",
   "execution_count": 20,
   "id": "e25d7921-2828-47f8-8a93-3ea9c6ecad4e",
   "metadata": {},
   "outputs": [
    {
     "name": "stdout",
     "output_type": "stream",
     "text": [
      "[ 1.25  0.5  -0.25]\n",
      "Норма (псевдорешение): 1.8749999999999925\n"
     ]
    },
    {
     "data": {
      "text/plain": [
       "array([[-0.5,  1. , -0.5]])"
      ]
     },
     "execution_count": 20,
     "metadata": {},
     "output_type": "execute_result"
    }
   ],
   "source": [
    "x = np.linalg.lstsq(A, B.flatten(), rcond=None)[0]\n",
    "print(x)\n",
    "print(\"Норма (псевдорешение):\", x[0]**2 + x[1]**2 + x[2]**2)\n",
    "A@x-B"
   ]
  },
  {
   "cell_type": "code",
   "execution_count": 21,
   "id": "a15dd8e3-cebb-4419-83dc-0c8d1bc201b0",
   "metadata": {},
   "outputs": [
    {
     "name": "stdout",
     "output_type": "stream",
     "text": [
      "[ 9.99999993e-01  5.00000013e-01 -6.58995247e-09]\n",
      "Норма (нормальное псевдорешение): 1.2500000000000002\n"
     ]
    },
    {
     "data": {
      "text/plain": [
       "array([[0. , 1.5, 0. ]])"
      ]
     },
     "execution_count": 21,
     "metadata": {},
     "output_type": "execute_result"
    }
   ],
   "source": [
    "def Q(x):\n",
    "    y = 2.5 - 2 * x\n",
    "    z = x - 1\n",
    "    return (x**2 + y**2 + z**2)\n",
    "\n",
    "x_r = scipy.optimize.minimize(Q, (0)).x[0]\n",
    "x = np.array([x_r,2.5 - 2 * x_r ,x_r - 1])\n",
    "print(x)\n",
    "\n",
    "print(\"Норма (нормальное псевдорешение):\", x[0]**2 + x[1]**2 + x[2]**2)\n",
    "A@x-B"
   ]
  },
  {
   "cell_type": "code",
   "execution_count": null,
   "id": "6695e0bb-a7fe-4f2b-a48a-37335eb87b2a",
   "metadata": {},
   "outputs": [],
   "source": []
  },
  {
   "cell_type": "code",
   "execution_count": null,
   "id": "33604a37-b173-4f00-beda-bd5940b68aea",
   "metadata": {},
   "outputs": [],
   "source": []
  }
 ],
 "metadata": {
  "kernelspec": {
   "display_name": "Python 3",
   "language": "python",
   "name": "python3"
  },
  "language_info": {
   "codemirror_mode": {
    "name": "ipython",
    "version": 3
   },
   "file_extension": ".py",
   "mimetype": "text/x-python",
   "name": "python",
   "nbconvert_exporter": "python",
   "pygments_lexer": "ipython3",
   "version": "3.9.4"
  }
 },
 "nbformat": 4,
 "nbformat_minor": 5
}

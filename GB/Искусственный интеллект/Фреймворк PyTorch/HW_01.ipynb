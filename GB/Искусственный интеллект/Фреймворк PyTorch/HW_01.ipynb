{
 "cells": [
  {
   "cell_type": "code",
   "execution_count": 1,
   "metadata": {},
   "outputs": [
    {
     "name": "stdout",
     "output_type": "stream",
     "text": [
      "\u001b[33mDEPRECATION: Configuring installation scheme with distutils config files is deprecated and will no longer work in the near future. If you are using a Homebrew or Linuxbrew Python, please see discussion at https://github.com/Homebrew/homebrew-core/issues/76621\u001b[0m\u001b[33m\n",
      "\u001b[0mRequirement already satisfied: torch in /usr/local/lib/python3.9/site-packages (1.11.0)\n",
      "Requirement already satisfied: typing-extensions in /usr/local/lib/python3.9/site-packages (from torch) (4.2.0)\n",
      "\u001b[33mDEPRECATION: Configuring installation scheme with distutils config files is deprecated and will no longer work in the near future. If you are using a Homebrew or Linuxbrew Python, please see discussion at https://github.com/Homebrew/homebrew-core/issues/76621\u001b[0m\u001b[33m\n",
      "\u001b[0m\u001b[33mWARNING: There was an error checking the latest version of pip.\u001b[0m\u001b[33m\n",
      "\u001b[0m"
     ]
    }
   ],
   "source": [
    "!pip install torch"
   ]
  },
  {
   "cell_type": "code",
   "execution_count": 2,
   "metadata": {},
   "outputs": [],
   "source": [
    "import torch\n",
    "import numpy as np\n",
    "from torch import nn \n",
    "from torch import optim\n",
    "from torch.autograd import Variable"
   ]
  },
  {
   "cell_type": "code",
   "execution_count": 3,
   "metadata": {},
   "outputs": [],
   "source": [
    "# Создайте случайный FloatTensor размера 3x4x5"
   ]
  },
  {
   "cell_type": "code",
   "execution_count": 4,
   "metadata": {},
   "outputs": [
    {
     "name": "stdout",
     "output_type": "stream",
     "text": [
      "tensor([[[0.7584, 0.1442, 0.5418, 0.7549, 0.4011],\n",
      "         [0.9128, 0.4617, 0.5064, 0.4333, 0.2853],\n",
      "         [0.3741, 0.3001, 0.7289, 0.3458, 0.6998],\n",
      "         [0.9632, 0.6403, 0.2218, 0.3655, 0.9297]],\n",
      "\n",
      "        [[0.0627, 0.0069, 0.7847, 0.9274, 0.6321],\n",
      "         [0.6784, 0.0312, 0.3766, 0.3656, 0.4839],\n",
      "         [0.2001, 0.5874, 0.5011, 0.7325, 0.8026],\n",
      "         [0.7254, 0.6230, 0.5171, 0.4789, 0.1674]],\n",
      "\n",
      "        [[0.2821, 0.8504, 0.5673, 0.0839, 0.1036],\n",
      "         [0.4787, 0.9707, 0.0641, 0.8071, 0.3297],\n",
      "         [0.7691, 0.8361, 0.8231, 0.2956, 0.8204],\n",
      "         [0.2577, 0.1257, 0.5812, 0.3249, 0.2258]]])\n"
     ]
    }
   ],
   "source": [
    "a = torch.rand(3, 4, 5)\n",
    "print(a)"
   ]
  },
  {
   "cell_type": "code",
   "execution_count": 5,
   "metadata": {},
   "outputs": [],
   "source": [
    "# Выведите его форму (shape)"
   ]
  },
  {
   "cell_type": "code",
   "execution_count": 6,
   "metadata": {},
   "outputs": [
    {
     "name": "stdout",
     "output_type": "stream",
     "text": [
      "torch.Size([3, 4, 5])\n"
     ]
    }
   ],
   "source": [
    "print(a.shape)"
   ]
  },
  {
   "cell_type": "code",
   "execution_count": 7,
   "metadata": {},
   "outputs": [],
   "source": [
    "# Приведите его к форме 6 X 10"
   ]
  },
  {
   "cell_type": "code",
   "execution_count": 8,
   "metadata": {},
   "outputs": [
    {
     "name": "stdout",
     "output_type": "stream",
     "text": [
      "torch.Size([6, 10])\n"
     ]
    }
   ],
   "source": [
    "b = a.reshape(6, 10)\n",
    "print(b.shape)"
   ]
  },
  {
   "cell_type": "code",
   "execution_count": 9,
   "metadata": {},
   "outputs": [],
   "source": [
    "# Умножьте его на вектор [1, 4, 2, 2, 1] поэлементно"
   ]
  },
  {
   "cell_type": "code",
   "execution_count": 10,
   "metadata": {},
   "outputs": [
    {
     "name": "stdout",
     "output_type": "stream",
     "text": [
      "tensor([[[0.7584, 0.5767, 1.0835, 1.5099, 0.4011],\n",
      "         [0.9128, 1.8470, 1.0127, 0.8666, 0.2853],\n",
      "         [0.3741, 1.2003, 1.4578, 0.6915, 0.6998],\n",
      "         [0.9632, 2.5611, 0.4437, 0.7310, 0.9297]],\n",
      "\n",
      "        [[0.0627, 0.0274, 1.5693, 1.8548, 0.6321],\n",
      "         [0.6784, 0.1249, 0.7531, 0.7312, 0.4839],\n",
      "         [0.2001, 2.3495, 1.0022, 1.4650, 0.8026],\n",
      "         [0.7254, 2.4920, 1.0342, 0.9579, 0.1674]],\n",
      "\n",
      "        [[0.2821, 3.4016, 1.1345, 0.1677, 0.1036],\n",
      "         [0.4787, 3.8829, 0.1283, 1.6141, 0.3297],\n",
      "         [0.7691, 3.3443, 1.6462, 0.5911, 0.8204],\n",
      "         [0.2577, 0.5026, 1.1624, 0.6498, 0.2258]]])\n"
     ]
    }
   ],
   "source": [
    "a_new = a * torch.tensor([1, 4, 2, 2, 1])\n",
    "print(a_new)"
   ]
  },
  {
   "cell_type": "code",
   "execution_count": 11,
   "metadata": {},
   "outputs": [],
   "source": [
    "# Умножьте тензор матрично на себя, чтобы результат был размерности 6x6"
   ]
  },
  {
   "cell_type": "code",
   "execution_count": 12,
   "metadata": {},
   "outputs": [
    {
     "name": "stdout",
     "output_type": "stream",
     "text": [
      "tensor([[5.7512e-01, 2.0784e-02, 2.9352e-01, 5.6994e-01, 1.6090e-01, 8.3316e-01],\n",
      "        [1.3993e-01, 9.0050e-02, 5.3132e-01, 1.1955e-01, 4.8977e-01, 9.2779e-01],\n",
      "        [3.9301e-03, 4.6985e-05, 6.1569e-01, 8.6005e-01, 3.9959e-01, 4.6019e-01],\n",
      "        [4.0052e-02, 3.4501e-01, 2.5110e-01, 5.3653e-01, 6.4423e-01, 5.2617e-01],\n",
      "        [7.9597e-02, 7.2318e-01, 3.2180e-01, 7.0336e-03, 1.0735e-02, 2.2919e-01],\n",
      "        [5.9154e-01, 6.9902e-01, 6.7746e-01, 8.7361e-02, 6.7308e-01, 6.6435e-02]])\n",
      "torch.Size([6, 6])\n"
     ]
    }
   ],
   "source": [
    "b_new = b[:, :6] * (b[:, :6])\n",
    "print(b_new)\n",
    "print(b_new.shape)"
   ]
  },
  {
   "cell_type": "code",
   "execution_count": 13,
   "metadata": {},
   "outputs": [],
   "source": [
    "# Посчитайте производную функции y = x**3 + z - 75t в точке (1, 0.5, 2)"
   ]
  },
  {
   "cell_type": "code",
   "execution_count": 14,
   "metadata": {},
   "outputs": [
    {
     "name": "stdout",
     "output_type": "stream",
     "text": [
      "None\n",
      "tensor([ -73.0000,  -36.8750, -140.0000], grad_fn=<SubBackward0>)\n",
      "tensor([ -71.0000,  -36.6250, -124.0000])\n"
     ]
    }
   ],
   "source": [
    "v = torch.tensor([1, 0.5, 2], requires_grad=True)\n",
    "print(v.grad)\n",
    "z = v ** 3 + v - 75 * v\n",
    "print(z)\n",
    "z.backward(v)\n",
    "print(v.grad)"
   ]
  },
  {
   "cell_type": "code",
   "execution_count": 15,
   "metadata": {},
   "outputs": [],
   "source": [
    "# Создайте единичный тензор размера 5x6"
   ]
  },
  {
   "cell_type": "code",
   "execution_count": 16,
   "metadata": {},
   "outputs": [
    {
     "name": "stdout",
     "output_type": "stream",
     "text": [
      "tensor([[1., 1., 1., 1., 1., 1.],\n",
      "        [1., 1., 1., 1., 1., 1.],\n",
      "        [1., 1., 1., 1., 1., 1.],\n",
      "        [1., 1., 1., 1., 1., 1.],\n",
      "        [1., 1., 1., 1., 1., 1.]])\n"
     ]
    }
   ],
   "source": [
    "t_one = torch.ones(5,6)\n",
    "print(t_one)"
   ]
  },
  {
   "cell_type": "code",
   "execution_count": 17,
   "metadata": {},
   "outputs": [],
   "source": [
    "# Переведите его в формат numpy"
   ]
  },
  {
   "cell_type": "code",
   "execution_count": 18,
   "metadata": {},
   "outputs": [
    {
     "name": "stdout",
     "output_type": "stream",
     "text": [
      "[[1. 1. 1. 1. 1. 1.]\n",
      " [1. 1. 1. 1. 1. 1.]\n",
      " [1. 1. 1. 1. 1. 1.]\n",
      " [1. 1. 1. 1. 1. 1.]\n",
      " [1. 1. 1. 1. 1. 1.]]\n"
     ]
    }
   ],
   "source": [
    "t_np = t_one.numpy()\n",
    "print(t_np)"
   ]
  },
  {
   "cell_type": "code",
   "execution_count": 19,
   "metadata": {},
   "outputs": [],
   "source": [
    "# Давайте теперь пооптимизируем: возьмите функцию y = x**w1 - 2 * x**2 + 5\n",
    "# Посчитайте "
   ]
  },
  {
   "cell_type": "code",
   "execution_count": 20,
   "metadata": {},
   "outputs": [
    {
     "name": "stdout",
     "output_type": "stream",
     "text": [
      "loss:\t 1.0\n",
      "\n",
      "w1:\t tensor([2.0003, 2.0003])\n"
     ]
    }
   ],
   "source": [
    "w1 = Variable(torch.Tensor([2,2]), requires_grad = True)\n",
    "x = Variable(torch.Tensor([2,2]), requires_grad = False)\n",
    "y = Variable(torch.Tensor([2,2]), requires_grad = False)\n",
    "\n",
    "optimizer = torch.optim.SGD([w1], lr=0.0001)\n",
    "\n",
    "criterion = torch.nn.MSELoss()\n",
    "\n",
    "pred = x**w1 - 2 * x**2 + 5\n",
    "\n",
    "optimizer.zero_grad()\n",
    "loss = criterion(pred, y)\n",
    "loss.backward()\n",
    "optimizer.step()  \n",
    "print(f'loss:\\t {loss.item()}\\n')\n",
    "print(f'w1:\\t {w1.data}')"
   ]
  },
  {
   "cell_type": "code",
   "execution_count": null,
   "metadata": {},
   "outputs": [],
   "source": []
  }
 ],
 "metadata": {
  "kernelspec": {
   "display_name": "Python 3 (ipykernel)",
   "language": "python",
   "name": "python3"
  },
  "language_info": {
   "codemirror_mode": {
    "name": "ipython",
    "version": 3
   },
   "file_extension": ".py",
   "mimetype": "text/x-python",
   "name": "python",
   "nbconvert_exporter": "python",
   "pygments_lexer": "ipython3",
   "version": "3.9.13"
  }
 },
 "nbformat": 4,
 "nbformat_minor": 4
}

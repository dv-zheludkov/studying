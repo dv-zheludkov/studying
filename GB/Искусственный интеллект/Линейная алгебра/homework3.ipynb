{
 "cells": [
  {
   "cell_type": "code",
   "execution_count": 1,
   "id": "0d1ed0ce-1c9f-48ce-9716-201422989dc1",
   "metadata": {},
   "outputs": [],
   "source": [
    "import numpy as np\n",
    "import scipy\n",
    "import scipy.linalg\n",
    "import scipy.optimize\n",
    "import matplotlib.pyplot as plt\n",
    "%matplotlib inline\n"
   ]
  },
  {
   "cell_type": "markdown",
   "id": "ab85fde9-a7e7-4bc3-8a6b-4632067345e9",
   "metadata": {},
   "source": [
    "## Задача 1."
   ]
  },
  {
   "cell_type": "markdown",
   "id": "ae7be77b-4aa1-4b00-acef-16d74ea83ad8",
   "metadata": {},
   "source": [
    "Найти собственные векторы и собственные значения для линейного оператора, заданного матрицей\n",
    "\n",
    "$A=\\begin{pmatrix}\n",
    "-1 & -6\\\\ \n",
    "2 & 6\n",
    "\\end{pmatrix}.$\n"
   ]
  },
  {
   "cell_type": "markdown",
   "id": "275a2858-cf91-47cd-8445-87516af285b4",
   "metadata": {},
   "source": [
    "#### Решение"
   ]
  },
  {
   "cell_type": "markdown",
   "id": "22bd9edb-0018-4c25-a5a1-173f56ce2bef",
   "metadata": {},
   "source": [
    "$\\begin{vmatrix}\n",
    "-1-\\lambda & -6\\\\ \n",
    "2 & 6-\\lambda\n",
    "\\end{vmatrix} = 0,$\n",
    "\n",
    "$(-1-\\lambda)(6-\\lambda)+12=0,$\n",
    "\n",
    "$\\lambda^{2} -5\\cdot\\lambda=-6,$\n",
    "\n",
    "$\\lambda_{1}=2.$\n",
    "$\\lambda_{2}=3.$\n",
    "\n",
    "$\\begin{pmatrix}\n",
    "-1 & -6\\\\ \n",
    "2 & 6\n",
    "\\end{pmatrix}\n",
    "\\begin{pmatrix}\n",
    "x_{1}\\\\ \n",
    "x_{2}\n",
    "\\end{pmatrix}=\n",
    "\\lambda\n",
    "\\begin{pmatrix}\n",
    "x_{1}\\\\ \n",
    "x_{2}\n",
    "\\end{pmatrix}.\n",
    "$\n",
    "\n",
    "1.\n",
    "\n",
    "$\\begin{pmatrix}\n",
    "-1 & -6\\\\ \n",
    "2 & 6\n",
    "\\end{pmatrix}\n",
    "\\begin{pmatrix}\n",
    "x_{1}\\\\ \n",
    "x_{2}\n",
    "\\end{pmatrix}=\n",
    "2\n",
    "\\begin{pmatrix}\n",
    "x_{1}\\\\ \n",
    "x_{2}\n",
    "\\end{pmatrix}.\n",
    "$\n",
    "\n",
    "$\\begin{cases}\n",
    "-x_{1}-6\\cdot x_{2}= 2x_{1}, \\\\\n",
    "2\\cdot x_{1}+6\\cdot x_{2}= 2x_{2}.\n",
    "\\end{cases}$\n",
    "\n",
    "$\n",
    "x_{1}= -2x_{2}.\n",
    "$\n",
    "\n",
    "$\\begin{cases}\n",
    "x_{1}= -2, \\\\\n",
    "x_{2}= 1.\n",
    "\\end{cases}$ \n",
    "\n",
    "\n",
    "2.\n",
    "\n",
    "$\\begin{pmatrix}\n",
    "-1 & -6\\\\ \n",
    "2 & 6\n",
    "\\end{pmatrix}\n",
    "\\begin{pmatrix}\n",
    "x_{1}\\\\ \n",
    "x_{2}\n",
    "\\end{pmatrix}=\n",
    "3\n",
    "\\begin{pmatrix}\n",
    "x_{1}\\\\ \n",
    "x_{2}\n",
    "\\end{pmatrix}.\n",
    "$\n",
    "\n",
    "$\\begin{cases}\n",
    "-x_{1}-6\\cdot x_{2}= 3x_{1}, \\\\\n",
    "2\\cdot x_{1}+6\\cdot x_{2}= 3x_{2}.\n",
    "\\end{cases}$ \n",
    "\n",
    "$\n",
    "x_{1}= -3 \\cdot x_{2}.\n",
    "$ \n",
    "\n",
    "$\\begin{cases}\n",
    "x_{1}= -3, \\\\\n",
    "x_{2}= 2.\n",
    "\\end{cases}$ "
   ]
  },
  {
   "cell_type": "markdown",
   "id": "a5d43f31-8a7f-4e91-880a-0358ee84fca5",
   "metadata": {},
   "source": [
    "Собственное значение $\\lambda_{1}=2$, собственный вектор (-2,1)\n",
    "\n",
    "Собственное значение $\\lambda_{2}=3$, собственный вектор (-3,2)"
   ]
  },
  {
   "cell_type": "markdown",
   "id": "8356f4f3-f35b-424e-b83c-9bb31b69c373",
   "metadata": {},
   "source": [
    "## Задача 2."
   ]
  },
  {
   "cell_type": "markdown",
   "id": "a6026729-dd97-4238-b2de-64360d4d9f7c",
   "metadata": {},
   "source": [
    "Дан оператор поворота на 180 градусов, задаваемый матрицей \n",
    "\n",
    "$A=\\begin{pmatrix}\n",
    "-1 & 0\\\\ \n",
    "0 & -1\n",
    "\\end{pmatrix}.$\n",
    "\n",
    "Показать, что любой вектор является для него собственным.\n"
   ]
  },
  {
   "cell_type": "markdown",
   "id": "708959db-6e5c-4175-832a-a96290d925b6",
   "metadata": {},
   "source": [
    "#### Решение"
   ]
  },
  {
   "cell_type": "markdown",
   "id": "74f33bac-e326-46c2-8fa9-3299c22db8ea",
   "metadata": {},
   "source": [
    "$\\begin{vmatrix}\n",
    "-1-\\lambda & 0\\\\ \n",
    "0 & -1-\\lambda\n",
    "\\end{vmatrix} = 0,$\n",
    "\n",
    "$\\lambda = -1,$\n",
    "\n",
    "$\\begin{cases}\n",
    "-x_{1}+0\\cdot x_{2}= -1\\cdot x_{1}, \\\\\n",
    "0\\cdot x_{1}-1\\cdot x_{2}= -1\\cdot x_{2}.\n",
    "\\end{cases}$\n",
    "\n",
    "$\\begin{cases}\n",
    "-x_{1}= -x_{1}, \\\\\n",
    "-x_{2}= -x_{2}.\n",
    "\\end{cases}$\n",
    "\n",
    "Равенство верно при любых $x_{1}$ и $x_{2}$\n",
    "\n",
    "Любой вектор является собственным вектором линейного оператора, заданного матрицей \n",
    "A"
   ]
  },
  {
   "cell_type": "code",
   "execution_count": null,
   "id": "32c135b1-aa7d-477f-8736-5fc70bcd0ba8",
   "metadata": {},
   "outputs": [],
   "source": []
  },
  {
   "cell_type": "markdown",
   "id": "959bc8f1-bdd6-4b3c-afb5-d430c2e4574f",
   "metadata": {},
   "source": [
    "## Задача 3. \n"
   ]
  },
  {
   "cell_type": "markdown",
   "id": "1e3fc504-4662-471b-847c-994382a4509c",
   "metadata": {},
   "source": [
    "Пусть линейный оператор задан матрицей\n",
    "\n",
    "$A=\\begin{pmatrix}\n",
    "1 & 1\\\\ \n",
    "-1 & 3\n",
    "\\end{pmatrix}.$\n",
    "\n",
    "Установить, является ли вектор $x=(1,1)$ собственным вектором этого линейного оператора."
   ]
  },
  {
   "cell_type": "markdown",
   "id": "46e4e23e-0498-4cee-a2fe-13cf0e4cad35",
   "metadata": {},
   "source": [
    "#### Решение"
   ]
  },
  {
   "cell_type": "markdown",
   "id": "0ecdd2bf-a360-4db1-b1c6-4ee6e866bb1c",
   "metadata": {},
   "source": [
    "$\\begin{pmatrix}\n",
    "1 & 1\\\\ \n",
    "-1 & 3\n",
    "\\end{pmatrix}\n",
    "\\begin{pmatrix}\n",
    "1\\\\ \n",
    "1\n",
    "\\end{pmatrix}=\n",
    "\\lambda\n",
    "\\begin{pmatrix}\n",
    "1\\\\ \n",
    "1\n",
    "\\end{pmatrix}.\n",
    "$\n",
    "\n",
    "$\\begin{cases}\n",
    "1+1=1\\cdot\\lambda \\\\\n",
    "-1 +3 = 1\\cdot \\lambda\n",
    "\\end{cases}$\n",
    "\n",
    "$\\begin{cases}\n",
    "\\lambda=2\\\\\n",
    "\\lambda= 2\n",
    "\\end{cases}$\n",
    "\n",
    "$x=(1,1)$ является собственным вектором этого линейного оператора при $\\lambda = 2$"
   ]
  },
  {
   "cell_type": "markdown",
   "id": "388a7579-459d-4537-95c5-05c1386cb582",
   "metadata": {},
   "source": [
    "## Задача 4."
   ]
  },
  {
   "cell_type": "markdown",
   "id": "567c0e1a-de82-4feb-a295-ea435d09f35b",
   "metadata": {},
   "source": [
    "Пусть линейный оператор задан матрицей\n",
    "\n",
    "$$A=\\begin{pmatrix}\n",
    "0 & 3 & 0\\\\ \n",
    "3 & 0 & 0\\\\\n",
    "0 & 0 & 3\n",
    "\\end{pmatrix}.$$\n",
    "\n",
    "Установить, является ли вектор $x=(3, -3, -4)$ собственным вектором этого линейного оператора."
   ]
  },
  {
   "cell_type": "markdown",
   "id": "ee9e38cf-6c56-47e6-856f-e1c229b0075f",
   "metadata": {},
   "source": [
    "#### Решение"
   ]
  },
  {
   "cell_type": "markdown",
   "id": "2aa9c860-dea7-4f17-842f-47153535decf",
   "metadata": {},
   "source": [
    "$\\begin{pmatrix}\n",
    "0 & 3 & 0\\\\ \n",
    "3 & 0 & 0\\\\\n",
    "0 & 0 & 3\n",
    "\\end{pmatrix}\n",
    "\\begin{pmatrix}\n",
    "3\\\\ \n",
    "-3\\\\\n",
    "-4\n",
    "\\end{pmatrix}=\n",
    "\\lambda\n",
    "\\begin{pmatrix}\n",
    "3\\\\ \n",
    "-3\\\\\n",
    "-4\n",
    "\\end{pmatrix}.\n",
    "$\n",
    "\n",
    "$\\begin{cases}\n",
    "-9=3\\cdot\\lambda \\\\\n",
    "9 = -3\\cdot \\lambda\\\\\n",
    "-12 = -4\\cdot \\lambda\n",
    "\\end{cases}$\n",
    "\n",
    "$\\begin{cases}\n",
    "\\lambda=-3\\\\\n",
    "\\lambda= -3\\\\\n",
    "\\lambda= 3\n",
    "\\end{cases}$\n",
    "\n",
    "Такая система не имеет смысла, значит вектор $x$ не является собственным вектором данного линейного оператора"
   ]
  },
  {
   "cell_type": "code",
   "execution_count": null,
   "id": "6695e0bb-a7fe-4f2b-a48a-37335eb87b2a",
   "metadata": {},
   "outputs": [],
   "source": []
  },
  {
   "cell_type": "code",
   "execution_count": null,
   "id": "33604a37-b173-4f00-beda-bd5940b68aea",
   "metadata": {},
   "outputs": [],
   "source": []
  }
 ],
 "metadata": {
  "kernelspec": {
   "display_name": "Python 3",
   "language": "python",
   "name": "python3"
  },
  "language_info": {
   "codemirror_mode": {
    "name": "ipython",
    "version": 3
   },
   "file_extension": ".py",
   "mimetype": "text/x-python",
   "name": "python",
   "nbconvert_exporter": "python",
   "pygments_lexer": "ipython3",
   "version": "3.9.4"
  }
 },
 "nbformat": 4,
 "nbformat_minor": 5
}

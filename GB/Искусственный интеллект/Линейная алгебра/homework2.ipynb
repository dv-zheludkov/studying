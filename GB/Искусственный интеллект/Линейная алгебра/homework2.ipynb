{
 "cells": [
  {
   "cell_type": "code",
   "execution_count": 1,
   "id": "3903b566-d557-4263-9d1e-e5f229bb024f",
   "metadata": {},
   "outputs": [],
   "source": [
    "import numpy as np"
   ]
  },
  {
   "cell_type": "markdown",
   "id": "a79e516e-6131-4785-961e-0308bb5b97d9",
   "metadata": {
    "id": "APeDlmh8IIL1"
   },
   "source": [
    "Все задания рекомендуется делать вручную, затем проверяя полученные результаты с использованием numpy."
   ]
  },
  {
   "cell_type": "markdown",
   "id": "04ea1aa3-aa2f-4307-8208-87597d4900a9",
   "metadata": {
    "id": "APeDlmh8IIL1"
   },
   "source": [
    "__1.__ Установить, какие произведения матриц $AB$ и $BA$ определены, и найти размерности полученных матриц:\n",
    "\n",
    "   а) $A$ — матрица $4\\times 2$, $B$ — матрица $4\\times 2$;\n",
    "    \n",
    "   б) $A$ — матрица $2\\times 5$, $B$ — матрица $5\\times 3$;\n",
    "    \n",
    "   в) $A$ — матрица $8\\times 3$, $B$ — матрица $3\\times 8$;\n",
    "    \n",
    "   г) $A$ — квадратная матрица $4\\times 4$, $B$ — квадратная матрица $4\\times 4$."
   ]
  },
  {
   "cell_type": "markdown",
   "id": "14ccd969-8222-4ed7-a5f9-063eb5aa1664",
   "metadata": {},
   "source": [
    "а)произведения неопределены<br>\n",
    "б)AB - $2\\times 3$, BA - неопределено<br>\n",
    "в)AB - $8\\times 8$, BA - $3\\times 3$<br>\n",
    "г)AB и BA - $4\\times 4$"
   ]
  },
  {
   "cell_type": "markdown",
   "id": "0b2dab54-4b4f-4d15-b0ff-6dd9db4a7ff3",
   "metadata": {
    "id": "APeDlmh8IIL1"
   },
   "source": [
    "    \n",
    "__2.__ Найти сумму и произведение матриц $A=\\begin{pmatrix}\n",
    "1 & -2\\\\ \n",
    "3 & 0\n",
    "\\end{pmatrix}$ и $B=\\begin{pmatrix}\n",
    "4 & -1\\\\ \n",
    "0 & 5\n",
    "\\end{pmatrix}.$"
   ]
  },
  {
   "cell_type": "markdown",
   "id": "de6e3d22-f660-44db-8be1-05d489224e5a",
   "metadata": {},
   "source": [
    "$A + B = \\begin{pmatrix}\n",
    "5 & -3\\\\ \n",
    "3 & 5\n",
    "\\end{pmatrix}$\n",
    "\n",
    "$A\\times B = \\begin{pmatrix}\n",
    "4 & -11\\\\ \n",
    "12 & -3\n",
    "\\end{pmatrix}$\n",
    "\n",
    "$B\\times A = \\begin{pmatrix}\n",
    "1 & -8\\\\ \n",
    "15 & 0\n",
    "\\end{pmatrix}$"
   ]
  },
  {
   "cell_type": "code",
   "execution_count": 2,
   "id": "f8566dac-1cb9-4172-834a-816559f95395",
   "metadata": {},
   "outputs": [
    {
     "name": "stdout",
     "output_type": "stream",
     "text": [
      "A+B\n",
      " [[ 5 -3]\n",
      " [ 3  5]]\n",
      "A*B\n",
      " [[  4 -11]\n",
      " [ 12  -3]]\n",
      "B*A\n",
      " [[ 1 -8]\n",
      " [15  0]]\n"
     ]
    }
   ],
   "source": [
    "A = np.array([[1, -2], [3, 0]])\n",
    "B = np.array([[4, -1], [0, 5]])\n",
    "print(\"A+B\\n\",A+B)\n",
    "print(\"A*B\\n\",np.dot(A,B))\n",
    "print(\"B*A\\n\",np.dot(B,A))"
   ]
  },
  {
   "cell_type": "markdown",
   "id": "4cc6a0c4-9c9f-4155-a1d6-344542ff87c9",
   "metadata": {
    "id": "APeDlmh8IIL1"
   },
   "source": [
    "__3.__ Из закономерностей сложения и умножения матриц на число можно сделать вывод, что матрицы одного размера образуют линейное пространство. Вычислить линейную комбинацию $3A-2B+4C$ для матриц $A=\\begin{pmatrix}\n",
    "1 & 7\\\\ \n",
    "3 & -6\n",
    "\\end{pmatrix}$, $B=\\begin{pmatrix}\n",
    "0 & 5\\\\ \n",
    "2 & -1\n",
    "\\end{pmatrix}$, $C=\\begin{pmatrix}\n",
    "2 & -4\\\\ \n",
    "1 & 1\n",
    "\\end{pmatrix}.$"
   ]
  },
  {
   "cell_type": "markdown",
   "id": "7d404af1-0909-4442-879e-d40e94090b90",
   "metadata": {},
   "source": [
    "$3A = \\begin{pmatrix}\n",
    "3 & 21\\\\\n",
    "9 & -18\n",
    "\\end{pmatrix}$\n",
    "\n",
    "$2B = \\begin{pmatrix}\n",
    "0 & 10\\\\\n",
    "4 & -2\n",
    "\\end{pmatrix}$\n",
    "\n",
    "$4C = \\begin{pmatrix}\n",
    "8 & -16\\\\\n",
    "4 & 4\n",
    "\\end{pmatrix}$\n",
    "\n",
    "$3A-2B+4C = \\begin{pmatrix}\n",
    "11 & -5\\\\\n",
    "9 & -12\n",
    "\\end{pmatrix}$\n"
   ]
  },
  {
   "cell_type": "code",
   "execution_count": 3,
   "id": "2b394bc0-ef5a-425b-9dc9-72874f2cff51",
   "metadata": {},
   "outputs": [
    {
     "name": "stdout",
     "output_type": "stream",
     "text": [
      "[[ 11  -5]\n",
      " [  9 -12]]\n"
     ]
    }
   ],
   "source": [
    "A = np.array([[1, 7], [3, -6]])\n",
    "B = np.array([[0, 5], [2, -1]])\n",
    "C = np.array([[2, -4], [1, 1]])\n",
    "print(3*A - 2*B + 4*C)"
   ]
  },
  {
   "cell_type": "markdown",
   "id": "078827f7-db75-4005-8f3a-e13ff7fe1a10",
   "metadata": {
    "id": "APeDlmh8IIL1"
   },
   "source": [
    "    \n",
    "__4.__ Дана матрица $A=\\begin{pmatrix}\n",
    "4 & 1\\\\ \n",
    "5 & -2\\\\ \n",
    "2 & 3\n",
    "\\end{pmatrix}$.\n",
    "Вычислить $AA^{T}$ и $A^{T}A$."
   ]
  },
  {
   "cell_type": "markdown",
   "id": "4d2d6a62-a844-4165-9f5d-03976f3117f2",
   "metadata": {},
   "source": [
    "$AA^{T} = \\begin{pmatrix}\n",
    "17 & 18 & 11\\\\ \n",
    "18 & 29 & 4\\\\ \n",
    "11 & 4 & 13\n",
    "\\end{pmatrix}$\n",
    "\n",
    "$A^{T}A = \\begin{pmatrix}\n",
    "45 & 0\\\\ \n",
    "0 & 14\n",
    "\\end{pmatrix}$"
   ]
  },
  {
   "cell_type": "code",
   "execution_count": 4,
   "id": "76aa7095-e484-4cf9-a8ff-a423d7a59749",
   "metadata": {},
   "outputs": [
    {
     "name": "stdout",
     "output_type": "stream",
     "text": [
      "A*At \n",
      " [[17 18 11]\n",
      " [18 29  4]\n",
      " [11  4 13]]\n",
      "At*A\n",
      " [[45  0]\n",
      " [ 0 14]]\n"
     ]
    }
   ],
   "source": [
    "A = np.array([[4, 1],\n",
    "              [5, -2],\n",
    "              [2,3]])\n",
    "At = A.T\n",
    "print(\"A*At \\n\",np.dot(A,At))\n",
    "print(\"At*A\\n\",np.dot(At,A))"
   ]
  },
  {
   "cell_type": "markdown",
   "id": "93cc2f85-9740-4cc3-b6d2-84abf619256e",
   "metadata": {
    "id": "APeDlmh8IIL1"
   },
   "source": [
    "__5*.__ Написать на Python функцию для перемножения двух произвольных матриц, не используя NumPy."
   ]
  },
  {
   "cell_type": "code",
   "execution_count": 5,
   "id": "ba5cb5de-d890-4b02-a651-bc90e9527b9d",
   "metadata": {},
   "outputs": [],
   "source": [
    "def matrix_mult(A,B):  \n",
    "    for row in A:\n",
    "        assert len(B) == len(row)\n",
    "    res = []\n",
    "    for row in A:\n",
    "        res_row = []\n",
    "        for j, element in enumerate(row):\n",
    "            for k in range(0,len(B[0])):\n",
    "                try:\n",
    "                    res_row[k] += element*B[j][k]\n",
    "                except IndexError:\n",
    "                    res_row.append(element*B[j][k])\n",
    "        res.append(res_row)\n",
    "    return res"
   ]
  },
  {
   "cell_type": "code",
   "execution_count": 6,
   "id": "44616b7c-0525-4fdf-b07a-87591efb3047",
   "metadata": {},
   "outputs": [
    {
     "name": "stdout",
     "output_type": "stream",
     "text": [
      "Результат без NumPy\n",
      " [[14, -2], [-12, 21]]\n",
      "Результат c NumPy\n",
      " [[ 14  -2]\n",
      " [-12  21]]\n"
     ]
    }
   ],
   "source": [
    "A = [[1, 7], [3, -6]]\n",
    "B = [[0, 5], [2, -1]]\n",
    "C = matrix_mult(A,B)\n",
    "\n",
    "An = np.array(A)\n",
    "Bn = np.array(B)\n",
    "Cn = An.dot(Bn)\n",
    "\n",
    "print(\"Результат без NumPy\\n\",C)\n",
    "print(\"Результат c NumPy\\n\",Cn)"
   ]
  },
  {
   "cell_type": "code",
   "execution_count": null,
   "id": "67a6e7cc-aafb-4be3-be28-2a2af4adb8ff",
   "metadata": {},
   "outputs": [],
   "source": []
  },
  {
   "cell_type": "markdown",
   "id": "d482edac-bdf8-4481-aceb-4f9116069ea1",
   "metadata": {
    "id": "H3qXQfJ-WtUp"
   },
   "source": [
    "Все задания рекомендуется выполнять вручную, затем проверяя полученные результаты с использованием Numpy."
   ]
  },
  {
   "cell_type": "markdown",
   "id": "d0f370e6-3ead-4fcd-8f09-a996cb325591",
   "metadata": {
    "id": "H3qXQfJ-WtUp"
   },
   "source": [
    "__1.__ Вычислить определитель:\n",
    "\n",
    "   a)\n",
    "\n",
    "$$\\begin{vmatrix}\n",
    "sinx & -cosx\\\\ \n",
    "cosx & sinx\n",
    "\\end{vmatrix};$$\n",
    "\n",
    "   б)\n",
    "    \n",
    "$$\\begin{vmatrix}\n",
    "4 & 2 & 3\\\\ \n",
    "0 & 5 & 1\\\\ \n",
    "0 & 0 & 9\n",
    "\\end{vmatrix};$$\n",
    "    \n",
    "   в)\n",
    "\n",
    "$$\\begin{vmatrix}\n",
    "1 & 2 & 3\\\\ \n",
    "4 & 5 & 6\\\\ \n",
    "7 & 8 & 9\n",
    "\\end{vmatrix}.$$"
   ]
  },
  {
   "cell_type": "markdown",
   "id": "6dbcb9da-1ec5-444d-a9c4-f0fc421cd33c",
   "metadata": {},
   "source": [
    "a) sin*sin - (-cos)*cos = sin^2 + cos^2 = 1\n",
    "\n",
    "б) матрица треугольная, определитель 4*5*9 = 180\n",
    "\n",
    "в) 1*5*9 + 2*6*7 + 4*8*3 - 7*5*3 - 4*2*9 - 1*8*6 = 45+84+96 - 105-72-48= 225 - 225 = 0"
   ]
  },
  {
   "cell_type": "code",
   "execution_count": 7,
   "id": "e04ed700-662c-4df4-8fc9-30d706ba1734",
   "metadata": {},
   "outputs": [
    {
     "name": "stdout",
     "output_type": "stream",
     "text": [
      "1.0 180.0 0.0\n"
     ]
    }
   ],
   "source": [
    "x = 0\n",
    "\n",
    "A = np.array([[np.sin(x), -np.cos(x)], [np.cos(x), np.sin(x)]])\n",
    "\n",
    "B = np.array([[4, 2, 3], [0, 5, 1], [0, 0, 9]])\n",
    "\n",
    "C = np.array([[1, 2, 3], [4, 5, 6], [7, 8, 9]])\n",
    "\n",
    "print(np.linalg.det(A), np.linalg.det(B), np.linalg.det(C))"
   ]
  },
  {
   "cell_type": "markdown",
   "id": "626344cb-9cef-4a85-964a-40391b097c92",
   "metadata": {
    "id": "H3qXQfJ-WtUp"
   },
   "source": [
    "__2.__ Определитель матрицы $A$ равен $4$. Найти:\n",
    "\n",
    "   а) $det(A^{2})$;\n",
    "    \n",
    "   б) $det(A^{T})$;\n",
    "    \n",
    "   в) $det(2A)$."
   ]
  },
  {
   "cell_type": "markdown",
   "id": "9f3593ba-a9eb-4c03-9c33-5cc3b3fcdf71",
   "metadata": {},
   "source": [
    "а) 4*4 = 16\n",
    "\n",
    "б) 4\n",
    "\n",
    "в) 4*2 = 8\n"
   ]
  },
  {
   "cell_type": "markdown",
   "id": "02ee32bf-07f2-4d6a-a360-787ac98e9a92",
   "metadata": {
    "id": "H3qXQfJ-WtUp"
   },
   "source": [
    "   \n",
    "__3.__  Доказать, что матрица\n",
    "\n",
    "$$\\begin{pmatrix}\n",
    "-2 & 7 & -3\\\\ \n",
    "4 & -14 & 6\\\\ \n",
    "-3 & 7 & 13\n",
    "\\end{pmatrix}$$\n",
    "   \n",
    "вырожденная."
   ]
  },
  {
   "cell_type": "code",
   "execution_count": 8,
   "id": "3dfc5274-0f35-4755-8f72-dd5c9adecaf8",
   "metadata": {},
   "outputs": [
    {
     "data": {
      "text/plain": [
       "0.0"
      ]
     },
     "execution_count": 8,
     "metadata": {},
     "output_type": "execute_result"
    }
   ],
   "source": [
    "A = np.array([[-2, 7, -3], \n",
    "             [4, -14, 6],\n",
    "             [-3, 7, -13]])\n",
    "\n",
    "np.linalg.det(A)"
   ]
  },
  {
   "cell_type": "markdown",
   "id": "140dc210-045c-4b90-9642-f8faf9d8128d",
   "metadata": {},
   "source": [
    "Определитель равен 0, значит матрица вырожденная."
   ]
  },
  {
   "cell_type": "markdown",
   "id": "295f1522-146b-4d6d-82be-f7d4b1bdc890",
   "metadata": {
    "id": "H3qXQfJ-WtUp",
    "tags": []
   },
   "source": [
    "__4.__ Найти ранг матрицы:\n",
    "\n",
    "   а) $\\begin{pmatrix}\n",
    "1 & 2 & 3\\\\ \n",
    "1 & 1 & 1\\\\ \n",
    "2 & 3 & 4\n",
    "\\end{pmatrix};$\n",
    "\n",
    "   б) $\\begin{pmatrix}\n",
    "0 & 0 & 2 & 1\\\\ \n",
    "0 & 0 & 2 & 2\\\\ \n",
    "0 & 0 & 4 & 3\\\\ \n",
    "2 & 3 & 5 & 6\n",
    "\\end{pmatrix}.$"
   ]
  },
  {
   "cell_type": "markdown",
   "id": "f172c748-893e-443c-91aa-a3e5a5e1b81f",
   "metadata": {},
   "source": [
    "а) 3 строка - это сумма 1 и 2, убираем ее. Оставшиеся строки линейно не зависят друг от друга, значит ранг матрицы 2.\n",
    "\n",
    "б) 3 строка - это сумма 1 и 2, убираем ее. Оставшиеся строки линейно не зависят друг от друга, значит ранг матрицы 3."
   ]
  },
  {
   "cell_type": "code",
   "execution_count": null,
   "id": "c49bff03-8c4e-4263-a71c-56c8b76f614e",
   "metadata": {},
   "outputs": [],
   "source": []
  },
  {
   "cell_type": "code",
   "execution_count": null,
   "id": "f7fa86f1-dcbd-44d9-b243-9fc5602fb7f2",
   "metadata": {},
   "outputs": [],
   "source": []
  }
 ],
 "metadata": {
  "kernelspec": {
   "display_name": "Python 3",
   "language": "python",
   "name": "python3"
  },
  "language_info": {
   "codemirror_mode": {
    "name": "ipython",
    "version": 3
   },
   "file_extension": ".py",
   "mimetype": "text/x-python",
   "name": "python",
   "nbconvert_exporter": "python",
   "pygments_lexer": "ipython3",
   "version": "3.9.4"
  }
 },
 "nbformat": 4,
 "nbformat_minor": 5
}

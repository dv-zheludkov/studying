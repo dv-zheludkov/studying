{
 "cells": [
  {
   "cell_type": "markdown",
   "id": "e0bb10d3-b3c0-452a-8f67-a484e0cb071b",
   "metadata": {
    "id": "NaYoffkueD8U"
   },
   "source": [
    "__1.__ Исследовать на линейную зависимость:\n",
    "\n",
    "$$f_{1}(x)=e^{x}, f_{2}(x)=1, f_{3}(x)=x+1, f_{4}(x)=x-e^{x}.$$\n"
   ]
  },
  {
   "cell_type": "markdown",
   "id": "9900928a-8f9b-49ed-a069-bd21248ef5ca",
   "metadata": {},
   "source": [
    "$f_{4}(x) = f_{3}(x) - f_{2}(x) - f_{1}(x)$\n",
    "\n",
    "Функции линейно зависимы."
   ]
  },
  {
   "cell_type": "code",
   "execution_count": null,
   "id": "c421fb36-ad70-48af-84e3-06af9b1f2ff0",
   "metadata": {},
   "outputs": [],
   "source": []
  },
  {
   "cell_type": "markdown",
   "id": "cc08d24a-d3de-49fc-9b6b-1e7d18c5a9aa",
   "metadata": {
    "id": "cECfCSANkVqR"
   },
   "source": [
    "__2.__ Исследовать на линейную зависимость:\n",
    "$$f_{1}(x)=2, f_{2}(x)=x, f_{3}(x)=x^{2}, f_{4}(x)=(x+1)^{2}$$"
   ]
  },
  {
   "cell_type": "markdown",
   "id": "abed55c0-d3e0-48ef-94d6-c07ac67eccca",
   "metadata": {},
   "source": [
    "$f_{4}(x) = x^{2} + 2x + 1$ \n",
    "\n",
    "$f_{4}(x) = f_{3}(x) + 2f_{2}(x) + \\frac{1}{2}f_{1}(x)$\n",
    "\n",
    "Функции линейно зависимы."
   ]
  },
  {
   "cell_type": "code",
   "execution_count": null,
   "id": "3913588a-481b-4528-b140-d17349d4a948",
   "metadata": {},
   "outputs": [],
   "source": []
  },
  {
   "cell_type": "markdown",
   "id": "2b277989-a95c-420d-99fe-d9315d8adaa7",
   "metadata": {
    "id": "DFrjdtbHkVqS"
   },
   "source": [
    "__3.__ Найти координаты вектора $x = (2, 3, 5)\\in \\mathbb{R}^{3}$ в базисе $b_{1}=(0, 0, 10)$, $b_{2}=(2, 0, 0)$, $b_{3}=(0, 1, 0)$.\n"
   ]
  },
  {
   "cell_type": "markdown",
   "id": "f99bac64-fb7e-4362-81af-2b42e8f1e280",
   "metadata": {},
   "source": [
    "$\\begin{cases}\n",
    "  x_{1}*10 = 5\\\\\n",
    "  x_{2}*2 = 2\\\\\n",
    "  x_{3}*1 = 3\n",
    "\\end{cases}$\n",
    "\n",
    "$x_{1} = \\frac{1}{2}, x_{2} = 1, x_{3} = 3$\n",
    "\n",
    "Координаты вектора в базисе $x_{b} = (1, 3, \\frac{1}{2})$"
   ]
  },
  {
   "cell_type": "code",
   "execution_count": null,
   "id": "8a5168fe-cedf-47f7-8326-1c945255214e",
   "metadata": {},
   "outputs": [],
   "source": []
  },
  {
   "cell_type": "markdown",
   "id": "7e83166d-37ed-45e9-bd91-b4659eb89dc5",
   "metadata": {
    "id": "5la-eVLukVqT"
   },
   "source": [
    "##__4.__ Найти координаты вектора $3x^{2}-2x+2\\in\\mathbb{R}^{3}[x]$:\n",
    "\n",
    "а) в базисе $1$, $x$, $x^{2}$;\n",
    "\n",
    "б) в базисе $x^{2}$, $x-1$, $1$."
   ]
  },
  {
   "cell_type": "markdown",
   "id": "39ab9d40-e3cc-4107-aa59-a3b44828965e",
   "metadata": {},
   "source": [
    "а)Обозначим базис: $e_{1} = 1, e_{2} = x, e_{3} = x^{2}$ \n",
    "\n",
    "Тогда функция в базисе: $3e_{3} - 2e_{2} + 2e_{1}$"
   ]
  },
  {
   "cell_type": "markdown",
   "id": "8be0975a-a335-4c4a-8b0f-74b5e5afd9af",
   "metadata": {
    "id": "jmw8M7Ox4ms2"
   },
   "source": [
    "б)Обозначим функцию как f(x), базис: $e_{1} = x^{2}, e_{2} = x-1, e_{3} = 1$ \n",
    "\n",
    "$f(x) = \\alpha_{1}e_{1} + \\alpha_{2}e_{2} + \\alpha_{3}e_{3}$\n",
    "\n",
    "$3x^{2} - 2x + 2 = \\alpha_{1}x^{2} + \\alpha_{2}x - \\alpha_{2} + \\alpha_{3}$\n",
    "\n",
    "Получаем:\n",
    "$\\begin{cases}\n",
    "  \\alpha_{1} = 3,\\\\\n",
    "  \\alpha_{2} = -2,\\\\\n",
    "  \\alpha_{3} - \\alpha_{2} = 2\n",
    "  \\end{cases}$\n",
    "  \n",
    "Тогда $\\alpha_{1} = 3, \\alpha_{2} = -2, \\alpha_{3} = 0$"
   ]
  },
  {
   "cell_type": "markdown",
   "id": "b0fe4a51-92dc-416f-ba07-56fcec6de141",
   "metadata": {
    "id": "kQlell_GkVqU"
   },
   "source": [
    "##__5.__ Установить, является ли линейным подпространством:\n",
    "\n",
    "а) совокупность всех векторов трехмерного пространства, у которых по крайней мере одна из первых двух координат равна нулю;\n",
    "    \n",
    "б) все векторы, являющиеся линейными комбинациями данных векторов $\\{u_{1}, u_{2}, \\ldots, u_{n}\\}$."
   ]
  },
  {
   "cell_type": "markdown",
   "id": "3385f315-bcda-4c98-b6d2-6085abfeeb82",
   "metadata": {},
   "source": [
    "а)Все вектора имеют вид $(0, x_{2}, x_{3})$ или $(x_{1}, 0, x_{3})$\n",
    "\n",
    "Обозначим множество таких векторов L. Проверим, является ли множество таких векторов подпространством:\n",
    "\n",
    "$(0, x_{2}, x_{3}) + (0, x'_{2}, x'_{3}) = (0, x_{2} + x'_{2}, x_{3} + x'_{3}) \\in L\\\\\n",
    "\\alpha\\cdot(0, x_{2}, x_{3}) = (0, \\alpha x_{2}, \\alpha x_{3}) \\in L\\\\\n",
    "(x_{1}, 0, x_{3}) + (x'_{1}, 0, x'_{3}) = (x_{1} + x'_{1}, 0, x_{3} + x'_{3}) \\in L\\\\\n",
    "\\alpha\\cdot(x_{1}, 0, x_{3}) = (\\alpha x_{1}, 0, \\alpha x_{3}) \\in L$\n",
    "\n",
    "Следовательно L - подпространство $\\mathbb{R}^{3}$"
   ]
  },
  {
   "cell_type": "markdown",
   "id": "47e51a98-8071-45e8-ad92-0d3a2bf07fa9",
   "metadata": {},
   "source": [
    "б)Обозначим множество таких векторов L. \n",
    "Каждый вектор можно записать в виде $\\alpha_{1}u_{1} + \\alpha_{2}u_{2} + ... + \\alpha_{n}u_{n}$. Пусть g,h $\\in L$\n",
    "\n",
    "$g + h = \\alpha_{1}u_{1} + \\alpha_{2}u_{2} + ... + \\alpha_{n}u_{n} + \\beta_{1}u_{1} + \\beta_{2}u_{2} + ... + \\beta_{n}u_{n} = (\\alpha_{1} + \\beta_{1})u_{1} + ... + (\\alpha_{n} + \\beta_{n})u_{n} \\in L\\\\\n",
    "k\\cdot g = k\\alpha_{1}u_{1} + k\\alpha_{2}u_{2} + ... + k\\alpha_{n}u_{n} \\in L\\\\\n",
    "$\n",
    "Следовательно L - подпространство $\\mathbb{R}^{l}$, где l - размерность данных векторов."
   ]
  },
  {
   "cell_type": "code",
   "execution_count": 1,
   "id": "41490c25-2aa5-4208-b085-3cfe596c1509",
   "metadata": {},
   "outputs": [],
   "source": [
    "import numpy as np"
   ]
  },
  {
   "cell_type": "markdown",
   "id": "b9e73fa5-f9c3-4add-b98b-08a6457f31d8",
   "metadata": {
    "id": "81d4BnNXc7cy"
   },
   "source": [
    "__1.__ Найти скалярное произведение векторов $x, y \\in \\mathbb{R}$:<br>\n",
    "а) $x=(0,-3, 6),~y=(-4, 7, 9);$<br>\n",
    "б) $x=(7, -4, 0, 1),~y=(-3, 1, 11, 2).$"
   ]
  },
  {
   "cell_type": "code",
   "execution_count": 2,
   "id": "8b4d2e9b-0dc9-4bdd-95da-8d095f3ffa52",
   "metadata": {},
   "outputs": [
    {
     "data": {
      "text/plain": [
       "33"
      ]
     },
     "execution_count": 2,
     "metadata": {},
     "output_type": "execute_result"
    }
   ],
   "source": [
    "x = np.array([0,-3,6])\n",
    "y = np.array([-4,7,9])\n",
    "x.dot(y)"
   ]
  },
  {
   "cell_type": "code",
   "execution_count": 3,
   "id": "a3021d00-3ed3-4089-9bc5-3753a05ec09e",
   "metadata": {},
   "outputs": [
    {
     "data": {
      "text/plain": [
       "-23"
      ]
     },
     "execution_count": 3,
     "metadata": {},
     "output_type": "execute_result"
    }
   ],
   "source": [
    "x = np.array([7,-4,0,1])\n",
    "y = np.array([-3,1,11,2])\n",
    "x.dot(y)"
   ]
  },
  {
   "cell_type": "markdown",
   "id": "a3a22a47-fe6e-4fbc-9766-8ac5f20ad99b",
   "metadata": {
    "id": "81d4BnNXc7cy"
   },
   "source": [
    "__2.__ Найти нормы векторов $(4, 2, 4)$ и $(12, 3, 4)$ и угол между ними."
   ]
  },
  {
   "cell_type": "code",
   "execution_count": 4,
   "id": "4ab7261f-85ce-422f-977f-24c5fac7baef",
   "metadata": {},
   "outputs": [
    {
     "name": "stdout",
     "output_type": "stream",
     "text": [
      "6.0\n",
      "13.0\n",
      "0.456874003532661\n"
     ]
    }
   ],
   "source": [
    "a = np.array([4,2,4])\n",
    "b = np.array([12,3,4])\n",
    "print(np.linalg.norm(a))\n",
    "print(np.linalg.norm(b))\n",
    "phi = a.dot(b)/(np.linalg.norm(a)*np.linalg.norm(b))\n",
    "print(np.arccos(phi))"
   ]
  },
  {
   "cell_type": "code",
   "execution_count": null,
   "id": "62087428-6ec6-49b5-833b-6d81260a8813",
   "metadata": {},
   "outputs": [],
   "source": []
  },
  {
   "cell_type": "markdown",
   "id": "6ca41f3f-77fb-446e-a73a-901ea5cf1bf6",
   "metadata": {
    "id": "81d4BnNXc7cy"
   },
   "source": [
    "__3.__ Будет ли линейное пространство евклидовым, если за скалярное произведение принять:<br>\n",
    "а) произведение длин векторов;<br>\n",
    "б) утроенное обычное скалярное произведение векторов?<br>\n",
    "   "
   ]
  },
  {
   "cell_type": "markdown",
   "id": "ce8401e0-4f7f-45ce-a89c-7354a8813728",
   "metadata": {},
   "source": [
    "а)Проверим 4 аксиомы:\n",
    "\n",
    "1) (x,y) = (y,x) из-за коммутативности операции умножения\n",
    "\n",
    "2) $(\\lambda x,y) = \\lambda (x,y)$ - из-за ассоциативности операции умножения.\n",
    "\n",
    "3) $(x_{1} + x_{2},y) = (x_{1},y) + (x_{2},y)$ - из-за дистрибутивности умножения относительно сложения\n",
    "\n",
    "4) $(x,x) \\geq 0$, причем $(x,x) = 0 \\Leftrightarrow x = 0$  - длина вектора всегда $\\geq$ 0, произведение равно - только если один из множителей = 0\n",
    "\n",
    "Вывод: пространство Евклидово"
   ]
  },
  {
   "cell_type": "markdown",
   "id": "80d0e023-b2f0-4a4f-a8f4-a21c8d4e575e",
   "metadata": {},
   "source": [
    "б)В этом случае все аксиомы будут соблюдаться, из-за свойства 2 скалярного произведения.\n",
    "\n",
    "Вывод: пространство Евклидово."
   ]
  },
  {
   "cell_type": "code",
   "execution_count": null,
   "id": "ec6e132d-e6d6-4829-afa3-a09788de0bea",
   "metadata": {},
   "outputs": [],
   "source": []
  },
  {
   "cell_type": "markdown",
   "id": "0f66662e-2514-48ed-a94e-47f3100a830b",
   "metadata": {
    "id": "81d4BnNXc7cy"
   },
   "source": [
    "   \n",
    "__4.__ Какие из нижеперечисленных векторов образуют ортонормированный базис в линейном пространстве $\\mathbb{R}^{3}$:<br>\n",
    "а) $(1,0,0),(0,0,1);$ <br>\n",
    "б) $(1/\\sqrt{2},-1/\\sqrt{2},0),(1/\\sqrt{2},1/\\sqrt{2},0), (0,0,1);$<br>\n",
    "в) $(1/2, -1/2, 0), (0, 1/2, 1/2), (0,0,1);$<br>\n",
    "г) $(1,0,0),(0,1,0),(0,0,1)?$ "
   ]
  },
  {
   "cell_type": "markdown",
   "id": "1f4b8e8c-cb5d-4ce2-98f0-d6c507f56c93",
   "metadata": {},
   "source": [
    "Ответ: б) и г)"
   ]
  },
  {
   "cell_type": "code",
   "execution_count": null,
   "id": "3903b566-d557-4263-9d1e-e5f229bb024f",
   "metadata": {},
   "outputs": [],
   "source": []
  },
  {
   "cell_type": "code",
   "execution_count": null,
   "id": "ba5cb5de-d890-4b02-a651-bc90e9527b9d",
   "metadata": {},
   "outputs": [],
   "source": []
  }
 ],
 "metadata": {
  "kernelspec": {
   "display_name": "Python 3",
   "language": "python",
   "name": "python3"
  },
  "language_info": {
   "codemirror_mode": {
    "name": "ipython",
    "version": 3
   },
   "file_extension": ".py",
   "mimetype": "text/x-python",
   "name": "python",
   "nbconvert_exporter": "python",
   "pygments_lexer": "ipython3",
   "version": "3.9.4"
  }
 },
 "nbformat": 4,
 "nbformat_minor": 5
}

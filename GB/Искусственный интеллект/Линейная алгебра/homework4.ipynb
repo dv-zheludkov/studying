{
 "cells": [
  {
   "cell_type": "code",
   "execution_count": 1,
   "id": "0d1ed0ce-1c9f-48ce-9716-201422989dc1",
   "metadata": {},
   "outputs": [],
   "source": [
    "import numpy as np\n",
    "from numpy import linalg\n",
    "import scipy\n",
    "import scipy.linalg as la\n",
    "import scipy.optimize\n",
    "import matplotlib.pyplot as plt\n",
    "%matplotlib inline\n"
   ]
  },
  {
   "cell_type": "markdown",
   "id": "ab85fde9-a7e7-4bc3-8a6b-4632067345e9",
   "metadata": {},
   "source": [
    "## Задача 1."
   ]
  },
  {
   "cell_type": "markdown",
   "id": "ae7be77b-4aa1-4b00-acef-16d74ea83ad8",
   "metadata": {},
   "source": [
    "Решить систему уравнений методом Гаусса:\n",
    "\n",
    "$$\\begin{cases}\n",
    "x_{1}+x_{2}-x_{3}-2x_{4}=0, \\\\\n",
    "2x_{1}+x_{2}-x_{3}+x_{4}=-2, \\\\\n",
    "x_{1}+x_{2}-3x_{3}+x_{4}=4.\n",
    "\\end{cases}$$\n"
   ]
  },
  {
   "cell_type": "markdown",
   "id": "275a2858-cf91-47cd-8445-87516af285b4",
   "metadata": {},
   "source": [
    "#### Решение"
   ]
  },
  {
   "cell_type": "markdown",
   "id": "22bd9edb-0018-4c25-a5a1-173f56ce2bef",
   "metadata": {},
   "source": [
    "$\\begin{pmatrix}\n",
    "\\left.\\begin{matrix}\n",
    "1 & 1 & -1 & -2\\\\\n",
    "2 & 1 & -1 & 1\\\\\n",
    "1 & 1 & -3 & 1\n",
    "\\end{matrix}\\right|\n",
    "\\begin{matrix}\n",
    "0\\\\\n",
    "-2\\\\\n",
    "4\n",
    "\\end{matrix}\n",
    "\\end{pmatrix}->\n",
    "\\begin{pmatrix}\n",
    "\\left.\\begin{matrix}\n",
    "1 & 1 & -1 & -2\\\\\n",
    "2 & 1 & -1 & 1\\\\\n",
    "0 & 0 & -2 & 3\n",
    "\\end{matrix}\\right|\n",
    "\\begin{matrix}\n",
    "0\\\\\n",
    "-2\\\\\n",
    "4\n",
    "\\end{matrix}\n",
    "\\end{pmatrix}->\n",
    "\\begin{pmatrix}\n",
    "\\left.\\begin{matrix}\n",
    "1 & 1 & -1 & -2\\\\\n",
    "0 & -1 & 1 & 5\\\\\n",
    "0 & 0 & -2 & 3\n",
    "\\end{matrix}\\right|\n",
    "\\begin{matrix}\n",
    "0\\\\\n",
    "-2\\\\\n",
    "4\n",
    "\\end{matrix}\n",
    "\\end{pmatrix}$\n",
    "\n",
    "Ответ:\n",
    "\n",
    "$\\begin{cases}\n",
    "x_{3} = \\frac{3}{2}x_{4} - 2\\\\\n",
    "x_{2} = \\frac{13}{2}x_{4}\\\\\n",
    "x_{1} = -3x_{4} - 2\n",
    "\\end{cases}, x_{4} \\in \\mathbb{R}$"
   ]
  },
  {
   "cell_type": "markdown",
   "id": "8356f4f3-f35b-424e-b83c-9bb31b69c373",
   "metadata": {},
   "source": [
    "## Задача 2."
   ]
  },
  {
   "cell_type": "markdown",
   "id": "a6026729-dd97-4238-b2de-64360d4d9f7c",
   "metadata": {},
   "source": [
    "Проверить на совместность и выяснить, сколько решений будет иметь система линейных уравнений:\n",
    "\n",
    "   а) $\\begin{cases}\n",
    "3x_{1}-x_{2}+x_{3}=4, \\\\\n",
    "2x_{1}-5x_{2}-3x_{3}=-17, \\\\\n",
    "x_{1}+x_{2}-x_{3}=0;\n",
    "\\end{cases}$\n",
    "    \n",
    "   б) $\\begin{cases}\n",
    "2x_{1}-4x_{2}+6x_{3}=1, \\\\\n",
    "x_{1}-2x_{2}+3x_{3}=-2, \\\\\n",
    "3x_{1}-6x_{2}+9x_{3}=5;\n",
    "\\end{cases}$\n",
    "    \n",
    "   в) $\\begin{cases}\n",
    "x_{1}+2x_{2}+5x_{3}=4, \\\\\n",
    "3x_{1}+x_{2}-8x_{3}=-2. \n",
    "\\end{cases}$\n"
   ]
  },
  {
   "cell_type": "markdown",
   "id": "708959db-6e5c-4175-832a-a96290d925b6",
   "metadata": {},
   "source": [
    "#### Решение"
   ]
  },
  {
   "cell_type": "markdown",
   "id": "74f33bac-e326-46c2-8fa9-3299c22db8ea",
   "metadata": {},
   "source": [
    "а)$\\begin{pmatrix}\n",
    "\\left.\\begin{matrix}\n",
    "3 & -1 & 1 \\\\\n",
    "2 & -5 & -3 \\\\\n",
    "1 & 1 & -1 \n",
    "\\end{matrix}\\right|\n",
    "\\begin{matrix}\n",
    "4\\\\\n",
    "-17\\\\\n",
    "0\n",
    "\\end{matrix}\n",
    "\\end{pmatrix}->\n",
    "\\begin{pmatrix}\n",
    "\\left.\\begin{matrix}\n",
    "1 & 1 & -1 \\\\\n",
    "2 & -5 & -3 \\\\\n",
    "0 & -4 & 4 \n",
    "\\end{matrix}\\right|\n",
    "\\begin{matrix}\n",
    "0\\\\\n",
    "-17\\\\\n",
    "4\n",
    "\\end{matrix}\n",
    "\\end{pmatrix}->\n",
    "\\begin{pmatrix}\n",
    "\\left.\\begin{matrix}\n",
    "1 & 1 & -1 \\\\\n",
    "0 & -7 & -1 \\\\\n",
    "0 & 1 & -1 \n",
    "\\end{matrix}\\right|\n",
    "\\begin{matrix}\n",
    "0\\\\\n",
    "-17\\\\\n",
    "-1\n",
    "\\end{matrix}\n",
    "\\end{pmatrix}->\n",
    "\\begin{pmatrix}\n",
    "\\left.\\begin{matrix}\n",
    "1 & 1 & -1 \\\\\n",
    "0 & -7 & -1 \\\\\n",
    "0 & 0 & -8 \n",
    "\\end{matrix}\\right|\n",
    "\\begin{matrix}\n",
    "0\\\\\n",
    "-17\\\\\n",
    "-24\n",
    "\\end{matrix}\n",
    "\\end{pmatrix}$\n",
    "\n",
    "Ответ:\n",
    "\n",
    "система совместна и будет иметь единственное решение.\n",
    "\n",
    "б)$\n",
    "\\begin{pmatrix}\n",
    "\\left.\\begin{matrix}\n",
    "2 & -4 & 6 \\\\\n",
    "1 & -2 & 3 \\\\\n",
    "3 & -6 & 9 \n",
    "\\end{matrix}\\right|\n",
    "\\begin{matrix}\n",
    "1\\\\\n",
    "-2\\\\\n",
    "5\n",
    "\\end{matrix}\n",
    "\\end{pmatrix}->\n",
    "\\begin{pmatrix}\n",
    "\\left.\\begin{matrix}\n",
    "1 & -2 & 3 \\\\\n",
    "2 & -4 & 6 \\\\\n",
    "3 & -6 & 9 \n",
    "\\end{matrix}\\right|\n",
    "\\begin{matrix}\n",
    "-2\\\\\n",
    "1\\\\\n",
    "5\n",
    "\\end{matrix}\n",
    "\\end{pmatrix}->\n",
    "\\begin{pmatrix}\n",
    "\\left.\\begin{matrix}\n",
    "1 & -2 & 3 \\\\\n",
    "0 & 0 & 0 \\\\\n",
    "3 & -6 & 9 \n",
    "\\end{matrix}\\right|\n",
    "\\begin{matrix}\n",
    "-2\\\\\n",
    "5\\\\\n",
    "5\n",
    "\\end{matrix}\n",
    "\\end{pmatrix}$\n",
    "\n",
    "Ответ:\n",
    "\n",
    "система несовместна и не имеет решений.\n",
    "\n",
    "в)$\n",
    "\\begin{pmatrix}\n",
    "\\left.\\begin{matrix}\n",
    "1 & 2 & 5\\\\\n",
    "3 & 1 & -8 \n",
    "\\end{matrix}\\right|\n",
    "\\begin{matrix}\n",
    "4\\\\\n",
    "-2\n",
    "\\end{matrix}\n",
    "\\end{pmatrix}->\n",
    "\\begin{pmatrix}\n",
    "\\left.\\begin{matrix}\n",
    "1 & 2 & 5\\\\\n",
    "0 & -5 & -23 \n",
    "\\end{matrix}\\right|\n",
    "\\begin{matrix}\n",
    "4\\\\\n",
    "-14\n",
    "\\end{matrix}\n",
    "\\end{pmatrix}$\n",
    "\n",
    "Ответ:\n",
    "\n",
    "система совместна и имеет бесконечное кол-во решений."
   ]
  },
  {
   "cell_type": "code",
   "execution_count": 2,
   "id": "32c135b1-aa7d-477f-8736-5fc70bcd0ba8",
   "metadata": {},
   "outputs": [
    {
     "name": "stdout",
     "output_type": "stream",
     "text": [
      "а\n",
      "Система совместна и имеет единственное решение\n",
      "б\n",
      "Система несовместна, решений нет\n",
      "в\n",
      "Система совместна и имеет бесконечное число решений\n"
     ]
    }
   ],
   "source": [
    "def sovmest(A, A_w):\n",
    "    if linalg.matrix_rank(A) == linalg.matrix_rank(A_w):\n",
    "        if linalg.matrix_rank(A) == A.shape[1]:\n",
    "            print(f'Система совместна и имеет единственное решение')\n",
    "        elif linalg.matrix_rank(A) < A.shape[1]:\n",
    "            print(f'Система совместна и имеет бесконечное число решений') \n",
    "    elif linalg.matrix_rank(A) < linalg.matrix_rank(A_w):\n",
    "        print(f'Система несовместна, решений нет')\n",
    "        \n",
    "A = np.array([[3, -1, 1],[2, -5, -3], [1, 1, -1]])\n",
    "A_w = np.append(A, np.array([[4],[-17], [0]]), axis=1)\n",
    "print(\"а\")\n",
    "sovmest(A, A_w)\n",
    "\n",
    "A = np.array([[2, -4, 6],[1, -2, 3], [3, -6, 9]])\n",
    "A_w = np.append(A, np.array([[1],[-2], [5]]), axis=1)\n",
    "print(\"б\")\n",
    "sovmest(A, A_w)\n",
    "\n",
    "A = np.array([[1, 2, 5],[3, 1, -8]])\n",
    "A_w = np.append(A, np.array([[4],[-2]]), axis=1)\n",
    "print(\"в\")\n",
    "sovmest(A, A_w)"
   ]
  },
  {
   "cell_type": "markdown",
   "id": "959bc8f1-bdd6-4b3c-afb5-d430c2e4574f",
   "metadata": {},
   "source": [
    "## Задача 3. \n"
   ]
  },
  {
   "cell_type": "markdown",
   "id": "1e3fc504-4662-471b-847c-994382a4509c",
   "metadata": {},
   "source": [
    "Проверить на совместность и выяснить, сколько решений будет иметь система линейных уравнений, заданная расширенной матрицей\n",
    "\n",
    "$$\\tilde{A}=\\begin{pmatrix}\n",
    "\\left.\\begin{matrix}\n",
    "1 & 3 & -2 & 4\\\\ \n",
    "0 & 5 & 0 & 1\\\\ \n",
    "0 & 0 & 3 & 0\\\\ \n",
    "0 & 0 & 0 & 2\n",
    "\\end{matrix}\\right|\n",
    "\\begin{matrix}\n",
    "3\\\\ \n",
    "2\\\\\n",
    "4\\\\\n",
    "1\n",
    "\\end{matrix}\n",
    "\\end{pmatrix}.$$"
   ]
  },
  {
   "cell_type": "markdown",
   "id": "46e4e23e-0498-4cee-a2fe-13cf0e4cad35",
   "metadata": {},
   "source": [
    "#### Решение"
   ]
  },
  {
   "cell_type": "markdown",
   "id": "0ecdd2bf-a360-4db1-b1c6-4ee6e866bb1c",
   "metadata": {},
   "source": [
    "Ранг дополненной матрицы равен рангу основной и равен числу переменных, значит система совместна и имеет единственное решение."
   ]
  },
  {
   "cell_type": "code",
   "execution_count": 3,
   "id": "03e37256-606a-4958-995e-11588d2c076e",
   "metadata": {},
   "outputs": [
    {
     "name": "stdout",
     "output_type": "stream",
     "text": [
      "Система совместна и имеет единственное решение\n"
     ]
    }
   ],
   "source": [
    "A = np.array([[1, 3, -2, 4],[0, 5, 0, 1], [0, 0, 3, 0], [0, 0, 0, 2]])\n",
    "A_w = np.append(A, np.array([[3],[2],[4],[1]]), axis=1)\n",
    "sovmest(A, A_w)"
   ]
  },
  {
   "cell_type": "markdown",
   "id": "388a7579-459d-4537-95c5-05c1386cb582",
   "metadata": {},
   "source": [
    "## Задача 4."
   ]
  },
  {
   "cell_type": "markdown",
   "id": "567c0e1a-de82-4feb-a295-ea435d09f35b",
   "metadata": {},
   "source": [
    "Дана система линейных уравнений, заданная расширенной матрицей\n",
    "\n",
    "$$\\tilde{A}=\\begin{pmatrix}\n",
    "\\left.\\begin{matrix}\n",
    "1 & 2 & 3\\\\ \n",
    "4 & 5 & 6\\\\ \n",
    "7 & 8 & 9\n",
    "\\end{matrix}\\right|\n",
    "\\begin{matrix}\n",
    "a\\\\ \n",
    "b\\\\\n",
    "c\n",
    "\\end{matrix}\n",
    "\\end{pmatrix}.$$\n",
    "\n",
    "Найти соотношение между параметрами $a$, $b$ и $c$, при которых система является несовместной."
   ]
  },
  {
   "cell_type": "markdown",
   "id": "ee9e38cf-6c56-47e6-856f-e1c229b0075f",
   "metadata": {},
   "source": [
    "#### Решение"
   ]
  },
  {
   "cell_type": "markdown",
   "id": "2aa9c860-dea7-4f17-842f-47153535decf",
   "metadata": {},
   "source": [
    "$\n",
    "\\begin{pmatrix}\n",
    "\\left.\\begin{matrix}\n",
    "1 & 2 & 3\\\\ \n",
    "4 & 5 & 6\\\\ \n",
    "7 & 8 & 9\n",
    "\\end{matrix}\\right|\n",
    "\\begin{matrix}\n",
    "a\\\\ \n",
    "b\\\\\n",
    "c\n",
    "\\end{matrix}\n",
    "\\end{pmatrix}->\n",
    "\\begin{pmatrix}\n",
    "\\left.\\begin{matrix}\n",
    "1 & 2 & 3\\\\ \n",
    "0 & -3 & -6\\\\ \n",
    "0 & -6 & -12\n",
    "\\end{matrix}\\right|\n",
    "\\begin{matrix}\n",
    "a\\\\ \n",
    "b-4a\\\\\n",
    "c-7a\n",
    "\\end{matrix}\n",
    "\\end{pmatrix}->\n",
    "\\begin{pmatrix}\n",
    "\\left.\\begin{matrix}\n",
    "1 & 2 & 3\\\\ \n",
    "0 & 1 & 2\\\\ \n",
    "0 & 0 & 0\n",
    "\\end{matrix}\\right|\n",
    "\\begin{matrix}\n",
    "a\\\\ \n",
    "\\frac{4a-b}{3}\\\\\n",
    "c+a-2b\n",
    "\\end{matrix}\n",
    "\\end{pmatrix}$\n",
    "\n",
    "Cистема будет совместной при c+a-2b=0. \n",
    "\n",
    "Во всех остальных случаях система будет несовместна."
   ]
  },
  {
   "cell_type": "markdown",
   "id": "99b74a90-06ab-4c7c-a7f9-9ec135cb895d",
   "metadata": {},
   "source": [
    "## Задача 1."
   ]
  },
  {
   "cell_type": "markdown",
   "id": "27e41cbd-0fe4-4d51-9e9a-30b47d82bc90",
   "metadata": {},
   "source": [
    "Решить систему уравнений методом Крамера:\n",
    "\n",
    "   а) $\\begin{cases}\n",
    "x_{1}-2x_{2}=1 \\\\\n",
    "3x_{1}-4x_{2}=7\n",
    "\\end{cases}$\n",
    "    \n",
    "   б) $\\begin{cases}\n",
    "2x_{1}-x_{2}+5x_{3}=10 \\\\\n",
    "x_{1}+x_{2}-3x_{3}=-2 \\\\\n",
    "2x_{1}+4x_{2}+x_{3}=1\n",
    "\\end{cases}$"
   ]
  },
  {
   "cell_type": "markdown",
   "id": "40c0155f-8e2e-4380-91b5-e4c2b01ff01a",
   "metadata": {},
   "source": [
    "#### Решение"
   ]
  },
  {
   "cell_type": "markdown",
   "id": "a3e04357-011f-473b-baef-09a177966744",
   "metadata": {},
   "source": [
    "а)$A = \n",
    "\\begin{vmatrix}\n",
    "1 & -2\\\\\n",
    "3 & -4\n",
    "\\end{vmatrix} = 2,$ $A_{1} = \\begin{vmatrix}\n",
    "1 & -2\\\\\n",
    "7 & -4\n",
    "\\end{vmatrix} = 10,$ $A_{2} = \\begin{vmatrix}\n",
    "1 & 1\\\\\n",
    "3 & 7\n",
    "\\end{vmatrix} = 4.$\n",
    "\n",
    "$x_{1} = \\frac{A_{1}}{A} = 5,$ \n",
    "\n",
    "$x_{2} = \\frac{A_{2}}{A} = 2$\n",
    "\n",
    "\n",
    "б)$A = \\begin{vmatrix}\n",
    "2 & -1 & 5\\\\\n",
    "1 & 1 & -3\\\\\n",
    "2 & 4 & 1\n",
    "\\end{vmatrix} = 2+20+6-10+24+1=43$, \n",
    "$A_{1} = \\begin{vmatrix}\n",
    "10 & -1 & 5\\\\\n",
    "-2 & 1 & -3\\\\\n",
    "1 & 4 & 1\n",
    "\\end{vmatrix} = 10-40+3-5+120-2=86$, \n",
    "$A_{2} = \\begin{vmatrix}\n",
    "2 & 10 & 5\\\\\n",
    "1 & -2 & -3\\\\\n",
    "2 & 1 & 1\n",
    "\\end{vmatrix} = -4+5-60+20+6-10=-43$, \n",
    "$A_{3} = \\begin{vmatrix}\n",
    "2 & -1 & 10\\\\\n",
    "1 & 1 & -2\\\\\n",
    "2 & 4 & 1\n",
    "\\end{vmatrix} = 2+40+4-20+16+1=43$,\n",
    "\n",
    "$x_{1} = \\frac{A_{1}}{A} = 2$,\n",
    "\n",
    "$x_{2} = \\frac{A_{2}}{A}=-1$,\n",
    "\n",
    "$x_{3} = \\frac{A_{3}}{A}=1$"
   ]
  },
  {
   "cell_type": "code",
   "execution_count": 4,
   "id": "919a57bb-c4e3-4c38-803e-6ed2f2d2233c",
   "metadata": {},
   "outputs": [
    {
     "name": "stdout",
     "output_type": "stream",
     "text": [
      "\n",
      "x1 = 5.0, \n",
      "x2 = 2.0\n"
     ]
    }
   ],
   "source": [
    "A = np.array([[1, -2,],[3, -4]])\n",
    "s = np.array([[1, 7]])\n",
    "A_1 = np.copy(A)\n",
    "A_1[::,0] = s\n",
    "A_2 = np.copy(A)\n",
    "A_2[::,1] = s\n",
    "x1 = round(linalg.det(A_1)/linalg.det(A), 4)\n",
    "x2 = round(linalg.det(A_2)/linalg.det(A), 4)\n",
    "print(f'\\nx1 = {x1}, \\nx2 = {x2}')"
   ]
  },
  {
   "cell_type": "code",
   "execution_count": 5,
   "id": "3205d360-bd7a-43f4-a413-3410f11e1995",
   "metadata": {},
   "outputs": [
    {
     "name": "stdout",
     "output_type": "stream",
     "text": [
      "\n",
      "x1 = 2.0, \n",
      "x2 = -1.0, \n",
      "x3 = 1.0\n"
     ]
    }
   ],
   "source": [
    "A = np.array([[2, -1, 5],[1, 1, -3], [2, 4, 1]])\n",
    "s = np.array([[10, -2, 1]])\n",
    "A_1 = np.copy(A)\n",
    "A_1[::,0] = s\n",
    "A_2 = np.copy(A)\n",
    "A_2[::,1] = s\n",
    "A_3 = np.copy(A)\n",
    "A_3[::,2] = s\n",
    "x1 = round(linalg.det(A_1)/linalg.det(A), 4)\n",
    "x2 = round(linalg.det(A_2)/linalg.det(A), 4)\n",
    "x3 = round(linalg.det(A_3)/linalg.det(A), 4)\n",
    "print(f'\\nx1 = {x1}, \\nx2 = {x2}, \\nx3 = {x3}')"
   ]
  },
  {
   "cell_type": "markdown",
   "id": "4068745d-e979-4153-b7fa-fdecd87661d5",
   "metadata": {},
   "source": [
    "## Задача 2."
   ]
  },
  {
   "cell_type": "markdown",
   "id": "6060226b-9f2e-4b31-b31c-8cf40ca1adec",
   "metadata": {},
   "source": [
    "Найти $L$-матрицу $LU$-разложения для матрицы коэффициентов:\n",
    "\n",
    "   а)$$\\begin{pmatrix}\n",
    "1 & 2 & 4 \\\\ \n",
    "2 & 9 & 12 \\\\ \n",
    "3 & 26 & 30\n",
    "\\end{pmatrix}$$\n",
    "    \n",
    "   б)$$\\begin{pmatrix}\n",
    "1 & 1 & 2 & 4\\\\ \n",
    "2 & 5 & 8 & 9\\\\ \n",
    "3 & 18 & 29 & 18\\\\\n",
    "4 & 22 & 53 & 33\n",
    "\\end{pmatrix}$$\n",
    "    "
   ]
  },
  {
   "cell_type": "markdown",
   "id": "1495b26b-1f43-4621-b9d6-da8d31c6a105",
   "metadata": {},
   "source": [
    "#### Решение"
   ]
  },
  {
   "cell_type": "markdown",
   "id": "a30d5f6f-f3a2-49b9-9514-68e41f2478e0",
   "metadata": {},
   "source": [
    "а)$\\begin{pmatrix}\n",
    "1 & 2 & 4 \\\\ \n",
    "2 & 9 & 12 \\\\ \n",
    "3 & 26 & 30\n",
    "\\end{pmatrix}->\n",
    "\\begin{pmatrix}\n",
    "1 & 2 & 4 \\\\ \n",
    "0 & 5 & 4 \\\\ \n",
    "0 & 20 & 18\n",
    "\\end{pmatrix}->\n",
    "\\begin{pmatrix}\n",
    "1 & 2 & 4 \\\\ \n",
    "0 & 5 & 4 \\\\ \n",
    "0 & 0 & 2\n",
    "\\end{pmatrix}$ \n",
    "\n",
    "Получаем L-матрицу: \n",
    "\n",
    "$\n",
    "\\begin{pmatrix}\n",
    "1 & 0 & 0\\\\\n",
    "2 & 1 & 0\\\\\n",
    "3 & 4 & 1\n",
    "\\end{pmatrix}$\n",
    "\n",
    "\n",
    "б)$\\begin{pmatrix}\n",
    "1 & 1 & 2 & 4\\\\ \n",
    "2 & 5 & 8 & 9\\\\ \n",
    "3 & 18 & 29 & 18\\\\\n",
    "4 & 22 & 53 & 33\n",
    "\\end{pmatrix}->\n",
    "\\begin{pmatrix}\n",
    "1 & 1 & 2 & 4\\\\ \n",
    "0 & 3 & 4 & 1\\\\ \n",
    "0 & 15 & 23 & 6\\\\\n",
    "0 & 18 & 45 & 17\n",
    "\\end{pmatrix}->\n",
    "\\begin{pmatrix}\n",
    "1 & 1 & 2 & 4\\\\ \n",
    "0 & 3 & 4 & 1\\\\ \n",
    "0 & 0 & 3 & 1\\\\\n",
    "0 & 0 & 21 & 11\n",
    "\\end{pmatrix}->\n",
    "\\begin{pmatrix}\n",
    "1 & 1 & 2 & 4\\\\ \n",
    "0 & 3 & 4 & 1\\\\ \n",
    "0 & 0 & 3 & 1\\\\\n",
    "0 & 0 & 0 & 4\n",
    "\\end{pmatrix}$\n",
    "\n",
    "Получаем L-матрицу:\n",
    "\n",
    "$\n",
    "\\begin{pmatrix}\n",
    "1 & 0 & 0 & 0\\\\\n",
    "2 & 1 & 0 & 0\\\\\n",
    "3 & 5 & 1 & 0\\\\\n",
    "4 & 6 & 7 & 1\n",
    "\\end{pmatrix}$"
   ]
  },
  {
   "cell_type": "markdown",
   "id": "037f50e0-5722-4377-b376-f41587ed299e",
   "metadata": {},
   "source": [
    "## Задача 3."
   ]
  },
  {
   "cell_type": "markdown",
   "id": "3f79c4db-5f6b-4033-9ac6-2dd97b2d2eb4",
   "metadata": {},
   "source": [
    "Решить систему линейных уравнений методом $LU$-разложения\n",
    "\n",
    "$$\\begin{cases}\n",
    "2x_{1}+x_{2}+3x_{3}=1 \\\\\n",
    "11x_{1}+7x_{2}+5x_{3}=-6 \\\\\n",
    "9x_{1}+8x_{2}+4x_{3}=-5\n",
    "\\end{cases}$$"
   ]
  },
  {
   "cell_type": "markdown",
   "id": "c2ba9f66-6189-4d63-a391-782bed2cd9f9",
   "metadata": {},
   "source": [
    "#### Решение"
   ]
  },
  {
   "cell_type": "markdown",
   "id": "293fe4d4-bd28-4329-8c16-19aa69aa2ba8",
   "metadata": {},
   "source": [
    "\n",
    "$\\begin{pmatrix}\n",
    "2 & 1 & 3\\\\\n",
    "11 & 7 & 5\\\\\n",
    "9 & 8 & 4\n",
    "\\end{pmatrix}->\n",
    "\\begin{pmatrix}\n",
    "2 & 1 & 3\\\\\n",
    "0 & 1.5 & -11.5\\\\\n",
    "0 & 3.5 & -9.5\n",
    "\\end{pmatrix}->\n",
    "\\begin{pmatrix}\n",
    "2 & 1 & 3\\\\\n",
    "0 & 1.5 & -11.5\\\\\n",
    "0 & 0 & \\frac{52}{3}\n",
    "\\end{pmatrix}$\n",
    "\n",
    "L-матрица:\n",
    "\n",
    "$\\begin{pmatrix}\n",
    "1 & 0 & 0\\\\\n",
    "5.5 & 1 & 0\\\\\n",
    "4.5 & \\frac{7}{3} & 1\n",
    "\\end{pmatrix}$\n",
    "\n",
    "Решим систему Ly=b:\n",
    "\n",
    "$\\begin{cases}\n",
    "y_{1} = 1\\\\\n",
    "5.5y_{1} + y_{2} = -6\\\\\n",
    "4.5y_{1} + \\frac{7}{3}y_{2} + y_{3} = -5\n",
    "\\end{cases}=>\\begin{cases}\n",
    "y_{1} = 1\\\\\n",
    "y_{2} = -11.5\\\\\n",
    "y_{3} = \\frac{52}{3}\n",
    "\\end{cases}$\n",
    "\n",
    "Решение системы:\n",
    "\n",
    "$\\begin{cases}\n",
    "2x_{1} + x_{2} + 3x_{3} = 1\\\\\n",
    "1.5x_{2} -11.5x_{3} = -11.5\\\\\n",
    "\\frac{52}{3}x_{3} = \\frac{52}{3}\n",
    "\\end{cases}=>\\begin{cases}\n",
    "x_{3} = 1\\\\\n",
    "x_{2} = 0\\\\\n",
    "x_{1} = -1\n",
    "\\end{cases}$"
   ]
  },
  {
   "cell_type": "code",
   "execution_count": 6,
   "id": "475a13db-c1cb-4011-a9d6-fec98a8141ba",
   "metadata": {},
   "outputs": [
    {
     "data": {
      "text/plain": [
       "array([[-1.],\n",
       "       [ 0.],\n",
       "       [ 1.]])"
      ]
     },
     "execution_count": 6,
     "metadata": {},
     "output_type": "execute_result"
    }
   ],
   "source": [
    "A_3 = np.array([[2,1,3],[11,7,5],[9,8,4]])\n",
    "b_3 = np.array([[1],[-6],[-5]])\n",
    "np.linalg.solve(A_3,b_3)"
   ]
  },
  {
   "cell_type": "markdown",
   "id": "672449b5-8364-42aa-be1c-d751e408011a",
   "metadata": {},
   "source": [
    "## Задача 4."
   ]
  },
  {
   "cell_type": "markdown",
   "id": "a48e414c-3f0d-4e9e-ba78-3aa6b395b71d",
   "metadata": {},
   "source": [
    "Решить систему линейных уравнений методом Холецкого\n",
    "\n",
    "$$\\begin{cases}\n",
    "81x_{1}-45x_{2}+45x_{3}=531 \\\\\n",
    "-45x_{1}+50x_{2}-15x_{3}=-460 \\\\\n",
    "45x_{1}-15x_{2}+38x_{3}=193\n",
    "\\end{cases}$$\n"
   ]
  },
  {
   "cell_type": "markdown",
   "id": "8ea91257-7814-444d-a59c-27773b3b6911",
   "metadata": {},
   "source": [
    "#### Решение"
   ]
  },
  {
   "cell_type": "markdown",
   "id": "1a3cc37a-c5c0-4c46-8c75-93e13b0713cc",
   "metadata": {},
   "source": [
    "$l_{11} = \\sqrt{81}=9\\\\\n",
    "l_{21} = \\frac{-45}{9}=-5\\\\\n",
    "l_{31} = \\frac{45}{9}=5\\\\\n",
    "l_{22} = \\sqrt{50-25}=5\\\\\n",
    "l_{32} = \\frac{-15-5\\cdot (-5)}{5}=2\\\\\n",
    "l_{33} = \\sqrt{38-25-4}=3$\n",
    "\n",
    "Матрицы разложения:\n",
    "\n",
    "$L = \\begin{pmatrix}\n",
    "9 & 0 & 0\\\\\n",
    "-5 & 5 & 0\\\\\n",
    "5 & 2 & 3\n",
    "\\end{pmatrix}, \\; \\; L^{T} = \\begin{pmatrix}\n",
    "9 & -5 & 5\\\\\n",
    "0 & 5 & 2\\\\\n",
    "0 & 0 & 3\n",
    "\\end{pmatrix}$\n",
    "\n",
    "Решим систему Ly=b:\n",
    "\n",
    "$\\begin{cases}\n",
    "9y_{1}=531\\\\\n",
    "-5y_{1}+5y_{2}=-460\\\\\n",
    "5y_{1} + 2y_{2} + 3y_{3} = 193\n",
    "\\end{cases}=>\\begin{cases}\n",
    "y_{1}=59\\\\\n",
    "y_{2}=-33\\\\\n",
    "y_{3} = -12\n",
    "\\end{cases}$\n",
    "\n",
    "Решим систему:\n",
    "\n",
    "$\\begin{cases}\n",
    "9x_{1}-5x_{2}+5x_{3}=59\\\\\n",
    "5x_{2}+2x_{3}=-33\\\\\n",
    "3x_{3}=-12\n",
    "\\end{cases}=>\\begin{cases}\n",
    "x_{1}=6\\\\\n",
    "x_{2}=-5\\\\\n",
    "x_{3}=-4\n",
    "\\end{cases}$"
   ]
  },
  {
   "cell_type": "code",
   "execution_count": 7,
   "id": "3f1fb52e-8d48-4bfa-8937-bba64dd88a80",
   "metadata": {},
   "outputs": [
    {
     "data": {
      "text/plain": [
       "array([[ 9.,  0.,  0.],\n",
       "       [-5.,  5.,  0.],\n",
       "       [ 5.,  2.,  3.]])"
      ]
     },
     "execution_count": 7,
     "metadata": {},
     "output_type": "execute_result"
    }
   ],
   "source": [
    "A_4 = np.array([[81,-45,45],[-45,50,-15],[45,-15,38]])\n",
    "b_4 = np.array([[531],[-460],[193]])\n",
    "np.linalg.cholesky(A_4)"
   ]
  },
  {
   "cell_type": "code",
   "execution_count": 8,
   "id": "dd7dd9fb-b53b-42c9-acd7-5ef9d08505a4",
   "metadata": {},
   "outputs": [
    {
     "data": {
      "text/plain": [
       "array([[ 6.],\n",
       "       [-5.],\n",
       "       [-4.]])"
      ]
     },
     "execution_count": 8,
     "metadata": {},
     "output_type": "execute_result"
    }
   ],
   "source": [
    "np.linalg.solve(A_4,b_4)"
   ]
  },
  {
   "cell_type": "markdown",
   "id": "3b2cab70-8346-4007-aaf8-16f6c1d2b92c",
   "metadata": {},
   "source": [
    "## Задача 5."
   ]
  },
  {
   "cell_type": "markdown",
   "id": "d96ed6c3-b6b2-4e08-a4ef-66bda7246fc8",
   "metadata": {},
   "source": [
    "Написать на Python программу с реализацией одного из изученных алгоритмов решения СЛАУ."
   ]
  },
  {
   "cell_type": "markdown",
   "id": "3a9e3415-d304-4295-9b58-1f03b4ceacb2",
   "metadata": {},
   "source": [
    "Возьмем в качестве исходных данных систему\n",
    "\n",
    "$$\\begin{cases}\n",
    "3x_{1}+x_{2}-x_{3}=0, \\\\\n",
    "2x_{1}+x_{2}-x_{3}=-2, \\\\\n",
    "x_{1}+x_{2}-3x_{3}=4.\n",
    "\\end{cases}$$"
   ]
  },
  {
   "cell_type": "code",
   "execution_count": 9,
   "id": "81ffcc72-44b0-4db5-99cb-82fc818dbe5e",
   "metadata": {},
   "outputs": [
    {
     "name": "stdout",
     "output_type": "stream",
     "text": [
      "[[ 1.          0.33333333 -0.33333333  0.        ]\n",
      " [ 0.          1.         -4.          6.        ]\n",
      " [-0.         -0.          1.          2.        ]]\n",
      "[-4. 14.  2.]\n"
     ]
    }
   ],
   "source": [
    "A = np.array([[3., 1., -1.], [0., 0., -1.], [1., 1., -3.]])\n",
    "b = np.array([0., -2., 4.])\n",
    "\n",
    "def Gauss_solve(A, b):\n",
    "    A_w = np.append(A, b[:,np.newaxis], axis=1)\n",
    "    n = A_w.shape[0]\n",
    "    x = np.zeros(n)\n",
    "    for i in range(n):\n",
    "        if A_w[i, i] ==0:\n",
    "            s = np.copy(A_w[i, ::])\n",
    "            A_w[i, ::] = A_w[i+1, ::]\n",
    "            A_w[i+1, ::] = s\n",
    "        A_w[i, ::] = A_w[i, ::]/A_w[i, i]\n",
    "        for j in range(n):\n",
    "            if j > i:\n",
    "                A_w[j, ::] = A_w[j, ::] - A_w[i, ::]*A_w[j, i]\n",
    "    print(A_w)\n",
    "    \n",
    "    for i in range(n-1, -1, -1):\n",
    "        x[i] = A_w[i, n]\n",
    "        for j in range(i+1, n):\n",
    "            x[i] -= x[j]*A_w[i, j]\n",
    "    print(x)\n",
    "\n",
    "Gauss_solve(A, b)"
   ]
  },
  {
   "cell_type": "code",
   "execution_count": 10,
   "id": "0c58c501-c87d-41d0-8fc4-48f9123f79e7",
   "metadata": {},
   "outputs": [
    {
     "data": {
      "text/plain": [
       "array([-4., 14.,  2.])"
      ]
     },
     "execution_count": 10,
     "metadata": {},
     "output_type": "execute_result"
    }
   ],
   "source": [
    "linalg.solve(A, b)"
   ]
  },
  {
   "cell_type": "code",
   "execution_count": null,
   "id": "e60a4b56-0d77-472b-9cb4-e3505370bd06",
   "metadata": {},
   "outputs": [],
   "source": []
  }
 ],
 "metadata": {
  "kernelspec": {
   "display_name": "Python 3",
   "language": "python",
   "name": "python3"
  },
  "language_info": {
   "codemirror_mode": {
    "name": "ipython",
    "version": 3
   },
   "file_extension": ".py",
   "mimetype": "text/x-python",
   "name": "python",
   "nbconvert_exporter": "python",
   "pygments_lexer": "ipython3",
   "version": "3.9.4"
  }
 },
 "nbformat": 4,
 "nbformat_minor": 5
}

{
 "cells": [
  {
   "cell_type": "code",
   "execution_count": 1,
   "id": "ff27d98b",
   "metadata": {},
   "outputs": [],
   "source": [
    "import os\n",
    "import skimage.io as io\n",
    "import numpy as np\n",
    "import tensorflow as tf\n",
    "\n",
    "from tensorflow.keras.layers import concatenate, Conv2DTranspose, Input, Dense, Dropout, Flatten, Activation, Conv2D, MaxPooling2D, GlobalAveragePooling2D, BatchNormalization,GlobalMaxPooling2D\n",
    "from tensorflow.keras.models import Sequential, Model, load_model\n",
    "from tensorflow.keras.optimizers import Adam, SGD"
   ]
  },
  {
   "cell_type": "code",
   "execution_count": 2,
   "id": "11531eb4",
   "metadata": {},
   "outputs": [
    {
     "data": {
      "text/plain": [
       "[name: \"/device:CPU:0\"\n",
       " device_type: \"CPU\"\n",
       " memory_limit: 268435456\n",
       " locality {\n",
       " }\n",
       " incarnation: 13913514707045813925\n",
       " xla_global_id: -1,\n",
       " name: \"/device:GPU:0\"\n",
       " device_type: \"GPU\"\n",
       " memory_limit: 9920577536\n",
       " locality {\n",
       "   bus_id: 1\n",
       "   links {\n",
       "   }\n",
       " }\n",
       " incarnation: 15251182279767660702\n",
       " physical_device_desc: \"device: 0, name: NVIDIA GeForce RTX 3080, pci bus id: 0000:07:00.0, compute capability: 8.6\"\n",
       " xla_global_id: 416903419]"
      ]
     },
     "execution_count": 2,
     "metadata": {},
     "output_type": "execute_result"
    }
   ],
   "source": [
    "from tensorflow.python.client import device_lib\n",
    "device_lib.list_local_devices()"
   ]
  },
  {
   "cell_type": "markdown",
   "id": "918bcc9d",
   "metadata": {},
   "source": [
    "!mkdir -p data"
   ]
  },
  {
   "cell_type": "markdown",
   "id": "33369649",
   "metadata": {},
   "source": [
    "!cd data && wget http://images.cocodataset.org/zips/train2017.zip"
   ]
  },
  {
   "cell_type": "markdown",
   "id": "0d435489",
   "metadata": {},
   "source": [
    "!cd data && unzip -q train2017.zip"
   ]
  },
  {
   "cell_type": "markdown",
   "id": "d9211b99",
   "metadata": {},
   "source": [
    "!cd data && rm train2017.zip"
   ]
  },
  {
   "cell_type": "markdown",
   "id": "400b9608",
   "metadata": {},
   "source": [
    "!cd data && wget http://images.cocodataset.org/zips/val2017.zip "
   ]
  },
  {
   "cell_type": "markdown",
   "id": "d8faa64f",
   "metadata": {},
   "source": [
    "!cd data && unzip -q val2017.zip"
   ]
  },
  {
   "cell_type": "markdown",
   "id": "e5533a51",
   "metadata": {},
   "source": [
    "!cd data && rm val2017.zip"
   ]
  },
  {
   "cell_type": "markdown",
   "id": "80653236",
   "metadata": {},
   "source": [
    "!cd data && wget http://images.cocodataset.org/annotations/annotations_trainval2017.zip"
   ]
  },
  {
   "cell_type": "markdown",
   "id": "fc35f993",
   "metadata": {},
   "source": [
    "!cd data && unzip -q annotations_trainval2017.zip"
   ]
  },
  {
   "cell_type": "markdown",
   "id": "bb4b780d",
   "metadata": {},
   "source": [
    "!cd data && rm annotations_trainval2017.zip"
   ]
  },
  {
   "cell_type": "markdown",
   "id": "2ef14ee0",
   "metadata": {},
   "source": [
    "!conda install -c conda-forge pycocotools"
   ]
  },
  {
   "cell_type": "markdown",
   "id": "522ea166",
   "metadata": {},
   "source": [
    "!ls data/"
   ]
  },
  {
   "cell_type": "code",
   "execution_count": 3,
   "id": "4e251a05",
   "metadata": {},
   "outputs": [],
   "source": [
    "COCO_ROOT = './data/'\n",
    "import sys\n",
    "#sys.path.insert(0, os.path.join(COCO_ROOT, 'cocoapi/PythonAPI'))\n",
    "from pycocotools.coco import COCO"
   ]
  },
  {
   "cell_type": "code",
   "execution_count": 4,
   "id": "ba029dad",
   "metadata": {},
   "outputs": [],
   "source": [
    "class Dataset():\n",
    "\n",
    "    def crop_images(self, img, inp_size, random_crop=False):\n",
    "        shape = tf.shape(img)\n",
    "        pad = (\n",
    "            [0, tf.maximum(inp_size - shape[0], 0)],\n",
    "            [0, tf.maximum(inp_size - shape[1], 0)],\n",
    "            [0, 0],\n",
    "        )\n",
    "        img = tf.pad(img, pad)\n",
    "\n",
    "        if random_crop:\n",
    "            img = tf.image.random_crop(img, (inp_size, inp_size, shape[2]))\n",
    "        else: # central crop\n",
    "            shape = tf.shape(img)\n",
    "            ho = (shape[0] - inp_size) // 2\n",
    "            wo = (shape[1] - inp_size) // 2\n",
    "            img = img[ho:ho+inp_size, wo:wo+inp_size, :]\n",
    "\n",
    "        return img\n",
    "\n",
    "    def train_dataset(self, batch_size, epochs, inp_size):\n",
    "\n",
    "        def item_to_images(item):\n",
    "            random_crop = True\n",
    "            img_combined = tf.py_function(self.read_images, [item], tf.uint8)\n",
    "            img_combined = self.crop_images(img_combined, inp_size, random_crop)\n",
    "\n",
    "            img = tf.cast(img_combined[...,:3], tf.float32) / np.float32(255.)\n",
    "            mask_class = tf.cast(img_combined[...,3:4], tf.float32)\n",
    "            return img, mask_class\n",
    "\n",
    "        dataset = tf.data.Dataset.from_tensor_slices(self.img_list)\n",
    "        dataset = dataset.shuffle(buffer_size=len(self.img_list))\n",
    "        dataset = dataset.map(item_to_images)\n",
    "        #dataset = dataset.repeat(epochs)\n",
    "        dataset = dataset.batch(batch_size, drop_remainder=True)\n",
    "\n",
    "        return dataset\n",
    "\n",
    "    def val_dataset(self, batch_size, inp_size):\n",
    "\n",
    "        def item_to_images(item):\n",
    "            random_crop = False\n",
    "            img_combined = tf.py_function(self.read_images, [item], tf.uint8)\n",
    "            img_combined = self.crop_images(img_combined, inp_size, random_crop)\n",
    "\n",
    "            img = tf.cast(img_combined[...,:3], tf.float32) / np.float32(255.)\n",
    "            mask_class = tf.cast(img_combined[...,3:4], tf.float32)\n",
    "            return img, mask_class\n",
    "\n",
    "        dataset = tf.data.Dataset.from_tensor_slices(self.img_list)\n",
    "        dataset = dataset.map(item_to_images)\n",
    "        dataset = dataset.batch(batch_size, drop_remainder=True)\n",
    "\n",
    "        return dataset"
   ]
  },
  {
   "cell_type": "code",
   "execution_count": 5,
   "id": "a9f401fc",
   "metadata": {},
   "outputs": [],
   "source": [
    "class COCO_Dataset(Dataset):\n",
    "\n",
    "    def __init__(self, sublist):\n",
    "        ann_file_fpath = os.path.join(COCO_ROOT, 'annotations', 'instances_'+sublist+'2017.json')\n",
    "        self.coco = COCO(ann_file_fpath)\n",
    "        self.cat_ids = self.coco.getCatIds(catNms=['person'])\n",
    "        self.img_list = self.coco.getImgIds(catIds=self.cat_ids)\n",
    "\n",
    "    def read_images(self, img_id):\n",
    "        img_id = int(img_id.numpy())\n",
    "        img_data = self.coco.loadImgs(img_id)[0]\n",
    "        img_fname = '/'.join(img_data['coco_url'].split('/')[-2:])\n",
    "\n",
    "        img = io.imread(os.path.join(COCO_ROOT, img_fname))\n",
    "        if len(img.shape) == 2:\n",
    "            img = np.tile(img[..., None], (1, 1, 3))\n",
    "\n",
    "        ann_ids = self.coco.getAnnIds(imgIds=img_data['id'], catIds=self.cat_ids, iscrowd=None)\n",
    "        anns = self.coco.loadAnns(ann_ids)\n",
    "        mask_class = np.zeros((img.shape[0], img.shape[1]), dtype=np.uint8)\n",
    "        for i in range(len(anns)):\n",
    "            mask_class += self.coco.annToMask(anns[i])\n",
    "        mask_class = (mask_class > 0).astype(np.uint8)\n",
    "\n",
    "        img_combined = np.concatenate([img, mask_class[..., None]], axis=2)\n",
    "\n",
    "        return img_combined"
   ]
  },
  {
   "cell_type": "code",
   "execution_count": 6,
   "id": "5a1d4f50",
   "metadata": {},
   "outputs": [
    {
     "name": "stdout",
     "output_type": "stream",
     "text": [
      "loading annotations into memory...\n",
      "Done (t=12.77s)\n",
      "creating index...\n",
      "index created!\n",
      "loading annotations into memory...\n",
      "Done (t=1.79s)\n",
      "creating index...\n",
      "index created!\n"
     ]
    }
   ],
   "source": [
    "COCO_dataset_train = COCO_Dataset('train')\n",
    "COCO_dataset_val = COCO_Dataset('val')"
   ]
  },
  {
   "cell_type": "code",
   "execution_count": 7,
   "id": "d2be7a1d",
   "metadata": {},
   "outputs": [],
   "source": [
    "IMG_HEIGHT = 256\n",
    "IMG_WIDTH = 256\n",
    "IMG_CHANNELS = 3\n",
    "BATCH_SIZE = 64\n",
    "EPOCHS = 5"
   ]
  },
  {
   "cell_type": "code",
   "execution_count": 8,
   "id": "b431244a",
   "metadata": {},
   "outputs": [],
   "source": [
    "train_ds = COCO_dataset_train.train_dataset(BATCH_SIZE, EPOCHS, IMG_HEIGHT)\n",
    "val_ds = COCO_dataset_val.val_dataset(BATCH_SIZE, IMG_HEIGHT)"
   ]
  },
  {
   "cell_type": "code",
   "execution_count": 9,
   "id": "dc3e543d-35cf-44d7-891a-64c3acc24639",
   "metadata": {},
   "outputs": [
    {
     "name": "stdout",
     "output_type": "stream",
     "text": [
      "Requirement already satisfied: efficientnet==0.0.4 in c:\\users\\dv\\miniconda3\\envs\\tensorflow\\lib\\site-packages (0.0.4)\n"
     ]
    }
   ],
   "source": [
    "!pip install -U efficientnet==0.0.4"
   ]
  },
  {
   "cell_type": "markdown",
   "id": "a01202a6-1b12-4983-b2c8-050560ec96ee",
   "metadata": {},
   "source": [
    "!pip install git+https://github.com/tensorflow/examples.git\n",
    "!pip install -U tfds-nightly"
   ]
  },
  {
   "cell_type": "code",
   "execution_count": 10,
   "id": "79443c85",
   "metadata": {},
   "outputs": [],
   "source": [
    "from tensorflow_examples.models.pix2pix import pix2pix"
   ]
  },
  {
   "cell_type": "code",
   "execution_count": 11,
   "id": "508347b3",
   "metadata": {},
   "outputs": [],
   "source": [
    "import tensorflow.keras.applications.efficientnet as efn"
   ]
  },
  {
   "cell_type": "code",
   "execution_count": 12,
   "id": "23db1bea",
   "metadata": {},
   "outputs": [],
   "source": [
    "model = efn.EfficientNetB4(weights='imagenet', input_shape=[256, 256, 3], include_top=False)"
   ]
  },
  {
   "cell_type": "code",
   "execution_count": 13,
   "id": "a3d12dbc",
   "metadata": {},
   "outputs": [],
   "source": [
    "model.trainable = False"
   ]
  },
  {
   "cell_type": "code",
   "execution_count": 14,
   "id": "bb8abdc2",
   "metadata": {},
   "outputs": [],
   "source": [
    "up_stack = [\n",
    "    pix2pix.upsample(224, 3),  # 8x8 -> 16x16\n",
    "    pix2pix.upsample(80, 3),  # 16x16 -> 32x32\n",
    "    pix2pix.upsample(48, 3),  # 32x32 -> 64x64\n",
    "    pix2pix.upsample(32, 3),   # 64x64 -> 128x128\n",
    "]"
   ]
  },
  {
   "cell_type": "code",
   "execution_count": 15,
   "id": "e89a9528",
   "metadata": {},
   "outputs": [],
   "source": [
    "layer_names = [\n",
    "    'stem_conv',     # 128x128 48\n",
    "    'block2b_add',   # 64x64 32\n",
    "    'block3b_add',   # 32x32 56\n",
    "    'block5b_add',   # 16x16 160\n",
    "    #'block6b_add ',  # 8x8 272\n",
    "    'top_activation',      # 8x8 1792 (top)\n",
    "]"
   ]
  },
  {
   "cell_type": "code",
   "execution_count": 16,
   "id": "334667db",
   "metadata": {},
   "outputs": [],
   "source": [
    "layers = [model.get_layer(name).output for name in layer_names]\n",
    "\n",
    "# Create the feature extraction model\n",
    "down_stack = tf.keras.Model(inputs=model.input, outputs=layers)\n",
    "\n",
    "down_stack.trainable = False"
   ]
  },
  {
   "cell_type": "code",
   "execution_count": 17,
   "id": "d6258c42",
   "metadata": {},
   "outputs": [],
   "source": [
    "def unet_model(output_channels):\n",
    "    inputs = tf.keras.layers.Input(shape=[256, 256, 3]) \n",
    "    x = inputs\n",
    "\n",
    "    # Downsampling through the model\n",
    "    skips = down_stack(x)\n",
    "    x = skips[-1]\n",
    "\n",
    "    #x = tf.keras.layers.Conv2D(1024, 3, strides=(1, 1), padding='same', activation='relu')(x)\n",
    "    x = tf.keras.layers.Conv2D(512, 3, strides=(1, 1), padding='same', activation='swish', kernel_initializer='he_normal')(x)\n",
    "    x = tf.keras.layers.Conv2D(256, 3, strides=(1, 1), padding='same', activation='swish', kernel_initializer='he_normal')(x)\n",
    "\n",
    "    x = up_stack[0](x)\n",
    "    x = tf.keras.layers.Concatenate()([x, skips[3]])\n",
    "    x = tf.keras.layers.Conv2D(128, 3, strides=(1, 1), padding='same', activation='swish', kernel_initializer='he_normal')(x)\n",
    "\n",
    "\n",
    "    x = up_stack[1](x)\n",
    "    x = tf.keras.layers.Concatenate()([x, skips[2]])\n",
    "    x = tf.keras.layers.Conv2D(64, 3, strides=(1, 1), padding='same', activation='swish', kernel_initializer='he_normal')(x)\n",
    "\n",
    "\n",
    "    x = up_stack[2](x)\n",
    "    x = tf.keras.layers.Concatenate()([x, skips[1]])\n",
    "    x = tf.keras.layers.Conv2D(64, 3, strides=(1, 1), padding='same', activation='swish', kernel_initializer='he_normal')(x)\n",
    "\n",
    "\n",
    "    x = up_stack[3](x)\n",
    "    x = tf.keras.layers.Concatenate()([x, skips[0]])\n",
    "    x = tf.keras.layers.Conv2D(32, 3, strides=(1, 1), padding='same', activation='swish', kernel_initializer='he_normal')(x)\n",
    "    x = tf.keras.layers.Conv2D(16, 3, strides=(1, 1), padding='same', activation='swish', kernel_initializer='he_normal')(x)\n",
    "\n",
    "\n",
    "    # This is the last layer of the model\n",
    "    #last = tf.keras.layers.Conv2DTranspose(output_channels, 3, strides=2,padding='same')  #64x64 -> 128x128\n",
    "\n",
    "  \n",
    "    last = tf.keras.layers.Conv2DTranspose(output_channels, 3, strides=2,padding='same', activation='sigmoid')  #128x128 -> 256x256\n",
    "    x = last(x)\n",
    "\n",
    "    return tf.keras.Model(inputs=inputs, outputs=x)"
   ]
  },
  {
   "cell_type": "code",
   "execution_count": 18,
   "id": "cd08bdd7",
   "metadata": {},
   "outputs": [],
   "source": [
    "OUTPUT_CHANNELS = 1\n",
    "model = unet_model(OUTPUT_CHANNELS)"
   ]
  },
  {
   "cell_type": "code",
   "execution_count": 19,
   "id": "0dfa3698",
   "metadata": {},
   "outputs": [
    {
     "name": "stdout",
     "output_type": "stream",
     "text": [
      "Model: \"model_1\"\n",
      "__________________________________________________________________________________________________\n",
      " Layer (type)                   Output Shape         Param #     Connected to                     \n",
      "==================================================================================================\n",
      " input_2 (InputLayer)           [(None, 256, 256, 3  0           []                               \n",
      "                                )]                                                                \n",
      "                                                                                                  \n",
      " model (Functional)             [(None, 128, 128, 4  17673823    ['input_2[0][0]']                \n",
      "                                8),                                                               \n",
      "                                 (None, 64, 64, 32)                                               \n",
      "                                , (None, 32, 32, 56                                               \n",
      "                                ),                                                                \n",
      "                                 (None, 16, 16, 160                                               \n",
      "                                ),                                                                \n",
      "                                 (None, 8, 8, 1792)                                               \n",
      "                                ]                                                                 \n",
      "                                                                                                  \n",
      " conv2d (Conv2D)                (None, 8, 8, 512)    8258048     ['model[0][4]']                  \n",
      "                                                                                                  \n",
      " conv2d_1 (Conv2D)              (None, 8, 8, 256)    1179904     ['conv2d[0][0]']                 \n",
      "                                                                                                  \n",
      " sequential (Sequential)        (None, 16, 16, 224)  516992      ['conv2d_1[0][0]']               \n",
      "                                                                                                  \n",
      " concatenate (Concatenate)      (None, 16, 16, 384)  0           ['sequential[0][0]',             \n",
      "                                                                  'model[0][3]']                  \n",
      "                                                                                                  \n",
      " conv2d_2 (Conv2D)              (None, 16, 16, 128)  442496      ['concatenate[0][0]']            \n",
      "                                                                                                  \n",
      " sequential_1 (Sequential)      (None, 32, 32, 80)   92480       ['conv2d_2[0][0]']               \n",
      "                                                                                                  \n",
      " concatenate_1 (Concatenate)    (None, 32, 32, 136)  0           ['sequential_1[0][0]',           \n",
      "                                                                  'model[0][2]']                  \n",
      "                                                                                                  \n",
      " conv2d_3 (Conv2D)              (None, 32, 32, 64)   78400       ['concatenate_1[0][0]']          \n",
      "                                                                                                  \n",
      " sequential_2 (Sequential)      (None, 64, 64, 48)   27840       ['conv2d_3[0][0]']               \n",
      "                                                                                                  \n",
      " concatenate_2 (Concatenate)    (None, 64, 64, 80)   0           ['sequential_2[0][0]',           \n",
      "                                                                  'model[0][1]']                  \n",
      "                                                                                                  \n",
      " conv2d_4 (Conv2D)              (None, 64, 64, 64)   46144       ['concatenate_2[0][0]']          \n",
      "                                                                                                  \n",
      " sequential_3 (Sequential)      (None, 128, 128, 32  18560       ['conv2d_4[0][0]']               \n",
      "                                )                                                                 \n",
      "                                                                                                  \n",
      " concatenate_3 (Concatenate)    (None, 128, 128, 80  0           ['sequential_3[0][0]',           \n",
      "                                )                                 'model[0][0]']                  \n",
      "                                                                                                  \n",
      " conv2d_5 (Conv2D)              (None, 128, 128, 32  23072       ['concatenate_3[0][0]']          \n",
      "                                )                                                                 \n",
      "                                                                                                  \n",
      " conv2d_6 (Conv2D)              (None, 128, 128, 16  4624        ['conv2d_5[0][0]']               \n",
      "                                )                                                                 \n",
      "                                                                                                  \n",
      " conv2d_transpose_4 (Conv2DTran  (None, 256, 256, 1)  145        ['conv2d_6[0][0]']               \n",
      " spose)                                                                                           \n",
      "                                                                                                  \n",
      "==================================================================================================\n",
      "Total params: 28,362,528\n",
      "Trainable params: 10,687,937\n",
      "Non-trainable params: 17,674,591\n",
      "__________________________________________________________________________________________________\n"
     ]
    }
   ],
   "source": [
    "model.summary()"
   ]
  },
  {
   "cell_type": "code",
   "execution_count": 20,
   "id": "a7a8622f",
   "metadata": {},
   "outputs": [
    {
     "name": "stdout",
     "output_type": "stream",
     "text": [
      "You must install pydot (`pip install pydot`) and install graphviz (see instructions at https://graphviz.gitlab.io/download/) for plot_model to work.\n"
     ]
    }
   ],
   "source": [
    "tf.keras.utils.plot_model(model, show_shapes=True)"
   ]
  },
  {
   "cell_type": "code",
   "execution_count": 21,
   "id": "1c3d4f31",
   "metadata": {},
   "outputs": [
    {
     "name": "stdout",
     "output_type": "stream",
     "text": [
      "Epoch 1/5\n",
      "1001/1001 [==============================] - 900s 885ms/step - loss: 0.4520 - accuracy: 0.7837 - val_loss: 0.5056 - val_accuracy: 0.7466\n",
      "Epoch 2/5\n",
      "1001/1001 [==============================] - 722s 721ms/step - loss: 0.4299 - accuracy: 0.7946 - val_loss: 0.6405 - val_accuracy: 0.7554\n",
      "Epoch 3/5\n",
      "1001/1001 [==============================] - 714s 714ms/step - loss: 0.4179 - accuracy: 0.8023 - val_loss: 0.6210 - val_accuracy: 0.7455\n",
      "Epoch 4/5\n",
      "1001/1001 [==============================] - 719s 719ms/step - loss: 0.4112 - accuracy: 0.8059 - val_loss: 0.5164 - val_accuracy: 0.7473\n",
      "Epoch 5/5\n",
      "1001/1001 [==============================] - 714s 714ms/step - loss: 0.4060 - accuracy: 0.8080 - val_loss: 0.4693 - val_accuracy: 0.7796\n"
     ]
    }
   ],
   "source": [
    "model.compile(optimizer='adam', loss='binary_crossentropy', metrics = 'accuracy')\n",
    "\n",
    "hist = model.fit(train_ds, epochs = EPOCHS, batch_size = BATCH_SIZE, validation_data = val_ds)"
   ]
  },
  {
   "cell_type": "code",
   "execution_count": 22,
   "id": "10daae8e",
   "metadata": {},
   "outputs": [
    {
     "name": "stdout",
     "output_type": "stream",
     "text": [
      "42/42 [==============================] - 27s 641ms/step - loss: 0.4693 - accuracy: 0.7796\n"
     ]
    },
    {
     "data": {
      "text/plain": [
       "[0.46930262446403503, 0.7795562744140625]"
      ]
     },
     "execution_count": 22,
     "metadata": {},
     "output_type": "execute_result"
    }
   ],
   "source": [
    "model.evaluate(val_ds)"
   ]
  },
  {
   "cell_type": "code",
   "execution_count": null,
   "id": "4582b862",
   "metadata": {},
   "outputs": [],
   "source": []
  },
  {
   "cell_type": "code",
   "execution_count": null,
   "id": "8ae02a15",
   "metadata": {},
   "outputs": [],
   "source": []
  },
  {
   "cell_type": "code",
   "execution_count": null,
   "id": "bcb9da58",
   "metadata": {},
   "outputs": [],
   "source": []
  },
  {
   "cell_type": "code",
   "execution_count": null,
   "id": "231baad7",
   "metadata": {},
   "outputs": [],
   "source": []
  },
  {
   "cell_type": "code",
   "execution_count": null,
   "id": "023b2c9f",
   "metadata": {},
   "outputs": [],
   "source": []
  },
  {
   "cell_type": "code",
   "execution_count": null,
   "id": "cc785cb6",
   "metadata": {},
   "outputs": [],
   "source": []
  },
  {
   "cell_type": "code",
   "execution_count": null,
   "id": "1f9ae3c5",
   "metadata": {},
   "outputs": [],
   "source": []
  },
  {
   "cell_type": "code",
   "execution_count": null,
   "id": "97bb7576",
   "metadata": {},
   "outputs": [],
   "source": []
  },
  {
   "cell_type": "code",
   "execution_count": null,
   "id": "c8b5f313",
   "metadata": {},
   "outputs": [],
   "source": []
  },
  {
   "cell_type": "code",
   "execution_count": null,
   "id": "f08877f5",
   "metadata": {},
   "outputs": [],
   "source": []
  }
 ],
 "metadata": {
  "kernelspec": {
   "display_name": "Python 3.10 (tensorflow)",
   "language": "python",
   "name": "tensorflow"
  },
  "language_info": {
   "codemirror_mode": {
    "name": "ipython",
    "version": 3
   },
   "file_extension": ".py",
   "mimetype": "text/x-python",
   "name": "python",
   "nbconvert_exporter": "python",
   "pygments_lexer": "ipython3",
   "version": "3.10.9"
  }
 },
 "nbformat": 4,
 "nbformat_minor": 5
}

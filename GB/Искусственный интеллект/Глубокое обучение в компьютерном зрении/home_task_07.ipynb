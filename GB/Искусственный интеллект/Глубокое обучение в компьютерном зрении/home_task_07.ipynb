{
 "cells": [
  {
   "cell_type": "code",
   "execution_count": 1,
   "id": "c334ddc5-4068-4b40-a3dd-9763051ead2f",
   "metadata": {},
   "outputs": [
    {
     "name": "stderr",
     "output_type": "stream",
     "text": [
      "2023-03-04 14:38:52.513911: I tensorflow/core/platform/cpu_feature_guard.cc:193] This TensorFlow binary is optimized with oneAPI Deep Neural Network Library (oneDNN) to use the following CPU instructions in performance-critical operations:  AVX2 FMA\n",
      "To enable them in other operations, rebuild TensorFlow with the appropriate compiler flags.\n",
      "2023-03-04 14:38:52.607988: W tensorflow/compiler/xla/stream_executor/platform/default/dso_loader.cc:64] Could not load dynamic library 'libcudart.so.11.0'; dlerror: libcudart.so.11.0: cannot open shared object file: No such file or directory\n",
      "2023-03-04 14:38:52.608008: I tensorflow/compiler/xla/stream_executor/cuda/cudart_stub.cc:29] Ignore above cudart dlerror if you do not have a GPU set up on your machine.\n",
      "2023-03-04 14:38:53.327146: W tensorflow/compiler/xla/stream_executor/platform/default/dso_loader.cc:64] Could not load dynamic library 'libnvinfer.so.7'; dlerror: libnvinfer.so.7: cannot open shared object file: No such file or directory\n",
      "2023-03-04 14:38:53.327211: W tensorflow/compiler/xla/stream_executor/platform/default/dso_loader.cc:64] Could not load dynamic library 'libnvinfer_plugin.so.7'; dlerror: libnvinfer_plugin.so.7: cannot open shared object file: No such file or directory\n",
      "2023-03-04 14:38:53.327217: W tensorflow/compiler/tf2tensorrt/utils/py_utils.cc:38] TF-TRT Warning: Cannot dlopen some TensorRT libraries. If you would like to use Nvidia GPU with TensorRT, please make sure the missing libraries mentioned above are installed properly.\n"
     ]
    }
   ],
   "source": [
    "import os\n",
    "import glob\n",
    "import random\n",
    "import numpy as np\n",
    "import matplotlib.pyplot as plt\n",
    "from sklearn.model_selection import train_test_split\n",
    "import tensorflow as tf\n",
    "import math"
   ]
  },
  {
   "cell_type": "code",
   "execution_count": 2,
   "id": "367430ae-c397-4880-85b9-75e3cf2c3cae",
   "metadata": {},
   "outputs": [
    {
     "name": "stderr",
     "output_type": "stream",
     "text": [
      "2023-03-04 14:38:54.024442: I tensorflow/core/platform/cpu_feature_guard.cc:193] This TensorFlow binary is optimized with oneAPI Deep Neural Network Library (oneDNN) to use the following CPU instructions in performance-critical operations:  AVX2 FMA\n",
      "To enable them in other operations, rebuild TensorFlow with the appropriate compiler flags.\n",
      "2023-03-04 14:38:54.042357: I tensorflow/compiler/xla/stream_executor/cuda/cuda_gpu_executor.cc:967] could not open file to read NUMA node: /sys/bus/pci/devices/0000:07:00.0/numa_node\n",
      "Your kernel may have been built without NUMA support.\n",
      "2023-03-04 14:38:54.042443: W tensorflow/compiler/xla/stream_executor/platform/default/dso_loader.cc:64] Could not load dynamic library 'libcudart.so.11.0'; dlerror: libcudart.so.11.0: cannot open shared object file: No such file or directory\n",
      "2023-03-04 14:38:54.042483: W tensorflow/compiler/xla/stream_executor/platform/default/dso_loader.cc:64] Could not load dynamic library 'libcublas.so.11'; dlerror: libcublas.so.11: cannot open shared object file: No such file or directory\n",
      "2023-03-04 14:38:54.042512: W tensorflow/compiler/xla/stream_executor/platform/default/dso_loader.cc:64] Could not load dynamic library 'libcublasLt.so.11'; dlerror: libcublasLt.so.11: cannot open shared object file: No such file or directory\n",
      "2023-03-04 14:38:54.042537: W tensorflow/compiler/xla/stream_executor/platform/default/dso_loader.cc:64] Could not load dynamic library 'libcufft.so.10'; dlerror: libcufft.so.10: cannot open shared object file: No such file or directory\n",
      "2023-03-04 14:38:54.042588: W tensorflow/compiler/xla/stream_executor/platform/default/dso_loader.cc:64] Could not load dynamic library 'libcurand.so.10'; dlerror: libcurand.so.10: cannot open shared object file: No such file or directory\n",
      "2023-03-04 14:38:54.042623: W tensorflow/compiler/xla/stream_executor/platform/default/dso_loader.cc:64] Could not load dynamic library 'libcusolver.so.11'; dlerror: libcusolver.so.11: cannot open shared object file: No such file or directory\n",
      "2023-03-04 14:38:54.042649: W tensorflow/compiler/xla/stream_executor/platform/default/dso_loader.cc:64] Could not load dynamic library 'libcusparse.so.11'; dlerror: libcusparse.so.11: cannot open shared object file: No such file or directory\n",
      "2023-03-04 14:38:54.042685: W tensorflow/compiler/xla/stream_executor/platform/default/dso_loader.cc:64] Could not load dynamic library 'libcudnn.so.8'; dlerror: libcudnn.so.8: cannot open shared object file: No such file or directory\n",
      "2023-03-04 14:38:54.042693: W tensorflow/core/common_runtime/gpu/gpu_device.cc:1934] Cannot dlopen some GPU libraries. Please make sure the missing libraries mentioned above are installed properly if you would like to use GPU. Follow the guide at https://www.tensorflow.org/install/gpu for how to download and setup the required libraries for your platform.\n",
      "Skipping registering GPU devices...\n"
     ]
    },
    {
     "data": {
      "text/plain": [
       "[name: \"/device:CPU:0\"\n",
       " device_type: \"CPU\"\n",
       " memory_limit: 268435456\n",
       " locality {\n",
       " }\n",
       " incarnation: 5986424407592339807\n",
       " xla_global_id: -1]"
      ]
     },
     "execution_count": 2,
     "metadata": {},
     "output_type": "execute_result"
    }
   ],
   "source": [
    "from tensorflow.python.client import device_lib\n",
    "\n",
    "device_lib.list_local_devices()"
   ]
  },
  {
   "cell_type": "code",
   "execution_count": 3,
   "id": "70b59ed3-7bb2-4bfe-95b4-99375c7d5a15",
   "metadata": {},
   "outputs": [
    {
     "name": "stdout",
     "output_type": "stream",
     "text": [
      "Requirement already satisfied: scikit-video==1.1.11 in /home/dv/miniconda3/lib/python3.10/site-packages (1.1.11)\n",
      "Requirement already satisfied: scipy in /home/dv/miniconda3/lib/python3.10/site-packages (from scikit-video==1.1.11) (1.10.1)\n",
      "Requirement already satisfied: pillow in /home/dv/miniconda3/lib/python3.10/site-packages (from scikit-video==1.1.11) (9.4.0)\n",
      "Requirement already satisfied: numpy in /home/dv/miniconda3/lib/python3.10/site-packages (from scikit-video==1.1.11) (1.22.4)\n"
     ]
    }
   ],
   "source": [
    "if 1:\n",
    "    !pip install scikit-video==1.1.11\n",
    "import skvideo.io"
   ]
  },
  {
   "cell_type": "code",
   "execution_count": 4,
   "id": "7cf8f9a8-9fb5-4163-ab57-f4d8ce9e066e",
   "metadata": {},
   "outputs": [
    {
     "name": "stdout",
     "output_type": "stream",
     "text": [
      "Requirement already satisfied: scikit-image in /home/dv/miniconda3/lib/python3.10/site-packages (0.20.0)\n",
      "Requirement already satisfied: networkx>=2.8 in /home/dv/miniconda3/lib/python3.10/site-packages (from scikit-image) (3.0)\n",
      "Requirement already satisfied: packaging>=20.0 in /home/dv/miniconda3/lib/python3.10/site-packages (from scikit-image) (23.0)\n",
      "Requirement already satisfied: PyWavelets>=1.1.1 in /home/dv/miniconda3/lib/python3.10/site-packages (from scikit-image) (1.4.1)\n",
      "Requirement already satisfied: pillow>=9.0.1 in /home/dv/miniconda3/lib/python3.10/site-packages (from scikit-image) (9.4.0)\n",
      "Requirement already satisfied: numpy>=1.21.1 in /home/dv/miniconda3/lib/python3.10/site-packages (from scikit-image) (1.22.4)\n",
      "Requirement already satisfied: tifffile>=2019.7.26 in /home/dv/miniconda3/lib/python3.10/site-packages (from scikit-image) (2023.2.28)\n",
      "Requirement already satisfied: imageio>=2.4.1 in /home/dv/miniconda3/lib/python3.10/site-packages (from scikit-image) (2.26.0)\n",
      "Requirement already satisfied: scipy>=1.8 in /home/dv/miniconda3/lib/python3.10/site-packages (from scikit-image) (1.10.1)\n",
      "Requirement already satisfied: lazy_loader>=0.1 in /home/dv/miniconda3/lib/python3.10/site-packages (from scikit-image) (0.1)\n"
     ]
    }
   ],
   "source": [
    "if 1:\n",
    "    !pip install scikit-image\n",
    "from skimage.transform import rescale, resize\n"
   ]
  },
  {
   "cell_type": "markdown",
   "id": "fa939d14-624e-45fb-82b3-b49c3f0c90ae",
   "metadata": {},
   "source": [
    "if 1:\n",
    "    !wget http://www.csc.kth.se/cvap/actions/walking.zip\n",
    "    !wget http://www.csc.kth.se/cvap/actions/jogging.zip\n",
    "    !wget http://www.csc.kth.se/cvap/actions/running.zip\n",
    "    !wget http://www.csc.kth.se/cvap/actions/boxing.zip\n",
    "    !wget http://www.csc.kth.se/cvap/actions/handwaving.zip\n",
    "    !wget http://www.csc.kth.se/cvap/actions/handclapping.zip "
   ]
  },
  {
   "cell_type": "markdown",
   "id": "5862e889-220e-4e5a-b38d-96700ab6b684",
   "metadata": {},
   "source": [
    "if 1:\n",
    "    !unzip walking.zip -d walking > /dev/null\n",
    "    !unzip jogging.zip -d jogging > /dev/null\n",
    "    !unzip running.zip -d running > /dev/null\n",
    "    !unzip boxing.zip -d boxing > /dev/null\n",
    "    !unzip handwaving.zip -d handwaving > /dev/null\n",
    "    !unzip handclapping.zip -d handclapping > /dev/null"
   ]
  },
  {
   "cell_type": "code",
   "execution_count": 5,
   "id": "5a6b5bf3-5e0a-43e9-ae95-a9a4edb639df",
   "metadata": {},
   "outputs": [
    {
     "name": "stdout",
     "output_type": "stream",
     "text": [
      "Processing class: walking\n",
      "Processing class: jogging\n",
      "Processing class: running\n",
      "Processing class: boxing\n",
      "Processing class: handwaving\n",
      "Processing class: handclapping\n"
     ]
    }
   ],
   "source": [
    " classes = {\n",
    "    'walking': 0,\n",
    "    'jogging': 1,\n",
    "    'running': 2,\n",
    "    'boxing': 3,\n",
    "    'handwaving': 4,\n",
    "    'handclapping': 5,\n",
    " }    \n",
    "\n",
    "dataset = []\n",
    "data_root = './'\n",
    "for cls in classes:\n",
    "    print('Processing class: {}'.format(cls))\n",
    "    for fpath in glob.glob(os.path.join(data_root, cls, '*.avi')):\n",
    "        dataset.append(fpath)"
   ]
  },
  {
   "cell_type": "code",
   "execution_count": 6,
   "id": "84a28c25-0962-4d14-a2d4-50c983c0328e",
   "metadata": {},
   "outputs": [
    {
     "name": "stdout",
     "output_type": "stream",
     "text": [
      "Dataset samples (subset): 200\n"
     ]
    }
   ],
   "source": [
    "SUBSET_LEN = 200\n",
    "random.shuffle(dataset)\n",
    "dataset = dataset[:SUBSET_LEN]\n",
    "batch_size = 8\n",
    "train, test = train_test_split(dataset, test_size=0.20, random_state=42)\n",
    "#train, validate = train_test_split(train, test_size=0.20, random_state=42)\n",
    "print('Dataset samples (subset):', len(dataset))"
   ]
  },
  {
   "cell_type": "code",
   "execution_count": 7,
   "id": "af226173-26c9-4db7-813c-a69034232fd0",
   "metadata": {},
   "outputs": [
    {
     "name": "stdout",
     "output_type": "stream",
     "text": [
      "160\n",
      "40\n"
     ]
    }
   ],
   "source": [
    "print(len(train))\n",
    "#print(len(validate))\n",
    "print(len(test))"
   ]
  },
  {
   "cell_type": "code",
   "execution_count": 8,
   "id": "4a3d8612-26ab-4d40-bac4-e41ddb6e2a8e",
   "metadata": {},
   "outputs": [],
   "source": [
    "# path приходит как тензор\n",
    "# .numpy() - выделяет содержимое в байтовом формате\n",
    "# .decode() преобразует в строку\n",
    "def read_video(path):\n",
    "    path = (path.numpy()).decode()\n",
    "    video = skvideo.io.vread(path)\n",
    "    video = video.astype(np.float32) / 255.\n",
    "\n",
    "    # приводим тензоры (видео) к единому размеру (для формирования батча)\n",
    "    video = resize(video, (300, 120, 160, 1), anti_aliasing=True)\n",
    "\n",
    "\n",
    "    # motion реализован здесь (на кадре будут только изменения пикселов \n",
    "    # между соседними кадрами отображаться)\n",
    "    video = np.mean(video[1:, ...] - video[:-1, ...], axis=3, keepdims=True)\n",
    "\n",
    "    video_class = classes[path.split('/')[1]]\n",
    "    return video, video_class\n",
    "\n",
    "def item_to_video(item):\n",
    "    video, video_class = tf.py_function(read_video, [item], [tf.float32, tf.uint8])\n",
    "    return video, video_class"
   ]
  },
  {
   "cell_type": "code",
   "execution_count": 9,
   "id": "91cd9ced-e147-4bca-bcb8-0ab2096d7f88",
   "metadata": {},
   "outputs": [
    {
     "name": "stderr",
     "output_type": "stream",
     "text": [
      "2023-03-04 14:39:01.124060: I tensorflow/compiler/xla/stream_executor/cuda/cuda_gpu_executor.cc:967] could not open file to read NUMA node: /sys/bus/pci/devices/0000:07:00.0/numa_node\n",
      "Your kernel may have been built without NUMA support.\n",
      "2023-03-04 14:39:01.124112: W tensorflow/core/common_runtime/gpu/gpu_device.cc:1934] Cannot dlopen some GPU libraries. Please make sure the missing libraries mentioned above are installed properly if you would like to use GPU. Follow the guide at https://www.tensorflow.org/install/gpu for how to download and setup the required libraries for your platform.\n",
      "Skipping registering GPU devices...\n"
     ]
    }
   ],
   "source": [
    "test_ds = tf.data.Dataset.from_tensor_slices(test)\n",
    "test_ds = test_ds.shuffle(buffer_size=len(test))\n",
    "test_ds = test_ds.map(item_to_video)\n",
    "test_ds = test_ds.batch(batch_size, drop_remainder=True)"
   ]
  },
  {
   "cell_type": "code",
   "execution_count": 10,
   "id": "92b34e66-a822-4cfa-8a15-b820ed556835",
   "metadata": {},
   "outputs": [],
   "source": [
    "train_ds = tf.data.Dataset.from_tensor_slices(train)\n",
    "train_ds = train_ds.shuffle(buffer_size=len(train))\n",
    "train_ds = train_ds.map(item_to_video)\n",
    "train_ds = train_ds.batch(batch_size, drop_remainder=True)"
   ]
  },
  {
   "cell_type": "code",
   "execution_count": 11,
   "id": "762f74eb-a3da-4fe8-b6db-971b95969088",
   "metadata": {},
   "outputs": [],
   "source": [
    "iterator = iter(train_ds)"
   ]
  },
  {
   "cell_type": "code",
   "execution_count": 12,
   "id": "5beeab25-8027-4dc4-b1de-61336b651200",
   "metadata": {},
   "outputs": [],
   "source": [
    "sample = next(iterator)"
   ]
  },
  {
   "cell_type": "code",
   "execution_count": 13,
   "id": "03007c42-df5e-444a-94ee-eb52db502a6a",
   "metadata": {},
   "outputs": [
    {
     "name": "stdout",
     "output_type": "stream",
     "text": [
      "Class: ['handclapping']\n",
      "Videodata shape: (299, 120, 160, 1)\n"
     ]
    },
    {
     "data": {
      "image/png": "[encoded data removed]",
      "text/plain": [
       "<Figure size 640x480 with 1 Axes>"
      ]
     },
     "metadata": {},
     "output_type": "display_data"
    }
   ],
   "source": [
    "# С использованием батча (train_ds.batch(batch_size, drop_remainder=True))\n",
    "# sample[0][0][50, ...]\n",
    "# 1-й ноль - контейнер с видео (измерение батча)\n",
    "# 2-й ноль - само видео\n",
    "# 50 - номер кадра\n",
    "\n",
    "plt.imshow(sample[0][0][90, ..., 0])\n",
    "print(f\"Class: {[name for name, num in classes.items() if num == sample[1][0].numpy()]}\")\n",
    "print('Videodata shape:', sample[0][0].shape)"
   ]
  },
  {
   "cell_type": "code",
   "execution_count": 14,
   "id": "37dfdc2f-1175-4e78-87fe-d796649da5d0",
   "metadata": {},
   "outputs": [],
   "source": [
    "model = tf.keras.Sequential([\n",
    "    tf.keras.layers.Conv3D(32, (5, 5, 5), (1, 2, 2), padding='same', activation='relu'),\n",
    "    tf.keras.layers.MaxPool3D((1, 2, 2), padding='same'),\n",
    "    tf.keras.layers.Conv3D(64, (5, 5, 5), (1, 2, 2), padding='same', activation='relu'),\n",
    "    tf.keras.layers.MaxPool3D((1, 2, 2), padding='same'),\n",
    "    tf.keras.layers.Conv3D(64, (3, 3, 3), (1, 2, 2), padding='same', activation='relu'),\n",
    "    tf.keras.layers.MaxPool3D((1, 2, 2), padding='same'),\n",
    "    tf.keras.layers.Conv3D(64, (3, 3, 3), (1, 1, 1), padding='same', activation=None),\n",
    "    tf.keras.layers.GlobalAveragePooling3D(),\n",
    "    tf.keras.layers.Dense(64, activation='relu'),\n",
    "    tf.keras.layers.Dense(6, activation=None),\n",
    "])"
   ]
  },
  {
   "cell_type": "code",
   "execution_count": 15,
   "id": "aeb6fb2c-6ac2-4a3c-81ad-46725bc05021",
   "metadata": {},
   "outputs": [],
   "source": [
    "model = tf.keras.Sequential([\n",
    "    tf.keras.layers.Conv3D(32, (5, 5, 5), (2, 2, 2), padding='same', kernel_initializer = 'he_normal', activation='relu'),\n",
    "    tf.keras.layers.BatchNormalization(),\n",
    "    tf.keras.layers.MaxPool3D((2, 2, 2), padding='same'),\n",
    "    tf.keras.layers.Conv3D(64, (5, 5, 5), (2, 2, 2), padding='same', kernel_initializer = 'he_normal', activation='relu'),\n",
    "    tf.keras.layers.BatchNormalization(),\n",
    "    tf.keras.layers.MaxPool3D((2, 2, 2), padding='same'),\n",
    "    tf.keras.layers.Conv3D(64, (3, 3, 3), (2, 2, 2), padding='same', kernel_initializer = 'he_normal', activation='relu'),\n",
    "    tf.keras.layers.BatchNormalization(),\n",
    "    tf.keras.layers.MaxPool3D((2, 2, 2), padding='same'),\n",
    "    tf.keras.layers.Conv3D(64, (3, 3, 3), (1, 1, 1), padding='same', kernel_initializer = 'he_normal', activation=None),\n",
    "    tf.keras.layers.BatchNormalization(),\n",
    "    tf.keras.layers.GlobalAveragePooling3D(),\n",
    "    tf.keras.layers.Dense(64, activation='relu', kernel_initializer = 'he_normal'),\n",
    "    tf.keras.layers.Dense(6, activation=None),\n",
    "])"
   ]
  },
  {
   "cell_type": "code",
   "execution_count": 16,
   "id": "30770a3d-d2ef-4f60-a171-0a5b674bf076",
   "metadata": {},
   "outputs": [
    {
     "name": "stdout",
     "output_type": "stream",
     "text": [
      "Input shape: (8, 299, 120, 160, 1)\n",
      "Output shape: (8, 6)\n",
      "Target: [5 0 1 2 3 2 4 1]\n",
      "Predicted target: [0 0 1 0 1 0 1 1]\n"
     ]
    }
   ],
   "source": [
    "#vid = sample[0][None, ...] # Если без использования батча\n",
    "vid = sample[0]\n",
    "out = model(vid)\n",
    "y = sample[1]\n",
    "print('Input shape:', vid.shape)\n",
    "print('Output shape:', out.shape)\n",
    "print('Target:', y.numpy())\n",
    "print('Predicted target:', np.argmax(out, axis=1))"
   ]
  },
  {
   "cell_type": "code",
   "execution_count": 17,
   "id": "b99eeb66-ceda-4574-9051-81bdb2f53490",
   "metadata": {},
   "outputs": [],
   "source": [
    "NUM_EPOCHS = 10\n",
    "LEARNING_RATE = 0.002\n",
    "loss_f = tf.keras.losses.SparseCategoricalCrossentropy(from_logits=True)\n",
    "model.compile(\n",
    "    loss=loss_f, \n",
    "    optimizer=tf.keras.optimizers.Adam(LEARNING_RATE))\n",
    "\n",
    "writer = tf.summary.create_file_writer('logs/exp1')"
   ]
  },
  {
   "cell_type": "code",
   "execution_count": 18,
   "id": "b6466782-e6ff-44ae-857c-7784108aca5e",
   "metadata": {},
   "outputs": [
    {
     "name": "stdout",
     "output_type": "stream",
     "text": [
      "[0/10][0/20] Loss = 1.5709011554718018\n",
      "[0/10][2/20] Loss = 2.4475555419921875\n",
      "[0/10][4/20] Loss = 1.4604946374893188\n",
      "[0/10][6/20] Loss = 1.7265691757202148\n",
      "[0/10][8/20] Loss = 1.3833942413330078\n",
      "[0/10][10/20] Loss = 1.4258472919464111\n",
      "[0/10][12/20] Loss = 1.37118661403656\n",
      "[0/10][14/20] Loss = 1.581765055656433\n",
      "[0/10][16/20] Loss = 1.2449419498443604\n",
      "[0/10][18/20] Loss = 1.5134060382843018\n",
      "Epoch № 0: Val loss = 3.517010450363159, Accuracy = 0.15625\n",
      "[1/10][0/20] Loss = 1.1732689142227173\n",
      "[1/10][2/20] Loss = 0.9782186150550842\n",
      "[1/10][4/20] Loss = 0.7518054246902466\n",
      "[1/10][6/20] Loss = 1.6375805139541626\n",
      "[1/10][8/20] Loss = 0.7904829382896423\n",
      "[1/10][10/20] Loss = 0.901155412197113\n",
      "[1/10][12/20] Loss = 0.5567685961723328\n",
      "[1/10][14/20] Loss = 0.6553055644035339\n",
      "[1/10][16/20] Loss = 0.7652838230133057\n",
      "[1/10][18/20] Loss = 0.6255566477775574\n",
      "Epoch № 1: Val loss = 4.579699993133545, Accuracy = 0.1875\n",
      "[2/10][0/20] Loss = 0.6232941150665283\n",
      "[2/10][2/20] Loss = 0.730884850025177\n",
      "[2/10][4/20] Loss = 0.5252025127410889\n",
      "[2/10][6/20] Loss = 1.355994701385498\n",
      "[2/10][8/20] Loss = 0.4987192451953888\n",
      "[2/10][10/20] Loss = 1.2235438823699951\n",
      "[2/10][12/20] Loss = 0.9264931678771973\n",
      "[2/10][14/20] Loss = 0.8654695749282837\n",
      "[2/10][16/20] Loss = 0.5565682053565979\n",
      "[2/10][18/20] Loss = 0.6657509803771973\n",
      "Epoch № 2: Val loss = 3.8867993354797363, Accuracy = 0.5\n",
      "[3/10][0/20] Loss = 0.7114462852478027\n",
      "[3/10][2/20] Loss = 0.1684434413909912\n",
      "[3/10][4/20] Loss = 0.7419790029525757\n",
      "[3/10][6/20] Loss = 0.851813793182373\n",
      "[3/10][8/20] Loss = 0.620782732963562\n",
      "[3/10][10/20] Loss = 0.7045062184333801\n",
      "[3/10][12/20] Loss = 0.41318726539611816\n",
      "[3/10][14/20] Loss = 0.4363483786582947\n",
      "[3/10][16/20] Loss = 0.7600624561309814\n",
      "[3/10][18/20] Loss = 0.9836899042129517\n",
      "Epoch № 3: Val loss = 3.801330327987671, Accuracy = 0.34375\n",
      "[4/10][0/20] Loss = 0.46423906087875366\n",
      "[4/10][2/20] Loss = 0.5296258926391602\n",
      "[4/10][4/20] Loss = 0.6020602583885193\n",
      "[4/10][6/20] Loss = 0.33399394154548645\n",
      "[4/10][8/20] Loss = 0.3617689907550812\n",
      "[4/10][10/20] Loss = 0.7363560199737549\n",
      "[4/10][12/20] Loss = 0.33979472517967224\n",
      "[4/10][14/20] Loss = 0.2917413115501404\n",
      "[4/10][16/20] Loss = 0.46407896280288696\n",
      "[4/10][18/20] Loss = 0.3060378134250641\n",
      "Epoch № 4: Val loss = 3.9668493270874023, Accuracy = 0.34375\n",
      "[5/10][0/20] Loss = 0.6969320774078369\n",
      "[5/10][2/20] Loss = 0.5937426090240479\n",
      "[5/10][4/20] Loss = 0.33207428455352783\n",
      "[5/10][6/20] Loss = 0.6258269548416138\n",
      "[5/10][8/20] Loss = 0.5980591773986816\n",
      "[5/10][10/20] Loss = 0.17944574356079102\n",
      "[5/10][12/20] Loss = 0.8864762187004089\n",
      "[5/10][14/20] Loss = 0.38974669575691223\n",
      "[5/10][16/20] Loss = 0.2500343322753906\n",
      "[5/10][18/20] Loss = 0.4456167221069336\n",
      "Epoch № 5: Val loss = 3.9021263122558594, Accuracy = 0.375\n",
      "[6/10][0/20] Loss = 0.5305706858634949\n",
      "[6/10][2/20] Loss = 0.30871400237083435\n",
      "[6/10][4/20] Loss = 0.4992171823978424\n",
      "[6/10][6/20] Loss = 0.5401837825775146\n",
      "[6/10][8/20] Loss = 0.25498729944229126\n",
      "[6/10][10/20] Loss = 0.09311367571353912\n",
      "[6/10][12/20] Loss = 0.3159407377243042\n",
      "[6/10][14/20] Loss = 0.709186315536499\n",
      "[6/10][16/20] Loss = 0.1604301482439041\n",
      "[6/10][18/20] Loss = 0.4778773784637451\n",
      "Epoch № 6: Val loss = 3.8166165351867676, Accuracy = 0.34375\n",
      "[7/10][0/20] Loss = 0.10659827291965485\n",
      "[7/10][2/20] Loss = 0.25410714745521545\n",
      "[7/10][4/20] Loss = 0.41928911209106445\n",
      "[7/10][6/20] Loss = 0.140748530626297\n",
      "[7/10][8/20] Loss = 1.0253571271896362\n",
      "[7/10][10/20] Loss = 2.280977249145508\n",
      "[7/10][12/20] Loss = 0.3721122741699219\n",
      "[7/10][14/20] Loss = 0.44372618198394775\n",
      "[7/10][16/20] Loss = 0.4325045347213745\n",
      "[7/10][18/20] Loss = 0.7020217776298523\n",
      "Epoch № 7: Val loss = 3.0933914184570312, Accuracy = 0.34375\n",
      "[8/10][0/20] Loss = 0.09991752356290817\n",
      "[8/10][2/20] Loss = 0.318663090467453\n",
      "[8/10][4/20] Loss = 0.6305402517318726\n",
      "[8/10][6/20] Loss = 0.27972590923309326\n",
      "[8/10][8/20] Loss = 0.17307522892951965\n",
      "[8/10][10/20] Loss = 0.20512351393699646\n",
      "[8/10][12/20] Loss = 0.7179508209228516\n",
      "[8/10][14/20] Loss = 0.1878269463777542\n",
      "[8/10][16/20] Loss = 0.34587031602859497\n",
      "[8/10][18/20] Loss = 0.19304677844047546\n",
      "Epoch № 8: Val loss = 3.0973262786865234, Accuracy = 0.34375\n",
      "[9/10][0/20] Loss = 0.4075362980365753\n",
      "[9/10][2/20] Loss = 0.3754829168319702\n",
      "[9/10][4/20] Loss = 0.23430879414081573\n",
      "[9/10][6/20] Loss = 0.2520609498023987\n",
      "[9/10][8/20] Loss = 0.5410545468330383\n",
      "[9/10][10/20] Loss = 0.29270055890083313\n",
      "[9/10][12/20] Loss = 0.15306425094604492\n",
      "[9/10][14/20] Loss = 0.1405462622642517\n",
      "[9/10][16/20] Loss = 0.11010244488716125\n",
      "[9/10][18/20] Loss = 0.1443057507276535\n",
      "Epoch № 9: Val loss = 2.913106679916382, Accuracy = 0.4375\n"
     ]
    }
   ],
   "source": [
    "global_step = 0\n",
    "for ep in range(NUM_EPOCHS):\n",
    "    for iter, batch in enumerate(train_ds):\n",
    "\n",
    "        # Батч-измерения прикручиваем, если в train_ds батч не задан\n",
    "        #x = batch[0][None, ...]\n",
    "        #y = batch[1][None, ...]\n",
    "\n",
    "        # Если же батч задан, то добавлять измерения не нужно\n",
    "        x = batch[0]\n",
    "        y = batch[1]\n",
    "\n",
    "        loss_value = model.train_on_batch(x, y)\n",
    "\n",
    "        if iter % 2 == 0:\n",
    "            print(f'[{ep}/{NUM_EPOCHS}][{iter}/{math.ceil(len(train)/batch_size)}] Loss = {loss_value}')\n",
    "\n",
    "        with writer.as_default():\n",
    "            tf.summary.scalar('loss', loss_value, global_step)\n",
    "\n",
    "        global_step += 1\n",
    "    \n",
    "    val_loss = 0\n",
    "    val_accuracy = 0\n",
    "    for iter, batch in enumerate(test_ds):\n",
    "\n",
    "        #x = batch[0][None, ...]\n",
    "        #y = batch[1][None, ...]\n",
    "        x = batch[0]\n",
    "        y = batch[1]\n",
    "\n",
    "        y_pred = model(x)\n",
    "        val_loss += loss_f(y, y_pred)\n",
    "        val_accuracy += np.sum(np.argmax(y_pred, axis=1) == y)/batch_size\n",
    "    print(f\"Epoch № {ep}: Val loss = {val_loss/iter}, Accuracy = {val_accuracy/iter}\")"
   ]
  },
  {
   "cell_type": "code",
   "execution_count": 19,
   "id": "b63a7862-ae87-484a-a1bc-2ca2745f8741",
   "metadata": {},
   "outputs": [
    {
     "data": {
      "text/html": [
       "\n",
       "      <iframe id=\"tensorboard-frame-8c669f4e4abdfa2b\" width=\"100%\" height=\"800\" frameborder=\"0\">\n",
       "      </iframe>\n",
       "      <script>\n",
       "        (function() {\n",
       "          const frame = document.getElementById(\"tensorboard-frame-8c669f4e4abdfa2b\");\n",
       "          const url = new URL(\"/\", window.location);\n",
       "          const port = 6006;\n",
       "          if (port) {\n",
       "            url.port = port;\n",
       "          }\n",
       "          frame.src = url;\n",
       "        })();\n",
       "      </script>\n",
       "    "
      ],
      "text/plain": [
       "<IPython.core.display.HTML object>"
      ]
     },
     "metadata": {},
     "output_type": "display_data"
    }
   ],
   "source": [
    "%load_ext tensorboard\n",
    "%tensorboard --logdir logs"
   ]
  },
  {
   "cell_type": "code",
   "execution_count": 20,
   "id": "5fb77650-341e-4526-ab89-57ec3a8585b1",
   "metadata": {},
   "outputs": [
    {
     "name": "stdout",
     "output_type": "stream",
     "text": [
      "Val loss = 2.913106679916382, Accuracy = 0.4375\n"
     ]
    }
   ],
   "source": [
    "val_loss = 0\n",
    "val_accuracy = 0\n",
    "for iter, batch in enumerate(test_ds):\n",
    "\n",
    "    x = batch[0]\n",
    "    y = batch[1]\n",
    "\n",
    "    y_pred = model(x)\n",
    "    val_loss += loss_f(y, y_pred)\n",
    "    val_accuracy += np.sum(np.argmax(y_pred, axis=1) == y)/batch_size\n",
    "\n",
    "print(f\"Val loss = {val_loss/iter}, Accuracy = {val_accuracy/iter}\")"
   ]
  },
  {
   "cell_type": "code",
   "execution_count": 21,
   "id": "92236dc6-ddd4-4b02-8881-903370570410",
   "metadata": {},
   "outputs": [
    {
     "name": "stdout",
     "output_type": "stream",
     "text": [
      "True class: ['jogging']\n",
      "Predicted class: ['jogging']\n"
     ]
    },
    {
     "data": {
      "image/png": "[encoded data removed]",
      "text/plain": [
       "<Figure size 640x480 with 1 Axes>"
      ]
     },
     "metadata": {},
     "output_type": "display_data"
    }
   ],
   "source": [
    "fpath = random.choice(dataset)\n",
    "video_class = classes[fpath.split('/')[1]]\n",
    "\n",
    "videodata = skvideo.io.vread(fpath)\n",
    "videodata = videodata.astype(np.float32) / 255.\n",
    "plt.imshow(videodata[30, ...])\n",
    "\n",
    "motion = np.mean(videodata[1:, ...] - videodata[:-1, ...], axis=3, keepdims=True)\n",
    "\n",
    "out = model(motion[None, ...])[0]\n",
    "cls_pred = np.argmax(out.numpy())\n",
    "\n",
    "print('True class:', [name for name, num in classes.items() if num == video_class])\n",
    "print('Predicted class:', [name for name, num in classes.items() if num == cls_pred])"
   ]
  },
  {
   "cell_type": "code",
   "execution_count": null,
   "id": "86e01fb5-cfd4-4cda-b56e-6fcfe6f909d8",
   "metadata": {},
   "outputs": [],
   "source": []
  }
 ],
 "metadata": {
  "kernelspec": {
   "display_name": "Python 3 (ipykernel)",
   "language": "python",
   "name": "python3"
  },
  "language_info": {
   "codemirror_mode": {
    "name": "ipython",
    "version": 3
   },
   "file_extension": ".py",
   "mimetype": "text/x-python",
   "name": "python",
   "nbconvert_exporter": "python",
   "pygments_lexer": "ipython3",
   "version": "3.10.9"
  }
 },
 "nbformat": 4,
 "nbformat_minor": 5
}
